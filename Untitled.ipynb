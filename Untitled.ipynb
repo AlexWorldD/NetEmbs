{
 "cells": [
  {
   "cell_type": "code",
   "execution_count": 1,
   "metadata": {},
   "outputs": [
    {
     "name": "stdout",
     "output_type": "stream",
     "text": [
      "Populating the interactive namespace from numpy and matplotlib\n"
     ]
    }
   ],
   "source": [
    "%pylab inline"
   ]
  },
  {
   "cell_type": "code",
   "execution_count": 2,
   "metadata": {
    "collapsed": true
   },
   "outputs": [],
   "source": [
    "import networkx as nx\n",
    "from networkx.algorithms import bipartite\n",
    "import pandas as pd\n",
    "import matplotlib.pyplot as plt\n",
    "from sklearn import preprocessing\n",
    "plt.rcParams[\"figure.figsize\"] = [20,10]"
   ]
  },
  {
   "cell_type": "code",
   "execution_count": 3,
   "metadata": {},
   "outputs": [],
   "source": [
    "from NetEmbs.DataProcessing.normalize import normalize\n",
    "# Construct test case with Sale BPs with different tax rates\n",
    "def generate_sales_df(N=2, taxes=[0.06, 0.15, 0.25]):\n",
    "    if taxes is not None:\n",
    "        tax_rates = taxes\n",
    "    if N is not None:\n",
    "        N = N\n",
    "    cur_id = 0\n",
    "    data = pd.DataFrame(columns=[\"ID\", \"Name\", \"Journal\", \"Date\", \"Debit\", \"Credit\"])\n",
    "    for tax in tax_rates:\n",
    "        for _ in range(N):\n",
    "            #generate amounts\n",
    "            rev = random.randint(10,1000)\n",
    "            t = rev*tax+random.randint(2, 10)\n",
    "            tr = rev+t\n",
    "            data = data.append([pd.Series([cur_id, \"Revenue\", \"Sales ledger\", \"01/01/2017\", 0.0, rev], index=data.columns), \n",
    "                        pd.Series([cur_id, \"Tax\", \"Sales ledger\", \"01/01/2017\", 0.0, t], index=data.columns), \n",
    "                        pd.Series([cur_id, \"Trade Receivables\", \"Sales ledger\", \"01/01/2017\", tr, 0.0], index=data.columns)]\n",
    "                        , ignore_index=True)\n",
    "            cur_id+=1\n",
    "    return data\n",
    "d=normalize(generate_sales_df())"
   ]
  },
  {
   "cell_type": "code",
   "execution_count": 4,
   "metadata": {},
   "outputs": [],
   "source": [
    "from NetEmbs.FSN.graph import FSN"
   ]
  },
  {
   "cell_type": "code",
   "execution_count": 5,
   "metadata": {},
   "outputs": [],
   "source": [
    "fsn = FSN()"
   ]
  },
  {
   "cell_type": "code",
   "execution_count": 6,
   "metadata": {},
   "outputs": [],
   "source": [
    "fsn.build(d)"
   ]
  },
  {
   "cell_type": "code",
   "execution_count": 7,
   "metadata": {},
   "outputs": [
    {
     "data": {
      "text/plain": [
       "NodeView((0, 1, 2, 3, 4, 5, 'Revenue', 'Tax', 'Trade Receivables'))"
      ]
     },
     "execution_count": 7,
     "metadata": {},
     "output_type": "execute_result"
    }
   ],
   "source": [
    "fsn.nodes()"
   ]
  },
  {
   "cell_type": "code",
   "execution_count": 11,
   "metadata": {},
   "outputs": [
    {
     "data": {
      "text/plain": [
       "ID         18\n",
       "Name       18\n",
       "Journal    18\n",
       "Date       18\n",
       "Debit      18\n",
       "Credit     18\n",
       "from       18\n",
       "dtype: int64"
      ]
     },
     "execution_count": 11,
     "metadata": {},
     "output_type": "execute_result"
    }
   ],
   "source": [
    "d.count()"
   ]
  },
  {
   "cell_type": "code",
   "execution_count": null,
   "metadata": {
    "collapsed": true
   },
   "outputs": [],
   "source": []
  }
 ],
 "metadata": {
  "kernelspec": {
   "display_name": "Python [conda env:DL]",
   "language": "python",
   "name": "conda-env-DL-py"
  },
  "language_info": {
   "codemirror_mode": {
    "name": "ipython",
    "version": 3
   },
   "file_extension": ".py",
   "mimetype": "text/x-python",
   "name": "python",
   "nbconvert_exporter": "python",
   "pygments_lexer": "ipython3",
   "version": "3.6.8"
  }
 },
 "nbformat": 4,
 "nbformat_minor": 2
}
