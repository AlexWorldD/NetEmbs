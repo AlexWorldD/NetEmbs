{
 "cells": [
  {
   "cell_type": "markdown",
   "metadata": {},
   "source": [
    "Hi, Marcel! \n",
    "\n",
    "Hope it'll help you to run my code quicker :)\n",
    "\n",
    "Alex"
   ]
  },
  {
   "cell_type": "markdown",
   "metadata": {},
   "source": [
    "## Input format\n",
    "\n",
    "| ID |     Name    | FA_Name | Value |\n",
    "|---:|:-----------:|:-------:|-------|\n",
    "|  1 | Revenue_123 | Revenue | -100  |\n",
    "where **ID** - is actual Business Processes ID, **Name** is the full name of FinancialAccount (not sure that it's required, but initially as I guess one has something like \"Revenue_1\", \"Revenue_2\" for different product and only after application of Coarse-graining financial accounts we are getting **FA_Name** value. **Value** is just a amount.\n",
    "## Extraction signatures of BP\n",
    "For that purpose I've implemented aggregation function over *groupby()* object, as input it uses one BP – a part of original DF with the same ID value – and return a string like\n",
    "```\n",
    "'([(\\\\'Revenue\\\\', 0.8336558167088283), (\\\\'Tax\\\\', 0.1663441832911717)], [(\\\\'TradeReceivables\\\\', 1.0)])'\n",
    "```\n",
    "then we leave only unique signatures (SAME FA from left and right part AND EXACTLY EQUAL coefficients).\n",
    "## Data preprocessing\n",
    "Then on that DataFrame you need to apply [*prepare_data()*](https://github.com/AlexWorldD/NetEmbs/blob/master/NetEmbs/DataProcessing/prepare_data.py) - please read the documentation to that function. The last thing I've added is \n",
    "```\n",
    " :param unique: True if Data has to be filtered wrt to Signatures of BPs\n",
    " ```\n",
    "\n",
    "After that you should get the following structure:\n",
    "\n",
    "| ID |     Name    | FA_Name | Value | Debit | Credit | from |\n",
    "|---:|:-----------:|:-------:|-------|-------|--------|------|\n",
    "|  1 | Revenue_123 | Revenue | -100  | 0.0   | 1.0    | True |\n",
    "\n",
    "here **from** is for visualization purposes only (different colors of ingoing/outgoing edges)\n",
    "## Construct FSN\n",
    "Now we can construct FSN from our DataFrame, *build()* method of *FSN* class. \n",
    "\n",
    "I recommend to check the construction via *get_FA()* method, it should return the set of Financial Account nodes.\n",
    "## RandomWalks\n",
    "#### Already implemented step strategies\n",
    "1. Pure RandomWalk (uniform probabilities, follows the direction)\n",
    "2. MetaDef (change directions, uniform probabilities)\n",
    "3. MetaDefWeighted (change directions, weighted probabilities \"rich gets richer\")\n",
    "4. MetaDiff (change directions, probabilities depend on the differences between edges)\n",
    "\n",
    "For test purpose you can try *randomWalk()* from NetEmbs.FSN.utils, it returns the sampled sequence. \n",
    "\n",
    "**BUT**, I've implemented special helper funciton for adding to original DataFrame a column with N top joint-appearance nodes. It's *add_similar()* function from NetEmbs.FSN.utils.\n",
    "\n",
    "You also can test it with different step strategies: \"DefUniform\", \"DefWeighted\", \"MetaUniform\", \"MetaWeighted\", \"MetaDiff\" (version argument)."
   ]
  },
  {
   "cell_type": "markdown",
   "metadata": {},
   "source": [
    "### Example with sampled data"
   ]
  },
  {
   "cell_type": "code",
   "execution_count": null,
   "metadata": {},
   "outputs": [],
   "source": [
    "%pylab inline"
   ]
  },
  {
   "cell_type": "code",
   "execution_count": null,
   "metadata": {},
   "outputs": [],
   "source": [
    "import networkx as nx\n",
    "from networkx.algorithms import bipartite\n",
    "import pandas as pd\n",
    "import matplotlib.pyplot as plt\n",
    "from sklearn import preprocessing\n",
    "plt.rcParams[\"figure.figsize\"] = [20,10]\n",
    "from NetEmbs.DataProcessing.normalize import normalize\n",
    "from NetEmbs.DataProcessing.connect_db import *\n",
    "from NetEmbs.GenerateData.complex_df import sales_collections\n",
    "d = normalize(upload_data(\"Simulation/FSN_Data.db\", limit=40))\n",
    "d.head(15)"
   ]
  },
  {
   "cell_type": "code",
   "execution_count": null,
   "metadata": {},
   "outputs": [],
   "source": [
    "d.groupby(\"ID\").apply(get_signature)"
   ]
  },
  {
   "cell_type": "code",
   "execution_count": null,
   "metadata": {},
   "outputs": [],
   "source": [
    "from NetEmbs.FSN.graph import FSN\n",
    "fsn = FSN()\n",
    "fsn.build(d, name_column=\"FA_Name\")\n",
    "fsn.nodes()"
   ]
  },
  {
   "cell_type": "code",
   "execution_count": null,
   "metadata": {},
   "outputs": [],
   "source": [
    "fsn.get_BP()"
   ]
  },
  {
   "cell_type": "code",
   "execution_count": null,
   "metadata": {},
   "outputs": [],
   "source": [
    "from NetEmbs.Vis.plots import plotFSN\n",
    "plotFSN(fsn, edge_labels=False)"
   ]
  },
  {
   "cell_type": "code",
   "execution_count": null,
   "metadata": {},
   "outputs": [],
   "source": [
    "from NetEmbs.FSN.utils import add_similar, get_pairs\n",
    "add_similar(d)"
   ]
  },
  {
   "cell_type": "code",
   "execution_count": null,
   "metadata": {
    "collapsed": true
   },
   "outputs": [],
   "source": [
    "ID NAME Cred, Deb\n",
    "1 Revenue   121 Tax.  21 TR 100\n",
    "ID NAME Cred, Deb\n",
    "2 Revenue   1210 Tax.  210 TR 1000\n",
    "---\n",
    "Normalize, then\n",
    "ID NAME Cred, Deb\n",
    "1 Revenue   0.8 Tax.  0.2 TR 1.0"
   ]
  }
 ],
 "metadata": {
  "kernelspec": {
   "display_name": "Python [conda env:DL]",
   "language": "python",
   "name": "conda-env-DL-py"
  },
  "language_info": {
   "codemirror_mode": {
    "name": "ipython",
    "version": 3
   },
   "file_extension": ".py",
   "mimetype": "text/x-python",
   "name": "python",
   "nbconvert_exporter": "python",
   "pygments_lexer": "ipython3",
   "version": "3.6.8"
  }
 },
 "nbformat": 4,
 "nbformat_minor": 2
}
