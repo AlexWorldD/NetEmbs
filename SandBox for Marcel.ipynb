{
 "cells": [
  {
   "cell_type": "markdown",
   "metadata": {},
   "source": [
    "Hi, Marcel! \n",
    "\n",
    "Hope it'll help you to run my code quicker :)\n",
    "\n",
    "Alex"
   ]
  },
  {
   "cell_type": "markdown",
   "metadata": {},
   "source": [
    "## Input format\n",
    "\n",
    "| ID |     Name    | FA_Name | Value |\n",
    "|---:|:-----------:|:-------:|-------|\n",
    "|  1 | Revenue_123 | Revenue | -100  |\n",
    "where **ID** - is actual Business Processes ID, **Name** is the full name of FinancialAccount (not sure that it's required, but initially as I guess one has something like \"Revenue_1\", \"Revenue_2\" for different product and only after application of Coarse-graining financial accounts we are getting **FA_Name** value. **Value** is just a amount.\n",
    "## Extraction signatures of BP\n",
    "For that purpose I've implemented aggregation function over *groupby()* object, as input it uses one BP – a part of original DF with the same ID value – and return a string like\n",
    "```\n",
    "'([(\\\\'Revenue\\\\', 0.8336558167088283), (\\\\'Tax\\\\', 0.1663441832911717)], [(\\\\'TradeReceivables\\\\', 1.0)])'\n",
    "```\n",
    "then we leave only unique signatures (SAME FA from left and right part AND EXACTLY EQUAL coefficients).\n",
    "## Data preprocessing\n",
    "Then on that DataFrame you need to apply [*prepare_data()*](https://github.com/AlexWorldD/NetEmbs/blob/master/NetEmbs/DataProcessing/prepare_data.py) - please read the documentation to that function. The last thing I've added is \n",
    "```\n",
    " :param unique: True if Data has to be filtered wrt to Signatures of BPs\n",
    " ```\n",
    "\n",
    "After that you should get the following structure:\n",
    "\n",
    "| ID |     Name    | FA_Name | Value | Debit | Credit | from |\n",
    "|---:|:-----------:|:-------:|-------|-------|--------|------|\n",
    "|  1 | Revenue_123 | Revenue | -100  | 0.0   | 1.0    | True |\n",
    "\n",
    "here **from** is for visualization purposes only (different colors of ingoing/outgoing edges)\n",
    "## Construct FSN\n",
    "Now we can construct FSN from our DataFrame, *build()* method of *FSN* class. \n",
    "\n",
    "I recommend to check the construction via *get_FA()* method, it should return the set of Financial Account nodes.\n",
    "## RandomWalks\n",
    "#### Already implemented step strategies\n",
    "1. Pure RandomWalk (uniform probabilities, follows the direction)\n",
    "2. MetaDef (change directions, uniform probabilities)\n",
    "3. MetaDefWeighted (change directions, weighted probabilities \"rich gets richer\")\n",
    "4. MetaDiff (change directions, probabilities depend on the differences between edges)\n",
    "\n",
    "For test purpose you can try *randomWalk()* from NetEmbs.FSN.utils, it returns the sampled sequence. \n",
    "\n",
    "**BUT**, I've implemented special helper funciton for adding to original DataFrame a column with N top joint-appearance nodes. It's *add_similar()* function from NetEmbs.FSN.utils.\n",
    "\n",
    "You also can test it with different step strategies: \"DefUniform\", \"DefWeighted\", \"MetaUniform\", \"MetaWeighted\", \"MetaDiff\" (version argument)."
   ]
  },
  {
   "cell_type": "markdown",
   "metadata": {},
   "source": [
    "### Example with sampled data"
   ]
  },
  {
   "cell_type": "code",
   "execution_count": 1,
   "metadata": {},
   "outputs": [
    {
     "name": "stdout",
     "output_type": "stream",
     "text": [
      "Populating the interactive namespace from numpy and matplotlib\n"
     ]
    }
   ],
   "source": [
    "%pylab inline"
   ]
  },
  {
   "cell_type": "code",
   "execution_count": 2,
   "metadata": {},
   "outputs": [
    {
     "data": {
      "text/html": [
       "<div>\n",
       "<style scoped>\n",
       "    .dataframe tbody tr th:only-of-type {\n",
       "        vertical-align: middle;\n",
       "    }\n",
       "\n",
       "    .dataframe tbody tr th {\n",
       "        vertical-align: top;\n",
       "    }\n",
       "\n",
       "    .dataframe thead th {\n",
       "        text-align: right;\n",
       "    }\n",
       "</style>\n",
       "<table border=\"1\" class=\"dataframe\">\n",
       "  <thead>\n",
       "    <tr style=\"text-align: right;\">\n",
       "      <th></th>\n",
       "      <th>ID</th>\n",
       "      <th>Name</th>\n",
       "      <th>FA_Name</th>\n",
       "      <th>Value</th>\n",
       "    </tr>\n",
       "  </thead>\n",
       "  <tbody>\n",
       "    <tr>\n",
       "      <th>0</th>\n",
       "      <td>1</td>\n",
       "      <td>Revenue_2</td>\n",
       "      <td>Revenue</td>\n",
       "      <td>-921.000000</td>\n",
       "    </tr>\n",
       "    <tr>\n",
       "      <th>1</th>\n",
       "      <td>1</td>\n",
       "      <td>Tax_2</td>\n",
       "      <td>Tax</td>\n",
       "      <td>-193.731819</td>\n",
       "    </tr>\n",
       "    <tr>\n",
       "      <th>2</th>\n",
       "      <td>1</td>\n",
       "      <td>TradeReceivables_2</td>\n",
       "      <td>TradeReceivables</td>\n",
       "      <td>1114.731819</td>\n",
       "    </tr>\n",
       "    <tr>\n",
       "      <th>3</th>\n",
       "      <td>2</td>\n",
       "      <td>opwdiu_3</td>\n",
       "      <td>opwdiu</td>\n",
       "      <td>-8.052642</td>\n",
       "    </tr>\n",
       "    <tr>\n",
       "      <th>4</th>\n",
       "      <td>2</td>\n",
       "      <td>eucdcj_3</td>\n",
       "      <td>eucdcj</td>\n",
       "      <td>8.037404</td>\n",
       "    </tr>\n",
       "  </tbody>\n",
       "</table>\n",
       "</div>"
      ],
      "text/plain": [
       "   ID                Name           FA_Name        Value\n",
       "0   1           Revenue_2           Revenue  -921.000000\n",
       "1   1               Tax_2               Tax  -193.731819\n",
       "2   1  TradeReceivables_2  TradeReceivables  1114.731819\n",
       "3   2            opwdiu_3            opwdiu    -8.052642\n",
       "4   2            eucdcj_3            eucdcj     8.037404"
      ]
     },
     "execution_count": 2,
     "metadata": {},
     "output_type": "execute_result"
    }
   ],
   "source": [
    "import networkx as nx\n",
    "from networkx.algorithms import bipartite\n",
    "import pandas as pd\n",
    "import matplotlib.pyplot as plt\n",
    "from sklearn import preprocessing\n",
    "plt.rcParams[\"figure.figsize\"] = [20,10]\n",
    "from NetEmbs.DataProcessing.normalize import normalize\n",
    "from NetEmbs.DataProcessing.connect_db import *\n",
    "from NetEmbs.GenerateData.complex_df import sales_collections\n",
    "d = upload_data(\"Simulation/FSN_Data.db\", limit=100)\n",
    "d.head(5)"
   ]
  },
  {
   "cell_type": "markdown",
   "metadata": {},
   "source": [
    "### Marcel, below you can test your input format, it should work correctly\n",
    "\n",
    "Taking into account that real data already has two columns with debited and credited amounts, for preprocessing it you need to apply sequentially \n",
    "\n",
    "*rename_columns()*\n",
    "\n",
    "with default arguments it's fit for your column titles and then \n",
    "\n",
    "*prepare_data(..., split=False)*"
   ]
  },
  {
   "cell_type": "code",
   "execution_count": 3,
   "metadata": {},
   "outputs": [
    {
     "data": {
      "text/html": [
       "<div>\n",
       "<style scoped>\n",
       "    .dataframe tbody tr th:only-of-type {\n",
       "        vertical-align: middle;\n",
       "    }\n",
       "\n",
       "    .dataframe tbody tr th {\n",
       "        vertical-align: top;\n",
       "    }\n",
       "\n",
       "    .dataframe thead th {\n",
       "        text-align: right;\n",
       "    }\n",
       "</style>\n",
       "<table border=\"1\" class=\"dataframe\">\n",
       "  <thead>\n",
       "    <tr style=\"text-align: right;\">\n",
       "      <th></th>\n",
       "      <th>ID</th>\n",
       "      <th>Signature</th>\n",
       "      <th>FA_Name</th>\n",
       "      <th>Debit</th>\n",
       "      <th>Credit</th>\n",
       "      <th>from</th>\n",
       "    </tr>\n",
       "  </thead>\n",
       "  <tbody>\n",
       "    <tr>\n",
       "      <th>0</th>\n",
       "      <td>1</td>\n",
       "      <td>([('Revenue', 0.826207689328062), ('Tax', 0.17...</td>\n",
       "      <td>Revenue</td>\n",
       "      <td>0.000000</td>\n",
       "      <td>0.826208</td>\n",
       "      <td>True</td>\n",
       "    </tr>\n",
       "    <tr>\n",
       "      <th>1</th>\n",
       "      <td>1</td>\n",
       "      <td>([('Revenue', 0.826207689328062), ('Tax', 0.17...</td>\n",
       "      <td>Tax</td>\n",
       "      <td>0.000000</td>\n",
       "      <td>0.173792</td>\n",
       "      <td>True</td>\n",
       "    </tr>\n",
       "    <tr>\n",
       "      <th>2</th>\n",
       "      <td>1</td>\n",
       "      <td>([('Revenue', 0.826207689328062), ('Tax', 0.17...</td>\n",
       "      <td>TradeReceivables</td>\n",
       "      <td>1.000000</td>\n",
       "      <td>0.000000</td>\n",
       "      <td>False</td>\n",
       "    </tr>\n",
       "    <tr>\n",
       "      <th>3</th>\n",
       "      <td>2</td>\n",
       "      <td>([('Inventory', 0.985881098114256), ('balzki',...</td>\n",
       "      <td>CostOfSales</td>\n",
       "      <td>0.991273</td>\n",
       "      <td>0.000000</td>\n",
       "      <td>False</td>\n",
       "    </tr>\n",
       "    <tr>\n",
       "      <th>4</th>\n",
       "      <td>2</td>\n",
       "      <td>([('Inventory', 0.985881098114256), ('balzki',...</td>\n",
       "      <td>Inventory</td>\n",
       "      <td>0.000000</td>\n",
       "      <td>0.985881</td>\n",
       "      <td>True</td>\n",
       "    </tr>\n",
       "    <tr>\n",
       "      <th>5</th>\n",
       "      <td>2</td>\n",
       "      <td>([('Inventory', 0.985881098114256), ('balzki',...</td>\n",
       "      <td>balzki</td>\n",
       "      <td>0.000000</td>\n",
       "      <td>0.005376</td>\n",
       "      <td>True</td>\n",
       "    </tr>\n",
       "    <tr>\n",
       "      <th>6</th>\n",
       "      <td>2</td>\n",
       "      <td>([('Inventory', 0.985881098114256), ('balzki',...</td>\n",
       "      <td>eucdcj</td>\n",
       "      <td>0.008727</td>\n",
       "      <td>0.000000</td>\n",
       "      <td>False</td>\n",
       "    </tr>\n",
       "    <tr>\n",
       "      <th>7</th>\n",
       "      <td>2</td>\n",
       "      <td>([('Inventory', 0.985881098114256), ('balzki',...</td>\n",
       "      <td>opwdiu</td>\n",
       "      <td>0.000000</td>\n",
       "      <td>0.008743</td>\n",
       "      <td>True</td>\n",
       "    </tr>\n",
       "    <tr>\n",
       "      <th>8</th>\n",
       "      <td>3</td>\n",
       "      <td>([('Cash', 1.0)], [('Tax', 1.0)])</td>\n",
       "      <td>Cash</td>\n",
       "      <td>0.000000</td>\n",
       "      <td>1.000000</td>\n",
       "      <td>True</td>\n",
       "    </tr>\n",
       "    <tr>\n",
       "      <th>9</th>\n",
       "      <td>3</td>\n",
       "      <td>([('Cash', 1.0)], [('Tax', 1.0)])</td>\n",
       "      <td>Tax</td>\n",
       "      <td>1.000000</td>\n",
       "      <td>0.000000</td>\n",
       "      <td>False</td>\n",
       "    </tr>\n",
       "    <tr>\n",
       "      <th>10</th>\n",
       "      <td>4</td>\n",
       "      <td>([('Revenue', 0.9433962264150945), ('Tax', 0.0...</td>\n",
       "      <td>Revenue</td>\n",
       "      <td>0.000000</td>\n",
       "      <td>0.943396</td>\n",
       "      <td>True</td>\n",
       "    </tr>\n",
       "    <tr>\n",
       "      <th>11</th>\n",
       "      <td>4</td>\n",
       "      <td>([('Revenue', 0.9433962264150945), ('Tax', 0.0...</td>\n",
       "      <td>Tax</td>\n",
       "      <td>0.000000</td>\n",
       "      <td>0.056604</td>\n",
       "      <td>True</td>\n",
       "    </tr>\n",
       "    <tr>\n",
       "      <th>12</th>\n",
       "      <td>4</td>\n",
       "      <td>([('Revenue', 0.9433962264150945), ('Tax', 0.0...</td>\n",
       "      <td>TradeReceivables</td>\n",
       "      <td>1.000000</td>\n",
       "      <td>0.000000</td>\n",
       "      <td>False</td>\n",
       "    </tr>\n",
       "    <tr>\n",
       "      <th>13</th>\n",
       "      <td>5</td>\n",
       "      <td>([('Inventory', 1.0)], [('CostOfSales', 1.0)])</td>\n",
       "      <td>CostOfSales</td>\n",
       "      <td>1.000000</td>\n",
       "      <td>0.000000</td>\n",
       "      <td>False</td>\n",
       "    </tr>\n",
       "    <tr>\n",
       "      <th>14</th>\n",
       "      <td>5</td>\n",
       "      <td>([('Inventory', 1.0)], [('CostOfSales', 1.0)])</td>\n",
       "      <td>Inventory</td>\n",
       "      <td>0.000000</td>\n",
       "      <td>1.000000</td>\n",
       "      <td>True</td>\n",
       "    </tr>\n",
       "    <tr>\n",
       "      <th>15</th>\n",
       "      <td>6</td>\n",
       "      <td>([('EBPayables', 0.7867690085621539), ('Tax', ...</td>\n",
       "      <td>EBPayables</td>\n",
       "      <td>0.000000</td>\n",
       "      <td>0.786769</td>\n",
       "      <td>True</td>\n",
       "    </tr>\n",
       "    <tr>\n",
       "      <th>16</th>\n",
       "      <td>6</td>\n",
       "      <td>([('EBPayables', 0.7867690085621539), ('Tax', ...</td>\n",
       "      <td>PersonnelExpenses</td>\n",
       "      <td>0.999634</td>\n",
       "      <td>0.000000</td>\n",
       "      <td>False</td>\n",
       "    </tr>\n",
       "    <tr>\n",
       "      <th>17</th>\n",
       "      <td>6</td>\n",
       "      <td>([('EBPayables', 0.7867690085621539), ('Tax', ...</td>\n",
       "      <td>Tax</td>\n",
       "      <td>0.000000</td>\n",
       "      <td>0.210000</td>\n",
       "      <td>True</td>\n",
       "    </tr>\n",
       "    <tr>\n",
       "      <th>18</th>\n",
       "      <td>6</td>\n",
       "      <td>([('EBPayables', 0.7867690085621539), ('Tax', ...</td>\n",
       "      <td>sxnkol</td>\n",
       "      <td>0.000366</td>\n",
       "      <td>0.000000</td>\n",
       "      <td>False</td>\n",
       "    </tr>\n",
       "    <tr>\n",
       "      <th>19</th>\n",
       "      <td>6</td>\n",
       "      <td>([('EBPayables', 0.7867690085621539), ('Tax', ...</td>\n",
       "      <td>uzbcge</td>\n",
       "      <td>0.000000</td>\n",
       "      <td>0.001804</td>\n",
       "      <td>True</td>\n",
       "    </tr>\n",
       "  </tbody>\n",
       "</table>\n",
       "</div>"
      ],
      "text/plain": [
       "    ID                                          Signature            FA_Name  \\\n",
       "0    1  ([('Revenue', 0.826207689328062), ('Tax', 0.17...            Revenue   \n",
       "1    1  ([('Revenue', 0.826207689328062), ('Tax', 0.17...                Tax   \n",
       "2    1  ([('Revenue', 0.826207689328062), ('Tax', 0.17...   TradeReceivables   \n",
       "3    2  ([('Inventory', 0.985881098114256), ('balzki',...        CostOfSales   \n",
       "4    2  ([('Inventory', 0.985881098114256), ('balzki',...          Inventory   \n",
       "5    2  ([('Inventory', 0.985881098114256), ('balzki',...             balzki   \n",
       "6    2  ([('Inventory', 0.985881098114256), ('balzki',...             eucdcj   \n",
       "7    2  ([('Inventory', 0.985881098114256), ('balzki',...             opwdiu   \n",
       "8    3                  ([('Cash', 1.0)], [('Tax', 1.0)])               Cash   \n",
       "9    3                  ([('Cash', 1.0)], [('Tax', 1.0)])                Tax   \n",
       "10   4  ([('Revenue', 0.9433962264150945), ('Tax', 0.0...            Revenue   \n",
       "11   4  ([('Revenue', 0.9433962264150945), ('Tax', 0.0...                Tax   \n",
       "12   4  ([('Revenue', 0.9433962264150945), ('Tax', 0.0...   TradeReceivables   \n",
       "13   5     ([('Inventory', 1.0)], [('CostOfSales', 1.0)])        CostOfSales   \n",
       "14   5     ([('Inventory', 1.0)], [('CostOfSales', 1.0)])          Inventory   \n",
       "15   6  ([('EBPayables', 0.7867690085621539), ('Tax', ...         EBPayables   \n",
       "16   6  ([('EBPayables', 0.7867690085621539), ('Tax', ...  PersonnelExpenses   \n",
       "17   6  ([('EBPayables', 0.7867690085621539), ('Tax', ...                Tax   \n",
       "18   6  ([('EBPayables', 0.7867690085621539), ('Tax', ...             sxnkol   \n",
       "19   6  ([('EBPayables', 0.7867690085621539), ('Tax', ...             uzbcge   \n",
       "\n",
       "       Debit    Credit   from  \n",
       "0   0.000000  0.826208   True  \n",
       "1   0.000000  0.173792   True  \n",
       "2   1.000000  0.000000  False  \n",
       "3   0.991273  0.000000  False  \n",
       "4   0.000000  0.985881   True  \n",
       "5   0.000000  0.005376   True  \n",
       "6   0.008727  0.000000  False  \n",
       "7   0.000000  0.008743   True  \n",
       "8   0.000000  1.000000   True  \n",
       "9   1.000000  0.000000  False  \n",
       "10  0.000000  0.943396   True  \n",
       "11  0.000000  0.056604   True  \n",
       "12  1.000000  0.000000  False  \n",
       "13  1.000000  0.000000  False  \n",
       "14  0.000000  1.000000   True  \n",
       "15  0.000000  0.786769   True  \n",
       "16  0.999634  0.000000  False  \n",
       "17  0.000000  0.210000   True  \n",
       "18  0.000366  0.000000  False  \n",
       "19  0.000000  0.001804   True  "
      ]
     },
     "execution_count": 3,
     "metadata": {},
     "output_type": "execute_result"
    }
   ],
   "source": [
    "from NetEmbs.DataProcessing import *\n",
    "journal_entries = None\n",
    "if journal_entries is None:\n",
    "    d = prepare_data(d)\n",
    "else:\n",
    "    YOUR_DATAFRAME = pd.DataFrame.from_dict(journal_entries)\n",
    "    YOUR_DATAFRAME.columns = ['ID', 'FA_Name', 'Debit', 'Credit']\n",
    "    d = prepare_data(YOUR_DATAFRAME, split=False)\n",
    "d.head(20)"
   ]
  },
  {
   "cell_type": "code",
   "execution_count": 4,
   "metadata": {},
   "outputs": [
    {
     "data": {
      "text/plain": [
       "NodeView((1, 2, 3, 4, 5, 6, 7, 9, 10, 11, 13, 14, 15, 17, 18, 21, 22, 24, 27, 29, 'Revenue', 'Tax', 'TradeReceivables', 'CostOfSales', 'Inventory', 'balzki', 'eucdcj', 'opwdiu', 'Cash', 'EBPayables', 'PersonnelExpenses', 'sxnkol', 'uzbcge', 'vbzovt', 'devoji', 'diajgb', 'FixedAssets', 'TradePayables', 'emdmug', 'OtherExpenses', 'PrepaidExpenses', 'dqiihn', 'epbcyx', 'uzvqin', 'DepreciationExpense', 'izolmo', 'kaxwdy', 'nfpqhp', 'zupdhg', 'bzxaqi', 'fgftgk', 'gdsgne', 'woeqep', 'irmzan', 'swxmeh', 'uvdxts', 'yluoun', 'fgnsst', 'ndznzg', 'qeclna', 'qjnldx'))"
      ]
     },
     "execution_count": 4,
     "metadata": {},
     "output_type": "execute_result"
    }
   ],
   "source": [
    "from NetEmbs.FSN.graph import FSN\n",
    "fsn = FSN()\n",
    "fsn.build(d, name_column=\"FA_Name\")\n",
    "fsn.nodes()"
   ]
  },
  {
   "cell_type": "code",
   "execution_count": 9,
   "metadata": {
    "collapsed": true
   },
   "outputs": [],
   "source": [
    "def plotFSN(fsn, colors=(\"Red\", \"Blue\"), edge_labels=False, node_labels=True, title=None):\n",
    "    \"\"\"\n",
    "    Plot FSN with matplotlib library\n",
    "    :param fsn: FSN to be visualize\n",
    "    :param colors: array of colors for FA and BP respectively\n",
    "    :param edge_labels: True: Show the weights of edges, False: Without the weights of edges\n",
    "    :param title: Title for file to be saved in /img folder. None: no savings\n",
    "    \"\"\"\n",
    "    left = fsn.get_FA()\n",
    "    pos = nx.bipartite_layout(fsn, left)\n",
    "    arc_weight = nx.get_edge_attributes(fsn, 'weight')\n",
    "    node_col = [colors[d['bipartite']] for n, d in fsn.nodes(data=True)]\n",
    "    BPs = [node for node, d in fsn.nodes(data=True) if d[\"bipartite\"] == 0]\n",
    "    FAs = [node for node, d in fsn.nodes(data=True) if d[\"bipartite\"] == 1]\n",
    "    nx.draw_networkx_nodes(fsn, pos, nodelist=BPs, node_color=node_col, with_labels=False, node_size=250)\n",
    "    nx.draw_networkx_nodes(fsn, pos, node_color=node_col, with_labels=False, node_size=250)\n",
    "    debit = {(u, v) for u, v, d in fsn.edges(data=True) if d['type'] == \"DEBIT\"}\n",
    "    credit = {(u, v) for u, v, d in fsn.edges(data=True) if d['type'] == \"CREDIT\"}\n",
    "    nx.draw_networkx_edges(fsn, pos, edgelist=debit, edge_color=\"forestgreen\", arrowsize=30)\n",
    "    nx.draw_networkx_edges(fsn, pos, edgelist=credit, edge_color=\"salmon\", arrowsize=30)\n",
    "    if edge_labels:\n",
    "        nx.draw_networkx_edge_labels(fsn, pos, node_size=250, edge_labels=arc_weight, font_size=16)\n",
    "    if node_labels:\n",
    "        #     TODO add relative align for labels\n",
    "        label_pos = pos.copy()\n",
    "        for p in label_pos:  # raise text positions\n",
    "            label_pos[p][1] += 0.05\n",
    "        nx.draw_networkx_labels(fsn, label_pos, font_size=16)\n",
    "    ax = plt.gca()\n",
    "    ax.set_axis_off()\n",
    "    if title is not None and isinstance(title, str):\n",
    "        plt.tight_layout()\n",
    "        plt.savefig(\"img/\" + title, dpi=140, pad_inches=0.01)\n",
    "    plt.show()"
   ]
  },
  {
   "cell_type": "code",
   "execution_count": 10,
   "metadata": {},
   "outputs": [
    {
     "name": "stdout",
     "output_type": "stream",
     "text": [
      "[1, 2, 3, 4, 5, 6, 7, 9, 10, 11, 13, 14, 15, 17, 18, 21, 22, 24, 27, 29]\n"
     ]
    },
    {
     "ename": "NameError",
     "evalue": "name 'markers' is not defined",
     "output_type": "error",
     "traceback": [
      "\u001b[0;31m---------------------------------------------------------------------------\u001b[0m",
      "\u001b[0;31mNameError\u001b[0m                                 Traceback (most recent call last)",
      "\u001b[0;32m<ipython-input-10-21ed10df1816>\u001b[0m in \u001b[0;36m<module>\u001b[0;34m\u001b[0m\n\u001b[1;32m      1\u001b[0m \u001b[0;31m# from NetEmbs.Vis.plots import plotFSN\u001b[0m\u001b[0;34m\u001b[0m\u001b[0;34m\u001b[0m\u001b[0;34m\u001b[0m\u001b[0m\n\u001b[0;32m----> 2\u001b[0;31m \u001b[0mplotFSN\u001b[0m\u001b[0;34m(\u001b[0m\u001b[0mfsn\u001b[0m\u001b[0;34m,\u001b[0m \u001b[0medge_labels\u001b[0m\u001b[0;34m=\u001b[0m\u001b[0;32mFalse\u001b[0m\u001b[0;34m,\u001b[0m \u001b[0mnode_labels\u001b[0m\u001b[0;34m=\u001b[0m\u001b[0;32mFalse\u001b[0m\u001b[0;34m)\u001b[0m\u001b[0;34m\u001b[0m\u001b[0;34m\u001b[0m\u001b[0m\n\u001b[0m",
      "\u001b[0;32m<ipython-input-9-b798185816dd>\u001b[0m in \u001b[0;36mplotFSN\u001b[0;34m(fsn, colors, edge_labels, node_labels, title)\u001b[0m\n\u001b[1;32m     14\u001b[0m     \u001b[0mFAs\u001b[0m \u001b[0;34m=\u001b[0m \u001b[0;34m[\u001b[0m\u001b[0mnode\u001b[0m \u001b[0;32mfor\u001b[0m \u001b[0mnode\u001b[0m\u001b[0;34m,\u001b[0m \u001b[0md\u001b[0m \u001b[0;32min\u001b[0m \u001b[0mfsn\u001b[0m\u001b[0;34m.\u001b[0m\u001b[0mnodes\u001b[0m\u001b[0;34m(\u001b[0m\u001b[0mdata\u001b[0m\u001b[0;34m=\u001b[0m\u001b[0;32mTrue\u001b[0m\u001b[0;34m)\u001b[0m \u001b[0;32mif\u001b[0m \u001b[0md\u001b[0m\u001b[0;34m[\u001b[0m\u001b[0;34m\"bipartite\"\u001b[0m\u001b[0;34m]\u001b[0m \u001b[0;34m==\u001b[0m \u001b[0;36m1\u001b[0m\u001b[0;34m]\u001b[0m\u001b[0;34m\u001b[0m\u001b[0;34m\u001b[0m\u001b[0m\n\u001b[1;32m     15\u001b[0m     \u001b[0mprint\u001b[0m\u001b[0;34m(\u001b[0m\u001b[0mBPs\u001b[0m\u001b[0;34m)\u001b[0m\u001b[0;34m\u001b[0m\u001b[0;34m\u001b[0m\u001b[0m\n\u001b[0;32m---> 16\u001b[0;31m     \u001b[0mmar_shape\u001b[0m \u001b[0;34m=\u001b[0m \u001b[0;34m[\u001b[0m\u001b[0mmarkers\u001b[0m\u001b[0;34m[\u001b[0m\u001b[0md\u001b[0m\u001b[0;34m[\u001b[0m\u001b[0;34m'bipartite'\u001b[0m\u001b[0;34m]\u001b[0m\u001b[0;34m]\u001b[0m \u001b[0;32mfor\u001b[0m \u001b[0mn\u001b[0m\u001b[0;34m,\u001b[0m \u001b[0md\u001b[0m \u001b[0;32min\u001b[0m \u001b[0mfsn\u001b[0m\u001b[0;34m.\u001b[0m\u001b[0mnodes\u001b[0m\u001b[0;34m(\u001b[0m\u001b[0mdata\u001b[0m\u001b[0;34m=\u001b[0m\u001b[0;32mTrue\u001b[0m\u001b[0;34m)\u001b[0m\u001b[0;34m]\u001b[0m\u001b[0;34m\u001b[0m\u001b[0;34m\u001b[0m\u001b[0m\n\u001b[0m\u001b[1;32m     17\u001b[0m     \u001b[0mnx\u001b[0m\u001b[0;34m.\u001b[0m\u001b[0mdraw_networkx_nodes\u001b[0m\u001b[0;34m(\u001b[0m\u001b[0mfsn\u001b[0m\u001b[0;34m,\u001b[0m \u001b[0mpos\u001b[0m\u001b[0;34m,\u001b[0m \u001b[0mnode_color\u001b[0m\u001b[0;34m=\u001b[0m\u001b[0mnode_col\u001b[0m\u001b[0;34m,\u001b[0m \u001b[0mwith_labels\u001b[0m\u001b[0;34m=\u001b[0m\u001b[0;32mFalse\u001b[0m\u001b[0;34m,\u001b[0m \u001b[0mnode_size\u001b[0m\u001b[0;34m=\u001b[0m\u001b[0;36m250\u001b[0m\u001b[0;34m)\u001b[0m\u001b[0;34m\u001b[0m\u001b[0;34m\u001b[0m\u001b[0m\n\u001b[1;32m     18\u001b[0m     \u001b[0mdebit\u001b[0m \u001b[0;34m=\u001b[0m \u001b[0;34m{\u001b[0m\u001b[0;34m(\u001b[0m\u001b[0mu\u001b[0m\u001b[0;34m,\u001b[0m \u001b[0mv\u001b[0m\u001b[0;34m)\u001b[0m \u001b[0;32mfor\u001b[0m \u001b[0mu\u001b[0m\u001b[0;34m,\u001b[0m \u001b[0mv\u001b[0m\u001b[0;34m,\u001b[0m \u001b[0md\u001b[0m \u001b[0;32min\u001b[0m \u001b[0mfsn\u001b[0m\u001b[0;34m.\u001b[0m\u001b[0medges\u001b[0m\u001b[0;34m(\u001b[0m\u001b[0mdata\u001b[0m\u001b[0;34m=\u001b[0m\u001b[0;32mTrue\u001b[0m\u001b[0;34m)\u001b[0m \u001b[0;32mif\u001b[0m \u001b[0md\u001b[0m\u001b[0;34m[\u001b[0m\u001b[0;34m'type'\u001b[0m\u001b[0;34m]\u001b[0m \u001b[0;34m==\u001b[0m \u001b[0;34m\"DEBIT\"\u001b[0m\u001b[0;34m}\u001b[0m\u001b[0;34m\u001b[0m\u001b[0;34m\u001b[0m\u001b[0m\n",
      "\u001b[0;32m<ipython-input-9-b798185816dd>\u001b[0m in \u001b[0;36m<listcomp>\u001b[0;34m(.0)\u001b[0m\n\u001b[1;32m     14\u001b[0m     \u001b[0mFAs\u001b[0m \u001b[0;34m=\u001b[0m \u001b[0;34m[\u001b[0m\u001b[0mnode\u001b[0m \u001b[0;32mfor\u001b[0m \u001b[0mnode\u001b[0m\u001b[0;34m,\u001b[0m \u001b[0md\u001b[0m \u001b[0;32min\u001b[0m \u001b[0mfsn\u001b[0m\u001b[0;34m.\u001b[0m\u001b[0mnodes\u001b[0m\u001b[0;34m(\u001b[0m\u001b[0mdata\u001b[0m\u001b[0;34m=\u001b[0m\u001b[0;32mTrue\u001b[0m\u001b[0;34m)\u001b[0m \u001b[0;32mif\u001b[0m \u001b[0md\u001b[0m\u001b[0;34m[\u001b[0m\u001b[0;34m\"bipartite\"\u001b[0m\u001b[0;34m]\u001b[0m \u001b[0;34m==\u001b[0m \u001b[0;36m1\u001b[0m\u001b[0;34m]\u001b[0m\u001b[0;34m\u001b[0m\u001b[0;34m\u001b[0m\u001b[0m\n\u001b[1;32m     15\u001b[0m     \u001b[0mprint\u001b[0m\u001b[0;34m(\u001b[0m\u001b[0mBPs\u001b[0m\u001b[0;34m)\u001b[0m\u001b[0;34m\u001b[0m\u001b[0;34m\u001b[0m\u001b[0m\n\u001b[0;32m---> 16\u001b[0;31m     \u001b[0mmar_shape\u001b[0m \u001b[0;34m=\u001b[0m \u001b[0;34m[\u001b[0m\u001b[0mmarkers\u001b[0m\u001b[0;34m[\u001b[0m\u001b[0md\u001b[0m\u001b[0;34m[\u001b[0m\u001b[0;34m'bipartite'\u001b[0m\u001b[0;34m]\u001b[0m\u001b[0;34m]\u001b[0m \u001b[0;32mfor\u001b[0m \u001b[0mn\u001b[0m\u001b[0;34m,\u001b[0m \u001b[0md\u001b[0m \u001b[0;32min\u001b[0m \u001b[0mfsn\u001b[0m\u001b[0;34m.\u001b[0m\u001b[0mnodes\u001b[0m\u001b[0;34m(\u001b[0m\u001b[0mdata\u001b[0m\u001b[0;34m=\u001b[0m\u001b[0;32mTrue\u001b[0m\u001b[0;34m)\u001b[0m\u001b[0;34m]\u001b[0m\u001b[0;34m\u001b[0m\u001b[0;34m\u001b[0m\u001b[0m\n\u001b[0m\u001b[1;32m     17\u001b[0m     \u001b[0mnx\u001b[0m\u001b[0;34m.\u001b[0m\u001b[0mdraw_networkx_nodes\u001b[0m\u001b[0;34m(\u001b[0m\u001b[0mfsn\u001b[0m\u001b[0;34m,\u001b[0m \u001b[0mpos\u001b[0m\u001b[0;34m,\u001b[0m \u001b[0mnode_color\u001b[0m\u001b[0;34m=\u001b[0m\u001b[0mnode_col\u001b[0m\u001b[0;34m,\u001b[0m \u001b[0mwith_labels\u001b[0m\u001b[0;34m=\u001b[0m\u001b[0;32mFalse\u001b[0m\u001b[0;34m,\u001b[0m \u001b[0mnode_size\u001b[0m\u001b[0;34m=\u001b[0m\u001b[0;36m250\u001b[0m\u001b[0;34m)\u001b[0m\u001b[0;34m\u001b[0m\u001b[0;34m\u001b[0m\u001b[0m\n\u001b[1;32m     18\u001b[0m     \u001b[0mdebit\u001b[0m \u001b[0;34m=\u001b[0m \u001b[0;34m{\u001b[0m\u001b[0;34m(\u001b[0m\u001b[0mu\u001b[0m\u001b[0;34m,\u001b[0m \u001b[0mv\u001b[0m\u001b[0;34m)\u001b[0m \u001b[0;32mfor\u001b[0m \u001b[0mu\u001b[0m\u001b[0;34m,\u001b[0m \u001b[0mv\u001b[0m\u001b[0;34m,\u001b[0m \u001b[0md\u001b[0m \u001b[0;32min\u001b[0m \u001b[0mfsn\u001b[0m\u001b[0;34m.\u001b[0m\u001b[0medges\u001b[0m\u001b[0;34m(\u001b[0m\u001b[0mdata\u001b[0m\u001b[0;34m=\u001b[0m\u001b[0;32mTrue\u001b[0m\u001b[0;34m)\u001b[0m \u001b[0;32mif\u001b[0m \u001b[0md\u001b[0m\u001b[0;34m[\u001b[0m\u001b[0;34m'type'\u001b[0m\u001b[0;34m]\u001b[0m \u001b[0;34m==\u001b[0m \u001b[0;34m\"DEBIT\"\u001b[0m\u001b[0;34m}\u001b[0m\u001b[0;34m\u001b[0m\u001b[0;34m\u001b[0m\u001b[0m\n",
      "\u001b[0;31mNameError\u001b[0m: name 'markers' is not defined"
     ]
    }
   ],
   "source": [
    "# from NetEmbs.Vis.plots import plotFSN\n",
    "plotFSN(fsn, edge_labels=False, node_labels=False)"
   ]
  },
  {
   "cell_type": "code",
   "execution_count": null,
   "metadata": {
    "collapsed": true
   },
   "outputs": [],
   "source": [
    "from NetEmbs.FSN.utils import add_similar, get_pairs\n",
    "add_similar(d, direction=\"COMBI\").head(5)"
   ]
  },
  {
   "cell_type": "raw",
   "metadata": {},
   "source": [
    "ID NAME Cred, Deb\n",
    "1 Revenue   121 Tax.  21 TR 100\n",
    "ID NAME Cred, Deb\n",
    "2 Revenue   1210 Tax.  210 TR 1000\n",
    "---\n",
    "Normalize, then\n",
    "ID NAME Cred, Deb\n",
    "1 Revenue   0.8 Tax.  0.2 TR 1.0"
   ]
  },
  {
   "cell_type": "markdown",
   "metadata": {},
   "source": [
    "## Testing different Pairs construction"
   ]
  },
  {
   "cell_type": "code",
   "execution_count": null,
   "metadata": {
    "collapsed": true
   },
   "outputs": [],
   "source": [
    "from NetEmbs.FSN import *\n",
    "randomWalk(fsn, 1, length=10, direction=\"COMBI\")"
   ]
  },
  {
   "cell_type": "code",
   "execution_count": null,
   "metadata": {
    "collapsed": true
   },
   "outputs": [],
   "source": [
    "list(fsn.successors(7)), list(fsn.predecessors(7))"
   ]
  },
  {
   "cell_type": "code",
   "execution_count": null,
   "metadata": {
    "collapsed": true
   },
   "outputs": [],
   "source": [
    "d[\"ID\"].unique()"
   ]
  },
  {
   "cell_type": "code",
   "execution_count": null,
   "metadata": {},
   "outputs": [],
   "source": [
    "from NetEmbs.FSN.utils import similar\n",
    "from NetEmbs.Logs.custom_logger import log_me\n",
    "pd.set_option('display.max_colwidth', -1)\n",
    "MAIN_LOGGER = log_me()\n",
    "MAIN_LOGGER.info(\"Started..\")\n",
    "d = prepare_data(upload_data(\"Simulation/FSN_Data.db\", limit=200))\n",
    "similar(d, direction=[\"COMBI\"]).head(15)"
   ]
  },
  {
   "cell_type": "markdown",
   "metadata": {},
   "source": [
    "## Tests"
   ]
  },
  {
   "cell_type": "code",
   "execution_count": null,
   "metadata": {
    "collapsed": true
   },
   "outputs": [],
   "source": [
    "from NetEmbs.FSN.utils import make_pairs\n",
    "t = [1,2,3,1,2]\n",
    "out = make_pairs(t, window=2)\n",
    "out"
   ]
  },
  {
   "cell_type": "markdown",
   "metadata": {},
   "source": [
    "# Skip-Gram model\n",
    "Previously we've gotten a list of tuples where the first item is input word in term of Skip-gram model and the second item is output word. Hence, one can implement the simplest skip-gram model over it."
   ]
  },
  {
   "cell_type": "code",
   "execution_count": null,
   "metadata": {
    "collapsed": true
   },
   "outputs": [],
   "source": [
    "from NetEmbs.FSN.utils import *\n",
    "skip_grams, fsn, enc_dec = get_SkipGrams(d)\n",
    "skip_grams[:5]"
   ]
  },
  {
   "cell_type": "markdown",
   "metadata": {},
   "source": [
    "### Batch function"
   ]
  },
  {
   "cell_type": "code",
   "execution_count": null,
   "metadata": {
    "collapsed": true
   },
   "outputs": [],
   "source": [
    "def generate_batch(all_data, batch_size):\n",
    "    _t = np.random.randint(0, len(all_data), batch_size)\n",
    "    batch = np.ndarray(shape=(batch_size), dtype=np.int32, buffer=np.array([all_data[t][0] for t in _t]))\n",
    "    context = np.ndarray(shape=(batch_size, 1), dtype=np.int32, buffer=np.array([all_data[t][1] for t in _t]))\n",
    "    return batch, context"
   ]
  },
  {
   "cell_type": "code",
   "execution_count": null,
   "metadata": {
    "collapsed": true
   },
   "outputs": [],
   "source": [
    "generate_batch(skip_grams[:100], 3)"
   ]
  },
  {
   "cell_type": "markdown",
   "metadata": {},
   "source": [
    "### TensorFlow"
   ]
  },
  {
   "cell_type": "code",
   "execution_count": null,
   "metadata": {
    "collapsed": true
   },
   "outputs": [],
   "source": [
    "from NetEmbs.SkipGram import *\n",
    "import seaborn as sns"
   ]
  },
  {
   "cell_type": "code",
   "execution_count": null,
   "metadata": {},
   "outputs": [],
   "source": [
    "import os\n",
    "os.environ['KMP_DUPLICATE_LIB_OK'] = 'True'\n",
    "\n",
    "res = get_embs_TF(path_file=\"Simulation/FSN_Data.db\")"
   ]
  },
  {
   "cell_type": "code",
   "execution_count": null,
   "metadata": {},
   "outputs": [],
   "source": [
    "for name, group in res.groupby(\"FA_Name\"):\n",
    "    print(name)\n",
    "    if group.shape[0] > 3:\n",
    "        sns.heatmap(list(group[\"Emb\"].values), vmin=-1.0, vmax=1.0, cmap=sns.color_palette(\"RdBu_r\", 16))\n",
    "        plt.show()\n",
    "    else:\n",
    "        print(\"Not enough samples...\")"
   ]
  },
  {
   "cell_type": "code",
   "execution_count": null,
   "metadata": {},
   "outputs": [],
   "source": [
    "res2 = get_embs_TF(path_file=\"Simulation/FSN_Data.db\", num_steps=50000, walks_per_node=50, walk_length=20)"
   ]
  },
  {
   "cell_type": "code",
   "execution_count": null,
   "metadata": {},
   "outputs": [],
   "source": [
    "def plot_tSNE(fsn_embs):\n",
    "    import os\n",
    "    os.environ['KMP_DUPLICATE_LIB_OK'] = 'True'\n",
    "    import matplotlib.pyplot as plt\n",
    "    from sklearn.manifold import TSNE\n",
    "    tsne = TSNE()\n",
    "    embdf = pd.DataFrame(list(map(np.ravel, fsn_embs.iloc[:, 1])))\n",
    "    embed_tsne = tsne.fit_transform(embdf)\n",
    "    fsn_embs[\"x\"] = pd.Series(embed_tsne[:, 0])\n",
    "    fsn_embs[\"y\"] = pd.Series(embed_tsne[:, 1])\n",
    "    import seaborn as sns\n",
    "    fg = sns.FacetGrid(data=fsn_embs, hue='FA_Name', aspect=1.61, height=6)\n",
    "    fg.map(pyplot.scatter, 'x', 'y').add_legend()\n",
    "    plt.plot()\n",
    "    return fsn_embs\n",
    "dd = plot_tSNE(res)\n",
    "_ = plot_tSNE(res2)"
   ]
  },
  {
   "cell_type": "code",
   "execution_count": null,
   "metadata": {
    "collapsed": true
   },
   "outputs": [],
   "source": []
  }
 ],
 "metadata": {
  "kernelspec": {
   "display_name": "Python [conda env:DL]",
   "language": "python",
   "name": "conda-env-DL-py"
  },
  "language_info": {
   "codemirror_mode": {
    "name": "ipython",
    "version": 3
   },
   "file_extension": ".py",
   "mimetype": "text/x-python",
   "name": "python",
   "nbconvert_exporter": "python",
   "pygments_lexer": "ipython3",
   "version": "3.6.8"
  }
 },
 "nbformat": 4,
 "nbformat_minor": 2
}
