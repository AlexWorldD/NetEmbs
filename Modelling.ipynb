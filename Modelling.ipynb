{
 "cells": [
  {
   "cell_type": "markdown",
   "metadata": {},
   "source": [
    "# 1. Required packages"
   ]
  },
  {
   "cell_type": "markdown",
   "metadata": {},
   "source": [
    "## For the interactivity I'm using _plotly_ library and _Jupyter Widgets_. \n",
    "It allows to prototype dashboard in some way. Hence, for correct execution of the current notebook one has to install the following packages: \n",
    "   - [plotly](https://plot.ly/python/) + [cufflinks](https://plot.ly/ipython-notebooks/cufflinks/)\n",
    "   - [ipywidgets](https://github.com/jupyter-widgets/ipywidgets)\n",
    "\n",
    "and activate the required extensions for Jupyter. Feel free to do it manually or run the following script."
   ]
  },
  {
   "cell_type": "code",
   "execution_count": null,
   "metadata": {
    "scrolled": true
   },
   "outputs": [],
   "source": [
    "# %%bash\n",
    "# pip install plotly\n",
    "# pip install cufflinks\n",
    "# pip install ipywidgets\n",
    "# jupyter nbextension install --py --sys-prefix widgetsnbextension\n",
    "# jupyter nbextension install --py --sys-prefix plotlywidget\n",
    "# jupyter nbextension enable --py --sys-prefix widgetsnbextension\n",
    "# jupyter nbextension enable --py --sys-prefix plotlywidget"
   ]
  },
  {
   "cell_type": "markdown",
   "metadata": {},
   "source": [
    "To validate the correct installation and activation of the required packages please execute:"
   ]
  },
  {
   "cell_type": "code",
   "execution_count": null,
   "metadata": {
    "scrolled": true
   },
   "outputs": [],
   "source": [
    "%%bash \n",
    "jupyter nbextension list"
   ]
  },
  {
   "cell_type": "code",
   "execution_count": 29,
   "metadata": {},
   "outputs": [
    {
     "data": {
      "text/html": [
       "<style>.container { width:90% !important; }</style>"
      ],
      "text/plain": [
       "<IPython.core.display.HTML object>"
      ]
     },
     "metadata": {},
     "output_type": "display_data"
    }
   ],
   "source": [
    "from IPython.core.display import display, HTML\n",
    "display(HTML(\"<style>.container { width:90% !important; }</style>\"))"
   ]
  },
  {
   "cell_type": "markdown",
   "metadata": {},
   "source": [
    "# 2. Data I/O\n",
    "We assume that one has already obtained the embeddings for the researched financial statement network. "
   ]
  },
  {
   "cell_type": "code",
   "execution_count": 1,
   "metadata": {
    "scrolled": true
   },
   "outputs": [
    {
     "name": "stdout",
     "output_type": "stream",
     "text": [
      "Populating the interactive namespace from numpy and matplotlib\n"
     ]
    }
   ],
   "source": [
    "%pylab inline"
   ]
  },
  {
   "cell_type": "code",
   "execution_count": 509,
   "metadata": {
    "scrolled": true
   },
   "outputs": [
    {
     "name": "stdout",
     "output_type": "stream",
     "text": [
      "Config file has been updated!\n",
      "Embeddings have been uploaded to memory!\n",
      "Final shape of DataFrame is  (29239, 9)\n",
      "Supported information has been uploaded to memory!\n",
      "Shape of uploaded Dataset is  (29239, 9)\n"
     ]
    }
   ],
   "source": [
    "import pandas as pd\n",
    "import matplotlib.pyplot as plt\n",
    "import seaborn as sns\n",
    "from NetEmbs import *\n",
    "\n",
    "MODE = \"SimulatedData\"\n",
    "DB_PATH = \"Simulation/FSN_Data_5k.db\"\n",
    "CONFIG.ROOT_FOLDER = \"UvA/GoogleColab/Optimal 5k/\"\n",
    "CONFIG.EXPERIMENT = [0, 1]\n",
    "\n",
    "#  ---------- CONFIG Setting HERE ------------\n",
    "# .1 Sampling parameters\n",
    "CONFIG.STRATEGY = \"MetaDiff\"\n",
    "CONFIG.PRESSURE = 10\n",
    "CONFIG.WINDOW_SIZE = 2\n",
    "CONFIG.WALKS_PER_NODE = 30\n",
    "CONFIG.WALKS_LENGTH = 10\n",
    "# .2 TF parameters\n",
    "CONFIG.STEPS = 100000\n",
    "CONFIG.EMBD_SIZE = 8\n",
    "CONFIG.LOSS_FUNCTION = \"NegativeSampling\"  # or \"NCE\"\n",
    "CONFIG.BATCH_SIZE = 256\n",
    "CONFIG.NEGATIVE_SAMPLES = 512\n",
    "\n",
    "updateCONFIG(False)\n",
    "EMBS_PATH = CONFIG.WORK_FOLDER[0]+CONFIG.WORK_FOLDER[1]+CONFIG.WORK_FOLDER[2]\n",
    "\n",
    "if MODE == \"SimulatedData\":\n",
    "#     EMBS_PATH = \"UvA/LargeDataset/verMetaDiff_dirCOMBI_walks30_pressure10_1hopFraction0_0/windowSize2/EMB16_batch256_NegSamples512_TFsteps50000_0/\"\n",
    "#     EMBS_PATH = \"UvA/MediumDataset/verMetaDiff_dirCOMBI_walks20_pressure30_1hopFraction0_/windowSize2/EMB32_batch64_TFsteps100000_ /\"\n",
    "#     EMBS_PATH = \"Simulation_versionMetaDiff_directionCOMBI_walks30_pressure30_window3/TFsteps100000batch64_emb32/\"\n",
    "    embs = pd.read_pickle(EMBS_PATH+\"Embeddings.pkl\")\n",
    "    print(\"Embeddings have been uploaded to memory!\")\n",
    "    d = upload_data(DB_PATH, limit=None)\n",
    "    d = prepare_data(d)\n",
    "    print(\"Supported information has been uploaded to memory!\")\n",
    "\n",
    "if MODE == \"RealData\":\n",
    "    import extras\n",
    "    import analysis\n",
    "    EMBS_PATH = \"model/15108_2017_versionMetaDiff_directionCOMBI_walks31_pressure30_window3/TFsteps100000batch64_emb32/\"\n",
    "    embs = pd.read_pickle(EMBS_PATH+\"cache/Embeddings.pkl\")\n",
    "        # //////// TODO UPLOAD your data HERE \\\\\\\\\\\\\\\\\\\\\n",
    "#     d = analysis.analysis(\"14082_2017\")\n",
    "    d = extras.getData(\"15108_2017\")\n",
    "        # //////// END  \\\\\\\\\\\\\\\\\\\\\n",
    "    # TODO pay attention for the split argument below!\n",
    "    if \"Value\" in list(d):\n",
    "        need_split = True\n",
    "    else:\n",
    "        need_split = False\n",
    "    d = prepare_dataMarcel(d, split=need_split)\n",
    "#     Here we drop the duplicate of GroundTruth in the DataFrame with supported info, because we have it in Embs DataFrame\n",
    "    if \"GroundTruth\" in list(d):\n",
    "        d.drop(\"GroundTruth\", axis=1, inplace=True)\n",
    "print(\"Shape of uploaded Dataset is \", d.shape)"
   ]
  },
  {
   "cell_type": "markdown",
   "metadata": {},
   "source": [
    "# The number of samples per each GroundTruth"
   ]
  },
  {
   "cell_type": "code",
   "execution_count": 3,
   "metadata": {},
   "outputs": [
    {
     "data": {
      "text/plain": [
       "<matplotlib.axes._subplots.AxesSubplot at 0x13ae3cfd0>"
      ]
     },
     "execution_count": 3,
     "metadata": {},
     "output_type": "execute_result"
    },
    {
     "data": {
      "image/png": "[encoded data removed]",
      "text/plain": [
       "<Figure size 1440x720 with 1 Axes>"
      ]
     },
     "metadata": {
      "needs_background": "light"
     },
     "output_type": "display_data"
    }
   ],
   "source": [
    "embs.groupby(\"GroundTruth\")['ID'].count().plot.bar()"
   ]
  },
  {
   "cell_type": "markdown",
   "metadata": {},
   "source": [
    "# 3. Interactive visualization"
   ]
  },
  {
   "cell_type": "markdown",
   "metadata": {},
   "source": [
    "### 3.2 Visualization"
   ]
  },
  {
   "cell_type": "code",
   "execution_count": 4,
   "metadata": {
    "scrolled": true
   },
   "outputs": [
    {
     "data": {
      "text/html": [
       "        <script type=\"text/javascript\">\n",
       "        window.PlotlyConfig = {MathJaxConfig: 'local'};\n",
       "        if (window.MathJax) {MathJax.Hub.Config({SVG: {font: \"STIX-Web\"}});}\n",
       "        if (typeof require !== 'undefined') {\n",
       "        require.undef(\"plotly\");\n",
       "        requirejs.config({\n",
       "            paths: {\n",
       "                'plotly': ['https://cdn.plot.ly/plotly-latest.min']\n",
       "            }\n",
       "        });\n",
       "        require(['plotly'], function(Plotly) {\n",
       "            window._Plotly = Plotly;\n",
       "        });\n",
       "        }\n",
       "        </script>\n",
       "        "
      ]
     },
     "metadata": {},
     "output_type": "display_data"
    },
    {
     "data": {
      "text/html": [
       "        <script type=\"text/javascript\">\n",
       "        window.PlotlyConfig = {MathJaxConfig: 'local'};\n",
       "        if (window.MathJax) {MathJax.Hub.Config({SVG: {font: \"STIX-Web\"}});}\n",
       "        if (typeof require !== 'undefined') {\n",
       "        require.undef(\"plotly\");\n",
       "        requirejs.config({\n",
       "            paths: {\n",
       "                'plotly': ['https://cdn.plot.ly/plotly-latest.min']\n",
       "            }\n",
       "        });\n",
       "        require(['plotly'], function(Plotly) {\n",
       "            window._Plotly = Plotly;\n",
       "        });\n",
       "        }\n",
       "        </script>\n",
       "        "
      ]
     },
     "metadata": {},
     "output_type": "display_data"
    }
   ],
   "source": [
    "from __future__ import print_function\n",
    "# Standard plotly imports\n",
    "import plotly.plotly as py\n",
    "import plotly.graph_objs as go\n",
    "from plotly.offline import iplot, plot, init_notebook_mode\n",
    "# Using plotly + cufflinks in offline mode\n",
    "import cufflinks\n",
    "\n",
    "cufflinks.go_offline(connected=True)\n",
    "init_notebook_mode(connected=True)\n",
    "from ipywidgets import interactive, HBox, VBox, widgets"
   ]
  },
  {
   "cell_type": "markdown",
   "metadata": {},
   "source": [
    "### Clustering here"
   ]
  },
  {
   "cell_type": "code",
   "execution_count": 502,
   "metadata": {},
   "outputs": [
    {
     "data": {
      "text/plain": [
       "11"
      ]
     },
     "execution_count": 502,
     "metadata": {},
     "output_type": "execute_result"
    }
   ],
   "source": [
    "embs.GroundTruth.nunique()"
   ]
  },
  {
   "cell_type": "code",
   "execution_count": 573,
   "metadata": {},
   "outputs": [
    {
     "name": "stdout",
     "output_type": "stream",
     "text": [
      "First row of Data: \n",
      " [ 0.32220975 -0.04134749  0.56154209  0.43830514  0.1576744   0.48121458\n",
      "  0.0907734  -0.34980267]\n"
     ]
    }
   ],
   "source": [
    "N_CLS = 11\n",
    "embs = cl_Agglomerative(embs, N_CLS)"
   ]
  },
  {
   "cell_type": "code",
   "execution_count": null,
   "metadata": {},
   "outputs": [],
   "source": [
    "set_font()"
   ]
  },
  {
   "cell_type": "code",
   "execution_count": 574,
   "metadata": {
    "scrolled": false
   },
   "outputs": [
    {
     "data": {
      "application/vnd.jupyter.widget-view+json": {
       "model_id": "7d962767b89e4a74bde9b09c82a6c7f1",
       "version_major": 2,
       "version_minor": 0
      },
      "text/plain": [
       "VBox(children=(Label(value=''), FigureWidget({\n",
       "    'data': [{'customdata': [2, 4, 11, ..., 5022, 5024, 5026],\n",
       "…"
      ]
     },
     "metadata": {},
     "output_type": "display_data"
    }
   ],
   "source": [
    "from NetEmbs.Vis.helpers import set_font, getColors_Markers\n",
    "from NetEmbs.Vis.words_cloud import findMostCommonFAs_v2\n",
    "# Label text\n",
    "description = widgets.Label(\n",
    "        value=''\n",
    "    )\n",
    "# WordCouds area\n",
    "wordCloudsOutput = widgets.Output()\n",
    "# Table with JournalEntries data\n",
    "table_titles = [\"ID\", \"FA_Name\", \"Credit\", \"Debit\", \"label\"]\n",
    "\n",
    "if MODE == \"RealData\":\n",
    "    table_titles = [\"ID\", \"FA_Name\", \"accountDesc\", \"Credit\", \"Debit\", \"label\"]\n",
    "    \n",
    "t = go.FigureWidget([go.Table(\n",
    "    header=dict(values=table_titles,\n",
    "                fill = dict(color='#C2D4FF'),\n",
    "                align = ['left'] * 5),\n",
    "    cells=dict(values=[],\n",
    "               fill = dict(color='#F5F8FF'),\n",
    "               align = ['left'] * 5))],\n",
    "                    layout = go.Layout(\n",
    "                            title=\"Journal Entries\",\n",
    "                            autosize=True,\n",
    "                            width=1000,\n",
    "                            height=400))\n",
    "# Scatter plot\n",
    "N_COLORS = 10\n",
    "WORD_CLOUD_LABEL = \"FA_Name\"\n",
    "LEGEND_TITLE = \"GroundTruth\"\n",
    "LEGEND_TITLE = \"label\"\n",
    "\n",
    "tmp_p_see = None\n",
    "# For selection via multiple traces... stupid way.\n",
    "indexes = []\n",
    "tr_nums = 0\n",
    "\n",
    "\n",
    "def interactiveScatter(df, df_info, legend_title=\"label\"):\n",
    "    \"\"\"Create FigureWidget with the scatter plot for the given DataFrame\"\"\"\n",
    "    scatter_data = list()\n",
    "    cmap, mmap = getColors_Markers(keys=df[legend_title].unique(), cm=\"tab10\", n_colors=N_COLORS, markers=[\"circle\", \"diamond\", \"square\"])\n",
    "    for name, group in df.groupby(legend_title):\n",
    "        scatter_data.append(go.Scatter(x=group.x, y=group.y, mode='markers', name=name, \n",
    "                                    text = group.apply(lambda row: f\"ID={row.ID},   GroundTruth={row.GroundTruth}\", axis=1),\n",
    "                                    customdata = group.index.to_list(),\n",
    "                                    marker=dict(color=cmap[name][1], \n",
    "                                                symbol=mmap[name])))\n",
    "    f = go.FigureWidget(data=scatter_data,\n",
    "                       layout = go.Layout(\n",
    "                           title=f\"t-SNE visualisation with coloring based on {legend_title}\",\n",
    "        hovermode='closest',\n",
    "        autosize=True,\n",
    "        width=1000,\n",
    "        height=700))\n",
    "    \n",
    "    def printSignature(trace, points, *args):\n",
    "        if len(points.point_inds)>0:\n",
    "            ids = trace.customdata[points.point_inds[0]]\n",
    "            row = df.iloc[ids]\n",
    "            description.value = f\"ID={row.ID},   GroundTruth={row.GroundTruth}\"\n",
    "    def selectBP(trace, points, *args):\n",
    "        if len(points.point_inds)>0:\n",
    "            ids = trace.customdata[points.point_inds[0]]\n",
    "            row = df.iloc[[ids]]\n",
    "            chosen_bps = df_info.merge(row, on=\"ID\")\n",
    "            wordCloudsOutput.clear_output()\n",
    "            t.data[0].cells.values = [chosen_bps[col] for col in t.data[0].header.values]\n",
    "    \n",
    "    def filterRows(selected_ids):\n",
    "        row = df.iloc[selected_ids]\n",
    "        chosen_bps = df_info.merge(row, on=\"ID\")\n",
    "        return chosen_bps\n",
    "    def updateTable(chosen_bps):\n",
    "        t.data[0].cells.values = [chosen_bps[col] for col in t.data[0].header.values]\n",
    "    def showClouds(chosen_bps):\n",
    "        wordCloudsOutput.clear_output()\n",
    "        with wordCloudsOutput:\n",
    "            findMostCommonFAs_v2(chosen_bps, LEGEND_TITLE, WORD_CLOUD_LABEL, sort_mode=\"freq\", vis=True, n_top=4)\n",
    "    scatters = f.data\n",
    "    max_traces = len(scatters)\n",
    "    def selectBPs(trace,points,selector):\n",
    "        global indexes\n",
    "        global tr_nums\n",
    "#         print(f\"For trace index={points.trace_index} tr_nums is {tr_nums}\")\n",
    "        if not points.point_inds:\n",
    "            pass\n",
    "        else:\n",
    "            indexes.extend([trace.customdata[cur_point] for cur_point in points.point_inds])\n",
    "        tr_nums = tr_nums+1\n",
    "        if tr_nums==max_traces:\n",
    "            selected_data = filterRows(indexes)\n",
    "            updateTable(selected_data)\n",
    "            showClouds(selected_data)\n",
    "            indexes = []\n",
    "            tr_nums = 0\n",
    "    # Hover text: ID and GroundTruth\n",
    "    for scatter in scatters:\n",
    "        scatter.hoverinfo = 'text'\n",
    "        scatter.on_hover(printSignature) \n",
    "        scatter.on_click(selectBP)\n",
    "        scatter.on_selection(selectBPs)\n",
    "\n",
    "    # Selection\n",
    "    return f\n",
    "# @interact(Coloring=['label', 'GroundTruth'])\n",
    "# def update(Coloring=\"label\"):\n",
    "#     print(Coloring)\n",
    "#     f_scatter = interactiveScatter(embs, Coloring)\n",
    "#     return VBox([description, f_scatter])\n",
    "f_scatter = interactiveScatter(embs, d, LEGEND_TITLE)\n",
    "VBox([description, f_scatter, t, wordCloudsOutput])"
   ]
  },
  {
   "cell_type": "code",
   "execution_count": 7,
   "metadata": {},
   "outputs": [
    {
     "name": "stdout",
     "output_type": "stream",
     "text": [
      "Number of FAs is 663, \n",
      "Number of BPs is 5109\n"
     ]
    }
   ],
   "source": [
    "print(f\"Number of FAs is {d.FA_Name.nunique()}, \\nNumber of BPs is {embs.shape[0]}\")"
   ]
  },
  {
   "cell_type": "markdown",
   "metadata": {},
   "source": [
    "# Time-Series modeling"
   ]
  },
  {
   "cell_type": "code",
   "execution_count": 575,
   "metadata": {},
   "outputs": [
    {
     "data": {
      "text/plain": [
       "{0: 'Goods delivery',\n",
       " 1: 'Sales tax',\n",
       " 2: 'Collections',\n",
       " 3: 'Sales 6 btw',\n",
       " 4: 'Payroll',\n",
       " 5: 'Depreciation',\n",
       " 6: 'Disbursement',\n",
       " 7: 'Purchase',\n",
       " 8: 'Payroll Disbursement',\n",
       " 9: 'Fixed Assets',\n",
       " 10: 'Sales 21 btw'}"
      ]
     },
     "execution_count": 575,
     "metadata": {},
     "output_type": "execute_result"
    }
   ],
   "source": [
    "labels_to_titles = embs.groupby(\"label\").GroundTruth.agg(pd.Series.mode).to_dict()\n",
    "labels_to_titles"
   ]
  },
  {
   "cell_type": "code",
   "execution_count": 9,
   "metadata": {},
   "outputs": [],
   "source": [
    "def crosscorr(data_x, data_y, lag=0):\n",
    "    \"\"\" Lag-N cross correlation. \n",
    "    Parameters\n",
    "    ----------\n",
    "    lag : int, default 0\n",
    "    datax, datay : pandas.Series objects of equal length\n",
    "\n",
    "    Returns\n",
    "    ----------\n",
    "    crosscorr : float\n",
    "    \"\"\"\n",
    "    return data_x.corr(data_y.shift(lag, freq=\"D\"))"
   ]
  },
  {
   "cell_type": "markdown",
   "metadata": {},
   "source": [
    "Our initial hypotheis is that sub-groups of business process within a company should have some kind of cross correlation (e.g. goods delivery business process follows after sale business process). For deeper investigation of that hypothesis we are going to aggregate given Journal Entries (aka input raw data) based on the predicted cluster label and to build time-series from these groups w.r.t. to the transaction time."
   ]
  },
  {
   "cell_type": "code",
   "execution_count": 577,
   "metadata": {},
   "outputs": [
    {
     "name": "stdout",
     "output_type": "stream",
     "text": [
      "Shape of supported info is (29239, 7), shape of embs DataFrame is (5109, 7)\n",
      "After merge the shape is (29239, 13)\n"
     ]
    },
    {
     "data": {
      "text/html": [
       "<div>\n",
       "<style scoped>\n",
       "    .dataframe tbody tr th:only-of-type {\n",
       "        vertical-align: middle;\n",
       "    }\n",
       "\n",
       "    .dataframe tbody tr th {\n",
       "        vertical-align: top;\n",
       "    }\n",
       "\n",
       "    .dataframe thead th {\n",
       "        text-align: right;\n",
       "    }\n",
       "</style>\n",
       "<table border=\"1\" class=\"dataframe\">\n",
       "  <thead>\n",
       "    <tr style=\"text-align: right;\">\n",
       "      <th></th>\n",
       "      <th>ID</th>\n",
       "      <th>FA_Name</th>\n",
       "      <th>from</th>\n",
       "      <th>amount</th>\n",
       "      <th>Time</th>\n",
       "      <th>GroundTruth</th>\n",
       "      <th>label</th>\n",
       "      <th>x</th>\n",
       "      <th>y</th>\n",
       "    </tr>\n",
       "  </thead>\n",
       "  <tbody>\n",
       "    <tr>\n",
       "      <th>0</th>\n",
       "      <td>7</td>\n",
       "      <td>FixedAssets</td>\n",
       "      <td>False</td>\n",
       "      <td>52.184404</td>\n",
       "      <td>0.67896</td>\n",
       "      <td>Fixed Assets</td>\n",
       "      <td>9</td>\n",
       "      <td>27.562012</td>\n",
       "      <td>7.046679</td>\n",
       "    </tr>\n",
       "    <tr>\n",
       "      <th>1</th>\n",
       "      <td>7</td>\n",
       "      <td>NoisyLeftFA_kbfq</td>\n",
       "      <td>True</td>\n",
       "      <td>0.021187</td>\n",
       "      <td>0.67896</td>\n",
       "      <td>Fixed Assets</td>\n",
       "      <td>9</td>\n",
       "      <td>27.562012</td>\n",
       "      <td>7.046679</td>\n",
       "    </tr>\n",
       "  </tbody>\n",
       "</table>\n",
       "</div>"
      ],
      "text/plain": [
       "   ID           FA_Name   from     amount     Time   GroundTruth  label  \\\n",
       "0   7       FixedAssets  False  52.184404  0.67896  Fixed Assets      9   \n",
       "1   7  NoisyLeftFA_kbfq   True   0.021187  0.67896  Fixed Assets      9   \n",
       "\n",
       "           x         y  \n",
       "0  27.562012  7.046679  \n",
       "1  27.562012  7.046679  "
      ]
     },
     "execution_count": 577,
     "metadata": {},
     "output_type": "execute_result"
    }
   ],
   "source": [
    "# TODO helper uploader for obtain Time column. \n",
    "if MODE==\"SimulatedData\":\n",
    "    df_all = d.drop([\"Signature\", \"Name\"], axis=1)\n",
    "    print(f\"Shape of supported info is {df_all.shape}, shape of embs DataFrame is {embs.shape}\")\n",
    "    df_all = df_all.merge(embs, on=\"ID\")\n",
    "    print(f\"After merge the shape is {df_all.shape}\")\n",
    "    df_all = df_all.groupby([\"ID\", \"FA_Name\", \"from\"], as_index=False).aggregate({\"amount\": lambda x: np.sum(x), \n",
    "                                \"Time\": \"first\",\n",
    "                              \"GroundTruth\": \"first\",\n",
    "                              \"label\": \"first\",\n",
    "                              \"x\": \"first\",\n",
    "                              \"y\": \"first\"}) \\\n",
    "                        .sort_values(\"Time\", ascending=True)\n",
    "if MODE==\"RealData\":\n",
    "    d[\"Date\"] = pd.to_datetime(d[\"Date\"],format='%Y-%m-%d')\n",
    "#     df_all = d.groupby(\"ID\", as_index=False).aggregate({\"amount\": lambda x: np.sum(x)/2.0, \n",
    "#                                \"Date\": \"first\"}).merge(embs, on=\"ID\").sort_values(\"Date\", ascending=True)\n",
    "    df_all = d.groupby([\"ID\", \"FA_Name\", \"from\"], as_index=False)\\\n",
    "                .aggregate({\"amount\": lambda x: np.sum(x), \n",
    "                            \"Date\": \"first\",\n",
    "                           \"accountDesc\": \"first\"})\\\n",
    "                .merge(embs, on=\"ID\")\\\n",
    "                .sort_values(\"Date\", ascending=True)\n",
    "    df_all.set_index(df_all.Date, inplace=True)\n",
    "df_all.head(2)"
   ]
  },
  {
   "cell_type": "markdown",
   "metadata": {},
   "source": [
    "## Add DateTimeIndex to simulated data"
   ]
  },
  {
   "cell_type": "code",
   "execution_count": 578,
   "metadata": {},
   "outputs": [],
   "source": [
    "def addDateTimeIndex(df):\n",
    "    df[\"SimulatedTime\"] = df[\"Time\"]\n",
    "    df[\"Time\"] = df[\"Time\"].apply(lambda x: np.datetime64('2019-01-01')+np.timedelta64(int(x*205.7), 'm'))\n",
    "    return df.set_index(\"Time\")\n",
    "if MODE==\"SimulatedData\":\n",
    "    df_all = addDateTimeIndex(df_all)\n",
    "#     embs = addDateTimeIndex(embs)\n",
    "df_all[\"flow\"] = df_all[\"from\"].apply(lambda x: {False: \"inflow\", True: \"outflow\" }[x])"
   ]
  },
  {
   "cell_type": "markdown",
   "metadata": {},
   "source": [
    "## Get part of data with required labe/GroundTruth"
   ]
  },
  {
   "cell_type": "code",
   "execution_count": 137,
   "metadata": {},
   "outputs": [],
   "source": [
    "def filterData(df, query=[[\"Sales 21 btw\", \"Sales 6 btw\"], [\"Collections\"]], on=\"GroundTruth\"):\n",
    "    result = list()\n",
    "    for q in query:\n",
    "        result.append(df_all[df_all[on].isin(q)])\n",
    "        result[-1].name=str(q)[1:-1]\n",
    "        if on == \"label\":\n",
    "            result[-1].name+=\" cluster\"\n",
    "    return tuple(result)\n",
    "\n",
    "def filterData_v3(df, \n",
    "                  query=[{\"select\": [\"Sales 21 btw\", \"Sales 6 btw\"], \n",
    "                              \"_with\": {\"FA_Name\": \"Revenue\", \"from\": True}}, \n",
    "                 {\"select\": [\"Collections\"], \"_with\": None}], \n",
    "                  on=\"GroundTruth\"):\n",
    "    result = list()\n",
    "    for q in query:\n",
    "        postfix = {\"FA_Name\": None, \"flow\": None}\n",
    "        if q[\"select\"] is None or q[\"select\"]==[\"ALL\"] or q[\"select\"]==\"ALL\":\n",
    "            cur_df = df\n",
    "        else:\n",
    "            cur_df = df[df[on].isin(q[\"select\"])]\n",
    "        if q[\"_with\"] is not None:\n",
    "            for key, value in q[\"_with\"].items():\n",
    "                try:\n",
    "                    cur_df = cur_df[cur_df[key]==value]\n",
    "                    postfix[key] = str(value)\n",
    "                except KeyError as e:\n",
    "                    raise(f\"{a} is not in a columns titles!\")\n",
    "        result.append(cur_df)\n",
    "        result[-1].name=str(q[\"select\"])[1:-1]\n",
    "        if on == \"label\":\n",
    "            result[-1].name+=\" cluster\"\n",
    "            if len(q[\"select\"])>1:\n",
    "                result[-1].name+=\"s\"\n",
    "        if postfix[\"FA_Name\"] is not None:\n",
    "            result[-1].name+=f\" – {postfix['FA_Name']}\"\n",
    "        if postfix[\"flow\"] is not None:\n",
    "            result[-1].name+=f\"({postfix['flow']})\"\n",
    "    if len(result)==1:\n",
    "        return result[0]\n",
    "    else:\n",
    "        return tuple(result)"
   ]
  },
  {
   "cell_type": "code",
   "execution_count": 589,
   "metadata": {},
   "outputs": [],
   "source": [
    "from plotly.offline import download_plotlyjs, init_notebook_mode, plot, iplot\n",
    "import numpy as np\n",
    "from sklearn import linear_model\n",
    "def plotAmounts(DFs, title=\"Default signals\"):\n",
    "    \"\"\"Helper funciton to plot a few DataFrame in one plotly graph\"\"\"\n",
    "    if len(DFs)>1:\n",
    "            fig2 = go.Figure(data=[go.Scatter(x=df.index,\n",
    "            y=df.amount,\n",
    "            name=df.name\n",
    "            ) for df in DFs], \n",
    "            layout = go.Layout(showlegend=True, title=go.layout.Title(text=title), hovermode='closest', \n",
    "                               legend=dict(orientation=\"h\", font=dict(size=14), xanchor='center', x=0.5, y=-0.1)))\n",
    "    else:\n",
    "            fig2 = go.Figure(data=go.Scatter(x=DFs.index,\n",
    "            y=DFs.amount,\n",
    "            name=DFs.name, \n",
    "            layout = go.Layout(showlegend=True, title=go.layout.Title(text=title), hovermode='closest')))\n",
    "    iplot(fig2)"
   ]
  },
  {
   "cell_type": "markdown",
   "metadata": {},
   "source": [
    "## Resample our TimeSeries with Dayly/Weekly/Monthly frequencies"
   ]
  },
  {
   "cell_type": "markdown",
   "metadata": {},
   "source": [
    "## All in One function"
   ]
  },
  {
   "cell_type": "code",
   "execution_count": 480,
   "metadata": {},
   "outputs": [],
   "source": [
    "from plotly.offline import download_plotlyjs, init_notebook_mode, plot, iplot\n",
    "import numpy as np\n",
    "from sklearn.model_selection import train_test_split\n",
    "from sklearn.linear_model import LinearRegression\n",
    "from sklearn.model_selection import cross_val_score\n",
    "from sklearn.metrics import make_scorer, mean_absolute_error, mean_squared_error\n",
    "NUM_EXP = 5\n",
    "\n",
    "def plotScatter(df_train, df_test=None, context=\"paper_full\", labels=(\"Dimension X\", \"Dimension Y\"), title=None, set_title=None):\n",
    "    dpi = 140\n",
    "    fig_size = (13, 10)\n",
    "    #     set_font(14, True)\n",
    "    if context == \"paper_half\":\n",
    "        sns.set_context(\"paper\", font_scale=1.5)\n",
    "        fig_size = (6.4, 4.8)\n",
    "    if context == \"paper_full\":\n",
    "        sns.set_context(\"paper\", font_scale=1.8)\n",
    "    if context == \"talk_half\":\n",
    "        sns.set_context(\"paper\", font_scale=3.5)\n",
    "    if context == \"talk_full\":\n",
    "        sns.set_context(\"paper\", font_scale=2)\n",
    "    fig = plt.figure(figsize=fig_size)\n",
    "    ax = fig.add_subplot(111)\n",
    "    sns.regplot(x=df_train.iloc[:, 0], y=df_train.iloc[:, 1], ax=ax)\n",
    "    if df_test is not None:\n",
    "        sns.regplot(x=df_test.iloc[:, 0], y=df_test.iloc[:, 1], ax=ax, color=\"red\")\n",
    "    ax.spines['right'].set_visible(False)\n",
    "    ax.spines['top'].set_visible(False)\n",
    "    ax.xaxis.set_ticks_position('bottom')\n",
    "    ax.set_xlabel(labels[0])\n",
    "    ax.yaxis.set_ticks_position('left')\n",
    "    ax.set_ylabel(labels[1])\n",
    "    if set_title is not None:\n",
    "        ax.set_title(set_title)\n",
    "    if title is not None:\n",
    "        fig.savefig(\"img/Modelling/\" + title + labels[0] + labels[1] + \"_for_\" + context + \".png\", bbox_inches=\"tight\", dpi=dpi, pad_inches=0.05)\n",
    "    plt.show(fig)\n",
    "    plt.close(fig)\n",
    "    \n",
    "def MAPE(y_true, y_pred):\n",
    "    y_true, y_pred = np.array(y_true), np.array(y_pred)\n",
    "    return np.mean(np.divide(np.abs((y_true - y_pred)), y_true, out=np.zeros_like(y_true), where=y_true!=0)) * 100\n",
    "\n",
    "legend_postfix = {\"W\": \", weekly\", \"D\": \", daily\", \"M\": \", monthly\"}\n",
    "\n",
    "def constructSignals(df_all, shift=(0, 0), query=[{\"select\": [2], \"_with\": None}, {\"select\": [4], \"_with\": None}], \n",
    "                     on=\"label\", agg_period=\"W\", title = None):\n",
    "    # Predicted labels\n",
    "    agg_title = \"Aggregated signals\"\n",
    "    left, right = filterData_v3(df_all, query=query, on=on)\n",
    "#     plotAmounts([sales, collections], \"Original signals, without aggregation\")\n",
    "    print(\"Started aggregation...\")\n",
    "#     Make required shifts\n",
    "    left_agg = left.shift(shift[0], freq=\"D\")\n",
    "    right_agg = right.shift(shift[1], freq=\"D\")\n",
    "#     Aling TimeIndexes for correct aggregation.\n",
    "    st_date = max(left_agg.index[0], right_agg.index[0])\n",
    "    end_date = min(left_agg.index[-1], right_agg.index[-1])\n",
    "    left_agg = left_agg[(left_agg.index>=st_date) & (left_agg.index<=end_date)]\n",
    "    right_agg = right_agg[(right_agg.index>=st_date) & (right_agg.index<=end_date)]\n",
    "#     Makre required aggregation\n",
    "    left_agg = left_agg.resample(agg_period).agg({\"amount\": sum})\n",
    "    right_agg = right_agg.resample(agg_period).apply({\"amount\": sum})\n",
    "#     Add info about aggregation period to legen texts\n",
    "    try:\n",
    "        left_agg.name = left.name+legend_postfix[agg_period]\n",
    "        right_agg.name = right.name+legend_postfix[agg_period]\n",
    "        agg_title+=legend_postfix[agg_period]\n",
    "    except KeyError as e:\n",
    "#         print(f\"Could not intepret {agg_period} for adding postfix to legend text... Use the default ones..\" )\n",
    "        left_agg.name = left.name+\", \"+ agg_period\n",
    "        right_agg.name = right.name+\", \"+ agg_period\n",
    "        agg_title+=\", \"+ agg_period\n",
    "    plotAmounts([left_agg, right_agg], agg_title)\n",
    "    print(f\"Correlation for given query and given shifts {shift} is \\\n",
    "          {left_agg.amount.corr(right_agg.amount)}\")\n",
    "\n",
    "    all_data = left_agg.join(right_agg, lsuffix=\"_X\", rsuffix=\"_Y\", how=\"inner\")\n",
    "    from sklearn.preprocessing import minmax_scale\n",
    "    all_data[\"amount_Y\"] = minmax_scale(all_data[\"amount_Y\"])\n",
    "    all_data[\"amount_X\"] = minmax_scale(all_data[\"amount_X\"])\n",
    "    scores = list()\n",
    "    lr = LinearRegression()\n",
    "#     train, test = train_test_split(all_data, test_size=0.2, random_state=1)\n",
    "#     lr.fit(train.iloc[:, 0].values.reshape(-1, 1), train.iloc[:, 1].values.reshape(-1, 1))\n",
    "#     print(\"Coefficients in constructed linear regression model are: :\", lr.coef_)\n",
    "#     tax_predicted = lr.predict(test[[\"amount_X\"]])\n",
    "#     print(f\"MAPE score is {MAPE(test[['amount_Y']], tax_predicted)}\")\n",
    "#     plotScatter(train, test, labels=(left_agg.name, right_agg.name))\n",
    "    for r_s in range(NUM_EXP):\n",
    "#         Make new split\n",
    "        train, test = train_test_split(all_data, test_size=0.2, random_state=r_s)\n",
    "        lr.fit(train.iloc[:, 0].values.reshape(-1, 1), train.iloc[:, 1].values.reshape(-1, 1))\n",
    "#         print(\"Coefficients in constructed linear regression model are: :\", lr.coef_)\n",
    "        tax_predicted = lr.predict(test[[\"amount_X\"]])\n",
    "        scores.append(mean_squared_error(test[['amount_Y']], tax_predicted))\n",
    "#     try:\n",
    "#         scores = cross_val_score(lr, all_data.iloc[:, 0].values.reshape(-1, 1), all_data.iloc[:, 1].values.reshape(-1, 1), \\\n",
    "#                          cv=3, scoring=\"neg_mean_absolute_error\")\n",
    "#     except Exception as e:\n",
    "#         raise Exception(\"Something went wrong in linear regression\")\n",
    "    print(np.mean(scores))\n",
    "    score = f\"Average MSE score is {np.round(np.mean(scores), 3)}\"\n",
    "    if title is not None:\n",
    "        plotScatter(all_data, labels=(left_agg.name, right_agg.name), title=title+\"_\"+agg_period, set_title=score)\n",
    "    else:\n",
    "        plotScatter(all_data, labels=(left_agg.name, right_agg.name), title=title, set_title=score)\n",
    "    plt.show()\n",
    "#     return left_agg, right_agg"
   ]
  },
  {
   "cell_type": "code",
   "execution_count": 372,
   "metadata": {},
   "outputs": [],
   "source": [
    "tax_agg = tax.shift(-2, freq=\"D\")"
   ]
  },
  {
   "cell_type": "markdown",
   "metadata": {},
   "source": [
    "# Financial account and which BPs are operating with them"
   ]
  },
  {
   "cell_type": "code",
   "execution_count": 74,
   "metadata": {
    "scrolled": false
   },
   "outputs": [
    {
     "data": {
      "text/html": [
       "<div>\n",
       "<style scoped>\n",
       "    .dataframe tbody tr th:only-of-type {\n",
       "        vertical-align: middle;\n",
       "    }\n",
       "\n",
       "    .dataframe tbody tr th {\n",
       "        vertical-align: top;\n",
       "    }\n",
       "\n",
       "    .dataframe thead th {\n",
       "        text-align: right;\n",
       "    }\n",
       "</style>\n",
       "<table border=\"1\" class=\"dataframe\">\n",
       "  <thead>\n",
       "    <tr style=\"text-align: right;\">\n",
       "      <th></th>\n",
       "      <th></th>\n",
       "      <th>count</th>\n",
       "      <th>unique</th>\n",
       "    </tr>\n",
       "    <tr>\n",
       "      <th>FA_Name</th>\n",
       "      <th>from</th>\n",
       "      <th></th>\n",
       "      <th></th>\n",
       "    </tr>\n",
       "  </thead>\n",
       "  <tbody>\n",
       "    <tr>\n",
       "      <th rowspan=\"2\" valign=\"top\">TradeReceivables</th>\n",
       "      <th>True</th>\n",
       "      <td>999</td>\n",
       "      <td>[Collections]</td>\n",
       "    </tr>\n",
       "    <tr>\n",
       "      <th>False</th>\n",
       "      <td>960</td>\n",
       "      <td>[Sales 21 btw, Sales 6 btw]</td>\n",
       "    </tr>\n",
       "    <tr>\n",
       "      <th rowspan=\"2\" valign=\"top\">TradePayables</th>\n",
       "      <th>True</th>\n",
       "      <td>423</td>\n",
       "      <td>[Fixed Assets, Disbursement]</td>\n",
       "    </tr>\n",
       "    <tr>\n",
       "      <th>False</th>\n",
       "      <td>133</td>\n",
       "      <td>[Purchase]</td>\n",
       "    </tr>\n",
       "    <tr>\n",
       "      <th rowspan=\"2\" valign=\"top\">Tax</th>\n",
       "      <th>True</th>\n",
       "      <td>1484</td>\n",
       "      <td>[Sales 21 btw, Payroll, Sales 6 btw]</td>\n",
       "    </tr>\n",
       "    <tr>\n",
       "      <th>False</th>\n",
       "      <td>654</td>\n",
       "      <td>[Sales tax]</td>\n",
       "    </tr>\n",
       "    <tr>\n",
       "      <th>Revenue</th>\n",
       "      <th>True</th>\n",
       "      <td>960</td>\n",
       "      <td>[Sales 21 btw, Sales 6 btw]</td>\n",
       "    </tr>\n",
       "    <tr>\n",
       "      <th>PrepaidExpenses</th>\n",
       "      <th>True</th>\n",
       "      <td>133</td>\n",
       "      <td>[Purchase]</td>\n",
       "    </tr>\n",
       "    <tr>\n",
       "      <th rowspan=\"2\" valign=\"top\">PersonnelExpenses</th>\n",
       "      <th>False</th>\n",
       "      <td>524</td>\n",
       "      <td>[Payroll]</td>\n",
       "    </tr>\n",
       "    <tr>\n",
       "      <th>True</th>\n",
       "      <td>133</td>\n",
       "      <td>[Purchase]</td>\n",
       "    </tr>\n",
       "    <tr>\n",
       "      <th>OtherExpenses</th>\n",
       "      <th>True</th>\n",
       "      <td>133</td>\n",
       "      <td>[Purchase]</td>\n",
       "    </tr>\n",
       "  </tbody>\n",
       "</table>\n",
       "</div>"
      ],
      "text/plain": [
       "                         count                                unique\n",
       "FA_Name           from                                              \n",
       "TradeReceivables  True     999                         [Collections]\n",
       "                  False    960           [Sales 21 btw, Sales 6 btw]\n",
       "TradePayables     True     423          [Fixed Assets, Disbursement]\n",
       "                  False    133                            [Purchase]\n",
       "Tax               True    1484  [Sales 21 btw, Payroll, Sales 6 btw]\n",
       "                  False    654                           [Sales tax]\n",
       "Revenue           True     960           [Sales 21 btw, Sales 6 btw]\n",
       "PrepaidExpenses   True     133                            [Purchase]\n",
       "PersonnelExpenses False    524                             [Payroll]\n",
       "                  True     133                            [Purchase]\n",
       "OtherExpenses     True     133                            [Purchase]"
      ]
     },
     "execution_count": 74,
     "metadata": {},
     "output_type": "execute_result"
    }
   ],
   "source": [
    "df_all.groupby([\"FA_Name\", \"from\"])[\"GroundTruth\"].agg([\"count\", \"unique\"]).sort_values([\"FA_Name\", \"count\"], ascending=False).head(11)"
   ]
  },
  {
   "cell_type": "markdown",
   "metadata": {},
   "source": [
    "# Tax plausible relationship from Marcel's paper"
   ]
  },
  {
   "cell_type": "code",
   "execution_count": 204,
   "metadata": {},
   "outputs": [
    {
     "data": {
      "text/plain": [
       "array(['Sales 21 btw', 'Payroll', 'Sales 6 btw'], dtype=object)"
      ]
     },
     "execution_count": 204,
     "metadata": {},
     "output_type": "execute_result"
    }
   ],
   "source": [
    "df_all[(df_all.FA_Name==\"Tax\") & (df_all[\"from\"]==True)].GroundTruth.unique()"
   ]
  },
  {
   "cell_type": "code",
   "execution_count": 205,
   "metadata": {},
   "outputs": [
    {
     "data": {
      "text/plain": [
       "array(['Sales 21 btw', 'Sales 6 btw'], dtype=object)"
      ]
     },
     "execution_count": 205,
     "metadata": {},
     "output_type": "execute_result"
    }
   ],
   "source": [
    "df_all[(df_all.FA_Name==\"Revenue\")].GroundTruth.unique()"
   ]
  },
  {
   "cell_type": "markdown",
   "metadata": {},
   "source": [
    "## Tax vs. Revenue based on FA Names\n",
    "Credit-debit model (CD) which uses only the in- and outflow but no process information"
   ]
  },
  {
   "cell_type": "code",
   "execution_count": 476,
   "metadata": {
    "scrolled": false
   },
   "outputs": [
    {
     "name": "stdout",
     "output_type": "stream",
     "text": [
      "Started aggregation...\n"
     ]
    },
    {
     "data": {
      "application/vnd.plotly.v1+json": {
       "config": {
        "linkText": "Export to plot.ly",
        "plotlyServerURL": "https://plot.ly",
        "showLink": false
       },
       "data": [
        {
         "name": "'ALL' cluster – Revenue, 2D",
         "type": "scatter",
         "uid": "e7e81864-4970-4dc2-99f4-6c26f4516f96",
         "x": [
          "2019-01-01",
          "2019-01-03",
          "2019-01-05",
          "2019-01-07",
          "2019-01-09",
          "2019-01-11",
          "2019-01-13",
          "2019-01-15",
          "2019-01-17",
          "2019-01-19",
          "2019-01-21",
          "2019-01-23",
          "2019-01-25",
          "2019-01-27",
          "2019-01-29",
          "2019-01-31",
          "2019-02-02",
          "2019-02-04",
          "2019-02-06",
          "2019-02-08",
          "2019-02-10",
          "2019-02-12",
          "2019-02-14",
          "2019-02-16",
          "2019-02-18",
          "2019-02-20",
          "2019-02-22",
          "2019-02-24",
          "2019-02-26",
          "2019-02-28",
          "2019-03-02",
          "2019-03-04",
          "2019-03-06",
          "2019-03-08",
          "2019-03-10",
          "2019-03-12",
          "2019-03-14",
          "2019-03-16",
          "2019-03-18",
          "2019-03-20",
          "2019-03-22",
          "2019-03-24",
          "2019-03-26",
          "2019-03-28",
          "2019-03-30",
          "2019-04-01",
          "2019-04-03",
          "2019-04-05",
          "2019-04-07",
          "2019-04-09",
          "2019-04-11",
          "2019-04-13",
          "2019-04-15",
          "2019-04-17",
          "2019-04-19",
          "2019-04-21",
          "2019-04-23",
          "2019-04-25",
          "2019-04-27",
          "2019-04-29",
          "2019-05-01",
          "2019-05-03",
          "2019-05-05",
          "2019-05-07",
          "2019-05-09",
          "2019-05-11",
          "2019-05-13",
          "2019-05-15",
          "2019-05-17",
          "2019-05-19",
          "2019-05-21",
          "2019-05-23",
          "2019-05-25",
          "2019-05-27",
          "2019-05-29",
          "2019-05-31",
          "2019-06-02",
          "2019-06-04",
          "2019-06-06",
          "2019-06-08",
          "2019-06-10",
          "2019-06-12",
          "2019-06-14",
          "2019-06-16",
          "2019-06-18",
          "2019-06-20",
          "2019-06-22",
          "2019-06-24",
          "2019-06-26",
          "2019-06-28",
          "2019-06-30",
          "2019-07-02",
          "2019-07-04",
          "2019-07-06",
          "2019-07-08",
          "2019-07-10",
          "2019-07-12",
          "2019-07-14",
          "2019-07-16",
          "2019-07-18",
          "2019-07-20",
          "2019-07-22",
          "2019-07-24",
          "2019-07-26",
          "2019-07-28",
          "2019-07-30",
          "2019-08-01",
          "2019-08-03",
          "2019-08-05",
          "2019-08-07",
          "2019-08-09",
          "2019-08-11",
          "2019-08-13",
          "2019-08-15",
          "2019-08-17",
          "2019-08-19",
          "2019-08-21",
          "2019-08-23",
          "2019-08-25",
          "2019-08-27",
          "2019-08-29",
          "2019-08-31",
          "2019-09-02",
          "2019-09-04",
          "2019-09-06",
          "2019-09-08",
          "2019-09-10",
          "2019-09-12",
          "2019-09-14",
          "2019-09-16",
          "2019-09-18",
          "2019-09-20",
          "2019-09-22",
          "2019-09-24",
          "2019-09-26",
          "2019-09-28",
          "2019-09-30",
          "2019-10-02",
          "2019-10-04",
          "2019-10-06",
          "2019-10-08",
          "2019-10-10",
          "2019-10-12",
          "2019-10-14",
          "2019-10-16",
          "2019-10-18",
          "2019-10-20",
          "2019-10-22",
          "2019-10-24",
          "2019-10-26",
          "2019-10-28",
          "2019-10-30",
          "2019-11-01",
          "2019-11-03",
          "2019-11-05",
          "2019-11-07",
          "2019-11-09",
          "2019-11-11",
          "2019-11-13",
          "2019-11-15",
          "2019-11-17",
          "2019-11-19",
          "2019-11-21",
          "2019-11-23",
          "2019-11-25",
          "2019-11-27",
          "2019-11-29"
         ],
         "y": [
          3893,
          3914,
          7318,
          2033,
          4112,
          5696,
          4608,
          4850,
          5006,
          2865,
          3853,
          1316,
          4309,
          1481,
          2233,
          2003,
          2315,
          782,
          1628,
          1787,
          1238,
          3071,
          1512,
          4035,
          3845,
          3616,
          3758,
          2369,
          3279,
          1968,
          2590,
          4931,
          4863,
          4177,
          1922,
          2639,
          4494,
          2564,
          1376,
          2231,
          7025,
          1785,
          3660,
          5292,
          3612,
          2559,
          2034,
          3469,
          6752,
          5238,
          6917,
          4638,
          3163,
          4096,
          4066,
          2608,
          968,
          1619,
          6324,
          4474,
          3147,
          4703,
          6642,
          2534,
          4580,
          1537,
          2986,
          3790,
          6371,
          287,
          5317,
          2369,
          2541,
          4974,
          3897,
          2339,
          1494,
          2384,
          5110,
          4071,
          1581,
          3586,
          5386,
          2913,
          2248,
          2505,
          758,
          1612,
          2218,
          3051,
          3645,
          3244,
          3149,
          1572,
          978,
          2471,
          1620,
          4819,
          1264,
          3783,
          533,
          3712,
          1330,
          5930,
          2376,
          3805,
          3997,
          1948,
          3621,
          6629,
          2524,
          1501,
          5948,
          1865,
          2684,
          1267,
          5401,
          4023,
          2499,
          2368,
          2207,
          4504,
          3043,
          4315,
          4146,
          2799,
          3629,
          3774,
          2632,
          3471,
          2049,
          4148,
          2552,
          2787,
          2065,
          881,
          2429,
          2518,
          539,
          2337,
          125,
          819,
          1445,
          0,
          1266,
          194,
          1824,
          2567,
          1860,
          0,
          695,
          364,
          1678,
          1931,
          992,
          664,
          1649,
          403,
          2065,
          3407,
          424,
          2520,
          2982,
          1138,
          2348,
          1889,
          904
         ]
        },
        {
         "name": "'ALL' cluster – Tax, 2D",
         "type": "scatter",
         "uid": "9fcb4dbd-c3c4-4fe8-baea-e6a12a553a1b",
         "x": [
          "2019-01-01",
          "2019-01-03",
          "2019-01-05",
          "2019-01-07",
          "2019-01-09",
          "2019-01-11",
          "2019-01-13",
          "2019-01-15",
          "2019-01-17",
          "2019-01-19",
          "2019-01-21",
          "2019-01-23",
          "2019-01-25",
          "2019-01-27",
          "2019-01-29",
          "2019-01-31",
          "2019-02-02",
          "2019-02-04",
          "2019-02-06",
          "2019-02-08",
          "2019-02-10",
          "2019-02-12",
          "2019-02-14",
          "2019-02-16",
          "2019-02-18",
          "2019-02-20",
          "2019-02-22",
          "2019-02-24",
          "2019-02-26",
          "2019-02-28",
          "2019-03-02",
          "2019-03-04",
          "2019-03-06",
          "2019-03-08",
          "2019-03-10",
          "2019-03-12",
          "2019-03-14",
          "2019-03-16",
          "2019-03-18",
          "2019-03-20",
          "2019-03-22",
          "2019-03-24",
          "2019-03-26",
          "2019-03-28",
          "2019-03-30",
          "2019-04-01",
          "2019-04-03",
          "2019-04-05",
          "2019-04-07",
          "2019-04-09",
          "2019-04-11",
          "2019-04-13",
          "2019-04-15",
          "2019-04-17",
          "2019-04-19",
          "2019-04-21",
          "2019-04-23",
          "2019-04-25",
          "2019-04-27",
          "2019-04-29",
          "2019-05-01",
          "2019-05-03",
          "2019-05-05",
          "2019-05-07",
          "2019-05-09",
          "2019-05-11",
          "2019-05-13",
          "2019-05-15",
          "2019-05-17",
          "2019-05-19",
          "2019-05-21",
          "2019-05-23",
          "2019-05-25",
          "2019-05-27",
          "2019-05-29",
          "2019-05-31",
          "2019-06-02",
          "2019-06-04",
          "2019-06-06",
          "2019-06-08",
          "2019-06-10",
          "2019-06-12",
          "2019-06-14",
          "2019-06-16",
          "2019-06-18",
          "2019-06-20",
          "2019-06-22",
          "2019-06-24",
          "2019-06-26",
          "2019-06-28",
          "2019-06-30",
          "2019-07-02",
          "2019-07-04",
          "2019-07-06",
          "2019-07-08",
          "2019-07-10",
          "2019-07-12",
          "2019-07-14",
          "2019-07-16",
          "2019-07-18",
          "2019-07-20",
          "2019-07-22",
          "2019-07-24",
          "2019-07-26",
          "2019-07-28",
          "2019-07-30",
          "2019-08-01",
          "2019-08-03",
          "2019-08-05",
          "2019-08-07",
          "2019-08-09",
          "2019-08-11",
          "2019-08-13",
          "2019-08-15",
          "2019-08-17",
          "2019-08-19",
          "2019-08-21",
          "2019-08-23",
          "2019-08-25",
          "2019-08-27",
          "2019-08-29",
          "2019-08-31",
          "2019-09-02",
          "2019-09-04",
          "2019-09-06",
          "2019-09-08",
          "2019-09-10",
          "2019-09-12",
          "2019-09-14",
          "2019-09-16",
          "2019-09-18",
          "2019-09-20",
          "2019-09-22",
          "2019-09-24",
          "2019-09-26",
          "2019-09-28",
          "2019-09-30",
          "2019-10-02",
          "2019-10-04",
          "2019-10-06",
          "2019-10-08",
          "2019-10-10",
          "2019-10-12",
          "2019-10-14",
          "2019-10-16",
          "2019-10-18",
          "2019-10-20",
          "2019-10-22",
          "2019-10-24",
          "2019-10-26",
          "2019-10-28",
          "2019-10-30",
          "2019-11-01",
          "2019-11-03",
          "2019-11-05",
          "2019-11-07",
          "2019-11-09",
          "2019-11-11",
          "2019-11-13",
          "2019-11-15",
          "2019-11-17",
          "2019-11-19",
          "2019-11-21",
          "2019-11-23",
          "2019-11-25",
          "2019-11-27",
          "2019-11-29"
         ],
         "y": [
          1817.128329088202,
          2741.5082417647213,
          3760.190632376996,
          2319.2986933916436,
          3468.173987972273,
          2981.652173869891,
          3133.7159893968164,
          2615.1258003952726,
          2170.797756670927,
          3526.3533930374256,
          1907.3402689640996,
          2368.7620064860453,
          1486.6478846752843,
          3072.1106274536805,
          2168.1770129742486,
          2920.0003362456564,
          1824.7464459396951,
          1238.6065428225993,
          1204.7304354904902,
          1990.677875262922,
          1668.651806979819,
          2084.6223795377323,
          2609.4787809406444,
          2307.1535444584983,
          1870.8455362719194,
          2708.4169148949804,
          2560.243697816698,
          2378.7627995507746,
          1379.6402442758324,
          2030.9864029822857,
          2858.0499213600438,
          2517.2456163596153,
          1923.197593244322,
          2876.4231107661954,
          2075.2290005930104,
          2674.394567445991,
          2469.4309967927747,
          2410.562377664963,
          2228.180400982995,
          2483.224478584585,
          3588.2412959377693,
          1516.1859738366607,
          2421.790900211062,
          3984.7345988020984,
          3048.3427864054665,
          1933.150953180655,
          1897.5906952648868,
          2317.3615794534276,
          3363.581966850473,
          3496.4563903625603,
          2708.503807540917,
          4803.308698768797,
          2603.0136842059756,
          2911.085108930853,
          2125.5627765294007,
          2922.227695665969,
          1977.8392096783823,
          1904.5230133435498,
          3491.567779188028,
          2538.8054219880014,
          3272.0572998780754,
          2800.1452021838254,
          4135.509157647166,
          2880.779167635087,
          3017.2247346397808,
          1786.8306442321093,
          1365.596801577694,
          2679.4926276250953,
          2595.4499078177546,
          2333.615630132648,
          2544.6210312884473,
          2656.670021934881,
          2610.039219032021,
          2712.2054320632974,
          3475.9855745036775,
          2488.8073261669615,
          1489.3452069853806,
          2259.3322248962913,
          2910.4157298237615,
          3115.8871610148785,
          2385.5447555574005,
          2974.6623345122644,
          3040.986568327641,
          2462.121618687006,
          2181.644045248352,
          2313.268412305324,
          1615.2121498614542,
          2219.9029879240006,
          1841.9922671351546,
          2419.932999304595,
          1877.7282367774492,
          3139.9505473288004,
          2565.1179071517395,
          2216.576792491266,
          1465.8084460606372,
          2850.258583085691,
          1703.646173367836,
          3191.635276650744,
          2091.1878142299956,
          2631.7784557120767,
          1765.0650298851417,
          2426.573763742314,
          1462.4543306122978,
          2311.379394265724,
          2482.593099176508,
          1159.0826334969765,
          2176.0354542274745,
          3030.29764008333,
          3268.7168924358207,
          3563.494470912479,
          2599.857714346877,
          2000.2501195677942,
          3411.3874435409643,
          2606.2481220104205,
          2465.4530119386445,
          2052.212339719908,
          2194.055897662729,
          2957.7123312314875,
          3283.7637480426433,
          2230.0438967358873,
          2661.915418737784,
          2750.7199853128495,
          2244.3917157575265,
          2091.966963612109,
          2499.719893541148,
          3055.2165813678166,
          2419.9259118192863,
          2935.5549347109654,
          2959.61307056389,
          2360.3542971262164,
          1610.1498981869681,
          2049.975357385868,
          3466.9135270310417,
          2915.715055527632,
          2222.637238161092,
          1501.9406126892093,
          2469.584151529092,
          2186.6330166208545,
          662.6549829016633,
          3041.9026692926222,
          1849.2453629593704,
          2151.1768227889174,
          1511.6411604873879,
          945,
          1021.2404319971298,
          2028.220362974567,
          1656.258678859348,
          2648.061333801934,
          1807.6216167926575,
          1260,
          986.6126284469839,
          1694.6392664521131,
          1445.7502616998074,
          1965.4809654608678,
          1479.8192717210325,
          1299.9976792930925,
          1411.2222182163478,
          1628.2393015175949,
          1813.9406429640783,
          1769.5531021729892,
          1663.5696963971586,
          1774.983015786939,
          2031.759361708445,
          1867.3259252059413,
          1467.2654797749271,
          1372.9430995205516,
          530.4172766253942
         ]
        }
       ],
       "layout": {
        "hovermode": "closest",
        "legend": {
         "font": {
          "size": 14
         },
         "orientation": "h",
         "x": 0.3,
         "y": -0.1
        },
        "showlegend": true,
        "title": {
         "text": "Aggregated signals, 2D"
        }
       }
      },
      "text/html": [
       "<div>\n",
       "        \n",
       "        \n",
       "            <div id=\"b362d2c8-8e1d-4a0f-aab8-cf5cc52ae32f\" class=\"plotly-graph-div\" style=\"height:525px; width:100%;\"></div>\n",
       "            <script type=\"text/javascript\">\n",
       "                require([\"plotly\"], function(Plotly) {\n",
       "                    window.PLOTLYENV=window.PLOTLYENV || {};\n",
       "                    window.PLOTLYENV.BASE_URL='https://plot.ly';\n",
       "                    \n",
       "                if (document.getElementById(\"b362d2c8-8e1d-4a0f-aab8-cf5cc52ae32f\")) {\n",
       "                    Plotly.newPlot(\n",
       "                        'b362d2c8-8e1d-4a0f-aab8-cf5cc52ae32f',\n",
       "                        [{\"name\": \"'ALL' cluster \\u2013 Revenue, 2D\", \"type\": \"scatter\", \"uid\": \"e7e81864-4970-4dc2-99f4-6c26f4516f96\", \"x\": [\"2019-01-01\", \"2019-01-03\", \"2019-01-05\", \"2019-01-07\", \"2019-01-09\", \"2019-01-11\", \"2019-01-13\", \"2019-01-15\", \"2019-01-17\", \"2019-01-19\", \"2019-01-21\", \"2019-01-23\", \"2019-01-25\", \"2019-01-27\", \"2019-01-29\", \"2019-01-31\", \"2019-02-02\", \"2019-02-04\", \"2019-02-06\", \"2019-02-08\", \"2019-02-10\", \"2019-02-12\", \"2019-02-14\", \"2019-02-16\", \"2019-02-18\", \"2019-02-20\", \"2019-02-22\", \"2019-02-24\", \"2019-02-26\", \"2019-02-28\", \"2019-03-02\", \"2019-03-04\", \"2019-03-06\", \"2019-03-08\", \"2019-03-10\", \"2019-03-12\", \"2019-03-14\", \"2019-03-16\", \"2019-03-18\", \"2019-03-20\", \"2019-03-22\", \"2019-03-24\", \"2019-03-26\", \"2019-03-28\", \"2019-03-30\", \"2019-04-01\", \"2019-04-03\", \"2019-04-05\", \"2019-04-07\", \"2019-04-09\", \"2019-04-11\", \"2019-04-13\", \"2019-04-15\", \"2019-04-17\", \"2019-04-19\", \"2019-04-21\", \"2019-04-23\", \"2019-04-25\", \"2019-04-27\", \"2019-04-29\", \"2019-05-01\", \"2019-05-03\", \"2019-05-05\", \"2019-05-07\", \"2019-05-09\", \"2019-05-11\", \"2019-05-13\", \"2019-05-15\", \"2019-05-17\", \"2019-05-19\", \"2019-05-21\", \"2019-05-23\", \"2019-05-25\", \"2019-05-27\", \"2019-05-29\", \"2019-05-31\", \"2019-06-02\", \"2019-06-04\", \"2019-06-06\", \"2019-06-08\", \"2019-06-10\", \"2019-06-12\", \"2019-06-14\", \"2019-06-16\", \"2019-06-18\", \"2019-06-20\", \"2019-06-22\", \"2019-06-24\", \"2019-06-26\", \"2019-06-28\", \"2019-06-30\", \"2019-07-02\", \"2019-07-04\", \"2019-07-06\", \"2019-07-08\", \"2019-07-10\", \"2019-07-12\", \"2019-07-14\", \"2019-07-16\", \"2019-07-18\", \"2019-07-20\", \"2019-07-22\", \"2019-07-24\", \"2019-07-26\", \"2019-07-28\", \"2019-07-30\", \"2019-08-01\", \"2019-08-03\", \"2019-08-05\", \"2019-08-07\", \"2019-08-09\", \"2019-08-11\", \"2019-08-13\", \"2019-08-15\", \"2019-08-17\", \"2019-08-19\", \"2019-08-21\", \"2019-08-23\", \"2019-08-25\", \"2019-08-27\", \"2019-08-29\", \"2019-08-31\", \"2019-09-02\", \"2019-09-04\", \"2019-09-06\", \"2019-09-08\", \"2019-09-10\", \"2019-09-12\", \"2019-09-14\", \"2019-09-16\", \"2019-09-18\", \"2019-09-20\", \"2019-09-22\", \"2019-09-24\", \"2019-09-26\", \"2019-09-28\", \"2019-09-30\", \"2019-10-02\", \"2019-10-04\", \"2019-10-06\", \"2019-10-08\", \"2019-10-10\", \"2019-10-12\", \"2019-10-14\", \"2019-10-16\", \"2019-10-18\", \"2019-10-20\", \"2019-10-22\", \"2019-10-24\", \"2019-10-26\", \"2019-10-28\", \"2019-10-30\", \"2019-11-01\", \"2019-11-03\", \"2019-11-05\", \"2019-11-07\", \"2019-11-09\", \"2019-11-11\", \"2019-11-13\", \"2019-11-15\", \"2019-11-17\", \"2019-11-19\", \"2019-11-21\", \"2019-11-23\", \"2019-11-25\", \"2019-11-27\", \"2019-11-29\"], \"y\": [3893.0, 3914.0, 7318.0, 2033.0, 4112.0, 5696.0, 4608.0, 4850.0, 5006.0, 2865.0, 3853.0, 1316.0, 4309.0, 1481.0, 2233.0, 2003.0, 2315.0, 782.0, 1628.0, 1787.0, 1238.0, 3071.0, 1512.0, 4035.0, 3845.0, 3616.0, 3758.0, 2369.0, 3279.0, 1968.0, 2590.0, 4931.0, 4863.0, 4177.0, 1922.0, 2639.0, 4494.0, 2564.0, 1376.0, 2231.0, 7025.0, 1785.0, 3660.0, 5292.0, 3612.0, 2559.0, 2034.0, 3469.0, 6752.0, 5238.0, 6917.0, 4638.0, 3163.0, 4096.0, 4066.0, 2608.0, 968.0, 1619.0, 6324.0, 4474.0, 3147.0, 4703.0, 6642.0, 2534.0, 4580.0, 1537.0, 2986.0, 3790.0, 6371.0, 287.0, 5317.0, 2369.0, 2541.0, 4974.0, 3897.0, 2339.0, 1494.0, 2384.0, 5110.0, 4071.0, 1581.0, 3586.0, 5386.0, 2913.0, 2248.0, 2505.0, 758.0, 1612.0, 2218.0, 3051.0, 3645.0, 3244.0, 3149.0, 1572.0, 978.0, 2471.0, 1620.0, 4819.0, 1264.0, 3783.0, 533.0, 3712.0, 1330.0, 5930.0, 2376.0, 3805.0, 3997.0, 1948.0, 3621.0, 6629.0, 2524.0, 1501.0, 5948.0, 1865.0, 2684.0, 1267.0, 5401.0, 4023.0, 2499.0, 2368.0, 2207.0, 4504.0, 3043.0, 4315.0, 4146.0, 2799.0, 3629.0, 3774.0, 2632.0, 3471.0, 2049.0, 4148.0, 2552.0, 2787.0, 2065.0, 881.0, 2429.0, 2518.0, 539.0, 2337.0, 125.0, 819.0, 1445.0, 0.0, 1266.0, 194.0, 1824.0, 2567.0, 1860.0, 0.0, 695.0, 364.0, 1678.0, 1931.0, 992.0, 664.0, 1649.0, 403.0, 2065.0, 3407.0, 424.0, 2520.0, 2982.0, 1138.0, 2348.0, 1889.0, 904.0]}, {\"name\": \"'ALL' cluster \\u2013 Tax, 2D\", \"type\": \"scatter\", \"uid\": \"9fcb4dbd-c3c4-4fe8-baea-e6a12a553a1b\", \"x\": [\"2019-01-01\", \"2019-01-03\", \"2019-01-05\", \"2019-01-07\", \"2019-01-09\", \"2019-01-11\", \"2019-01-13\", \"2019-01-15\", \"2019-01-17\", \"2019-01-19\", \"2019-01-21\", \"2019-01-23\", \"2019-01-25\", \"2019-01-27\", \"2019-01-29\", \"2019-01-31\", \"2019-02-02\", \"2019-02-04\", \"2019-02-06\", \"2019-02-08\", \"2019-02-10\", \"2019-02-12\", \"2019-02-14\", \"2019-02-16\", \"2019-02-18\", \"2019-02-20\", \"2019-02-22\", \"2019-02-24\", \"2019-02-26\", \"2019-02-28\", \"2019-03-02\", \"2019-03-04\", \"2019-03-06\", \"2019-03-08\", \"2019-03-10\", \"2019-03-12\", \"2019-03-14\", \"2019-03-16\", \"2019-03-18\", \"2019-03-20\", \"2019-03-22\", \"2019-03-24\", \"2019-03-26\", \"2019-03-28\", \"2019-03-30\", \"2019-04-01\", \"2019-04-03\", \"2019-04-05\", \"2019-04-07\", \"2019-04-09\", \"2019-04-11\", \"2019-04-13\", \"2019-04-15\", \"2019-04-17\", \"2019-04-19\", \"2019-04-21\", \"2019-04-23\", \"2019-04-25\", \"2019-04-27\", \"2019-04-29\", \"2019-05-01\", \"2019-05-03\", \"2019-05-05\", \"2019-05-07\", \"2019-05-09\", \"2019-05-11\", \"2019-05-13\", \"2019-05-15\", \"2019-05-17\", \"2019-05-19\", \"2019-05-21\", \"2019-05-23\", \"2019-05-25\", \"2019-05-27\", \"2019-05-29\", \"2019-05-31\", \"2019-06-02\", \"2019-06-04\", \"2019-06-06\", \"2019-06-08\", \"2019-06-10\", \"2019-06-12\", \"2019-06-14\", \"2019-06-16\", \"2019-06-18\", \"2019-06-20\", \"2019-06-22\", \"2019-06-24\", \"2019-06-26\", \"2019-06-28\", \"2019-06-30\", \"2019-07-02\", \"2019-07-04\", \"2019-07-06\", \"2019-07-08\", \"2019-07-10\", \"2019-07-12\", \"2019-07-14\", \"2019-07-16\", \"2019-07-18\", \"2019-07-20\", \"2019-07-22\", \"2019-07-24\", \"2019-07-26\", \"2019-07-28\", \"2019-07-30\", \"2019-08-01\", \"2019-08-03\", \"2019-08-05\", \"2019-08-07\", \"2019-08-09\", \"2019-08-11\", \"2019-08-13\", \"2019-08-15\", \"2019-08-17\", \"2019-08-19\", \"2019-08-21\", \"2019-08-23\", \"2019-08-25\", \"2019-08-27\", \"2019-08-29\", \"2019-08-31\", \"2019-09-02\", \"2019-09-04\", \"2019-09-06\", \"2019-09-08\", \"2019-09-10\", \"2019-09-12\", \"2019-09-14\", \"2019-09-16\", \"2019-09-18\", \"2019-09-20\", \"2019-09-22\", \"2019-09-24\", \"2019-09-26\", \"2019-09-28\", \"2019-09-30\", \"2019-10-02\", \"2019-10-04\", \"2019-10-06\", \"2019-10-08\", \"2019-10-10\", \"2019-10-12\", \"2019-10-14\", \"2019-10-16\", \"2019-10-18\", \"2019-10-20\", \"2019-10-22\", \"2019-10-24\", \"2019-10-26\", \"2019-10-28\", \"2019-10-30\", \"2019-11-01\", \"2019-11-03\", \"2019-11-05\", \"2019-11-07\", \"2019-11-09\", \"2019-11-11\", \"2019-11-13\", \"2019-11-15\", \"2019-11-17\", \"2019-11-19\", \"2019-11-21\", \"2019-11-23\", \"2019-11-25\", \"2019-11-27\", \"2019-11-29\"], \"y\": [1817.128329088202, 2741.5082417647213, 3760.190632376996, 2319.2986933916436, 3468.173987972273, 2981.652173869891, 3133.7159893968164, 2615.1258003952726, 2170.797756670927, 3526.3533930374256, 1907.3402689640996, 2368.7620064860453, 1486.6478846752843, 3072.1106274536805, 2168.1770129742486, 2920.0003362456564, 1824.7464459396951, 1238.6065428225993, 1204.7304354904902, 1990.677875262922, 1668.651806979819, 2084.6223795377323, 2609.4787809406444, 2307.1535444584983, 1870.8455362719194, 2708.4169148949804, 2560.243697816698, 2378.7627995507746, 1379.6402442758324, 2030.9864029822857, 2858.0499213600438, 2517.2456163596153, 1923.197593244322, 2876.4231107661954, 2075.2290005930104, 2674.394567445991, 2469.4309967927747, 2410.562377664963, 2228.180400982995, 2483.224478584585, 3588.2412959377693, 1516.1859738366607, 2421.790900211062, 3984.7345988020984, 3048.3427864054665, 1933.150953180655, 1897.5906952648868, 2317.3615794534276, 3363.581966850473, 3496.4563903625603, 2708.503807540917, 4803.308698768797, 2603.0136842059756, 2911.085108930853, 2125.5627765294007, 2922.227695665969, 1977.8392096783823, 1904.5230133435498, 3491.567779188028, 2538.8054219880014, 3272.0572998780754, 2800.1452021838254, 4135.509157647166, 2880.779167635087, 3017.2247346397808, 1786.8306442321093, 1365.596801577694, 2679.4926276250953, 2595.4499078177546, 2333.615630132648, 2544.6210312884473, 2656.670021934881, 2610.039219032021, 2712.2054320632974, 3475.9855745036775, 2488.8073261669615, 1489.3452069853806, 2259.3322248962913, 2910.4157298237615, 3115.8871610148785, 2385.5447555574005, 2974.6623345122644, 3040.986568327641, 2462.121618687006, 2181.644045248352, 2313.268412305324, 1615.2121498614542, 2219.9029879240006, 1841.9922671351546, 2419.932999304595, 1877.7282367774492, 3139.9505473288004, 2565.1179071517395, 2216.576792491266, 1465.8084460606372, 2850.258583085691, 1703.646173367836, 3191.635276650744, 2091.1878142299956, 2631.7784557120767, 1765.0650298851417, 2426.573763742314, 1462.4543306122978, 2311.379394265724, 2482.593099176508, 1159.0826334969765, 2176.0354542274745, 3030.29764008333, 3268.7168924358207, 3563.494470912479, 2599.857714346877, 2000.2501195677942, 3411.3874435409643, 2606.2481220104205, 2465.4530119386445, 2052.212339719908, 2194.055897662729, 2957.7123312314875, 3283.7637480426433, 2230.0438967358873, 2661.915418737784, 2750.7199853128495, 2244.3917157575265, 2091.966963612109, 2499.719893541148, 3055.2165813678166, 2419.9259118192863, 2935.5549347109654, 2959.61307056389, 2360.3542971262164, 1610.1498981869681, 2049.975357385868, 3466.9135270310417, 2915.715055527632, 2222.637238161092, 1501.9406126892093, 2469.584151529092, 2186.6330166208545, 662.6549829016633, 3041.9026692926222, 1849.2453629593704, 2151.1768227889174, 1511.6411604873879, 945.0, 1021.2404319971298, 2028.220362974567, 1656.258678859348, 2648.061333801934, 1807.6216167926575, 1260.0, 986.6126284469839, 1694.6392664521131, 1445.7502616998074, 1965.4809654608678, 1479.8192717210325, 1299.9976792930925, 1411.2222182163478, 1628.2393015175949, 1813.9406429640783, 1769.5531021729892, 1663.5696963971586, 1774.983015786939, 2031.759361708445, 1867.3259252059413, 1467.2654797749271, 1372.9430995205516, 530.4172766253942]}],\n",
       "                        {\"hovermode\": \"closest\", \"legend\": {\"font\": {\"size\": 14}, \"orientation\": \"h\", \"x\": 0.3, \"y\": -0.1}, \"showlegend\": true, \"title\": {\"text\": \"Aggregated signals, 2D\"}},\n",
       "                        {\"showLink\": false, \"linkText\": \"Export to plot.ly\", \"plotlyServerURL\": \"https://plot.ly\", \"responsive\": true}\n",
       "                    ).then(function(){\n",
       "                            \n",
       "var gd = document.getElementById('b362d2c8-8e1d-4a0f-aab8-cf5cc52ae32f');\n",
       "var x = new MutationObserver(function (mutations, observer) {{\n",
       "        var display = window.getComputedStyle(gd).display;\n",
       "        if (!display || display === 'none') {{\n",
       "            console.log([gd, 'removed!']);\n",
       "            Plotly.purge(gd);\n",
       "            observer.disconnect();\n",
       "        }}\n",
       "}});\n",
       "\n",
       "// Listen for the removal of the full notebook cells\n",
       "var notebookContainer = gd.closest('#notebook-container');\n",
       "if (notebookContainer) {{\n",
       "    x.observe(notebookContainer, {childList: true});\n",
       "}}\n",
       "\n",
       "// Listen for the clearing of the current output cell\n",
       "var outputEl = gd.closest('.output');\n",
       "if (outputEl) {{\n",
       "    x.observe(outputEl, {childList: true});\n",
       "}}\n",
       "\n",
       "                        })\n",
       "                };\n",
       "                });\n",
       "            </script>\n",
       "        </div>"
      ]
     },
     "metadata": {},
     "output_type": "display_data"
    },
    {
     "name": "stdout",
     "output_type": "stream",
     "text": [
      "Correlation for given query and given shifts (0, 0) is           0.6286277038441134\n",
      "0.01547184274560146\n"
     ]
    },
    {
     "data": {
      "image/png": "[encoded data removed]",
      "text/plain": [
       "<Figure size 936x720 with 1 Axes>"
      ]
     },
     "metadata": {
      "needs_background": "light"
     },
     "output_type": "display_data"
    }
   ],
   "source": [
    "constructSignals(df_all, query=[{\"select\": [\"ALL\"], \n",
    "                              \"_with\": {\"FA_Name\": \"Revenue\"}}, \n",
    "                                {\"select\": [\"ALL\"], \"_with\": {\"FA_Name\": \"Tax\"}}], on=\"label\", agg_period=\"2D\", title=\"CD_Model_Tax-Revenue_\")"
   ]
  },
  {
   "cell_type": "markdown",
   "metadata": {},
   "source": [
    "## Tax vs. Revenue based on the GroundTruth"
   ]
  },
  {
   "cell_type": "code",
   "execution_count": 458,
   "metadata": {
    "scrolled": false
   },
   "outputs": [
    {
     "name": "stdout",
     "output_type": "stream",
     "text": [
      "Started aggregation...\n"
     ]
    },
    {
     "data": {
      "application/vnd.plotly.v1+json": {
       "config": {
        "linkText": "Export to plot.ly",
        "plotlyServerURL": "https://plot.ly",
        "showLink": false
       },
       "data": [
        {
         "name": "'Sales 21 btw', 'Sales 6 btw' – Revenue, daily",
         "type": "scatter",
         "uid": "10023f1e-a9c8-4c08-919e-d9d1267d773d",
         "x": [
          "2019-01-01",
          "2019-01-02",
          "2019-01-03",
          "2019-01-04",
          "2019-01-05",
          "2019-01-06",
          "2019-01-07",
          "2019-01-08",
          "2019-01-09",
          "2019-01-10",
          "2019-01-11",
          "2019-01-12",
          "2019-01-13",
          "2019-01-14",
          "2019-01-15",
          "2019-01-16",
          "2019-01-17",
          "2019-01-18",
          "2019-01-19",
          "2019-01-20",
          "2019-01-21",
          "2019-01-22",
          "2019-01-23",
          "2019-01-24",
          "2019-01-25",
          "2019-01-26",
          "2019-01-27",
          "2019-01-28",
          "2019-01-29",
          "2019-01-30",
          "2019-01-31",
          "2019-02-01",
          "2019-02-02",
          "2019-02-03",
          "2019-02-04",
          "2019-02-05",
          "2019-02-06",
          "2019-02-07",
          "2019-02-08",
          "2019-02-09",
          "2019-02-10",
          "2019-02-11",
          "2019-02-12",
          "2019-02-13",
          "2019-02-14",
          "2019-02-15",
          "2019-02-16",
          "2019-02-17",
          "2019-02-18",
          "2019-02-19",
          "2019-02-20",
          "2019-02-21",
          "2019-02-22",
          "2019-02-23",
          "2019-02-24",
          "2019-02-25",
          "2019-02-26",
          "2019-02-27",
          "2019-02-28",
          "2019-03-01",
          "2019-03-02",
          "2019-03-03",
          "2019-03-04",
          "2019-03-05",
          "2019-03-06",
          "2019-03-07",
          "2019-03-08",
          "2019-03-09",
          "2019-03-10",
          "2019-03-11",
          "2019-03-12",
          "2019-03-13",
          "2019-03-14",
          "2019-03-15",
          "2019-03-16",
          "2019-03-17",
          "2019-03-18",
          "2019-03-19",
          "2019-03-20",
          "2019-03-21",
          "2019-03-22",
          "2019-03-23",
          "2019-03-24",
          "2019-03-25",
          "2019-03-26",
          "2019-03-27",
          "2019-03-28",
          "2019-03-29",
          "2019-03-30",
          "2019-03-31",
          "2019-04-01",
          "2019-04-02",
          "2019-04-03",
          "2019-04-04",
          "2019-04-05",
          "2019-04-06",
          "2019-04-07",
          "2019-04-08",
          "2019-04-09",
          "2019-04-10",
          "2019-04-11",
          "2019-04-12",
          "2019-04-13",
          "2019-04-14",
          "2019-04-15",
          "2019-04-16",
          "2019-04-17",
          "2019-04-18",
          "2019-04-19",
          "2019-04-20",
          "2019-04-21",
          "2019-04-22",
          "2019-04-23",
          "2019-04-24",
          "2019-04-25",
          "2019-04-26",
          "2019-04-27",
          "2019-04-28",
          "2019-04-29",
          "2019-04-30",
          "2019-05-01",
          "2019-05-02",
          "2019-05-03",
          "2019-05-04",
          "2019-05-05",
          "2019-05-06",
          "2019-05-07",
          "2019-05-08",
          "2019-05-09",
          "2019-05-10",
          "2019-05-11",
          "2019-05-12",
          "2019-05-13",
          "2019-05-14",
          "2019-05-15",
          "2019-05-16",
          "2019-05-17",
          "2019-05-18",
          "2019-05-19",
          "2019-05-20",
          "2019-05-21",
          "2019-05-22",
          "2019-05-23",
          "2019-05-24",
          "2019-05-25",
          "2019-05-26",
          "2019-05-27",
          "2019-05-28",
          "2019-05-29",
          "2019-05-30",
          "2019-05-31",
          "2019-06-01",
          "2019-06-02",
          "2019-06-03",
          "2019-06-04",
          "2019-06-05",
          "2019-06-06",
          "2019-06-07",
          "2019-06-08",
          "2019-06-09",
          "2019-06-10",
          "2019-06-11",
          "2019-06-12",
          "2019-06-13",
          "2019-06-14",
          "2019-06-15",
          "2019-06-16",
          "2019-06-17",
          "2019-06-18",
          "2019-06-19",
          "2019-06-20",
          "2019-06-21",
          "2019-06-22",
          "2019-06-23",
          "2019-06-24",
          "2019-06-25",
          "2019-06-26",
          "2019-06-27",
          "2019-06-28",
          "2019-06-29",
          "2019-06-30",
          "2019-07-01",
          "2019-07-02",
          "2019-07-03",
          "2019-07-04",
          "2019-07-05",
          "2019-07-06",
          "2019-07-07",
          "2019-07-08",
          "2019-07-09",
          "2019-07-10",
          "2019-07-11",
          "2019-07-12",
          "2019-07-13",
          "2019-07-14",
          "2019-07-15",
          "2019-07-16",
          "2019-07-17",
          "2019-07-18",
          "2019-07-19",
          "2019-07-20",
          "2019-07-21",
          "2019-07-22",
          "2019-07-23",
          "2019-07-24",
          "2019-07-25",
          "2019-07-26",
          "2019-07-27",
          "2019-07-28",
          "2019-07-29",
          "2019-07-30",
          "2019-07-31",
          "2019-08-01",
          "2019-08-02",
          "2019-08-03",
          "2019-08-04",
          "2019-08-05",
          "2019-08-06",
          "2019-08-07",
          "2019-08-08",
          "2019-08-09",
          "2019-08-10",
          "2019-08-11",
          "2019-08-12",
          "2019-08-13",
          "2019-08-14",
          "2019-08-15",
          "2019-08-16",
          "2019-08-17",
          "2019-08-18",
          "2019-08-19",
          "2019-08-20",
          "2019-08-21",
          "2019-08-22",
          "2019-08-23",
          "2019-08-24",
          "2019-08-25",
          "2019-08-26",
          "2019-08-27",
          "2019-08-28",
          "2019-08-29",
          "2019-08-30",
          "2019-08-31",
          "2019-09-01",
          "2019-09-02",
          "2019-09-03",
          "2019-09-04",
          "2019-09-05",
          "2019-09-06",
          "2019-09-07",
          "2019-09-08",
          "2019-09-09",
          "2019-09-10",
          "2019-09-11",
          "2019-09-12",
          "2019-09-13",
          "2019-09-14",
          "2019-09-15",
          "2019-09-16",
          "2019-09-17",
          "2019-09-18",
          "2019-09-19",
          "2019-09-20",
          "2019-09-21",
          "2019-09-22",
          "2019-09-23",
          "2019-09-24",
          "2019-09-25",
          "2019-09-26",
          "2019-09-27",
          "2019-09-28",
          "2019-09-29",
          "2019-09-30",
          "2019-10-01",
          "2019-10-02",
          "2019-10-03",
          "2019-10-04",
          "2019-10-05",
          "2019-10-06",
          "2019-10-07",
          "2019-10-08",
          "2019-10-09",
          "2019-10-10",
          "2019-10-11",
          "2019-10-12",
          "2019-10-13",
          "2019-10-14",
          "2019-10-15",
          "2019-10-16",
          "2019-10-17",
          "2019-10-18",
          "2019-10-19",
          "2019-10-20",
          "2019-10-21",
          "2019-10-22",
          "2019-10-23",
          "2019-10-24",
          "2019-10-25",
          "2019-10-26",
          "2019-10-27",
          "2019-10-28",
          "2019-10-29",
          "2019-10-30",
          "2019-10-31",
          "2019-11-01",
          "2019-11-02",
          "2019-11-03",
          "2019-11-04",
          "2019-11-05",
          "2019-11-06",
          "2019-11-07",
          "2019-11-08",
          "2019-11-09",
          "2019-11-10",
          "2019-11-11",
          "2019-11-12",
          "2019-11-13",
          "2019-11-14",
          "2019-11-15",
          "2019-11-16",
          "2019-11-17",
          "2019-11-18",
          "2019-11-19",
          "2019-11-20",
          "2019-11-21",
          "2019-11-22",
          "2019-11-23",
          "2019-11-24",
          "2019-11-25",
          "2019-11-26",
          "2019-11-27",
          "2019-11-28",
          "2019-11-29"
         ],
         "y": [
          1443,
          2450,
          2509,
          1405,
          4204,
          3114,
          1048,
          985,
          1931,
          2181,
          4077,
          1619,
          1580,
          3028,
          1903,
          2947,
          1517,
          3489,
          2865,
          0,
          1781,
          2072,
          473,
          843,
          2702,
          1607,
          482,
          999,
          82,
          2151,
          2003,
          0,
          1016,
          1299,
          782,
          0,
          839,
          789,
          1420,
          367,
          0,
          1238,
          1029,
          2042,
          1252,
          260,
          2214,
          1821,
          1493,
          2352,
          572,
          3044,
          1327,
          2431,
          777,
          1592,
          1476,
          1803,
          1128,
          840,
          1017,
          1573,
          1805,
          3126,
          2479,
          2384,
          1683,
          2494,
          849,
          1073,
          2424,
          215,
          2719,
          1775,
          698,
          1866,
          846,
          530,
          994,
          1237,
          3376,
          3649,
          0,
          1785,
          1936,
          1724,
          2529,
          2763,
          1924,
          1688,
          1839,
          720,
          1138,
          896,
          704,
          2765,
          2386,
          4366,
          2517,
          2721,
          3619,
          3298,
          1003,
          3635,
          1921,
          1242,
          3927,
          169,
          2560,
          1506,
          695,
          1913,
          426,
          542,
          606,
          1013,
          3100,
          3224,
          2628,
          1846,
          838,
          2309,
          2441,
          2262,
          5252,
          1390,
          642,
          1892,
          2512,
          2068,
          1403,
          134,
          2623,
          363,
          3203,
          587,
          4372,
          1999,
          287,
          0,
          1578,
          3739,
          1455,
          914,
          1577,
          964,
          1599,
          3375,
          2009,
          1888,
          1808,
          531,
          12,
          1482,
          1472,
          912,
          2034,
          3076,
          2499,
          1572,
          1581,
          0,
          2352,
          1234,
          1931,
          3455,
          1659,
          1254,
          1279,
          969,
          862,
          1643,
          0,
          758,
          957,
          655,
          1174,
          1044,
          1046,
          2005,
          1666,
          1979,
          1617,
          1627,
          1755,
          1394,
          1037,
          535,
          172,
          806,
          2471,
          0,
          0,
          1620,
          3214,
          1605,
          0,
          1264,
          2189,
          1594,
          512,
          21,
          1976,
          1736,
          464,
          866,
          3556,
          2374,
          1132,
          1244,
          1229,
          2576,
          2084,
          1913,
          148,
          1800,
          767,
          2854,
          2534,
          4095,
          16,
          2508,
          380,
          1121,
          2285,
          3663,
          49,
          1816,
          1379,
          1305,
          1267,
          0,
          2588,
          2813,
          1502,
          2521,
          1816,
          683,
          1062,
          1306,
          0,
          2207,
          2196,
          2308,
          1438,
          1605,
          3100,
          1215,
          2831,
          1315,
          1289,
          1510,
          1545,
          2084,
          1218,
          2556,
          1121,
          1511,
          1831,
          1640,
          1270,
          779,
          2412,
          1736,
          1325,
          1227,
          783,
          2004,
          798,
          1267,
          431,
          450,
          837,
          1592,
          1095,
          1423,
          0,
          539,
          1219,
          1118,
          0,
          125,
          222,
          597,
          928,
          517,
          0,
          0,
          171,
          1095,
          41,
          153,
          903,
          921,
          1834,
          733,
          1657,
          203,
          0,
          0,
          500,
          195,
          99,
          265,
          841,
          837,
          1931,
          0,
          992,
          0,
          0,
          664,
          1047,
          602,
          403,
          0,
          1612,
          453,
          1846,
          1561,
          0,
          424,
          1115,
          1405,
          1960,
          1022,
          330,
          808,
          913,
          1435,
          0,
          1889,
          904
         ]
        },
        {
         "name": "'Sales 21 btw', 'Sales 6 btw' – Tax, daily",
         "type": "scatter",
         "uid": "b6ebd867-6f78-4e83-8b50-0198ac4dfcf5",
         "x": [
          "2019-01-01",
          "2019-01-02",
          "2019-01-03",
          "2019-01-04",
          "2019-01-05",
          "2019-01-06",
          "2019-01-07",
          "2019-01-08",
          "2019-01-09",
          "2019-01-10",
          "2019-01-11",
          "2019-01-12",
          "2019-01-13",
          "2019-01-14",
          "2019-01-15",
          "2019-01-16",
          "2019-01-17",
          "2019-01-18",
          "2019-01-19",
          "2019-01-20",
          "2019-01-21",
          "2019-01-22",
          "2019-01-23",
          "2019-01-24",
          "2019-01-25",
          "2019-01-26",
          "2019-01-27",
          "2019-01-28",
          "2019-01-29",
          "2019-01-30",
          "2019-01-31",
          "2019-02-01",
          "2019-02-02",
          "2019-02-03",
          "2019-02-04",
          "2019-02-05",
          "2019-02-06",
          "2019-02-07",
          "2019-02-08",
          "2019-02-09",
          "2019-02-10",
          "2019-02-11",
          "2019-02-12",
          "2019-02-13",
          "2019-02-14",
          "2019-02-15",
          "2019-02-16",
          "2019-02-17",
          "2019-02-18",
          "2019-02-19",
          "2019-02-20",
          "2019-02-21",
          "2019-02-22",
          "2019-02-23",
          "2019-02-24",
          "2019-02-25",
          "2019-02-26",
          "2019-02-27",
          "2019-02-28",
          "2019-03-01",
          "2019-03-02",
          "2019-03-03",
          "2019-03-04",
          "2019-03-05",
          "2019-03-06",
          "2019-03-07",
          "2019-03-08",
          "2019-03-09",
          "2019-03-10",
          "2019-03-11",
          "2019-03-12",
          "2019-03-13",
          "2019-03-14",
          "2019-03-15",
          "2019-03-16",
          "2019-03-17",
          "2019-03-18",
          "2019-03-19",
          "2019-03-20",
          "2019-03-21",
          "2019-03-22",
          "2019-03-23",
          "2019-03-24",
          "2019-03-25",
          "2019-03-26",
          "2019-03-27",
          "2019-03-28",
          "2019-03-29",
          "2019-03-30",
          "2019-03-31",
          "2019-04-01",
          "2019-04-02",
          "2019-04-03",
          "2019-04-04",
          "2019-04-05",
          "2019-04-06",
          "2019-04-07",
          "2019-04-08",
          "2019-04-09",
          "2019-04-10",
          "2019-04-11",
          "2019-04-12",
          "2019-04-13",
          "2019-04-14",
          "2019-04-15",
          "2019-04-16",
          "2019-04-17",
          "2019-04-18",
          "2019-04-19",
          "2019-04-20",
          "2019-04-21",
          "2019-04-22",
          "2019-04-23",
          "2019-04-24",
          "2019-04-25",
          "2019-04-26",
          "2019-04-27",
          "2019-04-28",
          "2019-04-29",
          "2019-04-30",
          "2019-05-01",
          "2019-05-02",
          "2019-05-03",
          "2019-05-04",
          "2019-05-05",
          "2019-05-06",
          "2019-05-07",
          "2019-05-08",
          "2019-05-09",
          "2019-05-10",
          "2019-05-11",
          "2019-05-12",
          "2019-05-13",
          "2019-05-14",
          "2019-05-15",
          "2019-05-16",
          "2019-05-17",
          "2019-05-18",
          "2019-05-19",
          "2019-05-20",
          "2019-05-21",
          "2019-05-22",
          "2019-05-23",
          "2019-05-24",
          "2019-05-25",
          "2019-05-26",
          "2019-05-27",
          "2019-05-28",
          "2019-05-29",
          "2019-05-30",
          "2019-05-31",
          "2019-06-01",
          "2019-06-02",
          "2019-06-03",
          "2019-06-04",
          "2019-06-05",
          "2019-06-06",
          "2019-06-07",
          "2019-06-08",
          "2019-06-09",
          "2019-06-10",
          "2019-06-11",
          "2019-06-12",
          "2019-06-13",
          "2019-06-14",
          "2019-06-15",
          "2019-06-16",
          "2019-06-17",
          "2019-06-18",
          "2019-06-19",
          "2019-06-20",
          "2019-06-21",
          "2019-06-22",
          "2019-06-23",
          "2019-06-24",
          "2019-06-25",
          "2019-06-26",
          "2019-06-27",
          "2019-06-28",
          "2019-06-29",
          "2019-06-30",
          "2019-07-01",
          "2019-07-02",
          "2019-07-03",
          "2019-07-04",
          "2019-07-05",
          "2019-07-06",
          "2019-07-07",
          "2019-07-08",
          "2019-07-09",
          "2019-07-10",
          "2019-07-11",
          "2019-07-12",
          "2019-07-13",
          "2019-07-14",
          "2019-07-15",
          "2019-07-16",
          "2019-07-17",
          "2019-07-18",
          "2019-07-19",
          "2019-07-20",
          "2019-07-21",
          "2019-07-22",
          "2019-07-23",
          "2019-07-24",
          "2019-07-25",
          "2019-07-26",
          "2019-07-27",
          "2019-07-28",
          "2019-07-29",
          "2019-07-30",
          "2019-07-31",
          "2019-08-01",
          "2019-08-02",
          "2019-08-03",
          "2019-08-04",
          "2019-08-05",
          "2019-08-06",
          "2019-08-07",
          "2019-08-08",
          "2019-08-09",
          "2019-08-10",
          "2019-08-11",
          "2019-08-12",
          "2019-08-13",
          "2019-08-14",
          "2019-08-15",
          "2019-08-16",
          "2019-08-17",
          "2019-08-18",
          "2019-08-19",
          "2019-08-20",
          "2019-08-21",
          "2019-08-22",
          "2019-08-23",
          "2019-08-24",
          "2019-08-25",
          "2019-08-26",
          "2019-08-27",
          "2019-08-28",
          "2019-08-29",
          "2019-08-30",
          "2019-08-31",
          "2019-09-01",
          "2019-09-02",
          "2019-09-03",
          "2019-09-04",
          "2019-09-05",
          "2019-09-06",
          "2019-09-07",
          "2019-09-08",
          "2019-09-09",
          "2019-09-10",
          "2019-09-11",
          "2019-09-12",
          "2019-09-13",
          "2019-09-14",
          "2019-09-15",
          "2019-09-16",
          "2019-09-17",
          "2019-09-18",
          "2019-09-19",
          "2019-09-20",
          "2019-09-21",
          "2019-09-22",
          "2019-09-23",
          "2019-09-24",
          "2019-09-25",
          "2019-09-26",
          "2019-09-27",
          "2019-09-28",
          "2019-09-29",
          "2019-09-30",
          "2019-10-01",
          "2019-10-02",
          "2019-10-03",
          "2019-10-04",
          "2019-10-05",
          "2019-10-06",
          "2019-10-07",
          "2019-10-08",
          "2019-10-09",
          "2019-10-10",
          "2019-10-11",
          "2019-10-12",
          "2019-10-13",
          "2019-10-14",
          "2019-10-15",
          "2019-10-16",
          "2019-10-17",
          "2019-10-18",
          "2019-10-19",
          "2019-10-20",
          "2019-10-21",
          "2019-10-22",
          "2019-10-23",
          "2019-10-24",
          "2019-10-25",
          "2019-10-26",
          "2019-10-27",
          "2019-10-28",
          "2019-10-29",
          "2019-10-30",
          "2019-10-31",
          "2019-11-01",
          "2019-11-02",
          "2019-11-03",
          "2019-11-04",
          "2019-11-05",
          "2019-11-06",
          "2019-11-07",
          "2019-11-08",
          "2019-11-09",
          "2019-11-10",
          "2019-11-11",
          "2019-11-12",
          "2019-11-13",
          "2019-11-14",
          "2019-11-15",
          "2019-11-16",
          "2019-11-17",
          "2019-11-18",
          "2019-11-19",
          "2019-11-20",
          "2019-11-21",
          "2019-11-22",
          "2019-11-23",
          "2019-11-24",
          "2019-11-25",
          "2019-11-26",
          "2019-11-27",
          "2019-11-28",
          "2019-11-29"
         ],
         "y": [
          209.27642954803179,
          273.06476909044017,
          459.7585387464055,
          279.180385870138,
          727.5538104092843,
          264.94396825025984,
          62.526541234754944,
          59.15120282792369,
          397.0881884761682,
          394.2113849551906,
          521.9599686699033,
          104.22521771985902,
          206.03008499831162,
          558.6307266623388,
          284.46729641920984,
          447.32153739591035,
          91.23035177649979,
          443.54129028499733,
          601.0512807695775,
          0,
          262.21544118135444,
          356.35418395419117,
          94.73032873604402,
          177.03,
          300.78262433629675,
          118.43817723606918,
          101.80010273072259,
          210.16676375997025,
          17.068410512582293,
          334.0587037758356,
          298.5281461742154,
          0,
          61.11936683533794,
          274.80472449956324,
          144.76273165282691,
          0,
          157.71315764446877,
          102.0172778460215,
          128.84714340728087,
          77.31956867150245,
          0,
          150.23073504090675,
          184.1216756763345,
          426.5282202128598,
          190.86159491841676,
          55.105642408063545,
          461.327761562348,
          356.19017795594914,
          271.4611436007607,
          164.94837620037782,
          34.21723724032162,
          573.6250140719844,
          210.44534810826656,
          287.8075428466669,
          131.8579114314101,
          137.2347687305531,
          125.37993000323453,
          243.68535375858542,
          112.06745196307949,
          88.79817495314416,
          104.86695682850848,
          330.8327717021361,
          201.15289581896928,
          504.411167107046,
          325.3436730812696,
          142.27291420565646,
          253.4592956124298,
          525.1047790498392,
          178.29,
          202.11822860491742,
          462.1613074345356,
          45.06469930470022,
          245.85945706533423,
          301.76229023382757,
          41.56947230580895,
          283.2041412071983,
          179.37954429011512,
          32.09901597823213,
          208.2670352892294,
          142.98246410300698,
          589.7057089158288,
          473.4602473125883,
          0,
          228.7299686950514,
          357.228666796868,
          238.49148405184854,
          330.28369607926356,
          359.1454118749561,
          224.8690025348754,
          274.4164922137266,
          110.76894295988711,
          152.30131232347296,
          193.55805687541144,
          53.84231408884303,
          147.15515861407417,
          321.51928650474423,
          267.6808830905395,
          573.8321575715224,
          379.58346262544075,
          283.6338329169011,
          464.8371696223428,
          259.0280244494138,
          164.71065513015753,
          680.1177820941708,
          288.46656504643676,
          261.65990269192855,
          593.1512619797406,
          10.07688220744338,
          284.821537052266,
          290.5805786073612,
          135.25917870060147,
          401.63318434410326,
          89.04205072188736,
          32.61487411170515,
          127.62792636669067,
          60.32028167779366,
          212.50481804099817,
          549.6705234292953,
          157.48945906534402,
          226.33805482072978,
          175.92887206726502,
          303.63623664238554,
          480.71855690109874,
          267.9712277094472,
          939.6688208354916,
          220.2888144112778,
          129.54437992872263,
          397.9521158604369,
          294.5601906371078,
          331.1924726345114,
          294.88720392116403,
          8.118001048066406,
          310.1566142187158,
          74.5308954973175,
          452.25527316780915,
          122.39349150947078,
          649.2714422373659,
          249.36018297872175,
          59.82203834750587,
          0,
          288.11535788461345,
          566.5095995127358,
          227.90252983483356,
          74.25147640156227,
          132.6331911281741,
          57.31956656734634,
          334.4220830448867,
          263.46376681543285,
          420.5430126417802,
          371.3297257419712,
          114.78651539827966,
          31.84445345499349,
          0.7261489834504503,
          225.8806024825551,
          179.2185216539225,
          84.1869396699415,
          308.15504765583364,
          184.62843184234683,
          523.4742520843397,
          94.80617064222575,
          234.72476244388366,
          0,
          441.9784427200883,
          73.94432118256344,
          403.1456764735102,
          573.0647697897614,
          99.14626287934456,
          75.28139037336075,
          208.76834405380217,
          171.0600326639159,
          99.41693259578965,
          254.68871740714178,
          0,
          158.6421928855072,
          160.850665961736,
          91.48458280864529,
          248.04550850725724,
          113.0065016405699,
          132.33362676705798,
          257.70358299254235,
          216.20203363390087,
          241.96618800460257,
          338.89136107470574,
          227.0306839370682,
          229.11136186486962,
          215.48077902779693,
          137.16936314825486,
          113.32279413272046,
          10.224019961161815,
          167.64676753882287,
          483.77336192753313,
          0,
          0,
          245.68833487572465,
          457.9794593819053,
          318.1893679986152,
          0,
          220.30599245237255,
          462.3264782676775,
          323.2142949968378,
          30.807684519937023,
          1.26,
          372.28190243028433,
          208.31849542732638,
          97.12487129203585,
          69.38791567577637,
          426.462680581774,
          331.801321191074,
          68.02937809724091,
          74.79817395822403,
          103.69842823124434,
          246.2801067157467,
          349.88149564593107,
          260.2226375159859,
          31.122791862731894,
          226.2554008104039,
          80.06782054362063,
          477.72066148113726,
          375.34430459375136,
          731.5201268806532,
          0.9661404090614193,
          291.6998758905934,
          80.31644298963162,
          96.55947612550177,
          478.0155470883329,
          587.8260869625741,
          2.9313425694559703,
          121.53547835712597,
          185.34511859252973,
          223.9988425589813,
          157.66001003722425,
          0,
          428.22737512316417,
          442.5387342846842,
          204.4927120725713,
          432.00407093719775,
          311.51711887395874,
          66.12716135348396,
          222.32114375662377,
          273.1286441633798,
          0,
          288.58066768182533,
          284.63430491932036,
          484.49650203616034,
          182.7282780301855,
          275.65951573518186,
          492.8111214252765,
          72.92990507854122,
          368.0562810495343,
          79.17899293047762,
          145.97283315669583,
          204.33044179276223,
          144.88956538698577,
          256.21647116720305,
          254.66608706223656,
          396.8804814888461,
          128.4480228348838,
          162.61751603424798,
          225.52582010976747,
          186.51797854423418,
          134.2372604127743,
          46.74794608804289,
          425.46630960542933,
          364.50904778043866,
          180.81227544421733,
          123.45513647809095,
          164.50104971441422,
          230.8763639422968,
          167.36566786178207,
          266.00907986399733,
          32.266544478777234,
          44.4219255054803,
          50.09741126645345,
          307.4862339983849,
          178.80599004458327,
          205.03863763758403,
          0,
          32.65498290166326,
          72.80894351294484,
          66.92260535809186,
          0,
          7.474732598449397,
          13.212034508065422,
          35.4732561696097,
          55.93812957616657,
          31.1325350459536,
          0,
          0,
          10.341171349760652,
          65.89926064736916,
          2.4379801182103824,
          9.250568237679692,
          53.97455733822804,
          55.710730807660816,
          110.03576802331916,
          44.06061760092689,
          99.57052978864424,
          12.125517545965751,
          0,
          0,
          29.89773083811711,
          11.714897608866723,
          5.943013114105268,
          15.747195258074813,
          50.01592270046877,
          50.50883549365134,
          115.73580527899745,
          0,
          59.20822632970224,
          0,
          0,
          39.9976792930925,
          63.117302780946964,
          36.18072699183715,
          24.154936239695573,
          0,
          97.28846288938527,
          27.165643791180873,
          110.63546029961849,
          93.4941787437291,
          0,
          25.439999999999998,
          67.17170724383828,
          83.74543597382132,
          117.50145964815746,
          61.33143558879012,
          19.764788202059773,
          48.48,
          54.2935967790353,
          86.0312010440892,
          0,
          112.9430995205517,
          54.09763866292556
         ]
        }
       ],
       "layout": {
        "hovermode": "closest",
        "showlegend": true,
        "title": {
         "text": "Aggregated signals, daily"
        }
       }
      },
      "text/html": [
       "<div>\n",
       "        \n",
       "        \n",
       "            <div id=\"0555bcee-a882-47cb-b228-1527c4806ed6\" class=\"plotly-graph-div\" style=\"height:525px; width:100%;\"></div>\n",
       "            <script type=\"text/javascript\">\n",
       "                require([\"plotly\"], function(Plotly) {\n",
       "                    window.PLOTLYENV=window.PLOTLYENV || {};\n",
       "                    window.PLOTLYENV.BASE_URL='https://plot.ly';\n",
       "                    \n",
       "                if (document.getElementById(\"0555bcee-a882-47cb-b228-1527c4806ed6\")) {\n",
       "                    Plotly.newPlot(\n",
       "                        '0555bcee-a882-47cb-b228-1527c4806ed6',\n",
       "                        [{\"name\": \"'Sales 21 btw', 'Sales 6 btw' \\u2013 Revenue, daily\", \"type\": \"scatter\", \"uid\": \"10023f1e-a9c8-4c08-919e-d9d1267d773d\", \"x\": [\"2019-01-01\", \"2019-01-02\", \"2019-01-03\", \"2019-01-04\", \"2019-01-05\", \"2019-01-06\", \"2019-01-07\", \"2019-01-08\", \"2019-01-09\", \"2019-01-10\", \"2019-01-11\", \"2019-01-12\", \"2019-01-13\", \"2019-01-14\", \"2019-01-15\", \"2019-01-16\", \"2019-01-17\", \"2019-01-18\", \"2019-01-19\", \"2019-01-20\", \"2019-01-21\", \"2019-01-22\", \"2019-01-23\", \"2019-01-24\", \"2019-01-25\", \"2019-01-26\", \"2019-01-27\", \"2019-01-28\", \"2019-01-29\", \"2019-01-30\", \"2019-01-31\", \"2019-02-01\", \"2019-02-02\", \"2019-02-03\", \"2019-02-04\", \"2019-02-05\", \"2019-02-06\", \"2019-02-07\", \"2019-02-08\", \"2019-02-09\", \"2019-02-10\", \"2019-02-11\", \"2019-02-12\", \"2019-02-13\", \"2019-02-14\", \"2019-02-15\", \"2019-02-16\", \"2019-02-17\", \"2019-02-18\", \"2019-02-19\", \"2019-02-20\", \"2019-02-21\", \"2019-02-22\", \"2019-02-23\", \"2019-02-24\", \"2019-02-25\", \"2019-02-26\", \"2019-02-27\", \"2019-02-28\", \"2019-03-01\", \"2019-03-02\", \"2019-03-03\", \"2019-03-04\", \"2019-03-05\", \"2019-03-06\", \"2019-03-07\", \"2019-03-08\", \"2019-03-09\", \"2019-03-10\", \"2019-03-11\", \"2019-03-12\", \"2019-03-13\", \"2019-03-14\", \"2019-03-15\", \"2019-03-16\", \"2019-03-17\", \"2019-03-18\", \"2019-03-19\", \"2019-03-20\", \"2019-03-21\", \"2019-03-22\", \"2019-03-23\", \"2019-03-24\", \"2019-03-25\", \"2019-03-26\", \"2019-03-27\", \"2019-03-28\", \"2019-03-29\", \"2019-03-30\", \"2019-03-31\", \"2019-04-01\", \"2019-04-02\", \"2019-04-03\", \"2019-04-04\", \"2019-04-05\", \"2019-04-06\", \"2019-04-07\", \"2019-04-08\", \"2019-04-09\", \"2019-04-10\", \"2019-04-11\", \"2019-04-12\", \"2019-04-13\", \"2019-04-14\", \"2019-04-15\", \"2019-04-16\", \"2019-04-17\", \"2019-04-18\", \"2019-04-19\", \"2019-04-20\", \"2019-04-21\", \"2019-04-22\", \"2019-04-23\", \"2019-04-24\", \"2019-04-25\", \"2019-04-26\", \"2019-04-27\", \"2019-04-28\", \"2019-04-29\", \"2019-04-30\", \"2019-05-01\", \"2019-05-02\", \"2019-05-03\", \"2019-05-04\", \"2019-05-05\", \"2019-05-06\", \"2019-05-07\", \"2019-05-08\", \"2019-05-09\", \"2019-05-10\", \"2019-05-11\", \"2019-05-12\", \"2019-05-13\", \"2019-05-14\", \"2019-05-15\", \"2019-05-16\", \"2019-05-17\", \"2019-05-18\", \"2019-05-19\", \"2019-05-20\", \"2019-05-21\", \"2019-05-22\", \"2019-05-23\", \"2019-05-24\", \"2019-05-25\", \"2019-05-26\", \"2019-05-27\", \"2019-05-28\", \"2019-05-29\", \"2019-05-30\", \"2019-05-31\", \"2019-06-01\", \"2019-06-02\", \"2019-06-03\", \"2019-06-04\", \"2019-06-05\", \"2019-06-06\", \"2019-06-07\", \"2019-06-08\", \"2019-06-09\", \"2019-06-10\", \"2019-06-11\", \"2019-06-12\", \"2019-06-13\", \"2019-06-14\", \"2019-06-15\", \"2019-06-16\", \"2019-06-17\", \"2019-06-18\", \"2019-06-19\", \"2019-06-20\", \"2019-06-21\", \"2019-06-22\", \"2019-06-23\", \"2019-06-24\", \"2019-06-25\", \"2019-06-26\", \"2019-06-27\", \"2019-06-28\", \"2019-06-29\", \"2019-06-30\", \"2019-07-01\", \"2019-07-02\", \"2019-07-03\", \"2019-07-04\", \"2019-07-05\", \"2019-07-06\", \"2019-07-07\", \"2019-07-08\", \"2019-07-09\", \"2019-07-10\", \"2019-07-11\", \"2019-07-12\", \"2019-07-13\", \"2019-07-14\", \"2019-07-15\", \"2019-07-16\", \"2019-07-17\", \"2019-07-18\", \"2019-07-19\", \"2019-07-20\", \"2019-07-21\", \"2019-07-22\", \"2019-07-23\", \"2019-07-24\", \"2019-07-25\", \"2019-07-26\", \"2019-07-27\", \"2019-07-28\", \"2019-07-29\", \"2019-07-30\", \"2019-07-31\", \"2019-08-01\", \"2019-08-02\", \"2019-08-03\", \"2019-08-04\", \"2019-08-05\", \"2019-08-06\", \"2019-08-07\", \"2019-08-08\", \"2019-08-09\", \"2019-08-10\", \"2019-08-11\", \"2019-08-12\", \"2019-08-13\", \"2019-08-14\", \"2019-08-15\", \"2019-08-16\", \"2019-08-17\", \"2019-08-18\", \"2019-08-19\", \"2019-08-20\", \"2019-08-21\", \"2019-08-22\", \"2019-08-23\", \"2019-08-24\", \"2019-08-25\", \"2019-08-26\", \"2019-08-27\", \"2019-08-28\", \"2019-08-29\", \"2019-08-30\", \"2019-08-31\", \"2019-09-01\", \"2019-09-02\", \"2019-09-03\", \"2019-09-04\", \"2019-09-05\", \"2019-09-06\", \"2019-09-07\", \"2019-09-08\", \"2019-09-09\", \"2019-09-10\", \"2019-09-11\", \"2019-09-12\", \"2019-09-13\", \"2019-09-14\", \"2019-09-15\", \"2019-09-16\", \"2019-09-17\", \"2019-09-18\", \"2019-09-19\", \"2019-09-20\", \"2019-09-21\", \"2019-09-22\", \"2019-09-23\", \"2019-09-24\", \"2019-09-25\", \"2019-09-26\", \"2019-09-27\", \"2019-09-28\", \"2019-09-29\", \"2019-09-30\", \"2019-10-01\", \"2019-10-02\", \"2019-10-03\", \"2019-10-04\", \"2019-10-05\", \"2019-10-06\", \"2019-10-07\", \"2019-10-08\", \"2019-10-09\", \"2019-10-10\", \"2019-10-11\", \"2019-10-12\", \"2019-10-13\", \"2019-10-14\", \"2019-10-15\", \"2019-10-16\", \"2019-10-17\", \"2019-10-18\", \"2019-10-19\", \"2019-10-20\", \"2019-10-21\", \"2019-10-22\", \"2019-10-23\", \"2019-10-24\", \"2019-10-25\", \"2019-10-26\", \"2019-10-27\", \"2019-10-28\", \"2019-10-29\", \"2019-10-30\", \"2019-10-31\", \"2019-11-01\", \"2019-11-02\", \"2019-11-03\", \"2019-11-04\", \"2019-11-05\", \"2019-11-06\", \"2019-11-07\", \"2019-11-08\", \"2019-11-09\", \"2019-11-10\", \"2019-11-11\", \"2019-11-12\", \"2019-11-13\", \"2019-11-14\", \"2019-11-15\", \"2019-11-16\", \"2019-11-17\", \"2019-11-18\", \"2019-11-19\", \"2019-11-20\", \"2019-11-21\", \"2019-11-22\", \"2019-11-23\", \"2019-11-24\", \"2019-11-25\", \"2019-11-26\", \"2019-11-27\", \"2019-11-28\", \"2019-11-29\"], \"y\": [1443.0, 2450.0, 2509.0, 1405.0, 4204.0, 3114.0, 1048.0, 985.0, 1931.0, 2181.0, 4077.0, 1619.0, 1580.0, 3028.0, 1903.0, 2947.0, 1517.0, 3489.0, 2865.0, 0.0, 1781.0, 2072.0, 473.0, 843.0, 2702.0, 1607.0, 482.0, 999.0, 82.0, 2151.0, 2003.0, 0.0, 1016.0, 1299.0, 782.0, 0.0, 839.0, 789.0, 1420.0, 367.0, 0.0, 1238.0, 1029.0, 2042.0, 1252.0, 260.0, 2214.0, 1821.0, 1493.0, 2352.0, 572.0, 3044.0, 1327.0, 2431.0, 777.0, 1592.0, 1476.0, 1803.0, 1128.0, 840.0, 1017.0, 1573.0, 1805.0, 3126.0, 2479.0, 2384.0, 1683.0, 2494.0, 849.0, 1073.0, 2424.0, 215.0, 2719.0, 1775.0, 698.0, 1866.0, 846.0, 530.0, 994.0, 1237.0, 3376.0, 3649.0, 0.0, 1785.0, 1936.0, 1724.0, 2529.0, 2763.0, 1924.0, 1688.0, 1839.0, 720.0, 1138.0, 896.0, 704.0, 2765.0, 2386.0, 4366.0, 2517.0, 2721.0, 3619.0, 3298.0, 1003.0, 3635.0, 1921.0, 1242.0, 3927.0, 169.0, 2560.0, 1506.0, 695.0, 1913.0, 426.0, 542.0, 606.0, 1013.0, 3100.0, 3224.0, 2628.0, 1846.0, 838.0, 2309.0, 2441.0, 2262.0, 5252.0, 1390.0, 642.0, 1892.0, 2512.0, 2068.0, 1403.0, 134.0, 2623.0, 363.0, 3203.0, 587.0, 4372.0, 1999.0, 287.0, 0.0, 1578.0, 3739.0, 1455.0, 914.0, 1577.0, 964.0, 1599.0, 3375.0, 2009.0, 1888.0, 1808.0, 531.0, 12.0, 1482.0, 1472.0, 912.0, 2034.0, 3076.0, 2499.0, 1572.0, 1581.0, 0.0, 2352.0, 1234.0, 1931.0, 3455.0, 1659.0, 1254.0, 1279.0, 969.0, 862.0, 1643.0, 0.0, 758.0, 957.0, 655.0, 1174.0, 1044.0, 1046.0, 2005.0, 1666.0, 1979.0, 1617.0, 1627.0, 1755.0, 1394.0, 1037.0, 535.0, 172.0, 806.0, 2471.0, 0.0, 0.0, 1620.0, 3214.0, 1605.0, 0.0, 1264.0, 2189.0, 1594.0, 512.0, 21.0, 1976.0, 1736.0, 464.0, 866.0, 3556.0, 2374.0, 1132.0, 1244.0, 1229.0, 2576.0, 2084.0, 1913.0, 148.0, 1800.0, 767.0, 2854.0, 2534.0, 4095.0, 16.0, 2508.0, 380.0, 1121.0, 2285.0, 3663.0, 49.0, 1816.0, 1379.0, 1305.0, 1267.0, 0.0, 2588.0, 2813.0, 1502.0, 2521.0, 1816.0, 683.0, 1062.0, 1306.0, 0.0, 2207.0, 2196.0, 2308.0, 1438.0, 1605.0, 3100.0, 1215.0, 2831.0, 1315.0, 1289.0, 1510.0, 1545.0, 2084.0, 1218.0, 2556.0, 1121.0, 1511.0, 1831.0, 1640.0, 1270.0, 779.0, 2412.0, 1736.0, 1325.0, 1227.0, 783.0, 2004.0, 798.0, 1267.0, 431.0, 450.0, 837.0, 1592.0, 1095.0, 1423.0, 0.0, 539.0, 1219.0, 1118.0, 0.0, 125.0, 222.0, 597.0, 928.0, 517.0, 0.0, 0.0, 171.0, 1095.0, 41.0, 153.0, 903.0, 921.0, 1834.0, 733.0, 1657.0, 203.0, 0.0, 0.0, 500.0, 195.0, 99.0, 265.0, 841.0, 837.0, 1931.0, 0.0, 992.0, 0.0, 0.0, 664.0, 1047.0, 602.0, 403.0, 0.0, 1612.0, 453.0, 1846.0, 1561.0, 0.0, 424.0, 1115.0, 1405.0, 1960.0, 1022.0, 330.0, 808.0, 913.0, 1435.0, 0.0, 1889.0, 904.0]}, {\"name\": \"'Sales 21 btw', 'Sales 6 btw' \\u2013 Tax, daily\", \"type\": \"scatter\", \"uid\": \"b6ebd867-6f78-4e83-8b50-0198ac4dfcf5\", \"x\": [\"2019-01-01\", \"2019-01-02\", \"2019-01-03\", \"2019-01-04\", \"2019-01-05\", \"2019-01-06\", \"2019-01-07\", \"2019-01-08\", \"2019-01-09\", \"2019-01-10\", \"2019-01-11\", \"2019-01-12\", \"2019-01-13\", \"2019-01-14\", \"2019-01-15\", \"2019-01-16\", \"2019-01-17\", \"2019-01-18\", \"2019-01-19\", \"2019-01-20\", \"2019-01-21\", \"2019-01-22\", \"2019-01-23\", \"2019-01-24\", \"2019-01-25\", \"2019-01-26\", \"2019-01-27\", \"2019-01-28\", \"2019-01-29\", \"2019-01-30\", \"2019-01-31\", \"2019-02-01\", \"2019-02-02\", \"2019-02-03\", \"2019-02-04\", \"2019-02-05\", \"2019-02-06\", \"2019-02-07\", \"2019-02-08\", \"2019-02-09\", \"2019-02-10\", \"2019-02-11\", \"2019-02-12\", \"2019-02-13\", \"2019-02-14\", \"2019-02-15\", \"2019-02-16\", \"2019-02-17\", \"2019-02-18\", \"2019-02-19\", \"2019-02-20\", \"2019-02-21\", \"2019-02-22\", \"2019-02-23\", \"2019-02-24\", \"2019-02-25\", \"2019-02-26\", \"2019-02-27\", \"2019-02-28\", \"2019-03-01\", \"2019-03-02\", \"2019-03-03\", \"2019-03-04\", \"2019-03-05\", \"2019-03-06\", \"2019-03-07\", \"2019-03-08\", \"2019-03-09\", \"2019-03-10\", \"2019-03-11\", \"2019-03-12\", \"2019-03-13\", \"2019-03-14\", \"2019-03-15\", \"2019-03-16\", \"2019-03-17\", \"2019-03-18\", \"2019-03-19\", \"2019-03-20\", \"2019-03-21\", \"2019-03-22\", \"2019-03-23\", \"2019-03-24\", \"2019-03-25\", \"2019-03-26\", \"2019-03-27\", \"2019-03-28\", \"2019-03-29\", \"2019-03-30\", \"2019-03-31\", \"2019-04-01\", \"2019-04-02\", \"2019-04-03\", \"2019-04-04\", \"2019-04-05\", \"2019-04-06\", \"2019-04-07\", \"2019-04-08\", \"2019-04-09\", \"2019-04-10\", \"2019-04-11\", \"2019-04-12\", \"2019-04-13\", \"2019-04-14\", \"2019-04-15\", \"2019-04-16\", \"2019-04-17\", \"2019-04-18\", \"2019-04-19\", \"2019-04-20\", \"2019-04-21\", \"2019-04-22\", \"2019-04-23\", \"2019-04-24\", \"2019-04-25\", \"2019-04-26\", \"2019-04-27\", \"2019-04-28\", \"2019-04-29\", \"2019-04-30\", \"2019-05-01\", \"2019-05-02\", \"2019-05-03\", \"2019-05-04\", \"2019-05-05\", \"2019-05-06\", \"2019-05-07\", \"2019-05-08\", \"2019-05-09\", \"2019-05-10\", \"2019-05-11\", \"2019-05-12\", \"2019-05-13\", \"2019-05-14\", \"2019-05-15\", \"2019-05-16\", \"2019-05-17\", \"2019-05-18\", \"2019-05-19\", \"2019-05-20\", \"2019-05-21\", \"2019-05-22\", \"2019-05-23\", \"2019-05-24\", \"2019-05-25\", \"2019-05-26\", \"2019-05-27\", \"2019-05-28\", \"2019-05-29\", \"2019-05-30\", \"2019-05-31\", \"2019-06-01\", \"2019-06-02\", \"2019-06-03\", \"2019-06-04\", \"2019-06-05\", \"2019-06-06\", \"2019-06-07\", \"2019-06-08\", \"2019-06-09\", \"2019-06-10\", \"2019-06-11\", \"2019-06-12\", \"2019-06-13\", \"2019-06-14\", \"2019-06-15\", \"2019-06-16\", \"2019-06-17\", \"2019-06-18\", \"2019-06-19\", \"2019-06-20\", \"2019-06-21\", \"2019-06-22\", \"2019-06-23\", \"2019-06-24\", \"2019-06-25\", \"2019-06-26\", \"2019-06-27\", \"2019-06-28\", \"2019-06-29\", \"2019-06-30\", \"2019-07-01\", \"2019-07-02\", \"2019-07-03\", \"2019-07-04\", \"2019-07-05\", \"2019-07-06\", \"2019-07-07\", \"2019-07-08\", \"2019-07-09\", \"2019-07-10\", \"2019-07-11\", \"2019-07-12\", \"2019-07-13\", \"2019-07-14\", \"2019-07-15\", \"2019-07-16\", \"2019-07-17\", \"2019-07-18\", \"2019-07-19\", \"2019-07-20\", \"2019-07-21\", \"2019-07-22\", \"2019-07-23\", \"2019-07-24\", \"2019-07-25\", \"2019-07-26\", \"2019-07-27\", \"2019-07-28\", \"2019-07-29\", \"2019-07-30\", \"2019-07-31\", \"2019-08-01\", \"2019-08-02\", \"2019-08-03\", \"2019-08-04\", \"2019-08-05\", \"2019-08-06\", \"2019-08-07\", \"2019-08-08\", \"2019-08-09\", \"2019-08-10\", \"2019-08-11\", \"2019-08-12\", \"2019-08-13\", \"2019-08-14\", \"2019-08-15\", \"2019-08-16\", \"2019-08-17\", \"2019-08-18\", \"2019-08-19\", \"2019-08-20\", \"2019-08-21\", \"2019-08-22\", \"2019-08-23\", \"2019-08-24\", \"2019-08-25\", \"2019-08-26\", \"2019-08-27\", \"2019-08-28\", \"2019-08-29\", \"2019-08-30\", \"2019-08-31\", \"2019-09-01\", \"2019-09-02\", \"2019-09-03\", \"2019-09-04\", \"2019-09-05\", \"2019-09-06\", \"2019-09-07\", \"2019-09-08\", \"2019-09-09\", \"2019-09-10\", \"2019-09-11\", \"2019-09-12\", \"2019-09-13\", \"2019-09-14\", \"2019-09-15\", \"2019-09-16\", \"2019-09-17\", \"2019-09-18\", \"2019-09-19\", \"2019-09-20\", \"2019-09-21\", \"2019-09-22\", \"2019-09-23\", \"2019-09-24\", \"2019-09-25\", \"2019-09-26\", \"2019-09-27\", \"2019-09-28\", \"2019-09-29\", \"2019-09-30\", \"2019-10-01\", \"2019-10-02\", \"2019-10-03\", \"2019-10-04\", \"2019-10-05\", \"2019-10-06\", \"2019-10-07\", \"2019-10-08\", \"2019-10-09\", \"2019-10-10\", \"2019-10-11\", \"2019-10-12\", \"2019-10-13\", \"2019-10-14\", \"2019-10-15\", \"2019-10-16\", \"2019-10-17\", \"2019-10-18\", \"2019-10-19\", \"2019-10-20\", \"2019-10-21\", \"2019-10-22\", \"2019-10-23\", \"2019-10-24\", \"2019-10-25\", \"2019-10-26\", \"2019-10-27\", \"2019-10-28\", \"2019-10-29\", \"2019-10-30\", \"2019-10-31\", \"2019-11-01\", \"2019-11-02\", \"2019-11-03\", \"2019-11-04\", \"2019-11-05\", \"2019-11-06\", \"2019-11-07\", \"2019-11-08\", \"2019-11-09\", \"2019-11-10\", \"2019-11-11\", \"2019-11-12\", \"2019-11-13\", \"2019-11-14\", \"2019-11-15\", \"2019-11-16\", \"2019-11-17\", \"2019-11-18\", \"2019-11-19\", \"2019-11-20\", \"2019-11-21\", \"2019-11-22\", \"2019-11-23\", \"2019-11-24\", \"2019-11-25\", \"2019-11-26\", \"2019-11-27\", \"2019-11-28\", \"2019-11-29\"], \"y\": [209.27642954803179, 273.06476909044017, 459.7585387464055, 279.180385870138, 727.5538104092843, 264.94396825025984, 62.526541234754944, 59.15120282792369, 397.0881884761682, 394.2113849551906, 521.9599686699033, 104.22521771985902, 206.03008499831162, 558.6307266623388, 284.46729641920984, 447.32153739591035, 91.23035177649979, 443.54129028499733, 601.0512807695775, 0.0, 262.21544118135444, 356.35418395419117, 94.73032873604402, 177.03, 300.78262433629675, 118.43817723606918, 101.80010273072259, 210.16676375997025, 17.068410512582293, 334.0587037758356, 298.5281461742154, 0.0, 61.11936683533794, 274.80472449956324, 144.76273165282691, 0.0, 157.71315764446877, 102.0172778460215, 128.84714340728087, 77.31956867150245, 0.0, 150.23073504090675, 184.1216756763345, 426.5282202128598, 190.86159491841676, 55.105642408063545, 461.327761562348, 356.19017795594914, 271.4611436007607, 164.94837620037782, 34.21723724032162, 573.6250140719844, 210.44534810826656, 287.8075428466669, 131.8579114314101, 137.2347687305531, 125.37993000323453, 243.68535375858542, 112.06745196307949, 88.79817495314416, 104.86695682850848, 330.8327717021361, 201.15289581896928, 504.411167107046, 325.3436730812696, 142.27291420565646, 253.4592956124298, 525.1047790498392, 178.29, 202.11822860491742, 462.1613074345356, 45.06469930470022, 245.85945706533423, 301.76229023382757, 41.56947230580895, 283.2041412071983, 179.37954429011512, 32.09901597823213, 208.2670352892294, 142.98246410300698, 589.7057089158288, 473.4602473125883, 0.0, 228.7299686950514, 357.228666796868, 238.49148405184854, 330.28369607926356, 359.1454118749561, 224.8690025348754, 274.4164922137266, 110.76894295988711, 152.30131232347296, 193.55805687541144, 53.84231408884303, 147.15515861407417, 321.51928650474423, 267.6808830905395, 573.8321575715224, 379.58346262544075, 283.6338329169011, 464.8371696223428, 259.0280244494138, 164.71065513015753, 680.1177820941708, 288.46656504643676, 261.65990269192855, 593.1512619797406, 10.07688220744338, 284.821537052266, 290.5805786073612, 135.25917870060147, 401.63318434410326, 89.04205072188736, 32.61487411170515, 127.62792636669067, 60.32028167779366, 212.50481804099817, 549.6705234292953, 157.48945906534402, 226.33805482072978, 175.92887206726502, 303.63623664238554, 480.71855690109874, 267.9712277094472, 939.6688208354916, 220.2888144112778, 129.54437992872263, 397.9521158604369, 294.5601906371078, 331.1924726345114, 294.88720392116403, 8.118001048066406, 310.1566142187158, 74.5308954973175, 452.25527316780915, 122.39349150947078, 649.2714422373659, 249.36018297872175, 59.82203834750587, 0.0, 288.11535788461345, 566.5095995127358, 227.90252983483356, 74.25147640156227, 132.6331911281741, 57.31956656734634, 334.4220830448867, 263.46376681543285, 420.5430126417802, 371.3297257419712, 114.78651539827966, 31.84445345499349, 0.7261489834504503, 225.8806024825551, 179.2185216539225, 84.1869396699415, 308.15504765583364, 184.62843184234683, 523.4742520843397, 94.80617064222575, 234.72476244388366, 0.0, 441.9784427200883, 73.94432118256344, 403.1456764735102, 573.0647697897614, 99.14626287934456, 75.28139037336075, 208.76834405380217, 171.0600326639159, 99.41693259578965, 254.68871740714178, 0.0, 158.6421928855072, 160.850665961736, 91.48458280864529, 248.04550850725724, 113.0065016405699, 132.33362676705798, 257.70358299254235, 216.20203363390087, 241.96618800460257, 338.89136107470574, 227.0306839370682, 229.11136186486962, 215.48077902779693, 137.16936314825486, 113.32279413272046, 10.224019961161815, 167.64676753882287, 483.77336192753313, 0.0, 0.0, 245.68833487572465, 457.9794593819053, 318.1893679986152, 0.0, 220.30599245237255, 462.3264782676775, 323.2142949968378, 30.807684519937023, 1.26, 372.28190243028433, 208.31849542732638, 97.12487129203585, 69.38791567577637, 426.462680581774, 331.801321191074, 68.02937809724091, 74.79817395822403, 103.69842823124434, 246.2801067157467, 349.88149564593107, 260.2226375159859, 31.122791862731894, 226.2554008104039, 80.06782054362063, 477.72066148113726, 375.34430459375136, 731.5201268806532, 0.9661404090614193, 291.6998758905934, 80.31644298963162, 96.55947612550177, 478.0155470883329, 587.8260869625741, 2.9313425694559703, 121.53547835712597, 185.34511859252973, 223.9988425589813, 157.66001003722425, 0.0, 428.22737512316417, 442.5387342846842, 204.4927120725713, 432.00407093719775, 311.51711887395874, 66.12716135348396, 222.32114375662377, 273.1286441633798, 0.0, 288.58066768182533, 284.63430491932036, 484.49650203616034, 182.7282780301855, 275.65951573518186, 492.8111214252765, 72.92990507854122, 368.0562810495343, 79.17899293047762, 145.97283315669583, 204.33044179276223, 144.88956538698577, 256.21647116720305, 254.66608706223656, 396.8804814888461, 128.4480228348838, 162.61751603424798, 225.52582010976747, 186.51797854423418, 134.2372604127743, 46.74794608804289, 425.46630960542933, 364.50904778043866, 180.81227544421733, 123.45513647809095, 164.50104971441422, 230.8763639422968, 167.36566786178207, 266.00907986399733, 32.266544478777234, 44.4219255054803, 50.09741126645345, 307.4862339983849, 178.80599004458327, 205.03863763758403, 0.0, 32.65498290166326, 72.80894351294484, 66.92260535809186, 0.0, 7.474732598449397, 13.212034508065422, 35.4732561696097, 55.93812957616657, 31.1325350459536, 0.0, 0.0, 10.341171349760652, 65.89926064736916, 2.4379801182103824, 9.250568237679692, 53.97455733822804, 55.710730807660816, 110.03576802331916, 44.06061760092689, 99.57052978864424, 12.125517545965751, 0.0, 0.0, 29.89773083811711, 11.714897608866723, 5.943013114105268, 15.747195258074813, 50.01592270046877, 50.50883549365134, 115.73580527899745, 0.0, 59.20822632970224, 0.0, 0.0, 39.9976792930925, 63.117302780946964, 36.18072699183715, 24.154936239695573, 0.0, 97.28846288938527, 27.165643791180873, 110.63546029961849, 93.4941787437291, 0.0, 25.439999999999998, 67.17170724383828, 83.74543597382132, 117.50145964815746, 61.33143558879012, 19.764788202059773, 48.48, 54.2935967790353, 86.0312010440892, 0.0, 112.9430995205517, 54.09763866292556]}],\n",
       "                        {\"hovermode\": \"closest\", \"showlegend\": true, \"title\": {\"text\": \"Aggregated signals, daily\"}},\n",
       "                        {\"showLink\": false, \"linkText\": \"Export to plot.ly\", \"plotlyServerURL\": \"https://plot.ly\", \"responsive\": true}\n",
       "                    ).then(function(){\n",
       "                            \n",
       "var gd = document.getElementById('0555bcee-a882-47cb-b228-1527c4806ed6');\n",
       "var x = new MutationObserver(function (mutations, observer) {{\n",
       "        var display = window.getComputedStyle(gd).display;\n",
       "        if (!display || display === 'none') {{\n",
       "            console.log([gd, 'removed!']);\n",
       "            Plotly.purge(gd);\n",
       "            observer.disconnect();\n",
       "        }}\n",
       "}});\n",
       "\n",
       "// Listen for the removal of the full notebook cells\n",
       "var notebookContainer = gd.closest('#notebook-container');\n",
       "if (notebookContainer) {{\n",
       "    x.observe(notebookContainer, {childList: true});\n",
       "}}\n",
       "\n",
       "// Listen for the clearing of the current output cell\n",
       "var outputEl = gd.closest('.output');\n",
       "if (outputEl) {{\n",
       "    x.observe(outputEl, {childList: true});\n",
       "}}\n",
       "\n",
       "                        })\n",
       "                };\n",
       "                });\n",
       "            </script>\n",
       "        </div>"
      ]
     },
     "metadata": {},
     "output_type": "display_data"
    },
    {
     "name": "stdout",
     "output_type": "stream",
     "text": [
      "Correlation for given query and given shifts (0, 0) is           0.887990238888077\n",
      "0.006867530914936737\n"
     ]
    },
    {
     "data": {
      "image/png": "[encoded data removed]",
      "text/plain": [
       "<Figure size 936x720 with 1 Axes>"
      ]
     },
     "metadata": {
      "needs_background": "light"
     },
     "output_type": "display_data"
    }
   ],
   "source": [
    "# ~Sales 6 btw\n",
    "constructSignals(df_all, query=[{\"select\": [\"Sales 21 btw\", \"Sales 6 btw\"], \n",
    "                              \"_with\": {\"FA_Name\": \"Revenue\"}}, \n",
    "                                {\"select\": [\"Sales 21 btw\", \"Sales 6 btw\"], \"_with\": {\"FA_Name\": \"Tax\"}}], \n",
    "                              on=\"GroundTruth\", agg_period=\"D\", title=\"GroundTruth_Tax-Revenue_\")"
   ]
  },
  {
   "cell_type": "markdown",
   "metadata": {},
   "source": [
    "## Tax vs. Revenue based on the Sales *as-expert*-cluster"
   ]
  },
  {
   "cell_type": "code",
   "execution_count": 377,
   "metadata": {},
   "outputs": [],
   "source": [
    "def check_is_sale(df):\n",
    "    return pd.Series({\"ID\": df.ID.values[0], \"is_Sale\": (\"Revenue\" in df[df[\"from\"]==True].FA_Name.unique()) and (\"TradeReceivables\" in df[df[\"from\"]==False].FA_Name.unique())})\n",
    "expert_sales = df_all.reset_index()\\\n",
    "        .merge(df_all.groupby(\"ID\", as_index=False).apply(check_is_sale), on=\"ID\", left_index=True)\\\n",
    "        .set_index(\"Time\", drop=True)"
   ]
  },
  {
   "cell_type": "code",
   "execution_count": 462,
   "metadata": {
    "scrolled": false
   },
   "outputs": [
    {
     "name": "stdout",
     "output_type": "stream",
     "text": [
      "Started aggregation...\n"
     ]
    },
    {
     "data": {
      "application/vnd.plotly.v1+json": {
       "config": {
        "linkText": "Export to plot.ly",
        "plotlyServerURL": "https://plot.ly",
        "showLink": false
       },
       "data": [
        {
         "name": "True – Revenue, weekly",
         "type": "scatter",
         "uid": "fcb4dbff-13f4-487b-a246-42beef1b09ce",
         "x": [
          "2019-01-06",
          "2019-01-13",
          "2019-01-20",
          "2019-01-27",
          "2019-02-03",
          "2019-02-10",
          "2019-02-17",
          "2019-02-24",
          "2019-03-03",
          "2019-03-10",
          "2019-03-17",
          "2019-03-24",
          "2019-03-31",
          "2019-04-07",
          "2019-04-14",
          "2019-04-21",
          "2019-04-28",
          "2019-05-05",
          "2019-05-12",
          "2019-05-19",
          "2019-05-26",
          "2019-06-02",
          "2019-06-09",
          "2019-06-16",
          "2019-06-23",
          "2019-06-30",
          "2019-07-07",
          "2019-07-14",
          "2019-07-21",
          "2019-07-28",
          "2019-08-04",
          "2019-08-11",
          "2019-08-18",
          "2019-08-25",
          "2019-09-01",
          "2019-09-08",
          "2019-09-15",
          "2019-09-22",
          "2019-09-29",
          "2019-10-06",
          "2019-10-13",
          "2019-10-20",
          "2019-10-27",
          "2019-11-03",
          "2019-11-10",
          "2019-11-17",
          "2019-11-24",
          "2019-12-01"
         ],
         "y": [
          15125,
          13421,
          15749,
          9960,
          7550,
          4197,
          9856,
          11996,
          9429,
          14820,
          10770,
          10632,
          14349,
          10448,
          21159,
          12020,
          10824,
          17576,
          10041,
          13434,
          10227,
          11222,
          13047,
          12212,
          6765,
          8547,
          9944,
          8283,
          7185,
          12104,
          10994,
          13154,
          11618,
          12507,
          9762,
          12793,
          11545,
          10993,
          6960,
          6705,
          3507,
          2363,
          5348,
          4668,
          3305,
          5875,
          7064,
          5141
         ]
        },
        {
         "name": "True – Tax, weekly",
         "type": "scatter",
         "uid": "010152dd-e127-46f9-9f2e-89ed8c3fa348",
         "x": [
          "2019-01-06",
          "2019-01-13",
          "2019-01-20",
          "2019-01-27",
          "2019-02-03",
          "2019-02-10",
          "2019-02-17",
          "2019-02-24",
          "2019-03-03",
          "2019-03-10",
          "2019-03-17",
          "2019-03-24",
          "2019-03-31",
          "2019-04-07",
          "2019-04-14",
          "2019-04-21",
          "2019-04-28",
          "2019-05-05",
          "2019-05-12",
          "2019-05-19",
          "2019-05-26",
          "2019-06-02",
          "2019-06-09",
          "2019-06-16",
          "2019-06-23",
          "2019-06-30",
          "2019-07-07",
          "2019-07-14",
          "2019-07-21",
          "2019-07-28",
          "2019-08-04",
          "2019-08-11",
          "2019-08-18",
          "2019-08-25",
          "2019-09-01",
          "2019-09-08",
          "2019-09-15",
          "2019-09-22",
          "2019-09-29",
          "2019-10-06",
          "2019-10-13",
          "2019-10-20",
          "2019-10-27",
          "2019-11-03",
          "2019-11-10",
          "2019-11-17",
          "2019-11-24",
          "2019-12-01"
         ],
         "y": [
          2213.7779019145596,
          1745.1925888821113,
          2426.242483308534,
          1411.3508581746783,
          1195.746115557505,
          610.6598792221005,
          1824.365807774878,
          1674.362573499788,
          1142.8654079392413,
          2130.0347248752105,
          1581.7395961563225,
          1625.8940158890007,
          2013.16472224659,
          1246.8259544569726,
          2805.7430844099486,
          1864.015906285778,
          1473.4136586924735,
          2551.751228041762,
          1676.543178441287,
          1917.7899379569067,
          1346.7317213292656,
          1537.1157060807946,
          1600.3499660311647,
          1826.0042354891514,
          967.8576099795175,
          1219.6265023117096,
          1502.9725311900183,
          1365.311943685148,
          1356.1038182354398,
          1573.4065646955116,
          1292.259034740268,
          2037.6353727884486,
          1696.2118922545012,
          1976.4400213288002,
          1619.2884239107937,
          1617.3369274058928,
          1548.0485857671656,
          1563.8166379849042,
          1028.8957678448387,
          846.8921993616137,
          210.15329325633655,
          141.90353769124792,
          321.5031637665168,
          279.5634002922815,
          198.50393539557882,
          352.73868196360934,
          423.434826656667,
          307.3655360066017
         ]
        }
       ],
       "layout": {
        "hovermode": "closest",
        "showlegend": true,
        "title": {
         "text": "Aggregated signals, weekly"
        }
       }
      },
      "text/html": [
       "<div>\n",
       "        \n",
       "        \n",
       "            <div id=\"70977e8a-6e39-47ea-b84b-8a4419a7473c\" class=\"plotly-graph-div\" style=\"height:525px; width:100%;\"></div>\n",
       "            <script type=\"text/javascript\">\n",
       "                require([\"plotly\"], function(Plotly) {\n",
       "                    window.PLOTLYENV=window.PLOTLYENV || {};\n",
       "                    window.PLOTLYENV.BASE_URL='https://plot.ly';\n",
       "                    \n",
       "                if (document.getElementById(\"70977e8a-6e39-47ea-b84b-8a4419a7473c\")) {\n",
       "                    Plotly.newPlot(\n",
       "                        '70977e8a-6e39-47ea-b84b-8a4419a7473c',\n",
       "                        [{\"name\": \"True \\u2013 Revenue, weekly\", \"type\": \"scatter\", \"uid\": \"fcb4dbff-13f4-487b-a246-42beef1b09ce\", \"x\": [\"2019-01-06\", \"2019-01-13\", \"2019-01-20\", \"2019-01-27\", \"2019-02-03\", \"2019-02-10\", \"2019-02-17\", \"2019-02-24\", \"2019-03-03\", \"2019-03-10\", \"2019-03-17\", \"2019-03-24\", \"2019-03-31\", \"2019-04-07\", \"2019-04-14\", \"2019-04-21\", \"2019-04-28\", \"2019-05-05\", \"2019-05-12\", \"2019-05-19\", \"2019-05-26\", \"2019-06-02\", \"2019-06-09\", \"2019-06-16\", \"2019-06-23\", \"2019-06-30\", \"2019-07-07\", \"2019-07-14\", \"2019-07-21\", \"2019-07-28\", \"2019-08-04\", \"2019-08-11\", \"2019-08-18\", \"2019-08-25\", \"2019-09-01\", \"2019-09-08\", \"2019-09-15\", \"2019-09-22\", \"2019-09-29\", \"2019-10-06\", \"2019-10-13\", \"2019-10-20\", \"2019-10-27\", \"2019-11-03\", \"2019-11-10\", \"2019-11-17\", \"2019-11-24\", \"2019-12-01\"], \"y\": [15125.0, 13421.0, 15749.0, 9960.0, 7550.0, 4197.0, 9856.0, 11996.0, 9429.0, 14820.0, 10770.0, 10632.0, 14349.0, 10448.0, 21159.0, 12020.0, 10824.0, 17576.0, 10041.0, 13434.0, 10227.0, 11222.0, 13047.0, 12212.0, 6765.0, 8547.0, 9944.0, 8283.0, 7185.0, 12104.0, 10994.0, 13154.0, 11618.0, 12507.0, 9762.0, 12793.0, 11545.0, 10993.0, 6960.0, 6705.0, 3507.0, 2363.0, 5348.0, 4668.0, 3305.0, 5875.0, 7064.0, 5141.0]}, {\"name\": \"True \\u2013 Tax, weekly\", \"type\": \"scatter\", \"uid\": \"010152dd-e127-46f9-9f2e-89ed8c3fa348\", \"x\": [\"2019-01-06\", \"2019-01-13\", \"2019-01-20\", \"2019-01-27\", \"2019-02-03\", \"2019-02-10\", \"2019-02-17\", \"2019-02-24\", \"2019-03-03\", \"2019-03-10\", \"2019-03-17\", \"2019-03-24\", \"2019-03-31\", \"2019-04-07\", \"2019-04-14\", \"2019-04-21\", \"2019-04-28\", \"2019-05-05\", \"2019-05-12\", \"2019-05-19\", \"2019-05-26\", \"2019-06-02\", \"2019-06-09\", \"2019-06-16\", \"2019-06-23\", \"2019-06-30\", \"2019-07-07\", \"2019-07-14\", \"2019-07-21\", \"2019-07-28\", \"2019-08-04\", \"2019-08-11\", \"2019-08-18\", \"2019-08-25\", \"2019-09-01\", \"2019-09-08\", \"2019-09-15\", \"2019-09-22\", \"2019-09-29\", \"2019-10-06\", \"2019-10-13\", \"2019-10-20\", \"2019-10-27\", \"2019-11-03\", \"2019-11-10\", \"2019-11-17\", \"2019-11-24\", \"2019-12-01\"], \"y\": [2213.7779019145596, 1745.1925888821113, 2426.242483308534, 1411.3508581746783, 1195.746115557505, 610.6598792221005, 1824.365807774878, 1674.362573499788, 1142.8654079392413, 2130.0347248752105, 1581.7395961563225, 1625.8940158890007, 2013.16472224659, 1246.8259544569726, 2805.7430844099486, 1864.015906285778, 1473.4136586924735, 2551.751228041762, 1676.543178441287, 1917.7899379569067, 1346.7317213292656, 1537.1157060807946, 1600.3499660311647, 1826.0042354891514, 967.8576099795175, 1219.6265023117096, 1502.9725311900183, 1365.311943685148, 1356.1038182354398, 1573.4065646955116, 1292.259034740268, 2037.6353727884486, 1696.2118922545012, 1976.4400213288002, 1619.2884239107937, 1617.3369274058928, 1548.0485857671656, 1563.8166379849042, 1028.8957678448387, 846.8921993616137, 210.15329325633655, 141.90353769124792, 321.5031637665168, 279.5634002922815, 198.50393539557882, 352.73868196360934, 423.434826656667, 307.3655360066017]}],\n",
       "                        {\"hovermode\": \"closest\", \"showlegend\": true, \"title\": {\"text\": \"Aggregated signals, weekly\"}},\n",
       "                        {\"showLink\": false, \"linkText\": \"Export to plot.ly\", \"plotlyServerURL\": \"https://plot.ly\", \"responsive\": true}\n",
       "                    ).then(function(){\n",
       "                            \n",
       "var gd = document.getElementById('70977e8a-6e39-47ea-b84b-8a4419a7473c');\n",
       "var x = new MutationObserver(function (mutations, observer) {{\n",
       "        var display = window.getComputedStyle(gd).display;\n",
       "        if (!display || display === 'none') {{\n",
       "            console.log([gd, 'removed!']);\n",
       "            Plotly.purge(gd);\n",
       "            observer.disconnect();\n",
       "        }}\n",
       "}});\n",
       "\n",
       "// Listen for the removal of the full notebook cells\n",
       "var notebookContainer = gd.closest('#notebook-container');\n",
       "if (notebookContainer) {{\n",
       "    x.observe(notebookContainer, {childList: true});\n",
       "}}\n",
       "\n",
       "// Listen for the clearing of the current output cell\n",
       "var outputEl = gd.closest('.output');\n",
       "if (outputEl) {{\n",
       "    x.observe(outputEl, {childList: true});\n",
       "}}\n",
       "\n",
       "                        })\n",
       "                };\n",
       "                });\n",
       "            </script>\n",
       "        </div>"
      ]
     },
     "metadata": {},
     "output_type": "display_data"
    },
    {
     "name": "stdout",
     "output_type": "stream",
     "text": [
      "Correlation for given query and given shifts (0, 0) is           0.9485087812596132\n",
      "0.008054111991252234\n"
     ]
    },
    {
     "data": {
      "image/png": "[encoded data removed]",
      "text/plain": [
       "<Figure size 936x720 with 1 Axes>"
      ]
     },
     "metadata": {
      "needs_background": "light"
     },
     "output_type": "display_data"
    }
   ],
   "source": [
    "constructSignals(expert_sales, query=[{\"select\": [True], \n",
    "                              \"_with\": {\"FA_Name\": \"Revenue\"}}, \n",
    "                                {\"select\": [True], \"_with\": {\"FA_Name\": \"Tax\"}}], agg_period=\"W\", on=\"is_Sale\", title=\"eFSN_Tax-Revenue_\")"
   ]
  },
  {
   "cell_type": "markdown",
   "metadata": {},
   "source": [
    "## Tax vs. Revenue based on predicted labels\n",
    "And, finally a model which uses all the information of the **financial statement network** (FSN) to model plausible relationships."
   ]
  },
  {
   "cell_type": "code",
   "execution_count": 477,
   "metadata": {
    "scrolled": false
   },
   "outputs": [
    {
     "name": "stdout",
     "output_type": "stream",
     "text": [
      "Started aggregation...\n"
     ]
    },
    {
     "data": {
      "application/vnd.plotly.v1+json": {
       "config": {
        "linkText": "Export to plot.ly",
        "plotlyServerURL": "https://plot.ly",
        "showLink": false
       },
       "data": [
        {
         "name": "3, 10 clusters – Revenue, weekly",
         "type": "scatter",
         "uid": "92fd20d0-73e6-4bfc-a743-d780cc8ed7e8",
         "x": [
          "2019-01-06",
          "2019-01-13",
          "2019-01-20",
          "2019-01-27",
          "2019-02-03",
          "2019-02-10",
          "2019-02-17",
          "2019-02-24",
          "2019-03-03",
          "2019-03-10",
          "2019-03-17",
          "2019-03-24",
          "2019-03-31",
          "2019-04-07",
          "2019-04-14",
          "2019-04-21",
          "2019-04-28",
          "2019-05-05",
          "2019-05-12",
          "2019-05-19",
          "2019-05-26",
          "2019-06-02",
          "2019-06-09",
          "2019-06-16",
          "2019-06-23",
          "2019-06-30",
          "2019-07-07",
          "2019-07-14",
          "2019-07-21",
          "2019-07-28",
          "2019-08-04",
          "2019-08-11",
          "2019-08-18",
          "2019-08-25",
          "2019-09-01",
          "2019-09-08",
          "2019-09-15",
          "2019-09-22",
          "2019-09-29",
          "2019-10-06",
          "2019-10-13",
          "2019-10-20",
          "2019-10-27",
          "2019-11-03",
          "2019-11-10",
          "2019-11-17",
          "2019-11-24",
          "2019-12-01"
         ],
         "y": [
          15125,
          13421,
          15749,
          9960,
          7550,
          4197,
          9856,
          11996,
          9429,
          14820,
          10770,
          10632,
          14349,
          10448,
          21159,
          12020,
          10824,
          17576,
          10041,
          13434,
          10227,
          11222,
          13047,
          12212,
          6765,
          8547,
          9944,
          8283,
          7185,
          12104,
          10994,
          13154,
          11618,
          12507,
          9762,
          12793,
          11545,
          10993,
          6960,
          6705,
          3507,
          2363,
          5348,
          4668,
          3305,
          5875,
          7064,
          5141
         ]
        },
        {
         "name": "3, 10 clusters – Tax, weekly",
         "type": "scatter",
         "uid": "4832793f-0f0b-4d3c-a5ec-8a3fc34e4944",
         "x": [
          "2019-01-06",
          "2019-01-13",
          "2019-01-20",
          "2019-01-27",
          "2019-02-03",
          "2019-02-10",
          "2019-02-17",
          "2019-02-24",
          "2019-03-03",
          "2019-03-10",
          "2019-03-17",
          "2019-03-24",
          "2019-03-31",
          "2019-04-07",
          "2019-04-14",
          "2019-04-21",
          "2019-04-28",
          "2019-05-05",
          "2019-05-12",
          "2019-05-19",
          "2019-05-26",
          "2019-06-02",
          "2019-06-09",
          "2019-06-16",
          "2019-06-23",
          "2019-06-30",
          "2019-07-07",
          "2019-07-14",
          "2019-07-21",
          "2019-07-28",
          "2019-08-04",
          "2019-08-11",
          "2019-08-18",
          "2019-08-25",
          "2019-09-01",
          "2019-09-08",
          "2019-09-15",
          "2019-09-22",
          "2019-09-29",
          "2019-10-06",
          "2019-10-13",
          "2019-10-20",
          "2019-10-27",
          "2019-11-03",
          "2019-11-10",
          "2019-11-17",
          "2019-11-24",
          "2019-12-01"
         ],
         "y": [
          2213.7779019145596,
          1745.1925888821113,
          2426.242483308534,
          1411.3508581746783,
          1195.746115557505,
          610.6598792221005,
          1824.365807774878,
          1674.362573499788,
          1142.8654079392413,
          2130.0347248752105,
          1581.7395961563225,
          1625.8940158890007,
          2013.16472224659,
          1246.8259544569726,
          2805.7430844099486,
          1864.015906285778,
          1473.4136586924735,
          2551.751228041762,
          1676.543178441287,
          1917.7899379569067,
          1346.7317213292656,
          1537.1157060807946,
          1600.3499660311647,
          1826.0042354891514,
          967.8576099795175,
          1219.6265023117096,
          1502.9725311900183,
          1365.311943685148,
          1356.1038182354398,
          1573.4065646955116,
          1292.259034740268,
          2037.6353727884486,
          1696.2118922545012,
          1976.4400213288002,
          1619.2884239107937,
          1617.3369274058928,
          1548.0485857671656,
          1563.8166379849042,
          1028.8957678448387,
          846.8921993616137,
          210.15329325633655,
          141.90353769124792,
          321.5031637665168,
          279.5634002922815,
          198.50393539557882,
          352.73868196360934,
          423.434826656667,
          307.3655360066017
         ]
        }
       ],
       "layout": {
        "hovermode": "closest",
        "legend": {
         "font": {
          "size": 14
         },
         "orientation": "h",
         "x": 0.3,
         "y": -0.1
        },
        "showlegend": true,
        "title": {
         "text": "Aggregated signals, weekly"
        }
       }
      },
      "text/html": [
       "<div>\n",
       "        \n",
       "        \n",
       "            <div id=\"13b1a054-3bda-4aa8-abce-43e08f82ea65\" class=\"plotly-graph-div\" style=\"height:525px; width:100%;\"></div>\n",
       "            <script type=\"text/javascript\">\n",
       "                require([\"plotly\"], function(Plotly) {\n",
       "                    window.PLOTLYENV=window.PLOTLYENV || {};\n",
       "                    window.PLOTLYENV.BASE_URL='https://plot.ly';\n",
       "                    \n",
       "                if (document.getElementById(\"13b1a054-3bda-4aa8-abce-43e08f82ea65\")) {\n",
       "                    Plotly.newPlot(\n",
       "                        '13b1a054-3bda-4aa8-abce-43e08f82ea65',\n",
       "                        [{\"name\": \"3, 10 clusters \\u2013 Revenue, weekly\", \"type\": \"scatter\", \"uid\": \"92fd20d0-73e6-4bfc-a743-d780cc8ed7e8\", \"x\": [\"2019-01-06\", \"2019-01-13\", \"2019-01-20\", \"2019-01-27\", \"2019-02-03\", \"2019-02-10\", \"2019-02-17\", \"2019-02-24\", \"2019-03-03\", \"2019-03-10\", \"2019-03-17\", \"2019-03-24\", \"2019-03-31\", \"2019-04-07\", \"2019-04-14\", \"2019-04-21\", \"2019-04-28\", \"2019-05-05\", \"2019-05-12\", \"2019-05-19\", \"2019-05-26\", \"2019-06-02\", \"2019-06-09\", \"2019-06-16\", \"2019-06-23\", \"2019-06-30\", \"2019-07-07\", \"2019-07-14\", \"2019-07-21\", \"2019-07-28\", \"2019-08-04\", \"2019-08-11\", \"2019-08-18\", \"2019-08-25\", \"2019-09-01\", \"2019-09-08\", \"2019-09-15\", \"2019-09-22\", \"2019-09-29\", \"2019-10-06\", \"2019-10-13\", \"2019-10-20\", \"2019-10-27\", \"2019-11-03\", \"2019-11-10\", \"2019-11-17\", \"2019-11-24\", \"2019-12-01\"], \"y\": [15125.0, 13421.0, 15749.0, 9960.0, 7550.0, 4197.0, 9856.0, 11996.0, 9429.0, 14820.0, 10770.0, 10632.0, 14349.0, 10448.0, 21159.0, 12020.0, 10824.0, 17576.0, 10041.0, 13434.0, 10227.0, 11222.0, 13047.0, 12212.0, 6765.0, 8547.0, 9944.0, 8283.0, 7185.0, 12104.0, 10994.0, 13154.0, 11618.0, 12507.0, 9762.0, 12793.0, 11545.0, 10993.0, 6960.0, 6705.0, 3507.0, 2363.0, 5348.0, 4668.0, 3305.0, 5875.0, 7064.0, 5141.0]}, {\"name\": \"3, 10 clusters \\u2013 Tax, weekly\", \"type\": \"scatter\", \"uid\": \"4832793f-0f0b-4d3c-a5ec-8a3fc34e4944\", \"x\": [\"2019-01-06\", \"2019-01-13\", \"2019-01-20\", \"2019-01-27\", \"2019-02-03\", \"2019-02-10\", \"2019-02-17\", \"2019-02-24\", \"2019-03-03\", \"2019-03-10\", \"2019-03-17\", \"2019-03-24\", \"2019-03-31\", \"2019-04-07\", \"2019-04-14\", \"2019-04-21\", \"2019-04-28\", \"2019-05-05\", \"2019-05-12\", \"2019-05-19\", \"2019-05-26\", \"2019-06-02\", \"2019-06-09\", \"2019-06-16\", \"2019-06-23\", \"2019-06-30\", \"2019-07-07\", \"2019-07-14\", \"2019-07-21\", \"2019-07-28\", \"2019-08-04\", \"2019-08-11\", \"2019-08-18\", \"2019-08-25\", \"2019-09-01\", \"2019-09-08\", \"2019-09-15\", \"2019-09-22\", \"2019-09-29\", \"2019-10-06\", \"2019-10-13\", \"2019-10-20\", \"2019-10-27\", \"2019-11-03\", \"2019-11-10\", \"2019-11-17\", \"2019-11-24\", \"2019-12-01\"], \"y\": [2213.7779019145596, 1745.1925888821113, 2426.242483308534, 1411.3508581746783, 1195.746115557505, 610.6598792221005, 1824.365807774878, 1674.362573499788, 1142.8654079392413, 2130.0347248752105, 1581.7395961563225, 1625.8940158890007, 2013.16472224659, 1246.8259544569726, 2805.7430844099486, 1864.015906285778, 1473.4136586924735, 2551.751228041762, 1676.543178441287, 1917.7899379569067, 1346.7317213292656, 1537.1157060807946, 1600.3499660311647, 1826.0042354891514, 967.8576099795175, 1219.6265023117096, 1502.9725311900183, 1365.311943685148, 1356.1038182354398, 1573.4065646955116, 1292.259034740268, 2037.6353727884486, 1696.2118922545012, 1976.4400213288002, 1619.2884239107937, 1617.3369274058928, 1548.0485857671656, 1563.8166379849042, 1028.8957678448387, 846.8921993616137, 210.15329325633655, 141.90353769124792, 321.5031637665168, 279.5634002922815, 198.50393539557882, 352.73868196360934, 423.434826656667, 307.3655360066017]}],\n",
       "                        {\"hovermode\": \"closest\", \"legend\": {\"font\": {\"size\": 14}, \"orientation\": \"h\", \"x\": 0.3, \"y\": -0.1}, \"showlegend\": true, \"title\": {\"text\": \"Aggregated signals, weekly\"}},\n",
       "                        {\"showLink\": false, \"linkText\": \"Export to plot.ly\", \"plotlyServerURL\": \"https://plot.ly\", \"responsive\": true}\n",
       "                    ).then(function(){\n",
       "                            \n",
       "var gd = document.getElementById('13b1a054-3bda-4aa8-abce-43e08f82ea65');\n",
       "var x = new MutationObserver(function (mutations, observer) {{\n",
       "        var display = window.getComputedStyle(gd).display;\n",
       "        if (!display || display === 'none') {{\n",
       "            console.log([gd, 'removed!']);\n",
       "            Plotly.purge(gd);\n",
       "            observer.disconnect();\n",
       "        }}\n",
       "}});\n",
       "\n",
       "// Listen for the removal of the full notebook cells\n",
       "var notebookContainer = gd.closest('#notebook-container');\n",
       "if (notebookContainer) {{\n",
       "    x.observe(notebookContainer, {childList: true});\n",
       "}}\n",
       "\n",
       "// Listen for the clearing of the current output cell\n",
       "var outputEl = gd.closest('.output');\n",
       "if (outputEl) {{\n",
       "    x.observe(outputEl, {childList: true});\n",
       "}}\n",
       "\n",
       "                        })\n",
       "                };\n",
       "                });\n",
       "            </script>\n",
       "        </div>"
      ]
     },
     "metadata": {},
     "output_type": "display_data"
    },
    {
     "name": "stdout",
     "output_type": "stream",
     "text": [
      "Correlation for given query and given shifts (0, 0) is           0.9485087812596132\n",
      "0.008054111991252234\n"
     ]
    },
    {
     "data": {
      "image/png": "[encoded data removed]",
      "text/plain": [
       "<Figure size 936x720 with 1 Axes>"
      ]
     },
     "metadata": {
      "needs_background": "light"
     },
     "output_type": "display_data"
    },
    {
     "name": "stdout",
     "output_type": "stream",
     "text": [
      "Started aggregation...\n"
     ]
    },
    {
     "data": {
      "application/vnd.plotly.v1+json": {
       "config": {
        "linkText": "Export to plot.ly",
        "plotlyServerURL": "https://plot.ly",
        "showLink": false
       },
       "data": [
        {
         "name": "3 cluster – Revenue, weekly",
         "type": "scatter",
         "uid": "5df1b2b3-b7c3-4e18-ac46-82bb7c3a7fa6",
         "x": [
          "2019-01-06",
          "2019-01-13",
          "2019-01-20",
          "2019-01-27",
          "2019-02-03",
          "2019-02-10",
          "2019-02-17",
          "2019-02-24",
          "2019-03-03",
          "2019-03-10",
          "2019-03-17",
          "2019-03-24",
          "2019-03-31",
          "2019-04-07",
          "2019-04-14",
          "2019-04-21",
          "2019-04-28",
          "2019-05-05",
          "2019-05-12",
          "2019-05-19",
          "2019-05-26",
          "2019-06-02",
          "2019-06-09",
          "2019-06-16",
          "2019-06-23",
          "2019-06-30",
          "2019-07-07",
          "2019-07-14",
          "2019-07-21",
          "2019-07-28",
          "2019-08-04",
          "2019-08-11",
          "2019-08-18",
          "2019-08-25",
          "2019-09-01",
          "2019-09-08",
          "2019-09-15",
          "2019-09-22",
          "2019-09-29",
          "2019-10-06",
          "2019-10-13",
          "2019-10-20",
          "2019-10-27",
          "2019-11-03",
          "2019-11-10",
          "2019-11-17",
          "2019-11-24",
          "2019-12-01"
         ],
         "y": [
          6439,
          7167,
          5847,
          4536,
          2623,
          1797,
          1601,
          5612,
          5589,
          6577,
          5273,
          4073,
          6659,
          6322,
          10889,
          4409,
          5341,
          7396,
          2964,
          6012,
          5338,
          5443,
          8179,
          4915,
          3013,
          3835,
          3902,
          2475,
          1029,
          6445,
          6773,
          4825,
          4958,
          4365,
          2854,
          7125,
          5831,
          4402,
          2887,
          3747,
          3507,
          2363,
          5348,
          4668,
          3305,
          5875,
          7064,
          5141
         ]
        },
        {
         "name": "3 cluster – Tax, weekly",
         "type": "scatter",
         "uid": "e6ec93ac-1b56-435d-8fe6-b0d16d2e539a",
         "x": [
          "2019-01-06",
          "2019-01-13",
          "2019-01-20",
          "2019-01-27",
          "2019-02-03",
          "2019-02-10",
          "2019-02-17",
          "2019-02-24",
          "2019-03-03",
          "2019-03-10",
          "2019-03-17",
          "2019-03-24",
          "2019-03-31",
          "2019-04-07",
          "2019-04-14",
          "2019-04-21",
          "2019-04-28",
          "2019-05-05",
          "2019-05-12",
          "2019-05-19",
          "2019-05-26",
          "2019-06-02",
          "2019-06-09",
          "2019-06-16",
          "2019-06-23",
          "2019-06-30",
          "2019-07-07",
          "2019-07-14",
          "2019-07-21",
          "2019-07-28",
          "2019-08-04",
          "2019-08-11",
          "2019-08-18",
          "2019-08-25",
          "2019-09-01",
          "2019-09-08",
          "2019-09-15",
          "2019-09-22",
          "2019-09-29",
          "2019-10-06",
          "2019-10-13",
          "2019-10-20",
          "2019-10-27",
          "2019-11-03",
          "2019-11-10",
          "2019-11-17",
          "2019-11-24",
          "2019-12-01"
         ],
         "y": [
          385.14997083502215,
          430.8039076402069,
          351.6763017636348,
          272.8013923762228,
          156.98265898627332,
          107.18318675486316,
          95.83453745395606,
          335.75886856250344,
          336.1309833367828,
          393.43667292536486,
          427.9286815389276,
          245.1666962055703,
          399.6758206315733,
          379.56293088017367,
          654.256132108288,
          263.6350049811342,
          320.69077064866633,
          442.9739765704267,
          190.3214459787761,
          359.52923431691767,
          319.1119220662606,
          326.6393546067632,
          575.1676724754657,
          295.0180830845972,
          180.5913805303146,
          229.88096672796394,
          233.23923213021578,
          148.59598218176183,
          61.97329234003974,
          387.3055787313657,
          406.039496194924,
          289.3382401313519,
          297.86973141495866,
          262.3030226788419,
          170.74185940319597,
          428.07307675461846,
          350.4209268827134,
          263.482435863064,
          173.35688620664723,
          224.56562767932897,
          210.15329325633655,
          141.90353769124792,
          321.5031637665168,
          279.5634002922815,
          198.50393539557882,
          352.73868196360934,
          423.434826656667,
          307.3655360066017
         ]
        }
       ],
       "layout": {
        "hovermode": "closest",
        "legend": {
         "font": {
          "size": 14
         },
         "orientation": "h",
         "x": 0.3,
         "y": -0.1
        },
        "showlegend": true,
        "title": {
         "text": "Aggregated signals, weekly"
        }
       }
      },
      "text/html": [
       "<div>\n",
       "        \n",
       "        \n",
       "            <div id=\"9eca6788-4d16-4548-a5eb-5448de1bc133\" class=\"plotly-graph-div\" style=\"height:525px; width:100%;\"></div>\n",
       "            <script type=\"text/javascript\">\n",
       "                require([\"plotly\"], function(Plotly) {\n",
       "                    window.PLOTLYENV=window.PLOTLYENV || {};\n",
       "                    window.PLOTLYENV.BASE_URL='https://plot.ly';\n",
       "                    \n",
       "                if (document.getElementById(\"9eca6788-4d16-4548-a5eb-5448de1bc133\")) {\n",
       "                    Plotly.newPlot(\n",
       "                        '9eca6788-4d16-4548-a5eb-5448de1bc133',\n",
       "                        [{\"name\": \"3 cluster \\u2013 Revenue, weekly\", \"type\": \"scatter\", \"uid\": \"5df1b2b3-b7c3-4e18-ac46-82bb7c3a7fa6\", \"x\": [\"2019-01-06\", \"2019-01-13\", \"2019-01-20\", \"2019-01-27\", \"2019-02-03\", \"2019-02-10\", \"2019-02-17\", \"2019-02-24\", \"2019-03-03\", \"2019-03-10\", \"2019-03-17\", \"2019-03-24\", \"2019-03-31\", \"2019-04-07\", \"2019-04-14\", \"2019-04-21\", \"2019-04-28\", \"2019-05-05\", \"2019-05-12\", \"2019-05-19\", \"2019-05-26\", \"2019-06-02\", \"2019-06-09\", \"2019-06-16\", \"2019-06-23\", \"2019-06-30\", \"2019-07-07\", \"2019-07-14\", \"2019-07-21\", \"2019-07-28\", \"2019-08-04\", \"2019-08-11\", \"2019-08-18\", \"2019-08-25\", \"2019-09-01\", \"2019-09-08\", \"2019-09-15\", \"2019-09-22\", \"2019-09-29\", \"2019-10-06\", \"2019-10-13\", \"2019-10-20\", \"2019-10-27\", \"2019-11-03\", \"2019-11-10\", \"2019-11-17\", \"2019-11-24\", \"2019-12-01\"], \"y\": [6439.0, 7167.0, 5847.0, 4536.0, 2623.0, 1797.0, 1601.0, 5612.0, 5589.0, 6577.0, 5273.0, 4073.0, 6659.0, 6322.0, 10889.0, 4409.0, 5341.0, 7396.0, 2964.0, 6012.0, 5338.0, 5443.0, 8179.0, 4915.0, 3013.0, 3835.0, 3902.0, 2475.0, 1029.0, 6445.0, 6773.0, 4825.0, 4958.0, 4365.0, 2854.0, 7125.0, 5831.0, 4402.0, 2887.0, 3747.0, 3507.0, 2363.0, 5348.0, 4668.0, 3305.0, 5875.0, 7064.0, 5141.0]}, {\"name\": \"3 cluster \\u2013 Tax, weekly\", \"type\": \"scatter\", \"uid\": \"e6ec93ac-1b56-435d-8fe6-b0d16d2e539a\", \"x\": [\"2019-01-06\", \"2019-01-13\", \"2019-01-20\", \"2019-01-27\", \"2019-02-03\", \"2019-02-10\", \"2019-02-17\", \"2019-02-24\", \"2019-03-03\", \"2019-03-10\", \"2019-03-17\", \"2019-03-24\", \"2019-03-31\", \"2019-04-07\", \"2019-04-14\", \"2019-04-21\", \"2019-04-28\", \"2019-05-05\", \"2019-05-12\", \"2019-05-19\", \"2019-05-26\", \"2019-06-02\", \"2019-06-09\", \"2019-06-16\", \"2019-06-23\", \"2019-06-30\", \"2019-07-07\", \"2019-07-14\", \"2019-07-21\", \"2019-07-28\", \"2019-08-04\", \"2019-08-11\", \"2019-08-18\", \"2019-08-25\", \"2019-09-01\", \"2019-09-08\", \"2019-09-15\", \"2019-09-22\", \"2019-09-29\", \"2019-10-06\", \"2019-10-13\", \"2019-10-20\", \"2019-10-27\", \"2019-11-03\", \"2019-11-10\", \"2019-11-17\", \"2019-11-24\", \"2019-12-01\"], \"y\": [385.14997083502215, 430.8039076402069, 351.6763017636348, 272.8013923762228, 156.98265898627332, 107.18318675486316, 95.83453745395606, 335.75886856250344, 336.1309833367828, 393.43667292536486, 427.9286815389276, 245.1666962055703, 399.6758206315733, 379.56293088017367, 654.256132108288, 263.6350049811342, 320.69077064866633, 442.9739765704267, 190.3214459787761, 359.52923431691767, 319.1119220662606, 326.6393546067632, 575.1676724754657, 295.0180830845972, 180.5913805303146, 229.88096672796394, 233.23923213021578, 148.59598218176183, 61.97329234003974, 387.3055787313657, 406.039496194924, 289.3382401313519, 297.86973141495866, 262.3030226788419, 170.74185940319597, 428.07307675461846, 350.4209268827134, 263.482435863064, 173.35688620664723, 224.56562767932897, 210.15329325633655, 141.90353769124792, 321.5031637665168, 279.5634002922815, 198.50393539557882, 352.73868196360934, 423.434826656667, 307.3655360066017]}],\n",
       "                        {\"hovermode\": \"closest\", \"legend\": {\"font\": {\"size\": 14}, \"orientation\": \"h\", \"x\": 0.3, \"y\": -0.1}, \"showlegend\": true, \"title\": {\"text\": \"Aggregated signals, weekly\"}},\n",
       "                        {\"showLink\": false, \"linkText\": \"Export to plot.ly\", \"plotlyServerURL\": \"https://plot.ly\", \"responsive\": true}\n",
       "                    ).then(function(){\n",
       "                            \n",
       "var gd = document.getElementById('9eca6788-4d16-4548-a5eb-5448de1bc133');\n",
       "var x = new MutationObserver(function (mutations, observer) {{\n",
       "        var display = window.getComputedStyle(gd).display;\n",
       "        if (!display || display === 'none') {{\n",
       "            console.log([gd, 'removed!']);\n",
       "            Plotly.purge(gd);\n",
       "            observer.disconnect();\n",
       "        }}\n",
       "}});\n",
       "\n",
       "// Listen for the removal of the full notebook cells\n",
       "var notebookContainer = gd.closest('#notebook-container');\n",
       "if (notebookContainer) {{\n",
       "    x.observe(notebookContainer, {childList: true});\n",
       "}}\n",
       "\n",
       "// Listen for the clearing of the current output cell\n",
       "var outputEl = gd.closest('.output');\n",
       "if (outputEl) {{\n",
       "    x.observe(outputEl, {childList: true});\n",
       "}}\n",
       "\n",
       "                        })\n",
       "                };\n",
       "                });\n",
       "            </script>\n",
       "        </div>"
      ]
     },
     "metadata": {},
     "output_type": "display_data"
    },
    {
     "name": "stdout",
     "output_type": "stream",
     "text": [
      "Correlation for given query and given shifts (0, 0) is           0.9859668968105235\n",
      "0.000832587854175838\n"
     ]
    },
    {
     "data": {
      "image/png": "[encoded data removed]",
      "text/plain": [
       "<Figure size 936x720 with 1 Axes>"
      ]
     },
     "metadata": {
      "needs_background": "light"
     },
     "output_type": "display_data"
    },
    {
     "name": "stdout",
     "output_type": "stream",
     "text": [
      "##############################\n",
      "Started aggregation...\n"
     ]
    },
    {
     "data": {
      "application/vnd.plotly.v1+json": {
       "config": {
        "linkText": "Export to plot.ly",
        "plotlyServerURL": "https://plot.ly",
        "showLink": false
       },
       "data": [
        {
         "name": "10 cluster – Revenue, 2D",
         "type": "scatter",
         "uid": "29b57dab-dd57-4b5b-aa08-bf0231a7e5c7",
         "x": [
          "2019-01-01",
          "2019-01-03",
          "2019-01-05",
          "2019-01-07",
          "2019-01-09",
          "2019-01-11",
          "2019-01-13",
          "2019-01-15",
          "2019-01-17",
          "2019-01-19",
          "2019-01-21",
          "2019-01-23",
          "2019-01-25",
          "2019-01-27",
          "2019-01-29",
          "2019-01-31",
          "2019-02-02",
          "2019-02-04",
          "2019-02-06",
          "2019-02-08",
          "2019-02-10",
          "2019-02-12",
          "2019-02-14",
          "2019-02-16",
          "2019-02-18",
          "2019-02-20",
          "2019-02-22",
          "2019-02-24",
          "2019-02-26",
          "2019-02-28",
          "2019-03-02",
          "2019-03-04",
          "2019-03-06",
          "2019-03-08",
          "2019-03-10",
          "2019-03-12",
          "2019-03-14",
          "2019-03-16",
          "2019-03-18",
          "2019-03-20",
          "2019-03-22",
          "2019-03-24",
          "2019-03-26",
          "2019-03-28",
          "2019-03-30",
          "2019-04-01",
          "2019-04-03",
          "2019-04-05",
          "2019-04-07",
          "2019-04-09",
          "2019-04-11",
          "2019-04-13",
          "2019-04-15",
          "2019-04-17",
          "2019-04-19",
          "2019-04-21",
          "2019-04-23",
          "2019-04-25",
          "2019-04-27",
          "2019-04-29",
          "2019-05-01",
          "2019-05-03",
          "2019-05-05",
          "2019-05-07",
          "2019-05-09",
          "2019-05-11",
          "2019-05-13",
          "2019-05-15",
          "2019-05-17",
          "2019-05-19",
          "2019-05-21",
          "2019-05-23",
          "2019-05-25",
          "2019-05-27",
          "2019-05-29",
          "2019-05-31",
          "2019-06-02",
          "2019-06-04",
          "2019-06-06",
          "2019-06-08",
          "2019-06-10",
          "2019-06-12",
          "2019-06-14",
          "2019-06-16",
          "2019-06-18",
          "2019-06-20",
          "2019-06-22",
          "2019-06-24",
          "2019-06-26",
          "2019-06-28",
          "2019-06-30",
          "2019-07-02",
          "2019-07-04",
          "2019-07-06",
          "2019-07-08",
          "2019-07-10",
          "2019-07-12",
          "2019-07-14",
          "2019-07-16",
          "2019-07-18",
          "2019-07-20",
          "2019-07-22",
          "2019-07-24",
          "2019-07-26",
          "2019-07-28",
          "2019-07-30",
          "2019-08-01",
          "2019-08-03",
          "2019-08-05",
          "2019-08-07",
          "2019-08-09",
          "2019-08-11",
          "2019-08-13",
          "2019-08-15",
          "2019-08-17",
          "2019-08-19",
          "2019-08-21",
          "2019-08-23",
          "2019-08-25",
          "2019-08-27",
          "2019-08-29",
          "2019-08-31",
          "2019-09-02",
          "2019-09-04",
          "2019-09-06",
          "2019-09-08",
          "2019-09-10",
          "2019-09-12",
          "2019-09-14",
          "2019-09-16",
          "2019-09-18",
          "2019-09-20",
          "2019-09-22",
          "2019-09-24",
          "2019-09-26",
          "2019-09-28",
          "2019-09-30",
          "2019-10-02"
         ],
         "y": [
          1657,
          3342,
          3687,
          0,
          3609,
          1896,
          3267,
          2952,
          1567,
          2865,
          2582,
          1285,
          1075,
          1481,
          1440,
          1189,
          1299,
          657,
          1079,
          664,
          508,
          2858,
          1035,
          3854,
          1362,
          2631,
          1830,
          837,
          1150,
          549,
          1865,
          2726,
          1166,
          3502,
          1766,
          1581,
          1859,
          1140,
          846,
          1453,
          4260,
          812,
          2514,
          2474,
          1890,
          720,
          835,
          1735,
          2913,
          2321,
          2065,
          3807,
          2397,
          2380,
          2204,
          2543,
          426,
          606,
          2538,
          773,
          1949,
          3120,
          5161,
          2501,
          2350,
          1403,
          1375,
          2329,
          3431,
          287,
          3569,
          1061,
          259,
          2003,
          3734,
          42,
          910,
          794,
          1227,
          1937,
          935,
          2006,
          4356,
          0,
          1635,
          1359,
          758,
          1035,
          1512,
          1390,
          1596,
          2476,
          1707,
          1038,
          806,
          2236,
          991,
          3258,
          970,
          3703,
          0,
          2379,
          578,
          2702,
          0,
          814,
          2461,
          946,
          2272,
          4742,
          935,
          575,
          4744,
          81,
          1640,
          547,
          3622,
          2628,
          1512,
          2368,
          1055,
          3318,
          1843,
          2049,
          1313,
          1226,
          1220,
          2840,
          891,
          1914,
          383,
          3610,
          1018,
          1518,
          2065,
          156,
          1411,
          1547
         ]
        },
        {
         "name": "10 cluster – Tax, 2D",
         "type": "scatter",
         "uid": "9e4e8998-1b9b-4a87-a6cf-0bfa7dab980e",
         "x": [
          "2019-01-01",
          "2019-01-03",
          "2019-01-05",
          "2019-01-07",
          "2019-01-09",
          "2019-01-11",
          "2019-01-13",
          "2019-01-15",
          "2019-01-17",
          "2019-01-19",
          "2019-01-21",
          "2019-01-23",
          "2019-01-25",
          "2019-01-27",
          "2019-01-29",
          "2019-01-31",
          "2019-02-02",
          "2019-02-04",
          "2019-02-06",
          "2019-02-08",
          "2019-02-10",
          "2019-02-12",
          "2019-02-14",
          "2019-02-16",
          "2019-02-18",
          "2019-02-20",
          "2019-02-22",
          "2019-02-24",
          "2019-02-26",
          "2019-02-28",
          "2019-03-02",
          "2019-03-04",
          "2019-03-06",
          "2019-03-08",
          "2019-03-10",
          "2019-03-12",
          "2019-03-14",
          "2019-03-16",
          "2019-03-18",
          "2019-03-20",
          "2019-03-22",
          "2019-03-24",
          "2019-03-26",
          "2019-03-28",
          "2019-03-30",
          "2019-04-01",
          "2019-04-03",
          "2019-04-05",
          "2019-04-07",
          "2019-04-09",
          "2019-04-11",
          "2019-04-13",
          "2019-04-15",
          "2019-04-17",
          "2019-04-19",
          "2019-04-21",
          "2019-04-23",
          "2019-04-25",
          "2019-04-27",
          "2019-04-29",
          "2019-05-01",
          "2019-05-03",
          "2019-05-05",
          "2019-05-07",
          "2019-05-09",
          "2019-05-11",
          "2019-05-13",
          "2019-05-15",
          "2019-05-17",
          "2019-05-19",
          "2019-05-21",
          "2019-05-23",
          "2019-05-25",
          "2019-05-27",
          "2019-05-29",
          "2019-05-31",
          "2019-06-02",
          "2019-06-04",
          "2019-06-06",
          "2019-06-08",
          "2019-06-10",
          "2019-06-12",
          "2019-06-14",
          "2019-06-16",
          "2019-06-18",
          "2019-06-20",
          "2019-06-22",
          "2019-06-24",
          "2019-06-26",
          "2019-06-28",
          "2019-06-30",
          "2019-07-02",
          "2019-07-04",
          "2019-07-06",
          "2019-07-08",
          "2019-07-10",
          "2019-07-12",
          "2019-07-14",
          "2019-07-16",
          "2019-07-18",
          "2019-07-20",
          "2019-07-22",
          "2019-07-24",
          "2019-07-26",
          "2019-07-28",
          "2019-07-30",
          "2019-08-01",
          "2019-08-03",
          "2019-08-05",
          "2019-08-07",
          "2019-08-09",
          "2019-08-11",
          "2019-08-13",
          "2019-08-15",
          "2019-08-17",
          "2019-08-19",
          "2019-08-21",
          "2019-08-23",
          "2019-08-25",
          "2019-08-27",
          "2019-08-29",
          "2019-08-31",
          "2019-09-02",
          "2019-09-04",
          "2019-09-06",
          "2019-09-08",
          "2019-09-10",
          "2019-09-12",
          "2019-09-14",
          "2019-09-16",
          "2019-09-18",
          "2019-09-20",
          "2019-09-22",
          "2019-09-24",
          "2019-09-26",
          "2019-09-28",
          "2019-09-30",
          "2019-10-02"
         ],
         "y": [
          348.75051999559196,
          704.4478967839983,
          775.4295142999472,
          0,
          760.8841852652002,
          397.6938636961379,
          684.1459869533824,
          617.297269982053,
          327.8822761204526,
          601.0512807695775,
          541.6853980010526,
          269.89233921639266,
          225.1716258502875,
          311.96686649069284,
          303.64304655097453,
          250.1489217607234,
          274.80472449956324,
          137.24033931326377,
          226.94492316440483,
          139.29142998956874,
          106.4274117235341,
          597.8698958891943,
          217.56468006718546,
          806.6692826410086,
          287.8782939040603,
          548.6834411651889,
          383.17644991533007,
          177.36916332911053,
          240.73649971161026,
          115.29455298379837,
          392.19972853064456,
          573.7437672111092,
          246.31726028569392,
          738.2470244530423,
          371.0099692523429,
          331.6232849829351,
          389.86890883557686,
          239.59875154653975,
          179.37954429011512,
          304.7799778373239,
          896.5677975559914,
          170.54544951154978,
          527.36788513446,
          519.6110249260784,
          395.96454204292814,
          152.30131232347296,
          175.51623733860148,
          364.65833957375037,
          611.4719482464039,
          487.39032300783583,
          432.20420611057824,
          795.207609277817,
          504.30362497409874,
          501.0016918086718,
          463.69518446519555,
          533.0135844007809,
          89.04205072188736,
          127.62792636669067,
          534.419726611126,
          161.96204742853666,
          408.13038447862914,
          654.0823770896905,
          1058.1967159658825,
          525.511880092056,
          492.2283749578871,
          294.88720392116403,
          288.47979199740405,
          487.204627451123,
          722.7542458439561,
          59.82203834750587,
          750.0231942092009,
          223.62094476905907,
          53.975660284744905,
          419.58726746373577,
          782.0925472785261,
          8.796536731769502,
          191.42739734306573,
          167.70587366313305,
          259.7350476558336,
          406.3139748936669,
          195.58954145357035,
          421.35011772033874,
          914.0464932306454,
          0,
          343.08264182689516,
          285.5413947368005,
          158.6421928855072,
          217.4963162579433,
          319.06718807616113,
          290.1628241006483,
          335.9630488106993,
          520.0663818687102,
          358.5732016429955,
          218.14987388639048,
          167.64676753882287,
          469.6733619275331,
          208.18248017154355,
          682.0452298888067,
          202.58614689809866,
          780.7125009739812,
          0,
          500.0414337142721,
          121.06005620317273,
          564.9994960467014,
          0,
          170.49348351819566,
          518.2376921414527,
          197.48836288569547,
          476.95622596070643,
          994.3469699764867,
          196.6774937302722,
          121.27576961331448,
          993.5049458790064,
          17.148333609475856,
          346.7295547273778,
          114.34123836482331,
          763.779610821816,
          552.7590305893603,
          318.6240894660195,
          495.4497879200036,
          219.8893011109851,
          697.8405048845482,
          386.24657567278456,
          429.52721569151254,
          276.7023009358767,
          256.2389785067609,
          256.5028573320655,
          595.0045182863894,
          186.66906311033694,
          319.18951202279106,
          81.10656830849139,
          757.3858976884688,
          212.52807649002483,
          319.2366690767455,
          433.3747477257794,
          33.051612447730875,
          296.59832844221705,
          325.7282432400676
         ]
        }
       ],
       "layout": {
        "hovermode": "closest",
        "legend": {
         "font": {
          "size": 14
         },
         "orientation": "h",
         "x": 0.3,
         "y": -0.1
        },
        "showlegend": true,
        "title": {
         "text": "Aggregated signals, 2D"
        }
       }
      },
      "text/html": [
       "<div>\n",
       "        \n",
       "        \n",
       "            <div id=\"f98584c0-1010-48a3-9fe4-33c61286ead4\" class=\"plotly-graph-div\" style=\"height:525px; width:100%;\"></div>\n",
       "            <script type=\"text/javascript\">\n",
       "                require([\"plotly\"], function(Plotly) {\n",
       "                    window.PLOTLYENV=window.PLOTLYENV || {};\n",
       "                    window.PLOTLYENV.BASE_URL='https://plot.ly';\n",
       "                    \n",
       "                if (document.getElementById(\"f98584c0-1010-48a3-9fe4-33c61286ead4\")) {\n",
       "                    Plotly.newPlot(\n",
       "                        'f98584c0-1010-48a3-9fe4-33c61286ead4',\n",
       "                        [{\"name\": \"10 cluster \\u2013 Revenue, 2D\", \"type\": \"scatter\", \"uid\": \"29b57dab-dd57-4b5b-aa08-bf0231a7e5c7\", \"x\": [\"2019-01-01\", \"2019-01-03\", \"2019-01-05\", \"2019-01-07\", \"2019-01-09\", \"2019-01-11\", \"2019-01-13\", \"2019-01-15\", \"2019-01-17\", \"2019-01-19\", \"2019-01-21\", \"2019-01-23\", \"2019-01-25\", \"2019-01-27\", \"2019-01-29\", \"2019-01-31\", \"2019-02-02\", \"2019-02-04\", \"2019-02-06\", \"2019-02-08\", \"2019-02-10\", \"2019-02-12\", \"2019-02-14\", \"2019-02-16\", \"2019-02-18\", \"2019-02-20\", \"2019-02-22\", \"2019-02-24\", \"2019-02-26\", \"2019-02-28\", \"2019-03-02\", \"2019-03-04\", \"2019-03-06\", \"2019-03-08\", \"2019-03-10\", \"2019-03-12\", \"2019-03-14\", \"2019-03-16\", \"2019-03-18\", \"2019-03-20\", \"2019-03-22\", \"2019-03-24\", \"2019-03-26\", \"2019-03-28\", \"2019-03-30\", \"2019-04-01\", \"2019-04-03\", \"2019-04-05\", \"2019-04-07\", \"2019-04-09\", \"2019-04-11\", \"2019-04-13\", \"2019-04-15\", \"2019-04-17\", \"2019-04-19\", \"2019-04-21\", \"2019-04-23\", \"2019-04-25\", \"2019-04-27\", \"2019-04-29\", \"2019-05-01\", \"2019-05-03\", \"2019-05-05\", \"2019-05-07\", \"2019-05-09\", \"2019-05-11\", \"2019-05-13\", \"2019-05-15\", \"2019-05-17\", \"2019-05-19\", \"2019-05-21\", \"2019-05-23\", \"2019-05-25\", \"2019-05-27\", \"2019-05-29\", \"2019-05-31\", \"2019-06-02\", \"2019-06-04\", \"2019-06-06\", \"2019-06-08\", \"2019-06-10\", \"2019-06-12\", \"2019-06-14\", \"2019-06-16\", \"2019-06-18\", \"2019-06-20\", \"2019-06-22\", \"2019-06-24\", \"2019-06-26\", \"2019-06-28\", \"2019-06-30\", \"2019-07-02\", \"2019-07-04\", \"2019-07-06\", \"2019-07-08\", \"2019-07-10\", \"2019-07-12\", \"2019-07-14\", \"2019-07-16\", \"2019-07-18\", \"2019-07-20\", \"2019-07-22\", \"2019-07-24\", \"2019-07-26\", \"2019-07-28\", \"2019-07-30\", \"2019-08-01\", \"2019-08-03\", \"2019-08-05\", \"2019-08-07\", \"2019-08-09\", \"2019-08-11\", \"2019-08-13\", \"2019-08-15\", \"2019-08-17\", \"2019-08-19\", \"2019-08-21\", \"2019-08-23\", \"2019-08-25\", \"2019-08-27\", \"2019-08-29\", \"2019-08-31\", \"2019-09-02\", \"2019-09-04\", \"2019-09-06\", \"2019-09-08\", \"2019-09-10\", \"2019-09-12\", \"2019-09-14\", \"2019-09-16\", \"2019-09-18\", \"2019-09-20\", \"2019-09-22\", \"2019-09-24\", \"2019-09-26\", \"2019-09-28\", \"2019-09-30\", \"2019-10-02\"], \"y\": [1657.0, 3342.0, 3687.0, 0.0, 3609.0, 1896.0, 3267.0, 2952.0, 1567.0, 2865.0, 2582.0, 1285.0, 1075.0, 1481.0, 1440.0, 1189.0, 1299.0, 657.0, 1079.0, 664.0, 508.0, 2858.0, 1035.0, 3854.0, 1362.0, 2631.0, 1830.0, 837.0, 1150.0, 549.0, 1865.0, 2726.0, 1166.0, 3502.0, 1766.0, 1581.0, 1859.0, 1140.0, 846.0, 1453.0, 4260.0, 812.0, 2514.0, 2474.0, 1890.0, 720.0, 835.0, 1735.0, 2913.0, 2321.0, 2065.0, 3807.0, 2397.0, 2380.0, 2204.0, 2543.0, 426.0, 606.0, 2538.0, 773.0, 1949.0, 3120.0, 5161.0, 2501.0, 2350.0, 1403.0, 1375.0, 2329.0, 3431.0, 287.0, 3569.0, 1061.0, 259.0, 2003.0, 3734.0, 42.0, 910.0, 794.0, 1227.0, 1937.0, 935.0, 2006.0, 4356.0, 0.0, 1635.0, 1359.0, 758.0, 1035.0, 1512.0, 1390.0, 1596.0, 2476.0, 1707.0, 1038.0, 806.0, 2236.0, 991.0, 3258.0, 970.0, 3703.0, 0.0, 2379.0, 578.0, 2702.0, 0.0, 814.0, 2461.0, 946.0, 2272.0, 4742.0, 935.0, 575.0, 4744.0, 81.0, 1640.0, 547.0, 3622.0, 2628.0, 1512.0, 2368.0, 1055.0, 3318.0, 1843.0, 2049.0, 1313.0, 1226.0, 1220.0, 2840.0, 891.0, 1914.0, 383.0, 3610.0, 1018.0, 1518.0, 2065.0, 156.0, 1411.0, 1547.0]}, {\"name\": \"10 cluster \\u2013 Tax, 2D\", \"type\": \"scatter\", \"uid\": \"9e4e8998-1b9b-4a87-a6cf-0bfa7dab980e\", \"x\": [\"2019-01-01\", \"2019-01-03\", \"2019-01-05\", \"2019-01-07\", \"2019-01-09\", \"2019-01-11\", \"2019-01-13\", \"2019-01-15\", \"2019-01-17\", \"2019-01-19\", \"2019-01-21\", \"2019-01-23\", \"2019-01-25\", \"2019-01-27\", \"2019-01-29\", \"2019-01-31\", \"2019-02-02\", \"2019-02-04\", \"2019-02-06\", \"2019-02-08\", \"2019-02-10\", \"2019-02-12\", \"2019-02-14\", \"2019-02-16\", \"2019-02-18\", \"2019-02-20\", \"2019-02-22\", \"2019-02-24\", \"2019-02-26\", \"2019-02-28\", \"2019-03-02\", \"2019-03-04\", \"2019-03-06\", \"2019-03-08\", \"2019-03-10\", \"2019-03-12\", \"2019-03-14\", \"2019-03-16\", \"2019-03-18\", \"2019-03-20\", \"2019-03-22\", \"2019-03-24\", \"2019-03-26\", \"2019-03-28\", \"2019-03-30\", \"2019-04-01\", \"2019-04-03\", \"2019-04-05\", \"2019-04-07\", \"2019-04-09\", \"2019-04-11\", \"2019-04-13\", \"2019-04-15\", \"2019-04-17\", \"2019-04-19\", \"2019-04-21\", \"2019-04-23\", \"2019-04-25\", \"2019-04-27\", \"2019-04-29\", \"2019-05-01\", \"2019-05-03\", \"2019-05-05\", \"2019-05-07\", \"2019-05-09\", \"2019-05-11\", \"2019-05-13\", \"2019-05-15\", \"2019-05-17\", \"2019-05-19\", \"2019-05-21\", \"2019-05-23\", \"2019-05-25\", \"2019-05-27\", \"2019-05-29\", \"2019-05-31\", \"2019-06-02\", \"2019-06-04\", \"2019-06-06\", \"2019-06-08\", \"2019-06-10\", \"2019-06-12\", \"2019-06-14\", \"2019-06-16\", \"2019-06-18\", \"2019-06-20\", \"2019-06-22\", \"2019-06-24\", \"2019-06-26\", \"2019-06-28\", \"2019-06-30\", \"2019-07-02\", \"2019-07-04\", \"2019-07-06\", \"2019-07-08\", \"2019-07-10\", \"2019-07-12\", \"2019-07-14\", \"2019-07-16\", \"2019-07-18\", \"2019-07-20\", \"2019-07-22\", \"2019-07-24\", \"2019-07-26\", \"2019-07-28\", \"2019-07-30\", \"2019-08-01\", \"2019-08-03\", \"2019-08-05\", \"2019-08-07\", \"2019-08-09\", \"2019-08-11\", \"2019-08-13\", \"2019-08-15\", \"2019-08-17\", \"2019-08-19\", \"2019-08-21\", \"2019-08-23\", \"2019-08-25\", \"2019-08-27\", \"2019-08-29\", \"2019-08-31\", \"2019-09-02\", \"2019-09-04\", \"2019-09-06\", \"2019-09-08\", \"2019-09-10\", \"2019-09-12\", \"2019-09-14\", \"2019-09-16\", \"2019-09-18\", \"2019-09-20\", \"2019-09-22\", \"2019-09-24\", \"2019-09-26\", \"2019-09-28\", \"2019-09-30\", \"2019-10-02\"], \"y\": [348.75051999559196, 704.4478967839983, 775.4295142999472, 0.0, 760.8841852652002, 397.6938636961379, 684.1459869533824, 617.297269982053, 327.8822761204526, 601.0512807695775, 541.6853980010526, 269.89233921639266, 225.1716258502875, 311.96686649069284, 303.64304655097453, 250.1489217607234, 274.80472449956324, 137.24033931326377, 226.94492316440483, 139.29142998956874, 106.4274117235341, 597.8698958891943, 217.56468006718546, 806.6692826410086, 287.8782939040603, 548.6834411651889, 383.17644991533007, 177.36916332911053, 240.73649971161026, 115.29455298379837, 392.19972853064456, 573.7437672111092, 246.31726028569392, 738.2470244530423, 371.0099692523429, 331.6232849829351, 389.86890883557686, 239.59875154653975, 179.37954429011512, 304.7799778373239, 896.5677975559914, 170.54544951154978, 527.36788513446, 519.6110249260784, 395.96454204292814, 152.30131232347296, 175.51623733860148, 364.65833957375037, 611.4719482464039, 487.39032300783583, 432.20420611057824, 795.207609277817, 504.30362497409874, 501.0016918086718, 463.69518446519555, 533.0135844007809, 89.04205072188736, 127.62792636669067, 534.419726611126, 161.96204742853666, 408.13038447862914, 654.0823770896905, 1058.1967159658825, 525.511880092056, 492.2283749578871, 294.88720392116403, 288.47979199740405, 487.204627451123, 722.7542458439561, 59.82203834750587, 750.0231942092009, 223.62094476905907, 53.975660284744905, 419.58726746373577, 782.0925472785261, 8.796536731769502, 191.42739734306573, 167.70587366313305, 259.7350476558336, 406.3139748936669, 195.58954145357035, 421.35011772033874, 914.0464932306454, 0.0, 343.08264182689516, 285.5413947368005, 158.6421928855072, 217.4963162579433, 319.06718807616113, 290.1628241006483, 335.9630488106993, 520.0663818687102, 358.5732016429955, 218.14987388639048, 167.64676753882287, 469.6733619275331, 208.18248017154355, 682.0452298888067, 202.58614689809866, 780.7125009739812, 0.0, 500.0414337142721, 121.06005620317273, 564.9994960467014, 0.0, 170.49348351819566, 518.2376921414527, 197.48836288569547, 476.95622596070643, 994.3469699764867, 196.6774937302722, 121.27576961331448, 993.5049458790064, 17.148333609475856, 346.7295547273778, 114.34123836482331, 763.779610821816, 552.7590305893603, 318.6240894660195, 495.4497879200036, 219.8893011109851, 697.8405048845482, 386.24657567278456, 429.52721569151254, 276.7023009358767, 256.2389785067609, 256.5028573320655, 595.0045182863894, 186.66906311033694, 319.18951202279106, 81.10656830849139, 757.3858976884688, 212.52807649002483, 319.2366690767455, 433.3747477257794, 33.051612447730875, 296.59832844221705, 325.7282432400676]}],\n",
       "                        {\"hovermode\": \"closest\", \"legend\": {\"font\": {\"size\": 14}, \"orientation\": \"h\", \"x\": 0.3, \"y\": -0.1}, \"showlegend\": true, \"title\": {\"text\": \"Aggregated signals, 2D\"}},\n",
       "                        {\"showLink\": false, \"linkText\": \"Export to plot.ly\", \"plotlyServerURL\": \"https://plot.ly\", \"responsive\": true}\n",
       "                    ).then(function(){\n",
       "                            \n",
       "var gd = document.getElementById('f98584c0-1010-48a3-9fe4-33c61286ead4');\n",
       "var x = new MutationObserver(function (mutations, observer) {{\n",
       "        var display = window.getComputedStyle(gd).display;\n",
       "        if (!display || display === 'none') {{\n",
       "            console.log([gd, 'removed!']);\n",
       "            Plotly.purge(gd);\n",
       "            observer.disconnect();\n",
       "        }}\n",
       "}});\n",
       "\n",
       "// Listen for the removal of the full notebook cells\n",
       "var notebookContainer = gd.closest('#notebook-container');\n",
       "if (notebookContainer) {{\n",
       "    x.observe(notebookContainer, {childList: true});\n",
       "}}\n",
       "\n",
       "// Listen for the clearing of the current output cell\n",
       "var outputEl = gd.closest('.output');\n",
       "if (outputEl) {{\n",
       "    x.observe(outputEl, {childList: true});\n",
       "}}\n",
       "\n",
       "                        })\n",
       "                };\n",
       "                });\n",
       "            </script>\n",
       "        </div>"
      ]
     },
     "metadata": {},
     "output_type": "display_data"
    },
    {
     "name": "stdout",
     "output_type": "stream",
     "text": [
      "Correlation for given query and given shifts (0, 0) is           0.9995012690358113\n",
      "4.594241841935269e-05\n"
     ]
    },
    {
     "data": {
      "image/png": "[encoded data removed]",
      "text/plain": [
       "<Figure size 936x720 with 1 Axes>"
      ]
     },
     "metadata": {
      "needs_background": "light"
     },
     "output_type": "display_data"
    }
   ],
   "source": [
    "# ~Sales both\n",
    "constructSignals(df_all, query=[{\"select\": [3, 10], \n",
    "                              \"_with\": {\"FA_Name\": \"Revenue\"}}, \n",
    "                                {\"select\": [3, 10], \"_with\": {\"FA_Name\": \"Tax\"}}], on=\"label\", agg_period=\"W\", title=\"aFSN_both_Tax-Revenue\")\n",
    "# ~Sales 6 btw\n",
    "constructSignals(df_all, query=[{\"select\": [3], \n",
    "                              \"_with\": {\"FA_Name\": \"Revenue\"}}, \n",
    "                                {\"select\": [3], \"_with\": {\"FA_Name\": \"Tax\"}}], on=\"label\", agg_period=\"W\",  title=\"aFSN_Tax6-Revenue\")\n",
    "# Another Sales group, ~Sales 21 btw\n",
    "print(\"##############################\")\n",
    "constructSignals(df_all, query=[{\"select\": [10], \n",
    "                              \"_with\": {\"FA_Name\": \"Revenue\"}}, \n",
    "                                {\"select\": [10], \"_with\": {\"FA_Name\": \"Tax\"}}], on=\"label\", agg_period=\"2D\",  title=\"aFSN_Tax21-Revenue\")"
   ]
  },
  {
   "cell_type": "markdown",
   "metadata": {},
   "source": [
    "# Trade receivables plausible relationship, from Marcel's paper"
   ]
  },
  {
   "cell_type": "markdown",
   "metadata": {},
   "source": [
    "## Trade receivables plausible relationship on FA Names\n",
    "Credit-debit model (CD) which uses only the in- and outflow but no process information"
   ]
  },
  {
   "cell_type": "code",
   "execution_count": 582,
   "metadata": {},
   "outputs": [
    {
     "name": "stdout",
     "output_type": "stream",
     "text": [
      "Started aggregation...\n"
     ]
    },
    {
     "data": {
      "application/vnd.plotly.v1+json": {
       "config": {
        "linkText": "Export to plot.ly",
        "plotlyServerURL": "https://plot.ly",
        "showLink": false
       },
       "data": [
        {
         "name": "'ALL' cluster – TradeReceivables, weekly",
         "type": "scatter",
         "uid": "3209019b-9c47-4a50-9d6d-05f85879ef91",
         "x": [
          "2019-01-06",
          "2019-01-13",
          "2019-01-20",
          "2019-01-27",
          "2019-02-03",
          "2019-02-10",
          "2019-02-17",
          "2019-02-24",
          "2019-03-03",
          "2019-03-10",
          "2019-03-17",
          "2019-03-24",
          "2019-03-31",
          "2019-04-07",
          "2019-04-14",
          "2019-04-21",
          "2019-04-28",
          "2019-05-05",
          "2019-05-12",
          "2019-05-19",
          "2019-05-26",
          "2019-06-02",
          "2019-06-09",
          "2019-06-16",
          "2019-06-23",
          "2019-06-30",
          "2019-07-07",
          "2019-07-14",
          "2019-07-21",
          "2019-07-28",
          "2019-08-04",
          "2019-08-11",
          "2019-08-18",
          "2019-08-25",
          "2019-09-01",
          "2019-09-08",
          "2019-09-15",
          "2019-09-22",
          "2019-09-29",
          "2019-10-06",
          "2019-10-13",
          "2019-10-20",
          "2019-10-27",
          "2019-11-03",
          "2019-11-10",
          "2019-11-17",
          "2019-11-24",
          "2019-12-01"
         ],
         "y": [
          10102.129647632366,
          15761.106577124394,
          13821.13148095813,
          14792.346237004002,
          16614.082052185084,
          4362.741572387551,
          10674.913516752002,
          13113.420702526142,
          10338.876655567914,
          11116.882996460097,
          13021.781108990766,
          16314.493735435899,
          17568.21810818981,
          10989.282534876083,
          22645.968482099765,
          12415.133009171721,
          16605.782692738314,
          18533.323419228785,
          17795.73534171066,
          14563.277970723426,
          12958.291361557758,
          12129.666804547694,
          14830.90731466004,
          12704.82236737845,
          11125.210182692133,
          8525.221865944814,
          14196.602125303461,
          10639.223795899126,
          9270.292354283463,
          8279.500717587804,
          16220.190239696134,
          11342.479030698703,
          11847.555943497218,
          17492.141726625283,
          10841.649095894969,
          14407.100389083887,
          14986.691121736718,
          12239.173747278148,
          11448.87470906186,
          11109.021975035985,
          9778.420400913952,
          2292.8478111241043,
          7449.72226305057,
          4582.687012022618,
          4407.332557227122,
          6828.972926196595,
          7508.63399208645,
          2487.1285555583845
         ]
        },
        {
         "name": "'ALL' cluster – TradeReceivables, weekly",
         "type": "scatter",
         "uid": "f77e0b05-1351-4ad6-9ebc-e952fb9a787f",
         "x": [
          "2019-01-06",
          "2019-01-13",
          "2019-01-20",
          "2019-01-27",
          "2019-02-03",
          "2019-02-10",
          "2019-02-17",
          "2019-02-24",
          "2019-03-03",
          "2019-03-10",
          "2019-03-17",
          "2019-03-24",
          "2019-03-31",
          "2019-04-07",
          "2019-04-14",
          "2019-04-21",
          "2019-04-28",
          "2019-05-05",
          "2019-05-12",
          "2019-05-19",
          "2019-05-26",
          "2019-06-02",
          "2019-06-09",
          "2019-06-16",
          "2019-06-23",
          "2019-06-30",
          "2019-07-07",
          "2019-07-14",
          "2019-07-21",
          "2019-07-28",
          "2019-08-04",
          "2019-08-11",
          "2019-08-18",
          "2019-08-25",
          "2019-09-01",
          "2019-09-08",
          "2019-09-15",
          "2019-09-22",
          "2019-09-29",
          "2019-10-06",
          "2019-10-13",
          "2019-10-20",
          "2019-10-27",
          "2019-11-03",
          "2019-11-10",
          "2019-11-17",
          "2019-11-24",
          "2019-12-01"
         ],
         "y": [
          10474.927824457793,
          18795.317337021337,
          16899.605087599146,
          8210.957961448397,
          8382.393964484347,
          6469.66610501287,
          13361.958885585867,
          12751.968627109281,
          12892.669922024275,
          15470.983424468048,
          9746.811067588824,
          15011.860326282767,
          14895.794648614414,
          16695.77826803198,
          19804.62034130899,
          13003.660565717544,
          14348.595669024415,
          17627.264817197265,
          12712.38977452924,
          13865.466612152502,
          15303.466565968021,
          10537.822017674276,
          13120.896519041175,
          15039.165972245184,
          6794.814356360106,
          12117.598675717583,
          8456.537173729765,
          10386.811700319946,
          10876.457257368575,
          12032.311114390359,
          13893.352306187935,
          14940.952588003862,
          10785.199395720358,
          15091.475312377155,
          12851.02666513969,
          14282.70087395339,
          13559.7514786733,
          10985.229621114382,
          8481.330079494825,
          5952.27150892967,
          2543.520147246203,
          5441.584515684324,
          3491.72324250539,
          5270.151855742428,
          2891.2390388164085,
          7474.933164692577,
          8345.725020583948,
          2960.8459841696704
         ]
        }
       ],
       "layout": {
        "hovermode": "closest",
        "legend": {
         "font": {
          "size": 14
         },
         "orientation": "h",
         "x": 0.3,
         "y": -0.1
        },
        "showlegend": true,
        "title": {
         "text": "Aggregated signals, weekly"
        }
       }
      },
      "text/html": [
       "<div>\n",
       "        \n",
       "        \n",
       "            <div id=\"ee2db611-29c3-4f7c-bbc7-61b8da077e34\" class=\"plotly-graph-div\" style=\"height:525px; width:100%;\"></div>\n",
       "            <script type=\"text/javascript\">\n",
       "                require([\"plotly\"], function(Plotly) {\n",
       "                    window.PLOTLYENV=window.PLOTLYENV || {};\n",
       "                    window.PLOTLYENV.BASE_URL='https://plot.ly';\n",
       "                    \n",
       "                if (document.getElementById(\"ee2db611-29c3-4f7c-bbc7-61b8da077e34\")) {\n",
       "                    Plotly.newPlot(\n",
       "                        'ee2db611-29c3-4f7c-bbc7-61b8da077e34',\n",
       "                        [{\"name\": \"'ALL' cluster \\u2013 TradeReceivables, weekly\", \"type\": \"scatter\", \"uid\": \"3209019b-9c47-4a50-9d6d-05f85879ef91\", \"x\": [\"2019-01-06\", \"2019-01-13\", \"2019-01-20\", \"2019-01-27\", \"2019-02-03\", \"2019-02-10\", \"2019-02-17\", \"2019-02-24\", \"2019-03-03\", \"2019-03-10\", \"2019-03-17\", \"2019-03-24\", \"2019-03-31\", \"2019-04-07\", \"2019-04-14\", \"2019-04-21\", \"2019-04-28\", \"2019-05-05\", \"2019-05-12\", \"2019-05-19\", \"2019-05-26\", \"2019-06-02\", \"2019-06-09\", \"2019-06-16\", \"2019-06-23\", \"2019-06-30\", \"2019-07-07\", \"2019-07-14\", \"2019-07-21\", \"2019-07-28\", \"2019-08-04\", \"2019-08-11\", \"2019-08-18\", \"2019-08-25\", \"2019-09-01\", \"2019-09-08\", \"2019-09-15\", \"2019-09-22\", \"2019-09-29\", \"2019-10-06\", \"2019-10-13\", \"2019-10-20\", \"2019-10-27\", \"2019-11-03\", \"2019-11-10\", \"2019-11-17\", \"2019-11-24\", \"2019-12-01\"], \"y\": [10102.129647632366, 15761.106577124394, 13821.13148095813, 14792.346237004002, 16614.082052185084, 4362.741572387551, 10674.913516752002, 13113.420702526142, 10338.876655567914, 11116.882996460097, 13021.781108990766, 16314.493735435899, 17568.21810818981, 10989.282534876083, 22645.968482099765, 12415.133009171721, 16605.782692738314, 18533.323419228785, 17795.73534171066, 14563.277970723426, 12958.291361557758, 12129.666804547694, 14830.90731466004, 12704.82236737845, 11125.210182692133, 8525.221865944814, 14196.602125303461, 10639.223795899126, 9270.292354283463, 8279.500717587804, 16220.190239696134, 11342.479030698703, 11847.555943497218, 17492.141726625283, 10841.649095894969, 14407.100389083887, 14986.691121736718, 12239.173747278148, 11448.87470906186, 11109.021975035985, 9778.420400913952, 2292.8478111241043, 7449.72226305057, 4582.687012022618, 4407.332557227122, 6828.972926196595, 7508.63399208645, 2487.1285555583845]}, {\"name\": \"'ALL' cluster \\u2013 TradeReceivables, weekly\", \"type\": \"scatter\", \"uid\": \"f77e0b05-1351-4ad6-9ebc-e952fb9a787f\", \"x\": [\"2019-01-06\", \"2019-01-13\", \"2019-01-20\", \"2019-01-27\", \"2019-02-03\", \"2019-02-10\", \"2019-02-17\", \"2019-02-24\", \"2019-03-03\", \"2019-03-10\", \"2019-03-17\", \"2019-03-24\", \"2019-03-31\", \"2019-04-07\", \"2019-04-14\", \"2019-04-21\", \"2019-04-28\", \"2019-05-05\", \"2019-05-12\", \"2019-05-19\", \"2019-05-26\", \"2019-06-02\", \"2019-06-09\", \"2019-06-16\", \"2019-06-23\", \"2019-06-30\", \"2019-07-07\", \"2019-07-14\", \"2019-07-21\", \"2019-07-28\", \"2019-08-04\", \"2019-08-11\", \"2019-08-18\", \"2019-08-25\", \"2019-09-01\", \"2019-09-08\", \"2019-09-15\", \"2019-09-22\", \"2019-09-29\", \"2019-10-06\", \"2019-10-13\", \"2019-10-20\", \"2019-10-27\", \"2019-11-03\", \"2019-11-10\", \"2019-11-17\", \"2019-11-24\", \"2019-12-01\"], \"y\": [10474.927824457793, 18795.317337021337, 16899.605087599146, 8210.957961448397, 8382.393964484347, 6469.66610501287, 13361.958885585867, 12751.968627109281, 12892.669922024275, 15470.983424468048, 9746.811067588824, 15011.860326282767, 14895.794648614414, 16695.77826803198, 19804.62034130899, 13003.660565717544, 14348.595669024415, 17627.264817197265, 12712.38977452924, 13865.466612152502, 15303.466565968021, 10537.822017674276, 13120.896519041175, 15039.165972245184, 6794.814356360106, 12117.598675717583, 8456.537173729765, 10386.811700319946, 10876.457257368575, 12032.311114390359, 13893.352306187935, 14940.952588003862, 10785.199395720358, 15091.475312377155, 12851.02666513969, 14282.70087395339, 13559.7514786733, 10985.229621114382, 8481.330079494825, 5952.27150892967, 2543.520147246203, 5441.584515684324, 3491.72324250539, 5270.151855742428, 2891.2390388164085, 7474.933164692577, 8345.725020583948, 2960.8459841696704]}],\n",
       "                        {\"hovermode\": \"closest\", \"legend\": {\"font\": {\"size\": 14}, \"orientation\": \"h\", \"x\": 0.3, \"y\": -0.1}, \"showlegend\": true, \"title\": {\"text\": \"Aggregated signals, weekly\"}},\n",
       "                        {\"showLink\": false, \"linkText\": \"Export to plot.ly\", \"plotlyServerURL\": \"https://plot.ly\", \"responsive\": true}\n",
       "                    ).then(function(){\n",
       "                            \n",
       "var gd = document.getElementById('ee2db611-29c3-4f7c-bbc7-61b8da077e34');\n",
       "var x = new MutationObserver(function (mutations, observer) {{\n",
       "        var display = window.getComputedStyle(gd).display;\n",
       "        if (!display || display === 'none') {{\n",
       "            console.log([gd, 'removed!']);\n",
       "            Plotly.purge(gd);\n",
       "            observer.disconnect();\n",
       "        }}\n",
       "}});\n",
       "\n",
       "// Listen for the removal of the full notebook cells\n",
       "var notebookContainer = gd.closest('#notebook-container');\n",
       "if (notebookContainer) {{\n",
       "    x.observe(notebookContainer, {childList: true});\n",
       "}}\n",
       "\n",
       "// Listen for the clearing of the current output cell\n",
       "var outputEl = gd.closest('.output');\n",
       "if (outputEl) {{\n",
       "    x.observe(outputEl, {childList: true});\n",
       "}}\n",
       "\n",
       "                        })\n",
       "                };\n",
       "                });\n",
       "            </script>\n",
       "        </div>"
      ]
     },
     "metadata": {},
     "output_type": "display_data"
    },
    {
     "name": "stdout",
     "output_type": "stream",
     "text": [
      "Correlation for given query and given shifts (0, -2) is           0.7174190266801345\n",
      "0.036819934772973656\n"
     ]
    },
    {
     "data": {
      "image/png": "[encoded data removed]",
      "text/plain": [
       "<Figure size 936x720 with 1 Axes>"
      ]
     },
     "metadata": {
      "needs_background": "light"
     },
     "output_type": "display_data"
    }
   ],
   "source": [
    "constructSignals(df_all, shift=(0, -2), query=[{\"select\": [\"ALL\"], \n",
    "                              \"_with\": {\"FA_Name\": \"TradeReceivables\", \"from\": True}}, \n",
    "                                {\"select\": [\"ALL\"], \"_with\": {\"FA_Name\": \"TradeReceivables\", \"from\": False}}], \n",
    "                 on=\"label\", agg_period=\"W\", title=\"TR_CD_\")"
   ]
  },
  {
   "cell_type": "markdown",
   "metadata": {},
   "source": [
    "## Process-based model, GroundTruth"
   ]
  },
  {
   "cell_type": "code",
   "execution_count": 583,
   "metadata": {},
   "outputs": [
    {
     "name": "stdout",
     "output_type": "stream",
     "text": [
      "Started aggregation...\n"
     ]
    },
    {
     "data": {
      "application/vnd.plotly.v1+json": {
       "config": {
        "linkText": "Export to plot.ly",
        "plotlyServerURL": "https://plot.ly",
        "showLink": false
       },
       "data": [
        {
         "name": "'Sales 21 btw', 'Sales 6 btw' – TradeReceivables(inflow), weekly",
         "type": "scatter",
         "uid": "32d4bb48-cd35-429f-b08a-74e1304f9c73",
         "x": [
          "2019-01-06",
          "2019-01-13",
          "2019-01-20",
          "2019-01-27",
          "2019-02-03",
          "2019-02-10",
          "2019-02-17",
          "2019-02-24",
          "2019-03-03",
          "2019-03-10",
          "2019-03-17",
          "2019-03-24",
          "2019-03-31",
          "2019-04-07",
          "2019-04-14",
          "2019-04-21",
          "2019-04-28",
          "2019-05-05",
          "2019-05-12",
          "2019-05-19",
          "2019-05-26",
          "2019-06-02",
          "2019-06-09",
          "2019-06-16",
          "2019-06-23",
          "2019-06-30",
          "2019-07-07",
          "2019-07-14",
          "2019-07-21",
          "2019-07-28",
          "2019-08-04",
          "2019-08-11",
          "2019-08-18",
          "2019-08-25",
          "2019-09-01",
          "2019-09-08",
          "2019-09-15",
          "2019-09-22",
          "2019-09-29",
          "2019-10-06",
          "2019-10-13",
          "2019-10-20",
          "2019-10-27",
          "2019-11-03",
          "2019-11-10",
          "2019-11-17",
          "2019-11-24",
          "2019-12-01"
         ],
         "y": [
          17369.153103858716,
          15175.006531744712,
          18205.096888454485,
          11379.900831290903,
          8757.05863955517,
          4808.372770084357,
          11664.072867923103,
          13725.490145126254,
          10586.048058591225,
          16955.195823874994,
          12306.60460150903,
          12289.976762024284,
          16398.818309998755,
          11680.908858424045,
          23907.161539335553,
          13881.257050344246,
          12329.514208407556,
          20110.302851172517,
          11704.291444129345,
          15367.621120655027,
          11618.917852113356,
          12761.477622470898,
          14647.960531300578,
          14028.038610165115,
          7756.270831789213,
          9791.226192409205,
          11487.934596304864,
          9648.077826010012,
          8489.066040038637,
          13673.655669617165,
          12344.549625170723,
          15157.144075689377,
          13321.652828928161,
          14496.424722324415,
          11376.943256596893,
          14400.883160321899,
          13054.318009940887,
          12574.814617603,
          8012.726519838407,
          7539.417767411954,
          3731.053205143131,
          2505.1355650375062,
          5690.607191736662,
          4951.374087437244,
          3518.1855254604106,
          6254.29192070842,
          7508.63399208645,
          4494.790309200007
         ]
        },
        {
         "name": "'Collections' – TradeReceivables(outflow), weekly",
         "type": "scatter",
         "uid": "d02579a5-298c-4f17-90cd-2504ad8ecc11",
         "x": [
          "2019-01-06",
          "2019-01-13",
          "2019-01-20",
          "2019-01-27",
          "2019-02-03",
          "2019-02-10",
          "2019-02-17",
          "2019-02-24",
          "2019-03-03",
          "2019-03-10",
          "2019-03-17",
          "2019-03-24",
          "2019-03-31",
          "2019-04-07",
          "2019-04-14",
          "2019-04-21",
          "2019-04-28",
          "2019-05-05",
          "2019-05-12",
          "2019-05-19",
          "2019-05-26",
          "2019-06-02",
          "2019-06-09",
          "2019-06-16",
          "2019-06-23",
          "2019-06-30",
          "2019-07-07",
          "2019-07-14",
          "2019-07-21",
          "2019-07-28",
          "2019-08-04",
          "2019-08-11",
          "2019-08-18",
          "2019-08-25",
          "2019-09-01",
          "2019-09-08",
          "2019-09-15",
          "2019-09-22",
          "2019-09-29",
          "2019-10-06",
          "2019-10-13",
          "2019-10-20",
          "2019-10-27",
          "2019-11-03",
          "2019-11-10",
          "2019-11-17",
          "2019-11-24",
          "2019-12-01"
         ],
         "y": [
          14668.621488146398,
          14075.231535335972,
          13083.232264870154,
          17835.576857640397,
          12004.794512787505,
          6469.66610501287,
          10123.162705844501,
          13477.928797703747,
          10522.576644679686,
          12907.157182889892,
          15244.630525858967,
          16100.705892825637,
          13468.383374038962,
          13447.751401488806,
          19832.376231349488,
          16048.535517886401,
          16236.384348865968,
          17861.61142504625,
          15268.414771000991,
          13453.910843327045,
          15570.899934849689,
          9899.410234428025,
          17450.350701771597,
          12214.347281834349,
          10238.333132087591,
          10507.070684335684,
          10079.939779011895,
          12254.353307955103,
          10025.309289913152,
          8887.559739215649,
          16215.015496576312,
          11879.51070748837,
          13287.7565790735,
          18344.2391960891,
          7891.265189777591,
          12029.589153354626,
          16827.22340865522,
          12665.43905613678,
          10371.903219018855,
          12098.234795406943,
          6295.912872953163,
          6359.65874864995,
          4120.47632694027,
          5790.611812094514,
          3465.9200443045843,
          6848.106349646144,
          8972.551835630382,
          3755.039883418054
         ]
        }
       ],
       "layout": {
        "hovermode": "closest",
        "legend": {
         "font": {
          "size": 14
         },
         "orientation": "h",
         "x": 0.3,
         "y": -0.1
        },
        "showlegend": true,
        "title": {
         "text": "Aggregated signals, weekly"
        }
       }
      },
      "text/html": [
       "<div>\n",
       "        \n",
       "        \n",
       "            <div id=\"441b351b-493d-4b5b-b710-3f2aefcea552\" class=\"plotly-graph-div\" style=\"height:525px; width:100%;\"></div>\n",
       "            <script type=\"text/javascript\">\n",
       "                require([\"plotly\"], function(Plotly) {\n",
       "                    window.PLOTLYENV=window.PLOTLYENV || {};\n",
       "                    window.PLOTLYENV.BASE_URL='https://plot.ly';\n",
       "                    \n",
       "                if (document.getElementById(\"441b351b-493d-4b5b-b710-3f2aefcea552\")) {\n",
       "                    Plotly.newPlot(\n",
       "                        '441b351b-493d-4b5b-b710-3f2aefcea552',\n",
       "                        [{\"name\": \"'Sales 21 btw', 'Sales 6 btw' \\u2013 TradeReceivables(inflow), weekly\", \"type\": \"scatter\", \"uid\": \"32d4bb48-cd35-429f-b08a-74e1304f9c73\", \"x\": [\"2019-01-06\", \"2019-01-13\", \"2019-01-20\", \"2019-01-27\", \"2019-02-03\", \"2019-02-10\", \"2019-02-17\", \"2019-02-24\", \"2019-03-03\", \"2019-03-10\", \"2019-03-17\", \"2019-03-24\", \"2019-03-31\", \"2019-04-07\", \"2019-04-14\", \"2019-04-21\", \"2019-04-28\", \"2019-05-05\", \"2019-05-12\", \"2019-05-19\", \"2019-05-26\", \"2019-06-02\", \"2019-06-09\", \"2019-06-16\", \"2019-06-23\", \"2019-06-30\", \"2019-07-07\", \"2019-07-14\", \"2019-07-21\", \"2019-07-28\", \"2019-08-04\", \"2019-08-11\", \"2019-08-18\", \"2019-08-25\", \"2019-09-01\", \"2019-09-08\", \"2019-09-15\", \"2019-09-22\", \"2019-09-29\", \"2019-10-06\", \"2019-10-13\", \"2019-10-20\", \"2019-10-27\", \"2019-11-03\", \"2019-11-10\", \"2019-11-17\", \"2019-11-24\", \"2019-12-01\"], \"y\": [17369.153103858716, 15175.006531744712, 18205.096888454485, 11379.900831290903, 8757.05863955517, 4808.372770084357, 11664.072867923103, 13725.490145126254, 10586.048058591225, 16955.195823874994, 12306.60460150903, 12289.976762024284, 16398.818309998755, 11680.908858424045, 23907.161539335553, 13881.257050344246, 12329.514208407556, 20110.302851172517, 11704.291444129345, 15367.621120655027, 11618.917852113356, 12761.477622470898, 14647.960531300578, 14028.038610165115, 7756.270831789213, 9791.226192409205, 11487.934596304864, 9648.077826010012, 8489.066040038637, 13673.655669617165, 12344.549625170723, 15157.144075689377, 13321.652828928161, 14496.424722324415, 11376.943256596893, 14400.883160321899, 13054.318009940887, 12574.814617603, 8012.726519838407, 7539.417767411954, 3731.053205143131, 2505.1355650375062, 5690.607191736662, 4951.374087437244, 3518.1855254604106, 6254.29192070842, 7508.63399208645, 4494.790309200007]}, {\"name\": \"'Collections' \\u2013 TradeReceivables(outflow), weekly\", \"type\": \"scatter\", \"uid\": \"d02579a5-298c-4f17-90cd-2504ad8ecc11\", \"x\": [\"2019-01-06\", \"2019-01-13\", \"2019-01-20\", \"2019-01-27\", \"2019-02-03\", \"2019-02-10\", \"2019-02-17\", \"2019-02-24\", \"2019-03-03\", \"2019-03-10\", \"2019-03-17\", \"2019-03-24\", \"2019-03-31\", \"2019-04-07\", \"2019-04-14\", \"2019-04-21\", \"2019-04-28\", \"2019-05-05\", \"2019-05-12\", \"2019-05-19\", \"2019-05-26\", \"2019-06-02\", \"2019-06-09\", \"2019-06-16\", \"2019-06-23\", \"2019-06-30\", \"2019-07-07\", \"2019-07-14\", \"2019-07-21\", \"2019-07-28\", \"2019-08-04\", \"2019-08-11\", \"2019-08-18\", \"2019-08-25\", \"2019-09-01\", \"2019-09-08\", \"2019-09-15\", \"2019-09-22\", \"2019-09-29\", \"2019-10-06\", \"2019-10-13\", \"2019-10-20\", \"2019-10-27\", \"2019-11-03\", \"2019-11-10\", \"2019-11-17\", \"2019-11-24\", \"2019-12-01\"], \"y\": [14668.621488146398, 14075.231535335972, 13083.232264870154, 17835.576857640397, 12004.794512787505, 6469.66610501287, 10123.162705844501, 13477.928797703747, 10522.576644679686, 12907.157182889892, 15244.630525858967, 16100.705892825637, 13468.383374038962, 13447.751401488806, 19832.376231349488, 16048.535517886401, 16236.384348865968, 17861.61142504625, 15268.414771000991, 13453.910843327045, 15570.899934849689, 9899.410234428025, 17450.350701771597, 12214.347281834349, 10238.333132087591, 10507.070684335684, 10079.939779011895, 12254.353307955103, 10025.309289913152, 8887.559739215649, 16215.015496576312, 11879.51070748837, 13287.7565790735, 18344.2391960891, 7891.265189777591, 12029.589153354626, 16827.22340865522, 12665.43905613678, 10371.903219018855, 12098.234795406943, 6295.912872953163, 6359.65874864995, 4120.47632694027, 5790.611812094514, 3465.9200443045843, 6848.106349646144, 8972.551835630382, 3755.039883418054]}],\n",
       "                        {\"hovermode\": \"closest\", \"legend\": {\"font\": {\"size\": 14}, \"orientation\": \"h\", \"x\": 0.3, \"y\": -0.1}, \"showlegend\": true, \"title\": {\"text\": \"Aggregated signals, weekly\"}},\n",
       "                        {\"showLink\": false, \"linkText\": \"Export to plot.ly\", \"plotlyServerURL\": \"https://plot.ly\", \"responsive\": true}\n",
       "                    ).then(function(){\n",
       "                            \n",
       "var gd = document.getElementById('441b351b-493d-4b5b-b710-3f2aefcea552');\n",
       "var x = new MutationObserver(function (mutations, observer) {{\n",
       "        var display = window.getComputedStyle(gd).display;\n",
       "        if (!display || display === 'none') {{\n",
       "            console.log([gd, 'removed!']);\n",
       "            Plotly.purge(gd);\n",
       "            observer.disconnect();\n",
       "        }}\n",
       "}});\n",
       "\n",
       "// Listen for the removal of the full notebook cells\n",
       "var notebookContainer = gd.closest('#notebook-container');\n",
       "if (notebookContainer) {{\n",
       "    x.observe(notebookContainer, {childList: true});\n",
       "}}\n",
       "\n",
       "// Listen for the clearing of the current output cell\n",
       "var outputEl = gd.closest('.output');\n",
       "if (outputEl) {{\n",
       "    x.observe(outputEl, {childList: true});\n",
       "}}\n",
       "\n",
       "                        })\n",
       "                };\n",
       "                });\n",
       "            </script>\n",
       "        </div>"
      ]
     },
     "metadata": {},
     "output_type": "display_data"
    },
    {
     "name": "stdout",
     "output_type": "stream",
     "text": [
      "Correlation for given query and given shifts (0, -2) is           0.7760341152227572\n",
      "0.02415604761637589\n"
     ]
    },
    {
     "data": {
      "image/png": "[encoded data removed]",
      "text/plain": [
       "<Figure size 936x720 with 1 Axes>"
      ]
     },
     "metadata": {
      "needs_background": "light"
     },
     "output_type": "display_data"
    }
   ],
   "source": [
    "constructSignals(df_all, shift=(0, -2), query=[{\"select\": [\"Sales 21 btw\", \"Sales 6 btw\"], \n",
    "                              \"_with\": {\"FA_Name\": \"TradeReceivables\", \"flow\": \"inflow\"}}, \n",
    "                                {\"select\": [\"Collections\"], \"_with\": {\"FA_Name\": \"TradeReceivables\", \"flow\": \"outflow\"}}], \n",
    "                 on=\"GroundTruth\", agg_period=\"W\", title=\"TR_GroundTruth\")"
   ]
  },
  {
   "cell_type": "markdown",
   "metadata": {},
   "source": [
    "## Process-based model, predicted label"
   ]
  },
  {
   "cell_type": "markdown",
   "metadata": {},
   "source": [
    "{0: 'Goods delivery',\n",
    " 1: 'Sales tax',\n",
    " 2: 'Collections',\n",
    " 3: 'Sales 6 btw',\n",
    " 4: 'Payroll',\n",
    " 5: 'Depreciation',\n",
    " 6: 'Disbursement',\n",
    " 7: 'Purchase',\n",
    " 8: 'Payroll Disbursement',\n",
    " 9: 'Fixed Assets',\n",
    " 10: 'Sales 21 btw'}"
   ]
  },
  {
   "cell_type": "code",
   "execution_count": 590,
   "metadata": {
    "scrolled": false
   },
   "outputs": [
    {
     "name": "stdout",
     "output_type": "stream",
     "text": [
      "Started aggregation...\n"
     ]
    },
    {
     "data": {
      "application/vnd.plotly.v1+json": {
       "config": {
        "linkText": "Export to plot.ly",
        "plotlyServerURL": "https://plot.ly",
        "showLink": false
       },
       "data": [
        {
         "name": "3, 10 clusters – TradeReceivables(inflow), weekly",
         "type": "scatter",
         "uid": "28429200-c45e-45f4-8702-e6beaa806795",
         "x": [
          "2019-01-06",
          "2019-01-13",
          "2019-01-20",
          "2019-01-27",
          "2019-02-03",
          "2019-02-10",
          "2019-02-17",
          "2019-02-24",
          "2019-03-03",
          "2019-03-10",
          "2019-03-17",
          "2019-03-24",
          "2019-03-31",
          "2019-04-07",
          "2019-04-14",
          "2019-04-21",
          "2019-04-28",
          "2019-05-05",
          "2019-05-12",
          "2019-05-19",
          "2019-05-26",
          "2019-06-02",
          "2019-06-09",
          "2019-06-16",
          "2019-06-23",
          "2019-06-30",
          "2019-07-07",
          "2019-07-14",
          "2019-07-21",
          "2019-07-28",
          "2019-08-04",
          "2019-08-11",
          "2019-08-18",
          "2019-08-25",
          "2019-09-01",
          "2019-09-08",
          "2019-09-15",
          "2019-09-22",
          "2019-09-29",
          "2019-10-06",
          "2019-10-13",
          "2019-10-20",
          "2019-10-27",
          "2019-11-03",
          "2019-11-10",
          "2019-11-17",
          "2019-11-24",
          "2019-12-01"
         ],
         "y": [
          17369.153103858716,
          15175.006531744712,
          18205.096888454485,
          11379.900831290903,
          8757.05863955517,
          4808.372770084357,
          11664.072867923103,
          13725.490145126254,
          10586.048058591225,
          16955.195823874994,
          12306.60460150903,
          12289.976762024284,
          16398.818309998755,
          11680.908858424045,
          23907.161539335553,
          13881.257050344246,
          12329.514208407556,
          20110.302851172517,
          11704.291444129345,
          15367.621120655027,
          11618.917852113356,
          12761.477622470898,
          14647.960531300578,
          14028.038610165115,
          7756.270831789213,
          9791.226192409205,
          11487.934596304864,
          9648.077826010012,
          8489.066040038637,
          13673.655669617165,
          12344.549625170723,
          15157.144075689377,
          13321.652828928161,
          14496.424722324415,
          11376.943256596893,
          14400.883160321899,
          13054.318009940887,
          12574.814617603,
          8012.726519838407,
          7539.417767411954,
          3731.053205143131,
          2505.1355650375062,
          5690.607191736662,
          4951.374087437244,
          3518.1855254604106,
          6254.29192070842,
          7508.63399208645,
          4494.790309200007
         ]
        },
        {
         "name": "2 cluster – TradeReceivables(outflow), weekly",
         "type": "scatter",
         "uid": "33a54267-01fb-4d36-884f-fb7612878836",
         "x": [
          "2019-01-06",
          "2019-01-13",
          "2019-01-20",
          "2019-01-27",
          "2019-02-03",
          "2019-02-10",
          "2019-02-17",
          "2019-02-24",
          "2019-03-03",
          "2019-03-10",
          "2019-03-17",
          "2019-03-24",
          "2019-03-31",
          "2019-04-07",
          "2019-04-14",
          "2019-04-21",
          "2019-04-28",
          "2019-05-05",
          "2019-05-12",
          "2019-05-19",
          "2019-05-26",
          "2019-06-02",
          "2019-06-09",
          "2019-06-16",
          "2019-06-23",
          "2019-06-30",
          "2019-07-07",
          "2019-07-14",
          "2019-07-21",
          "2019-07-28",
          "2019-08-04",
          "2019-08-11",
          "2019-08-18",
          "2019-08-25",
          "2019-09-01",
          "2019-09-08",
          "2019-09-15",
          "2019-09-22",
          "2019-09-29",
          "2019-10-06",
          "2019-10-13",
          "2019-10-20",
          "2019-10-27",
          "2019-11-03",
          "2019-11-10",
          "2019-11-17",
          "2019-11-24",
          "2019-12-01"
         ],
         "y": [
          14668.621488146398,
          14075.231535335972,
          13083.232264870154,
          17835.576857640397,
          12004.794512787505,
          6469.66610501287,
          10123.162705844501,
          13477.928797703747,
          10522.576644679686,
          12907.157182889892,
          15244.630525858967,
          16100.705892825637,
          13468.383374038962,
          13447.751401488806,
          19832.376231349488,
          16048.535517886401,
          16236.384348865968,
          17861.61142504625,
          15268.414771000991,
          13453.910843327045,
          15570.899934849689,
          9899.410234428025,
          17450.350701771597,
          12214.347281834349,
          10238.333132087591,
          10507.070684335684,
          10079.939779011895,
          12254.353307955103,
          10025.309289913152,
          8887.559739215649,
          16215.015496576312,
          11879.51070748837,
          13287.7565790735,
          18344.2391960891,
          7891.265189777591,
          12029.589153354626,
          16827.22340865522,
          12665.43905613678,
          10371.903219018855,
          12098.234795406943,
          6295.912872953163,
          6359.65874864995,
          4120.47632694027,
          5790.611812094514,
          3465.9200443045843,
          6848.106349646144,
          8972.551835630382,
          3755.039883418054
         ]
        }
       ],
       "layout": {
        "hovermode": "closest",
        "legend": {
         "font": {
          "size": 14
         },
         "orientation": "h",
         "x": 0.5,
         "xanchor": "center",
         "y": -0.1
        },
        "showlegend": true,
        "title": {
         "text": "Aggregated signals, weekly"
        }
       }
      },
      "text/html": [
       "<div>\n",
       "        \n",
       "        \n",
       "            <div id=\"f8d7d90f-9197-4d45-9f61-93bf6e3ec154\" class=\"plotly-graph-div\" style=\"height:525px; width:100%;\"></div>\n",
       "            <script type=\"text/javascript\">\n",
       "                require([\"plotly\"], function(Plotly) {\n",
       "                    window.PLOTLYENV=window.PLOTLYENV || {};\n",
       "                    window.PLOTLYENV.BASE_URL='https://plot.ly';\n",
       "                    \n",
       "                if (document.getElementById(\"f8d7d90f-9197-4d45-9f61-93bf6e3ec154\")) {\n",
       "                    Plotly.newPlot(\n",
       "                        'f8d7d90f-9197-4d45-9f61-93bf6e3ec154',\n",
       "                        [{\"name\": \"3, 10 clusters \\u2013 TradeReceivables(inflow), weekly\", \"type\": \"scatter\", \"uid\": \"28429200-c45e-45f4-8702-e6beaa806795\", \"x\": [\"2019-01-06\", \"2019-01-13\", \"2019-01-20\", \"2019-01-27\", \"2019-02-03\", \"2019-02-10\", \"2019-02-17\", \"2019-02-24\", \"2019-03-03\", \"2019-03-10\", \"2019-03-17\", \"2019-03-24\", \"2019-03-31\", \"2019-04-07\", \"2019-04-14\", \"2019-04-21\", \"2019-04-28\", \"2019-05-05\", \"2019-05-12\", \"2019-05-19\", \"2019-05-26\", \"2019-06-02\", \"2019-06-09\", \"2019-06-16\", \"2019-06-23\", \"2019-06-30\", \"2019-07-07\", \"2019-07-14\", \"2019-07-21\", \"2019-07-28\", \"2019-08-04\", \"2019-08-11\", \"2019-08-18\", \"2019-08-25\", \"2019-09-01\", \"2019-09-08\", \"2019-09-15\", \"2019-09-22\", \"2019-09-29\", \"2019-10-06\", \"2019-10-13\", \"2019-10-20\", \"2019-10-27\", \"2019-11-03\", \"2019-11-10\", \"2019-11-17\", \"2019-11-24\", \"2019-12-01\"], \"y\": [17369.153103858716, 15175.006531744712, 18205.096888454485, 11379.900831290903, 8757.05863955517, 4808.372770084357, 11664.072867923103, 13725.490145126254, 10586.048058591225, 16955.195823874994, 12306.60460150903, 12289.976762024284, 16398.818309998755, 11680.908858424045, 23907.161539335553, 13881.257050344246, 12329.514208407556, 20110.302851172517, 11704.291444129345, 15367.621120655027, 11618.917852113356, 12761.477622470898, 14647.960531300578, 14028.038610165115, 7756.270831789213, 9791.226192409205, 11487.934596304864, 9648.077826010012, 8489.066040038637, 13673.655669617165, 12344.549625170723, 15157.144075689377, 13321.652828928161, 14496.424722324415, 11376.943256596893, 14400.883160321899, 13054.318009940887, 12574.814617603, 8012.726519838407, 7539.417767411954, 3731.053205143131, 2505.1355650375062, 5690.607191736662, 4951.374087437244, 3518.1855254604106, 6254.29192070842, 7508.63399208645, 4494.790309200007]}, {\"name\": \"2 cluster \\u2013 TradeReceivables(outflow), weekly\", \"type\": \"scatter\", \"uid\": \"33a54267-01fb-4d36-884f-fb7612878836\", \"x\": [\"2019-01-06\", \"2019-01-13\", \"2019-01-20\", \"2019-01-27\", \"2019-02-03\", \"2019-02-10\", \"2019-02-17\", \"2019-02-24\", \"2019-03-03\", \"2019-03-10\", \"2019-03-17\", \"2019-03-24\", \"2019-03-31\", \"2019-04-07\", \"2019-04-14\", \"2019-04-21\", \"2019-04-28\", \"2019-05-05\", \"2019-05-12\", \"2019-05-19\", \"2019-05-26\", \"2019-06-02\", \"2019-06-09\", \"2019-06-16\", \"2019-06-23\", \"2019-06-30\", \"2019-07-07\", \"2019-07-14\", \"2019-07-21\", \"2019-07-28\", \"2019-08-04\", \"2019-08-11\", \"2019-08-18\", \"2019-08-25\", \"2019-09-01\", \"2019-09-08\", \"2019-09-15\", \"2019-09-22\", \"2019-09-29\", \"2019-10-06\", \"2019-10-13\", \"2019-10-20\", \"2019-10-27\", \"2019-11-03\", \"2019-11-10\", \"2019-11-17\", \"2019-11-24\", \"2019-12-01\"], \"y\": [14668.621488146398, 14075.231535335972, 13083.232264870154, 17835.576857640397, 12004.794512787505, 6469.66610501287, 10123.162705844501, 13477.928797703747, 10522.576644679686, 12907.157182889892, 15244.630525858967, 16100.705892825637, 13468.383374038962, 13447.751401488806, 19832.376231349488, 16048.535517886401, 16236.384348865968, 17861.61142504625, 15268.414771000991, 13453.910843327045, 15570.899934849689, 9899.410234428025, 17450.350701771597, 12214.347281834349, 10238.333132087591, 10507.070684335684, 10079.939779011895, 12254.353307955103, 10025.309289913152, 8887.559739215649, 16215.015496576312, 11879.51070748837, 13287.7565790735, 18344.2391960891, 7891.265189777591, 12029.589153354626, 16827.22340865522, 12665.43905613678, 10371.903219018855, 12098.234795406943, 6295.912872953163, 6359.65874864995, 4120.47632694027, 5790.611812094514, 3465.9200443045843, 6848.106349646144, 8972.551835630382, 3755.039883418054]}],\n",
       "                        {\"hovermode\": \"closest\", \"legend\": {\"font\": {\"size\": 14}, \"orientation\": \"h\", \"x\": 0.5, \"xanchor\": \"center\", \"y\": -0.1}, \"showlegend\": true, \"title\": {\"text\": \"Aggregated signals, weekly\"}},\n",
       "                        {\"showLink\": false, \"linkText\": \"Export to plot.ly\", \"plotlyServerURL\": \"https://plot.ly\", \"responsive\": true}\n",
       "                    ).then(function(){\n",
       "                            \n",
       "var gd = document.getElementById('f8d7d90f-9197-4d45-9f61-93bf6e3ec154');\n",
       "var x = new MutationObserver(function (mutations, observer) {{\n",
       "        var display = window.getComputedStyle(gd).display;\n",
       "        if (!display || display === 'none') {{\n",
       "            console.log([gd, 'removed!']);\n",
       "            Plotly.purge(gd);\n",
       "            observer.disconnect();\n",
       "        }}\n",
       "}});\n",
       "\n",
       "// Listen for the removal of the full notebook cells\n",
       "var notebookContainer = gd.closest('#notebook-container');\n",
       "if (notebookContainer) {{\n",
       "    x.observe(notebookContainer, {childList: true});\n",
       "}}\n",
       "\n",
       "// Listen for the clearing of the current output cell\n",
       "var outputEl = gd.closest('.output');\n",
       "if (outputEl) {{\n",
       "    x.observe(outputEl, {childList: true});\n",
       "}}\n",
       "\n",
       "                        })\n",
       "                };\n",
       "                });\n",
       "            </script>\n",
       "        </div>"
      ]
     },
     "metadata": {},
     "output_type": "display_data"
    },
    {
     "name": "stdout",
     "output_type": "stream",
     "text": [
      "Correlation for given query and given shifts (0, -2) is           0.7760341152227572\n",
      "0.02415604761637589\n"
     ]
    },
    {
     "data": {
      "image/png": "[encoded data removed]",
      "text/plain": [
       "<Figure size 936x720 with 1 Axes>"
      ]
     },
     "metadata": {
      "needs_background": "light"
     },
     "output_type": "display_data"
    }
   ],
   "source": [
    "constructSignals(df_all, shift=(0, -2), query=[{\"select\": [3, 10], \n",
    "                              \"_with\": {\"FA_Name\": \"TradeReceivables\", \"flow\": \"inflow\"}}, \n",
    "                                {\"select\": [2], \"_with\": {\"FA_Name\": \"TradeReceivables\", \"flow\": \"outflow\"}}], \n",
    "                 on=\"label\", agg_period=\"W\", title=\"aFSN_TRboth_\")"
   ]
  },
  {
   "cell_type": "code",
   "execution_count": 58,
   "metadata": {},
   "outputs": [],
   "source": [
    "from plotly.offline import iplot\n",
    "import plotly.figure_factory as ff\n",
    "import seaborn as sns\n",
    "def calculate_corr(df_all, query=[1, 2], on=\"label\", agg_period=\"2D\", lag=0):\n",
    "    X, Y = [df_all[df_all[on]==q] for q in query]\n",
    "    return crosscorr(X.amount.resample(agg_period).sum(), Y.amount.resample(agg_period).sum(), lag)\n",
    "\n",
    "def get_corr_matrix(df, on=\"label\", agg_period=\"D\", lag=0):\n",
    "    labels = sorted(df[on].unique())\n",
    "    corr_matrix = np.zeros((len(labels), len(labels)))\n",
    "    for x_pos, x in enumerate(labels):\n",
    "        for y_pos, y in enumerate(labels):\n",
    "            if x!=y:\n",
    "                try:\n",
    "                    corr_matrix[x_pos, y_pos] = calculate_corr(df, query=[x,y], on=on, agg_period=agg_period, lag=lag)\n",
    "                except FloatingPointError as float_er:\n",
    "                    corr_matrix[x_pos, y_pos] = 0.0\n",
    "    return corr_matrix\n",
    "\n",
    "axis_prefix = {\"label\": \"Cluster \", \"GroundTruth\": \"\"}\n",
    "\n",
    "\n",
    "def make_annotations(z, x, y, annotation_text):\n",
    "    annotations = []\n",
    "    for n, row in enumerate(z):\n",
    "        for m, val in enumerate(row):\n",
    "            annotations.append(\n",
    "                go.layout.Annotation(\n",
    "                    text=str(annotation_text[n][m]) if annotation_text[n][m] != 0.0 else \"\",\n",
    "                    x=x[m],\n",
    "                    y=y[n],\n",
    "                    xref='x1',\n",
    "                    yref='y1',\n",
    "                    font=dict(color=\"Black\"),\n",
    "                    showarrow=False))\n",
    "    return annotations\n",
    "\n",
    "\n",
    "def corrHeatmap_interactive(corr_matrix, labels, on=\"label\"):\n",
    "    x = [axis_prefix[on] + str(cl) for cl in labels]\n",
    "    y = [axis_prefix[on] + str(cl) for cl in labels]\n",
    "    # Generate a mask for the upper triangle\n",
    "    mask = np.ones_like(corr_matrix, dtype=np.bool)\n",
    "    mask[np.tril_indices_from(mask, k=0)] = False\n",
    "    corr_matrix[mask] = 0.0\n",
    "    z_text = np.round(corr_matrix, 2)\n",
    "    cs = [[00.0, 'rgb(31, 119, 180)'],  # blue\n",
    "          [0.5, 'rgb(255,255,255)'],  # white\n",
    "          [1, 'rgb(214, 39, 40)']]  # red\n",
    "\n",
    "    trace = go.Heatmap(z=corr_matrix, x=x, y=y, zmid=0, zmin=-1, zmax=1, colorscale=cs, showscale=True,\n",
    "                       colorbar={\"thickness\": 20, \"len\": 0.5, \"outlinewidth\": 0, \"xpad\": 25,\n",
    "                                 \"title\": {\"text\": \"\\n \\n Correlation\", \"side\": \"right\"}})\n",
    "    fig = go.Figure(data=[trace])\n",
    "    fig.layout.title = go.layout.Title(text=\"Cross-correlation for the \" + on)\n",
    "    fig.layout.height = len(labels) * 70 + 200\n",
    "    fig.layout.width = len(labels) * 70 + 25 + 25 + 150\n",
    "    fig.layout.margin = go.layout.Margin(l=100, r=50, b=100, t=200, pad=10)\n",
    "    fig.layout.annotations = make_annotations(corr_matrix, x, y, z_text)\n",
    "    fig.layout.xaxis.side = \"top\"\n",
    "    fig.layout.yaxis.automargin = True\n",
    "    fig.layout.xaxis.automargin = True\n",
    "    iplot(fig)\n",
    "\n",
    "\n",
    "def corrHeatmap_static(corr_matrix, labels, on=\"label\"):\n",
    "    sns.set_context(\"paper\", rc={'figure.figsize': (20, 10), \"font.size\": 12, \"axes.titlesize\": 16, \"axes.labelsize\": 20,\n",
    "                        \"xtick.labelsize\": 12, \"ytick.labelsize\": 12})\n",
    "    x_ticks = [axis_prefix[on] + str(cl) for cl in labels]\n",
    "    y_ticks = [axis_prefix[on] + str(cl) for cl in labels]\n",
    "    z_text = np.round(corr_matrix, 2)\n",
    "    # Generate a mask for the upper triangle\n",
    "    mask = np.zeros_like(corr_matrix, dtype=np.bool)\n",
    "    mask[np.triu_indices_from(mask)] = True\n",
    "\n",
    "    # Set up the matplotlib figure\n",
    "    f, ax = plt.subplots(figsize=(11, 9))\n",
    "    sns.heatmap(corr_matrix, mask=mask, annot=z_text, cmap=\"RdBu_r\", vmin=-1, vmax=1, center=0, xticklabels=x_ticks,\n",
    "                yticklabels=y_ticks,\n",
    "                square=True, linewidths=.1, cbar_kws={\"shrink\": .5})\n",
    "    ax.set_title(\"Cross-correlation for the \" + on)\n",
    "    plt.tight_layout()\n",
    "    plt.plot()\n",
    "    \n",
    "def correlationMatrix(df, on=\"label\", agg_period=\"D\", lag=0, interactive=True):\n",
    "    corr_matrix = get_corr_matrix(df, on=on, agg_period=agg_period, lag=lag)\n",
    "    labels = sorted(df[on].unique())\n",
    "    if interactive:\n",
    "#         Use plotly\n",
    "        return corrHeatmap_interactive(corr_matrix, labels=labels, on=on)\n",
    "    else:\n",
    "#         Use seaborn for visualization\n",
    "        corrHeatmap_static(corr_matrix, labels=labels, on=on)"
   ]
  },
  {
   "cell_type": "code",
   "execution_count": 59,
   "metadata": {
    "scrolled": false
   },
   "outputs": [
    {
     "data": {
      "application/vnd.plotly.v1+json": {
       "config": {
        "linkText": "Export to plot.ly",
        "plotlyServerURL": "https://plot.ly",
        "showLink": false
       },
       "data": [
        {
         "colorbar": {
          "len": 0.5,
          "outlinewidth": 0,
          "thickness": 20,
          "title": {
           "side": "right",
           "text": "\n \n Correlation"
          },
          "xpad": 25
         },
         "colorscale": [
          [
           0,
           "rgb(31, 119, 180)"
          ],
          [
           0.5,
           "rgb(255,255,255)"
          ],
          [
           1,
           "rgb(214, 39, 40)"
          ]
         ],
         "showscale": true,
         "type": "heatmap",
         "uid": "585e446a-b040-4410-a2fb-511f3b742886",
         "x": [
          "Cluster 0",
          "Cluster 1",
          "Cluster 2",
          "Cluster 3",
          "Cluster 4",
          "Cluster 5",
          "Cluster 6",
          "Cluster 7",
          "Cluster 8",
          "Cluster 9",
          "Cluster 10"
         ],
         "y": [
          "Cluster 0",
          "Cluster 1",
          "Cluster 2",
          "Cluster 3",
          "Cluster 4",
          "Cluster 5",
          "Cluster 6",
          "Cluster 7",
          "Cluster 8",
          "Cluster 9",
          "Cluster 10"
         ],
         "z": [
          [
           0,
           0,
           0,
           0,
           0,
           0,
           0,
           0,
           0,
           0,
           0
          ],
          [
           0.21534779340652266,
           0,
           0,
           0,
           0,
           0,
           0,
           0,
           0,
           0,
           0
          ],
          [
           0.29575635617500967,
           0.36423222623108054,
           0,
           0,
           0,
           0,
           0,
           0,
           0,
           0,
           0
          ],
          [
           0.6146237952196446,
           0.07138656960111535,
           0.24006792299140803,
           0,
           0,
           0,
           0,
           0,
           0,
           0,
           0
          ],
          [
           0.004580107284440651,
           -0.08598214846599664,
           0.002242386752635428,
           0.013296716153052368,
           0,
           0,
           0,
           0,
           0,
           0,
           0
          ],
          [
           0.06608126680002231,
           -0.034482444030571255,
           0.005002926145107751,
           0.002594970293358103,
           0.07496975509765244,
           0,
           0,
           0,
           0,
           0,
           0
          ],
          [
           -0.10339090415181436,
           -0.019718954088495163,
           -0.11841427462218032,
           -0.01964929674800227,
           -0.02260504561699416,
           -0.036447104895224236,
           0,
           0,
           0,
           0,
           0
          ],
          [
           0.02856211188853465,
           -0.026907856905172292,
           -0.020067308290956157,
           -0.028748465694115342,
           -0.05770031641615119,
           -0.05886513982371413,
           0.0896312066915666,
           0,
           0,
           0,
           0
          ],
          [
           0.055134032510993206,
           0.28491005669229647,
           0.22793860569580324,
           -0.007572614700631495,
           0.07751337566950543,
           -0.05469188556462041,
           -0.060762410633103725,
           0.0024687269283127393,
           0,
           0,
           0
          ],
          [
           -0.1254114285634333,
           -0.04942053530327592,
           -0.04440472135495782,
           -0.04005375481551407,
           0.11545099212755924,
           0.018036619175904968,
           0.07572329306705432,
           -0.07400626549311969,
           -0.04085394405788998,
           0,
           0
          ],
          [
           0.7288011761486232,
           0.09259312607189205,
           0.02684704772781896,
           -0.04956960728147709,
           0.06112382361048813,
           0.10761194746266986,
           -0.03313271329608258,
           0.09171787918862484,
           -0.008714547289648687,
           -0.08412983080667605,
           0
          ]
         ],
         "zmax": 1,
         "zmid": 0,
         "zmin": -1
        }
       ],
       "layout": {
        "annotations": [
         {
          "font": {
           "color": "Black"
          },
          "showarrow": false,
          "text": "",
          "x": "Cluster 0",
          "xref": "x",
          "y": "Cluster 0",
          "yref": "y"
         },
         {
          "font": {
           "color": "Black"
          },
          "showarrow": false,
          "text": "",
          "x": "Cluster 1",
          "xref": "x",
          "y": "Cluster 0",
          "yref": "y"
         },
         {
          "font": {
           "color": "Black"
          },
          "showarrow": false,
          "text": "",
          "x": "Cluster 2",
          "xref": "x",
          "y": "Cluster 0",
          "yref": "y"
         },
         {
          "font": {
           "color": "Black"
          },
          "showarrow": false,
          "text": "",
          "x": "Cluster 3",
          "xref": "x",
          "y": "Cluster 0",
          "yref": "y"
         },
         {
          "font": {
           "color": "Black"
          },
          "showarrow": false,
          "text": "",
          "x": "Cluster 4",
          "xref": "x",
          "y": "Cluster 0",
          "yref": "y"
         },
         {
          "font": {
           "color": "Black"
          },
          "showarrow": false,
          "text": "",
          "x": "Cluster 5",
          "xref": "x",
          "y": "Cluster 0",
          "yref": "y"
         },
         {
          "font": {
           "color": "Black"
          },
          "showarrow": false,
          "text": "",
          "x": "Cluster 6",
          "xref": "x",
          "y": "Cluster 0",
          "yref": "y"
         },
         {
          "font": {
           "color": "Black"
          },
          "showarrow": false,
          "text": "",
          "x": "Cluster 7",
          "xref": "x",
          "y": "Cluster 0",
          "yref": "y"
         },
         {
          "font": {
           "color": "Black"
          },
          "showarrow": false,
          "text": "",
          "x": "Cluster 8",
          "xref": "x",
          "y": "Cluster 0",
          "yref": "y"
         },
         {
          "font": {
           "color": "Black"
          },
          "showarrow": false,
          "text": "",
          "x": "Cluster 9",
          "xref": "x",
          "y": "Cluster 0",
          "yref": "y"
         },
         {
          "font": {
           "color": "Black"
          },
          "showarrow": false,
          "text": "",
          "x": "Cluster 10",
          "xref": "x",
          "y": "Cluster 0",
          "yref": "y"
         },
         {
          "font": {
           "color": "Black"
          },
          "showarrow": false,
          "text": "0.22",
          "x": "Cluster 0",
          "xref": "x",
          "y": "Cluster 1",
          "yref": "y"
         },
         {
          "font": {
           "color": "Black"
          },
          "showarrow": false,
          "text": "",
          "x": "Cluster 1",
          "xref": "x",
          "y": "Cluster 1",
          "yref": "y"
         },
         {
          "font": {
           "color": "Black"
          },
          "showarrow": false,
          "text": "",
          "x": "Cluster 2",
          "xref": "x",
          "y": "Cluster 1",
          "yref": "y"
         },
         {
          "font": {
           "color": "Black"
          },
          "showarrow": false,
          "text": "",
          "x": "Cluster 3",
          "xref": "x",
          "y": "Cluster 1",
          "yref": "y"
         },
         {
          "font": {
           "color": "Black"
          },
          "showarrow": false,
          "text": "",
          "x": "Cluster 4",
          "xref": "x",
          "y": "Cluster 1",
          "yref": "y"
         },
         {
          "font": {
           "color": "Black"
          },
          "showarrow": false,
          "text": "",
          "x": "Cluster 5",
          "xref": "x",
          "y": "Cluster 1",
          "yref": "y"
         },
         {
          "font": {
           "color": "Black"
          },
          "showarrow": false,
          "text": "",
          "x": "Cluster 6",
          "xref": "x",
          "y": "Cluster 1",
          "yref": "y"
         },
         {
          "font": {
           "color": "Black"
          },
          "showarrow": false,
          "text": "",
          "x": "Cluster 7",
          "xref": "x",
          "y": "Cluster 1",
          "yref": "y"
         },
         {
          "font": {
           "color": "Black"
          },
          "showarrow": false,
          "text": "",
          "x": "Cluster 8",
          "xref": "x",
          "y": "Cluster 1",
          "yref": "y"
         },
         {
          "font": {
           "color": "Black"
          },
          "showarrow": false,
          "text": "",
          "x": "Cluster 9",
          "xref": "x",
          "y": "Cluster 1",
          "yref": "y"
         },
         {
          "font": {
           "color": "Black"
          },
          "showarrow": false,
          "text": "",
          "x": "Cluster 10",
          "xref": "x",
          "y": "Cluster 1",
          "yref": "y"
         },
         {
          "font": {
           "color": "Black"
          },
          "showarrow": false,
          "text": "0.3",
          "x": "Cluster 0",
          "xref": "x",
          "y": "Cluster 2",
          "yref": "y"
         },
         {
          "font": {
           "color": "Black"
          },
          "showarrow": false,
          "text": "0.36",
          "x": "Cluster 1",
          "xref": "x",
          "y": "Cluster 2",
          "yref": "y"
         },
         {
          "font": {
           "color": "Black"
          },
          "showarrow": false,
          "text": "",
          "x": "Cluster 2",
          "xref": "x",
          "y": "Cluster 2",
          "yref": "y"
         },
         {
          "font": {
           "color": "Black"
          },
          "showarrow": false,
          "text": "",
          "x": "Cluster 3",
          "xref": "x",
          "y": "Cluster 2",
          "yref": "y"
         },
         {
          "font": {
           "color": "Black"
          },
          "showarrow": false,
          "text": "",
          "x": "Cluster 4",
          "xref": "x",
          "y": "Cluster 2",
          "yref": "y"
         },
         {
          "font": {
           "color": "Black"
          },
          "showarrow": false,
          "text": "",
          "x": "Cluster 5",
          "xref": "x",
          "y": "Cluster 2",
          "yref": "y"
         },
         {
          "font": {
           "color": "Black"
          },
          "showarrow": false,
          "text": "",
          "x": "Cluster 6",
          "xref": "x",
          "y": "Cluster 2",
          "yref": "y"
         },
         {
          "font": {
           "color": "Black"
          },
          "showarrow": false,
          "text": "",
          "x": "Cluster 7",
          "xref": "x",
          "y": "Cluster 2",
          "yref": "y"
         },
         {
          "font": {
           "color": "Black"
          },
          "showarrow": false,
          "text": "",
          "x": "Cluster 8",
          "xref": "x",
          "y": "Cluster 2",
          "yref": "y"
         },
         {
          "font": {
           "color": "Black"
          },
          "showarrow": false,
          "text": "",
          "x": "Cluster 9",
          "xref": "x",
          "y": "Cluster 2",
          "yref": "y"
         },
         {
          "font": {
           "color": "Black"
          },
          "showarrow": false,
          "text": "",
          "x": "Cluster 10",
          "xref": "x",
          "y": "Cluster 2",
          "yref": "y"
         },
         {
          "font": {
           "color": "Black"
          },
          "showarrow": false,
          "text": "0.61",
          "x": "Cluster 0",
          "xref": "x",
          "y": "Cluster 3",
          "yref": "y"
         },
         {
          "font": {
           "color": "Black"
          },
          "showarrow": false,
          "text": "0.07",
          "x": "Cluster 1",
          "xref": "x",
          "y": "Cluster 3",
          "yref": "y"
         },
         {
          "font": {
           "color": "Black"
          },
          "showarrow": false,
          "text": "0.24",
          "x": "Cluster 2",
          "xref": "x",
          "y": "Cluster 3",
          "yref": "y"
         },
         {
          "font": {
           "color": "Black"
          },
          "showarrow": false,
          "text": "",
          "x": "Cluster 3",
          "xref": "x",
          "y": "Cluster 3",
          "yref": "y"
         },
         {
          "font": {
           "color": "Black"
          },
          "showarrow": false,
          "text": "",
          "x": "Cluster 4",
          "xref": "x",
          "y": "Cluster 3",
          "yref": "y"
         },
         {
          "font": {
           "color": "Black"
          },
          "showarrow": false,
          "text": "",
          "x": "Cluster 5",
          "xref": "x",
          "y": "Cluster 3",
          "yref": "y"
         },
         {
          "font": {
           "color": "Black"
          },
          "showarrow": false,
          "text": "",
          "x": "Cluster 6",
          "xref": "x",
          "y": "Cluster 3",
          "yref": "y"
         },
         {
          "font": {
           "color": "Black"
          },
          "showarrow": false,
          "text": "",
          "x": "Cluster 7",
          "xref": "x",
          "y": "Cluster 3",
          "yref": "y"
         },
         {
          "font": {
           "color": "Black"
          },
          "showarrow": false,
          "text": "",
          "x": "Cluster 8",
          "xref": "x",
          "y": "Cluster 3",
          "yref": "y"
         },
         {
          "font": {
           "color": "Black"
          },
          "showarrow": false,
          "text": "",
          "x": "Cluster 9",
          "xref": "x",
          "y": "Cluster 3",
          "yref": "y"
         },
         {
          "font": {
           "color": "Black"
          },
          "showarrow": false,
          "text": "",
          "x": "Cluster 10",
          "xref": "x",
          "y": "Cluster 3",
          "yref": "y"
         },
         {
          "font": {
           "color": "Black"
          },
          "showarrow": false,
          "text": "",
          "x": "Cluster 0",
          "xref": "x",
          "y": "Cluster 4",
          "yref": "y"
         },
         {
          "font": {
           "color": "Black"
          },
          "showarrow": false,
          "text": "-0.09",
          "x": "Cluster 1",
          "xref": "x",
          "y": "Cluster 4",
          "yref": "y"
         },
         {
          "font": {
           "color": "Black"
          },
          "showarrow": false,
          "text": "",
          "x": "Cluster 2",
          "xref": "x",
          "y": "Cluster 4",
          "yref": "y"
         },
         {
          "font": {
           "color": "Black"
          },
          "showarrow": false,
          "text": "0.01",
          "x": "Cluster 3",
          "xref": "x",
          "y": "Cluster 4",
          "yref": "y"
         },
         {
          "font": {
           "color": "Black"
          },
          "showarrow": false,
          "text": "",
          "x": "Cluster 4",
          "xref": "x",
          "y": "Cluster 4",
          "yref": "y"
         },
         {
          "font": {
           "color": "Black"
          },
          "showarrow": false,
          "text": "",
          "x": "Cluster 5",
          "xref": "x",
          "y": "Cluster 4",
          "yref": "y"
         },
         {
          "font": {
           "color": "Black"
          },
          "showarrow": false,
          "text": "",
          "x": "Cluster 6",
          "xref": "x",
          "y": "Cluster 4",
          "yref": "y"
         },
         {
          "font": {
           "color": "Black"
          },
          "showarrow": false,
          "text": "",
          "x": "Cluster 7",
          "xref": "x",
          "y": "Cluster 4",
          "yref": "y"
         },
         {
          "font": {
           "color": "Black"
          },
          "showarrow": false,
          "text": "",
          "x": "Cluster 8",
          "xref": "x",
          "y": "Cluster 4",
          "yref": "y"
         },
         {
          "font": {
           "color": "Black"
          },
          "showarrow": false,
          "text": "",
          "x": "Cluster 9",
          "xref": "x",
          "y": "Cluster 4",
          "yref": "y"
         },
         {
          "font": {
           "color": "Black"
          },
          "showarrow": false,
          "text": "",
          "x": "Cluster 10",
          "xref": "x",
          "y": "Cluster 4",
          "yref": "y"
         },
         {
          "font": {
           "color": "Black"
          },
          "showarrow": false,
          "text": "0.07",
          "x": "Cluster 0",
          "xref": "x",
          "y": "Cluster 5",
          "yref": "y"
         },
         {
          "font": {
           "color": "Black"
          },
          "showarrow": false,
          "text": "-0.03",
          "x": "Cluster 1",
          "xref": "x",
          "y": "Cluster 5",
          "yref": "y"
         },
         {
          "font": {
           "color": "Black"
          },
          "showarrow": false,
          "text": "0.01",
          "x": "Cluster 2",
          "xref": "x",
          "y": "Cluster 5",
          "yref": "y"
         },
         {
          "font": {
           "color": "Black"
          },
          "showarrow": false,
          "text": "",
          "x": "Cluster 3",
          "xref": "x",
          "y": "Cluster 5",
          "yref": "y"
         },
         {
          "font": {
           "color": "Black"
          },
          "showarrow": false,
          "text": "0.07",
          "x": "Cluster 4",
          "xref": "x",
          "y": "Cluster 5",
          "yref": "y"
         },
         {
          "font": {
           "color": "Black"
          },
          "showarrow": false,
          "text": "",
          "x": "Cluster 5",
          "xref": "x",
          "y": "Cluster 5",
          "yref": "y"
         },
         {
          "font": {
           "color": "Black"
          },
          "showarrow": false,
          "text": "",
          "x": "Cluster 6",
          "xref": "x",
          "y": "Cluster 5",
          "yref": "y"
         },
         {
          "font": {
           "color": "Black"
          },
          "showarrow": false,
          "text": "",
          "x": "Cluster 7",
          "xref": "x",
          "y": "Cluster 5",
          "yref": "y"
         },
         {
          "font": {
           "color": "Black"
          },
          "showarrow": false,
          "text": "",
          "x": "Cluster 8",
          "xref": "x",
          "y": "Cluster 5",
          "yref": "y"
         },
         {
          "font": {
           "color": "Black"
          },
          "showarrow": false,
          "text": "",
          "x": "Cluster 9",
          "xref": "x",
          "y": "Cluster 5",
          "yref": "y"
         },
         {
          "font": {
           "color": "Black"
          },
          "showarrow": false,
          "text": "",
          "x": "Cluster 10",
          "xref": "x",
          "y": "Cluster 5",
          "yref": "y"
         },
         {
          "font": {
           "color": "Black"
          },
          "showarrow": false,
          "text": "-0.1",
          "x": "Cluster 0",
          "xref": "x",
          "y": "Cluster 6",
          "yref": "y"
         },
         {
          "font": {
           "color": "Black"
          },
          "showarrow": false,
          "text": "-0.02",
          "x": "Cluster 1",
          "xref": "x",
          "y": "Cluster 6",
          "yref": "y"
         },
         {
          "font": {
           "color": "Black"
          },
          "showarrow": false,
          "text": "-0.12",
          "x": "Cluster 2",
          "xref": "x",
          "y": "Cluster 6",
          "yref": "y"
         },
         {
          "font": {
           "color": "Black"
          },
          "showarrow": false,
          "text": "-0.02",
          "x": "Cluster 3",
          "xref": "x",
          "y": "Cluster 6",
          "yref": "y"
         },
         {
          "font": {
           "color": "Black"
          },
          "showarrow": false,
          "text": "-0.02",
          "x": "Cluster 4",
          "xref": "x",
          "y": "Cluster 6",
          "yref": "y"
         },
         {
          "font": {
           "color": "Black"
          },
          "showarrow": false,
          "text": "-0.04",
          "x": "Cluster 5",
          "xref": "x",
          "y": "Cluster 6",
          "yref": "y"
         },
         {
          "font": {
           "color": "Black"
          },
          "showarrow": false,
          "text": "",
          "x": "Cluster 6",
          "xref": "x",
          "y": "Cluster 6",
          "yref": "y"
         },
         {
          "font": {
           "color": "Black"
          },
          "showarrow": false,
          "text": "",
          "x": "Cluster 7",
          "xref": "x",
          "y": "Cluster 6",
          "yref": "y"
         },
         {
          "font": {
           "color": "Black"
          },
          "showarrow": false,
          "text": "",
          "x": "Cluster 8",
          "xref": "x",
          "y": "Cluster 6",
          "yref": "y"
         },
         {
          "font": {
           "color": "Black"
          },
          "showarrow": false,
          "text": "",
          "x": "Cluster 9",
          "xref": "x",
          "y": "Cluster 6",
          "yref": "y"
         },
         {
          "font": {
           "color": "Black"
          },
          "showarrow": false,
          "text": "",
          "x": "Cluster 10",
          "xref": "x",
          "y": "Cluster 6",
          "yref": "y"
         },
         {
          "font": {
           "color": "Black"
          },
          "showarrow": false,
          "text": "0.03",
          "x": "Cluster 0",
          "xref": "x",
          "y": "Cluster 7",
          "yref": "y"
         },
         {
          "font": {
           "color": "Black"
          },
          "showarrow": false,
          "text": "-0.03",
          "x": "Cluster 1",
          "xref": "x",
          "y": "Cluster 7",
          "yref": "y"
         },
         {
          "font": {
           "color": "Black"
          },
          "showarrow": false,
          "text": "-0.02",
          "x": "Cluster 2",
          "xref": "x",
          "y": "Cluster 7",
          "yref": "y"
         },
         {
          "font": {
           "color": "Black"
          },
          "showarrow": false,
          "text": "-0.03",
          "x": "Cluster 3",
          "xref": "x",
          "y": "Cluster 7",
          "yref": "y"
         },
         {
          "font": {
           "color": "Black"
          },
          "showarrow": false,
          "text": "-0.06",
          "x": "Cluster 4",
          "xref": "x",
          "y": "Cluster 7",
          "yref": "y"
         },
         {
          "font": {
           "color": "Black"
          },
          "showarrow": false,
          "text": "-0.06",
          "x": "Cluster 5",
          "xref": "x",
          "y": "Cluster 7",
          "yref": "y"
         },
         {
          "font": {
           "color": "Black"
          },
          "showarrow": false,
          "text": "0.09",
          "x": "Cluster 6",
          "xref": "x",
          "y": "Cluster 7",
          "yref": "y"
         },
         {
          "font": {
           "color": "Black"
          },
          "showarrow": false,
          "text": "",
          "x": "Cluster 7",
          "xref": "x",
          "y": "Cluster 7",
          "yref": "y"
         },
         {
          "font": {
           "color": "Black"
          },
          "showarrow": false,
          "text": "",
          "x": "Cluster 8",
          "xref": "x",
          "y": "Cluster 7",
          "yref": "y"
         },
         {
          "font": {
           "color": "Black"
          },
          "showarrow": false,
          "text": "",
          "x": "Cluster 9",
          "xref": "x",
          "y": "Cluster 7",
          "yref": "y"
         },
         {
          "font": {
           "color": "Black"
          },
          "showarrow": false,
          "text": "",
          "x": "Cluster 10",
          "xref": "x",
          "y": "Cluster 7",
          "yref": "y"
         },
         {
          "font": {
           "color": "Black"
          },
          "showarrow": false,
          "text": "0.06",
          "x": "Cluster 0",
          "xref": "x",
          "y": "Cluster 8",
          "yref": "y"
         },
         {
          "font": {
           "color": "Black"
          },
          "showarrow": false,
          "text": "0.28",
          "x": "Cluster 1",
          "xref": "x",
          "y": "Cluster 8",
          "yref": "y"
         },
         {
          "font": {
           "color": "Black"
          },
          "showarrow": false,
          "text": "0.23",
          "x": "Cluster 2",
          "xref": "x",
          "y": "Cluster 8",
          "yref": "y"
         },
         {
          "font": {
           "color": "Black"
          },
          "showarrow": false,
          "text": "-0.01",
          "x": "Cluster 3",
          "xref": "x",
          "y": "Cluster 8",
          "yref": "y"
         },
         {
          "font": {
           "color": "Black"
          },
          "showarrow": false,
          "text": "0.08",
          "x": "Cluster 4",
          "xref": "x",
          "y": "Cluster 8",
          "yref": "y"
         },
         {
          "font": {
           "color": "Black"
          },
          "showarrow": false,
          "text": "-0.05",
          "x": "Cluster 5",
          "xref": "x",
          "y": "Cluster 8",
          "yref": "y"
         },
         {
          "font": {
           "color": "Black"
          },
          "showarrow": false,
          "text": "-0.06",
          "x": "Cluster 6",
          "xref": "x",
          "y": "Cluster 8",
          "yref": "y"
         },
         {
          "font": {
           "color": "Black"
          },
          "showarrow": false,
          "text": "",
          "x": "Cluster 7",
          "xref": "x",
          "y": "Cluster 8",
          "yref": "y"
         },
         {
          "font": {
           "color": "Black"
          },
          "showarrow": false,
          "text": "",
          "x": "Cluster 8",
          "xref": "x",
          "y": "Cluster 8",
          "yref": "y"
         },
         {
          "font": {
           "color": "Black"
          },
          "showarrow": false,
          "text": "",
          "x": "Cluster 9",
          "xref": "x",
          "y": "Cluster 8",
          "yref": "y"
         },
         {
          "font": {
           "color": "Black"
          },
          "showarrow": false,
          "text": "",
          "x": "Cluster 10",
          "xref": "x",
          "y": "Cluster 8",
          "yref": "y"
         },
         {
          "font": {
           "color": "Black"
          },
          "showarrow": false,
          "text": "-0.13",
          "x": "Cluster 0",
          "xref": "x",
          "y": "Cluster 9",
          "yref": "y"
         },
         {
          "font": {
           "color": "Black"
          },
          "showarrow": false,
          "text": "-0.05",
          "x": "Cluster 1",
          "xref": "x",
          "y": "Cluster 9",
          "yref": "y"
         },
         {
          "font": {
           "color": "Black"
          },
          "showarrow": false,
          "text": "-0.04",
          "x": "Cluster 2",
          "xref": "x",
          "y": "Cluster 9",
          "yref": "y"
         },
         {
          "font": {
           "color": "Black"
          },
          "showarrow": false,
          "text": "-0.04",
          "x": "Cluster 3",
          "xref": "x",
          "y": "Cluster 9",
          "yref": "y"
         },
         {
          "font": {
           "color": "Black"
          },
          "showarrow": false,
          "text": "0.12",
          "x": "Cluster 4",
          "xref": "x",
          "y": "Cluster 9",
          "yref": "y"
         },
         {
          "font": {
           "color": "Black"
          },
          "showarrow": false,
          "text": "0.02",
          "x": "Cluster 5",
          "xref": "x",
          "y": "Cluster 9",
          "yref": "y"
         },
         {
          "font": {
           "color": "Black"
          },
          "showarrow": false,
          "text": "0.08",
          "x": "Cluster 6",
          "xref": "x",
          "y": "Cluster 9",
          "yref": "y"
         },
         {
          "font": {
           "color": "Black"
          },
          "showarrow": false,
          "text": "-0.07",
          "x": "Cluster 7",
          "xref": "x",
          "y": "Cluster 9",
          "yref": "y"
         },
         {
          "font": {
           "color": "Black"
          },
          "showarrow": false,
          "text": "-0.04",
          "x": "Cluster 8",
          "xref": "x",
          "y": "Cluster 9",
          "yref": "y"
         },
         {
          "font": {
           "color": "Black"
          },
          "showarrow": false,
          "text": "",
          "x": "Cluster 9",
          "xref": "x",
          "y": "Cluster 9",
          "yref": "y"
         },
         {
          "font": {
           "color": "Black"
          },
          "showarrow": false,
          "text": "",
          "x": "Cluster 10",
          "xref": "x",
          "y": "Cluster 9",
          "yref": "y"
         },
         {
          "font": {
           "color": "Black"
          },
          "showarrow": false,
          "text": "0.73",
          "x": "Cluster 0",
          "xref": "x",
          "y": "Cluster 10",
          "yref": "y"
         },
         {
          "font": {
           "color": "Black"
          },
          "showarrow": false,
          "text": "0.09",
          "x": "Cluster 1",
          "xref": "x",
          "y": "Cluster 10",
          "yref": "y"
         },
         {
          "font": {
           "color": "Black"
          },
          "showarrow": false,
          "text": "0.03",
          "x": "Cluster 2",
          "xref": "x",
          "y": "Cluster 10",
          "yref": "y"
         },
         {
          "font": {
           "color": "Black"
          },
          "showarrow": false,
          "text": "-0.05",
          "x": "Cluster 3",
          "xref": "x",
          "y": "Cluster 10",
          "yref": "y"
         },
         {
          "font": {
           "color": "Black"
          },
          "showarrow": false,
          "text": "0.06",
          "x": "Cluster 4",
          "xref": "x",
          "y": "Cluster 10",
          "yref": "y"
         },
         {
          "font": {
           "color": "Black"
          },
          "showarrow": false,
          "text": "0.11",
          "x": "Cluster 5",
          "xref": "x",
          "y": "Cluster 10",
          "yref": "y"
         },
         {
          "font": {
           "color": "Black"
          },
          "showarrow": false,
          "text": "-0.03",
          "x": "Cluster 6",
          "xref": "x",
          "y": "Cluster 10",
          "yref": "y"
         },
         {
          "font": {
           "color": "Black"
          },
          "showarrow": false,
          "text": "0.09",
          "x": "Cluster 7",
          "xref": "x",
          "y": "Cluster 10",
          "yref": "y"
         },
         {
          "font": {
           "color": "Black"
          },
          "showarrow": false,
          "text": "-0.01",
          "x": "Cluster 8",
          "xref": "x",
          "y": "Cluster 10",
          "yref": "y"
         },
         {
          "font": {
           "color": "Black"
          },
          "showarrow": false,
          "text": "-0.08",
          "x": "Cluster 9",
          "xref": "x",
          "y": "Cluster 10",
          "yref": "y"
         },
         {
          "font": {
           "color": "Black"
          },
          "showarrow": false,
          "text": "",
          "x": "Cluster 10",
          "xref": "x",
          "y": "Cluster 10",
          "yref": "y"
         }
        ],
        "height": 970,
        "margin": {
         "b": 100,
         "l": 100,
         "pad": 10,
         "r": 50,
         "t": 200
        },
        "title": {
         "text": "Cross-correlation for the label"
        },
        "width": 970,
        "xaxis": {
         "automargin": true,
         "side": "top"
        },
        "yaxis": {
         "automargin": true
        }
       }
      },
      "text/html": [
       "<div>\n",
       "        \n",
       "        \n",
       "            <div id=\"7ffdfd27-3a55-43bf-b034-fdce6eb949da\" class=\"plotly-graph-div\" style=\"height:970px; width:970px;\"></div>\n",
       "            <script type=\"text/javascript\">\n",
       "                require([\"plotly\"], function(Plotly) {\n",
       "                    window.PLOTLYENV=window.PLOTLYENV || {};\n",
       "                    window.PLOTLYENV.BASE_URL='https://plot.ly';\n",
       "                    \n",
       "                if (document.getElementById(\"7ffdfd27-3a55-43bf-b034-fdce6eb949da\")) {\n",
       "                    Plotly.newPlot(\n",
       "                        '7ffdfd27-3a55-43bf-b034-fdce6eb949da',\n",
       "                        [{\"colorbar\": {\"len\": 0.5, \"outlinewidth\": 0, \"thickness\": 20, \"title\": {\"side\": \"right\", \"text\": \"\\n \\n Correlation\"}, \"xpad\": 25}, \"colorscale\": [[0.0, \"rgb(31, 119, 180)\"], [0.5, \"rgb(255,255,255)\"], [1, \"rgb(214, 39, 40)\"]], \"showscale\": true, \"type\": \"heatmap\", \"uid\": \"585e446a-b040-4410-a2fb-511f3b742886\", \"x\": [\"Cluster 0\", \"Cluster 1\", \"Cluster 2\", \"Cluster 3\", \"Cluster 4\", \"Cluster 5\", \"Cluster 6\", \"Cluster 7\", \"Cluster 8\", \"Cluster 9\", \"Cluster 10\"], \"y\": [\"Cluster 0\", \"Cluster 1\", \"Cluster 2\", \"Cluster 3\", \"Cluster 4\", \"Cluster 5\", \"Cluster 6\", \"Cluster 7\", \"Cluster 8\", \"Cluster 9\", \"Cluster 10\"], \"z\": [[0.0, 0.0, 0.0, 0.0, 0.0, 0.0, 0.0, 0.0, 0.0, 0.0, 0.0], [0.21534779340652266, 0.0, 0.0, 0.0, 0.0, 0.0, 0.0, 0.0, 0.0, 0.0, 0.0], [0.29575635617500967, 0.36423222623108054, 0.0, 0.0, 0.0, 0.0, 0.0, 0.0, 0.0, 0.0, 0.0], [0.6146237952196446, 0.07138656960111535, 0.24006792299140803, 0.0, 0.0, 0.0, 0.0, 0.0, 0.0, 0.0, 0.0], [0.004580107284440651, -0.08598214846599664, 0.002242386752635428, 0.013296716153052368, 0.0, 0.0, 0.0, 0.0, 0.0, 0.0, 0.0], [0.06608126680002231, -0.034482444030571255, 0.005002926145107751, 0.002594970293358103, 0.07496975509765244, 0.0, 0.0, 0.0, 0.0, 0.0, 0.0], [-0.10339090415181436, -0.019718954088495163, -0.11841427462218032, -0.01964929674800227, -0.02260504561699416, -0.036447104895224236, 0.0, 0.0, 0.0, 0.0, 0.0], [0.02856211188853465, -0.026907856905172292, -0.020067308290956157, -0.028748465694115342, -0.05770031641615119, -0.05886513982371413, 0.0896312066915666, 0.0, 0.0, 0.0, 0.0], [0.055134032510993206, 0.28491005669229647, 0.22793860569580324, -0.007572614700631495, 0.07751337566950543, -0.05469188556462041, -0.060762410633103725, 0.0024687269283127393, 0.0, 0.0, 0.0], [-0.1254114285634333, -0.04942053530327592, -0.04440472135495782, -0.04005375481551407, 0.11545099212755924, 0.018036619175904968, 0.07572329306705432, -0.07400626549311969, -0.04085394405788998, 0.0, 0.0], [0.7288011761486232, 0.09259312607189205, 0.02684704772781896, -0.04956960728147709, 0.06112382361048813, 0.10761194746266986, -0.03313271329608258, 0.09171787918862484, -0.008714547289648687, -0.08412983080667605, 0.0]], \"zmax\": 1, \"zmid\": 0, \"zmin\": -1}],\n",
       "                        {\"annotations\": [{\"font\": {\"color\": \"Black\"}, \"showarrow\": false, \"text\": \"\", \"x\": \"Cluster 0\", \"xref\": \"x\", \"y\": \"Cluster 0\", \"yref\": \"y\"}, {\"font\": {\"color\": \"Black\"}, \"showarrow\": false, \"text\": \"\", \"x\": \"Cluster 1\", \"xref\": \"x\", \"y\": \"Cluster 0\", \"yref\": \"y\"}, {\"font\": {\"color\": \"Black\"}, \"showarrow\": false, \"text\": \"\", \"x\": \"Cluster 2\", \"xref\": \"x\", \"y\": \"Cluster 0\", \"yref\": \"y\"}, {\"font\": {\"color\": \"Black\"}, \"showarrow\": false, \"text\": \"\", \"x\": \"Cluster 3\", \"xref\": \"x\", \"y\": \"Cluster 0\", \"yref\": \"y\"}, {\"font\": {\"color\": \"Black\"}, \"showarrow\": false, \"text\": \"\", \"x\": \"Cluster 4\", \"xref\": \"x\", \"y\": \"Cluster 0\", \"yref\": \"y\"}, {\"font\": {\"color\": \"Black\"}, \"showarrow\": false, \"text\": \"\", \"x\": \"Cluster 5\", \"xref\": \"x\", \"y\": \"Cluster 0\", \"yref\": \"y\"}, {\"font\": {\"color\": \"Black\"}, \"showarrow\": false, \"text\": \"\", \"x\": \"Cluster 6\", \"xref\": \"x\", \"y\": \"Cluster 0\", \"yref\": \"y\"}, {\"font\": {\"color\": \"Black\"}, \"showarrow\": false, \"text\": \"\", \"x\": \"Cluster 7\", \"xref\": \"x\", \"y\": \"Cluster 0\", \"yref\": \"y\"}, {\"font\": {\"color\": \"Black\"}, \"showarrow\": false, \"text\": \"\", \"x\": \"Cluster 8\", \"xref\": \"x\", \"y\": \"Cluster 0\", \"yref\": \"y\"}, {\"font\": {\"color\": \"Black\"}, \"showarrow\": false, \"text\": \"\", \"x\": \"Cluster 9\", \"xref\": \"x\", \"y\": \"Cluster 0\", \"yref\": \"y\"}, {\"font\": {\"color\": \"Black\"}, \"showarrow\": false, \"text\": \"\", \"x\": \"Cluster 10\", \"xref\": \"x\", \"y\": \"Cluster 0\", \"yref\": \"y\"}, {\"font\": {\"color\": \"Black\"}, \"showarrow\": false, \"text\": \"0.22\", \"x\": \"Cluster 0\", \"xref\": \"x\", \"y\": \"Cluster 1\", \"yref\": \"y\"}, {\"font\": {\"color\": \"Black\"}, \"showarrow\": false, \"text\": \"\", \"x\": \"Cluster 1\", \"xref\": \"x\", \"y\": \"Cluster 1\", \"yref\": \"y\"}, {\"font\": {\"color\": \"Black\"}, \"showarrow\": false, \"text\": \"\", \"x\": \"Cluster 2\", \"xref\": \"x\", \"y\": \"Cluster 1\", \"yref\": \"y\"}, {\"font\": {\"color\": \"Black\"}, \"showarrow\": false, \"text\": \"\", \"x\": \"Cluster 3\", \"xref\": \"x\", \"y\": \"Cluster 1\", \"yref\": \"y\"}, {\"font\": {\"color\": \"Black\"}, \"showarrow\": false, \"text\": \"\", \"x\": \"Cluster 4\", \"xref\": \"x\", \"y\": \"Cluster 1\", \"yref\": \"y\"}, {\"font\": {\"color\": \"Black\"}, \"showarrow\": false, \"text\": \"\", \"x\": \"Cluster 5\", \"xref\": \"x\", \"y\": \"Cluster 1\", \"yref\": \"y\"}, {\"font\": {\"color\": \"Black\"}, \"showarrow\": false, \"text\": \"\", \"x\": \"Cluster 6\", \"xref\": \"x\", \"y\": \"Cluster 1\", \"yref\": \"y\"}, {\"font\": {\"color\": \"Black\"}, \"showarrow\": false, \"text\": \"\", \"x\": \"Cluster 7\", \"xref\": \"x\", \"y\": \"Cluster 1\", \"yref\": \"y\"}, {\"font\": {\"color\": \"Black\"}, \"showarrow\": false, \"text\": \"\", \"x\": \"Cluster 8\", \"xref\": \"x\", \"y\": \"Cluster 1\", \"yref\": \"y\"}, {\"font\": {\"color\": \"Black\"}, \"showarrow\": false, \"text\": \"\", \"x\": \"Cluster 9\", \"xref\": \"x\", \"y\": \"Cluster 1\", \"yref\": \"y\"}, {\"font\": {\"color\": \"Black\"}, \"showarrow\": false, \"text\": \"\", \"x\": \"Cluster 10\", \"xref\": \"x\", \"y\": \"Cluster 1\", \"yref\": \"y\"}, {\"font\": {\"color\": \"Black\"}, \"showarrow\": false, \"text\": \"0.3\", \"x\": \"Cluster 0\", \"xref\": \"x\", \"y\": \"Cluster 2\", \"yref\": \"y\"}, {\"font\": {\"color\": \"Black\"}, \"showarrow\": false, \"text\": \"0.36\", \"x\": \"Cluster 1\", \"xref\": \"x\", \"y\": \"Cluster 2\", \"yref\": \"y\"}, {\"font\": {\"color\": \"Black\"}, \"showarrow\": false, \"text\": \"\", \"x\": \"Cluster 2\", \"xref\": \"x\", \"y\": \"Cluster 2\", \"yref\": \"y\"}, {\"font\": {\"color\": \"Black\"}, \"showarrow\": false, \"text\": \"\", \"x\": \"Cluster 3\", \"xref\": \"x\", \"y\": \"Cluster 2\", \"yref\": \"y\"}, {\"font\": {\"color\": \"Black\"}, \"showarrow\": false, \"text\": \"\", \"x\": \"Cluster 4\", \"xref\": \"x\", \"y\": \"Cluster 2\", \"yref\": \"y\"}, {\"font\": {\"color\": \"Black\"}, \"showarrow\": false, \"text\": \"\", \"x\": \"Cluster 5\", \"xref\": \"x\", \"y\": \"Cluster 2\", \"yref\": \"y\"}, {\"font\": {\"color\": \"Black\"}, \"showarrow\": false, \"text\": \"\", \"x\": \"Cluster 6\", \"xref\": \"x\", \"y\": \"Cluster 2\", \"yref\": \"y\"}, {\"font\": {\"color\": \"Black\"}, \"showarrow\": false, \"text\": \"\", \"x\": \"Cluster 7\", \"xref\": \"x\", \"y\": \"Cluster 2\", \"yref\": \"y\"}, {\"font\": {\"color\": \"Black\"}, \"showarrow\": false, \"text\": \"\", \"x\": \"Cluster 8\", \"xref\": \"x\", \"y\": \"Cluster 2\", \"yref\": \"y\"}, {\"font\": {\"color\": \"Black\"}, \"showarrow\": false, \"text\": \"\", \"x\": \"Cluster 9\", \"xref\": \"x\", \"y\": \"Cluster 2\", \"yref\": \"y\"}, {\"font\": {\"color\": \"Black\"}, \"showarrow\": false, \"text\": \"\", \"x\": \"Cluster 10\", \"xref\": \"x\", \"y\": \"Cluster 2\", \"yref\": \"y\"}, {\"font\": {\"color\": \"Black\"}, \"showarrow\": false, \"text\": \"0.61\", \"x\": \"Cluster 0\", \"xref\": \"x\", \"y\": \"Cluster 3\", \"yref\": \"y\"}, {\"font\": {\"color\": \"Black\"}, \"showarrow\": false, \"text\": \"0.07\", \"x\": \"Cluster 1\", \"xref\": \"x\", \"y\": \"Cluster 3\", \"yref\": \"y\"}, {\"font\": {\"color\": \"Black\"}, \"showarrow\": false, \"text\": \"0.24\", \"x\": \"Cluster 2\", \"xref\": \"x\", \"y\": \"Cluster 3\", \"yref\": \"y\"}, {\"font\": {\"color\": \"Black\"}, \"showarrow\": false, \"text\": \"\", \"x\": \"Cluster 3\", \"xref\": \"x\", \"y\": \"Cluster 3\", \"yref\": \"y\"}, {\"font\": {\"color\": \"Black\"}, \"showarrow\": false, \"text\": \"\", \"x\": \"Cluster 4\", \"xref\": \"x\", \"y\": \"Cluster 3\", \"yref\": \"y\"}, {\"font\": {\"color\": \"Black\"}, \"showarrow\": false, \"text\": \"\", \"x\": \"Cluster 5\", \"xref\": \"x\", \"y\": \"Cluster 3\", \"yref\": \"y\"}, {\"font\": {\"color\": \"Black\"}, \"showarrow\": false, \"text\": \"\", \"x\": \"Cluster 6\", \"xref\": \"x\", \"y\": \"Cluster 3\", \"yref\": \"y\"}, {\"font\": {\"color\": \"Black\"}, \"showarrow\": false, \"text\": \"\", \"x\": \"Cluster 7\", \"xref\": \"x\", \"y\": \"Cluster 3\", \"yref\": \"y\"}, {\"font\": {\"color\": \"Black\"}, \"showarrow\": false, \"text\": \"\", \"x\": \"Cluster 8\", \"xref\": \"x\", \"y\": \"Cluster 3\", \"yref\": \"y\"}, {\"font\": {\"color\": \"Black\"}, \"showarrow\": false, \"text\": \"\", \"x\": \"Cluster 9\", \"xref\": \"x\", \"y\": \"Cluster 3\", \"yref\": \"y\"}, {\"font\": {\"color\": \"Black\"}, \"showarrow\": false, \"text\": \"\", \"x\": \"Cluster 10\", \"xref\": \"x\", \"y\": \"Cluster 3\", \"yref\": \"y\"}, {\"font\": {\"color\": \"Black\"}, \"showarrow\": false, \"text\": \"\", \"x\": \"Cluster 0\", \"xref\": \"x\", \"y\": \"Cluster 4\", \"yref\": \"y\"}, {\"font\": {\"color\": \"Black\"}, \"showarrow\": false, \"text\": \"-0.09\", \"x\": \"Cluster 1\", \"xref\": \"x\", \"y\": \"Cluster 4\", \"yref\": \"y\"}, {\"font\": {\"color\": \"Black\"}, \"showarrow\": false, \"text\": \"\", \"x\": \"Cluster 2\", \"xref\": \"x\", \"y\": \"Cluster 4\", \"yref\": \"y\"}, {\"font\": {\"color\": \"Black\"}, \"showarrow\": false, \"text\": \"0.01\", \"x\": \"Cluster 3\", \"xref\": \"x\", \"y\": \"Cluster 4\", \"yref\": \"y\"}, {\"font\": {\"color\": \"Black\"}, \"showarrow\": false, \"text\": \"\", \"x\": \"Cluster 4\", \"xref\": \"x\", \"y\": \"Cluster 4\", \"yref\": \"y\"}, {\"font\": {\"color\": \"Black\"}, \"showarrow\": false, \"text\": \"\", \"x\": \"Cluster 5\", \"xref\": \"x\", \"y\": \"Cluster 4\", \"yref\": \"y\"}, {\"font\": {\"color\": \"Black\"}, \"showarrow\": false, \"text\": \"\", \"x\": \"Cluster 6\", \"xref\": \"x\", \"y\": \"Cluster 4\", \"yref\": \"y\"}, {\"font\": {\"color\": \"Black\"}, \"showarrow\": false, \"text\": \"\", \"x\": \"Cluster 7\", \"xref\": \"x\", \"y\": \"Cluster 4\", \"yref\": \"y\"}, {\"font\": {\"color\": \"Black\"}, \"showarrow\": false, \"text\": \"\", \"x\": \"Cluster 8\", \"xref\": \"x\", \"y\": \"Cluster 4\", \"yref\": \"y\"}, {\"font\": {\"color\": \"Black\"}, \"showarrow\": false, \"text\": \"\", \"x\": \"Cluster 9\", \"xref\": \"x\", \"y\": \"Cluster 4\", \"yref\": \"y\"}, {\"font\": {\"color\": \"Black\"}, \"showarrow\": false, \"text\": \"\", \"x\": \"Cluster 10\", \"xref\": \"x\", \"y\": \"Cluster 4\", \"yref\": \"y\"}, {\"font\": {\"color\": \"Black\"}, \"showarrow\": false, \"text\": \"0.07\", \"x\": \"Cluster 0\", \"xref\": \"x\", \"y\": \"Cluster 5\", \"yref\": \"y\"}, {\"font\": {\"color\": \"Black\"}, \"showarrow\": false, \"text\": \"-0.03\", \"x\": \"Cluster 1\", \"xref\": \"x\", \"y\": \"Cluster 5\", \"yref\": \"y\"}, {\"font\": {\"color\": \"Black\"}, \"showarrow\": false, \"text\": \"0.01\", \"x\": \"Cluster 2\", \"xref\": \"x\", \"y\": \"Cluster 5\", \"yref\": \"y\"}, {\"font\": {\"color\": \"Black\"}, \"showarrow\": false, \"text\": \"\", \"x\": \"Cluster 3\", \"xref\": \"x\", \"y\": \"Cluster 5\", \"yref\": \"y\"}, {\"font\": {\"color\": \"Black\"}, \"showarrow\": false, \"text\": \"0.07\", \"x\": \"Cluster 4\", \"xref\": \"x\", \"y\": \"Cluster 5\", \"yref\": \"y\"}, {\"font\": {\"color\": \"Black\"}, \"showarrow\": false, \"text\": \"\", \"x\": \"Cluster 5\", \"xref\": \"x\", \"y\": \"Cluster 5\", \"yref\": \"y\"}, {\"font\": {\"color\": \"Black\"}, \"showarrow\": false, \"text\": \"\", \"x\": \"Cluster 6\", \"xref\": \"x\", \"y\": \"Cluster 5\", \"yref\": \"y\"}, {\"font\": {\"color\": \"Black\"}, \"showarrow\": false, \"text\": \"\", \"x\": \"Cluster 7\", \"xref\": \"x\", \"y\": \"Cluster 5\", \"yref\": \"y\"}, {\"font\": {\"color\": \"Black\"}, \"showarrow\": false, \"text\": \"\", \"x\": \"Cluster 8\", \"xref\": \"x\", \"y\": \"Cluster 5\", \"yref\": \"y\"}, {\"font\": {\"color\": \"Black\"}, \"showarrow\": false, \"text\": \"\", \"x\": \"Cluster 9\", \"xref\": \"x\", \"y\": \"Cluster 5\", \"yref\": \"y\"}, {\"font\": {\"color\": \"Black\"}, \"showarrow\": false, \"text\": \"\", \"x\": \"Cluster 10\", \"xref\": \"x\", \"y\": \"Cluster 5\", \"yref\": \"y\"}, {\"font\": {\"color\": \"Black\"}, \"showarrow\": false, \"text\": \"-0.1\", \"x\": \"Cluster 0\", \"xref\": \"x\", \"y\": \"Cluster 6\", \"yref\": \"y\"}, {\"font\": {\"color\": \"Black\"}, \"showarrow\": false, \"text\": \"-0.02\", \"x\": \"Cluster 1\", \"xref\": \"x\", \"y\": \"Cluster 6\", \"yref\": \"y\"}, {\"font\": {\"color\": \"Black\"}, \"showarrow\": false, \"text\": \"-0.12\", \"x\": \"Cluster 2\", \"xref\": \"x\", \"y\": \"Cluster 6\", \"yref\": \"y\"}, {\"font\": {\"color\": \"Black\"}, \"showarrow\": false, \"text\": \"-0.02\", \"x\": \"Cluster 3\", \"xref\": \"x\", \"y\": \"Cluster 6\", \"yref\": \"y\"}, {\"font\": {\"color\": \"Black\"}, \"showarrow\": false, \"text\": \"-0.02\", \"x\": \"Cluster 4\", \"xref\": \"x\", \"y\": \"Cluster 6\", \"yref\": \"y\"}, {\"font\": {\"color\": \"Black\"}, \"showarrow\": false, \"text\": \"-0.04\", \"x\": \"Cluster 5\", \"xref\": \"x\", \"y\": \"Cluster 6\", \"yref\": \"y\"}, {\"font\": {\"color\": \"Black\"}, \"showarrow\": false, \"text\": \"\", \"x\": \"Cluster 6\", \"xref\": \"x\", \"y\": \"Cluster 6\", \"yref\": \"y\"}, {\"font\": {\"color\": \"Black\"}, \"showarrow\": false, \"text\": \"\", \"x\": \"Cluster 7\", \"xref\": \"x\", \"y\": \"Cluster 6\", \"yref\": \"y\"}, {\"font\": {\"color\": \"Black\"}, \"showarrow\": false, \"text\": \"\", \"x\": \"Cluster 8\", \"xref\": \"x\", \"y\": \"Cluster 6\", \"yref\": \"y\"}, {\"font\": {\"color\": \"Black\"}, \"showarrow\": false, \"text\": \"\", \"x\": \"Cluster 9\", \"xref\": \"x\", \"y\": \"Cluster 6\", \"yref\": \"y\"}, {\"font\": {\"color\": \"Black\"}, \"showarrow\": false, \"text\": \"\", \"x\": \"Cluster 10\", \"xref\": \"x\", \"y\": \"Cluster 6\", \"yref\": \"y\"}, {\"font\": {\"color\": \"Black\"}, \"showarrow\": false, \"text\": \"0.03\", \"x\": \"Cluster 0\", \"xref\": \"x\", \"y\": \"Cluster 7\", \"yref\": \"y\"}, {\"font\": {\"color\": \"Black\"}, \"showarrow\": false, \"text\": \"-0.03\", \"x\": \"Cluster 1\", \"xref\": \"x\", \"y\": \"Cluster 7\", \"yref\": \"y\"}, {\"font\": {\"color\": \"Black\"}, \"showarrow\": false, \"text\": \"-0.02\", \"x\": \"Cluster 2\", \"xref\": \"x\", \"y\": \"Cluster 7\", \"yref\": \"y\"}, {\"font\": {\"color\": \"Black\"}, \"showarrow\": false, \"text\": \"-0.03\", \"x\": \"Cluster 3\", \"xref\": \"x\", \"y\": \"Cluster 7\", \"yref\": \"y\"}, {\"font\": {\"color\": \"Black\"}, \"showarrow\": false, \"text\": \"-0.06\", \"x\": \"Cluster 4\", \"xref\": \"x\", \"y\": \"Cluster 7\", \"yref\": \"y\"}, {\"font\": {\"color\": \"Black\"}, \"showarrow\": false, \"text\": \"-0.06\", \"x\": \"Cluster 5\", \"xref\": \"x\", \"y\": \"Cluster 7\", \"yref\": \"y\"}, {\"font\": {\"color\": \"Black\"}, \"showarrow\": false, \"text\": \"0.09\", \"x\": \"Cluster 6\", \"xref\": \"x\", \"y\": \"Cluster 7\", \"yref\": \"y\"}, {\"font\": {\"color\": \"Black\"}, \"showarrow\": false, \"text\": \"\", \"x\": \"Cluster 7\", \"xref\": \"x\", \"y\": \"Cluster 7\", \"yref\": \"y\"}, {\"font\": {\"color\": \"Black\"}, \"showarrow\": false, \"text\": \"\", \"x\": \"Cluster 8\", \"xref\": \"x\", \"y\": \"Cluster 7\", \"yref\": \"y\"}, {\"font\": {\"color\": \"Black\"}, \"showarrow\": false, \"text\": \"\", \"x\": \"Cluster 9\", \"xref\": \"x\", \"y\": \"Cluster 7\", \"yref\": \"y\"}, {\"font\": {\"color\": \"Black\"}, \"showarrow\": false, \"text\": \"\", \"x\": \"Cluster 10\", \"xref\": \"x\", \"y\": \"Cluster 7\", \"yref\": \"y\"}, {\"font\": {\"color\": \"Black\"}, \"showarrow\": false, \"text\": \"0.06\", \"x\": \"Cluster 0\", \"xref\": \"x\", \"y\": \"Cluster 8\", \"yref\": \"y\"}, {\"font\": {\"color\": \"Black\"}, \"showarrow\": false, \"text\": \"0.28\", \"x\": \"Cluster 1\", \"xref\": \"x\", \"y\": \"Cluster 8\", \"yref\": \"y\"}, {\"font\": {\"color\": \"Black\"}, \"showarrow\": false, \"text\": \"0.23\", \"x\": \"Cluster 2\", \"xref\": \"x\", \"y\": \"Cluster 8\", \"yref\": \"y\"}, {\"font\": {\"color\": \"Black\"}, \"showarrow\": false, \"text\": \"-0.01\", \"x\": \"Cluster 3\", \"xref\": \"x\", \"y\": \"Cluster 8\", \"yref\": \"y\"}, {\"font\": {\"color\": \"Black\"}, \"showarrow\": false, \"text\": \"0.08\", \"x\": \"Cluster 4\", \"xref\": \"x\", \"y\": \"Cluster 8\", \"yref\": \"y\"}, {\"font\": {\"color\": \"Black\"}, \"showarrow\": false, \"text\": \"-0.05\", \"x\": \"Cluster 5\", \"xref\": \"x\", \"y\": \"Cluster 8\", \"yref\": \"y\"}, {\"font\": {\"color\": \"Black\"}, \"showarrow\": false, \"text\": \"-0.06\", \"x\": \"Cluster 6\", \"xref\": \"x\", \"y\": \"Cluster 8\", \"yref\": \"y\"}, {\"font\": {\"color\": \"Black\"}, \"showarrow\": false, \"text\": \"\", \"x\": \"Cluster 7\", \"xref\": \"x\", \"y\": \"Cluster 8\", \"yref\": \"y\"}, {\"font\": {\"color\": \"Black\"}, \"showarrow\": false, \"text\": \"\", \"x\": \"Cluster 8\", \"xref\": \"x\", \"y\": \"Cluster 8\", \"yref\": \"y\"}, {\"font\": {\"color\": \"Black\"}, \"showarrow\": false, \"text\": \"\", \"x\": \"Cluster 9\", \"xref\": \"x\", \"y\": \"Cluster 8\", \"yref\": \"y\"}, {\"font\": {\"color\": \"Black\"}, \"showarrow\": false, \"text\": \"\", \"x\": \"Cluster 10\", \"xref\": \"x\", \"y\": \"Cluster 8\", \"yref\": \"y\"}, {\"font\": {\"color\": \"Black\"}, \"showarrow\": false, \"text\": \"-0.13\", \"x\": \"Cluster 0\", \"xref\": \"x\", \"y\": \"Cluster 9\", \"yref\": \"y\"}, {\"font\": {\"color\": \"Black\"}, \"showarrow\": false, \"text\": \"-0.05\", \"x\": \"Cluster 1\", \"xref\": \"x\", \"y\": \"Cluster 9\", \"yref\": \"y\"}, {\"font\": {\"color\": \"Black\"}, \"showarrow\": false, \"text\": \"-0.04\", \"x\": \"Cluster 2\", \"xref\": \"x\", \"y\": \"Cluster 9\", \"yref\": \"y\"}, {\"font\": {\"color\": \"Black\"}, \"showarrow\": false, \"text\": \"-0.04\", \"x\": \"Cluster 3\", \"xref\": \"x\", \"y\": \"Cluster 9\", \"yref\": \"y\"}, {\"font\": {\"color\": \"Black\"}, \"showarrow\": false, \"text\": \"0.12\", \"x\": \"Cluster 4\", \"xref\": \"x\", \"y\": \"Cluster 9\", \"yref\": \"y\"}, {\"font\": {\"color\": \"Black\"}, \"showarrow\": false, \"text\": \"0.02\", \"x\": \"Cluster 5\", \"xref\": \"x\", \"y\": \"Cluster 9\", \"yref\": \"y\"}, {\"font\": {\"color\": \"Black\"}, \"showarrow\": false, \"text\": \"0.08\", \"x\": \"Cluster 6\", \"xref\": \"x\", \"y\": \"Cluster 9\", \"yref\": \"y\"}, {\"font\": {\"color\": \"Black\"}, \"showarrow\": false, \"text\": \"-0.07\", \"x\": \"Cluster 7\", \"xref\": \"x\", \"y\": \"Cluster 9\", \"yref\": \"y\"}, {\"font\": {\"color\": \"Black\"}, \"showarrow\": false, \"text\": \"-0.04\", \"x\": \"Cluster 8\", \"xref\": \"x\", \"y\": \"Cluster 9\", \"yref\": \"y\"}, {\"font\": {\"color\": \"Black\"}, \"showarrow\": false, \"text\": \"\", \"x\": \"Cluster 9\", \"xref\": \"x\", \"y\": \"Cluster 9\", \"yref\": \"y\"}, {\"font\": {\"color\": \"Black\"}, \"showarrow\": false, \"text\": \"\", \"x\": \"Cluster 10\", \"xref\": \"x\", \"y\": \"Cluster 9\", \"yref\": \"y\"}, {\"font\": {\"color\": \"Black\"}, \"showarrow\": false, \"text\": \"0.73\", \"x\": \"Cluster 0\", \"xref\": \"x\", \"y\": \"Cluster 10\", \"yref\": \"y\"}, {\"font\": {\"color\": \"Black\"}, \"showarrow\": false, \"text\": \"0.09\", \"x\": \"Cluster 1\", \"xref\": \"x\", \"y\": \"Cluster 10\", \"yref\": \"y\"}, {\"font\": {\"color\": \"Black\"}, \"showarrow\": false, \"text\": \"0.03\", \"x\": \"Cluster 2\", \"xref\": \"x\", \"y\": \"Cluster 10\", \"yref\": \"y\"}, {\"font\": {\"color\": \"Black\"}, \"showarrow\": false, \"text\": \"-0.05\", \"x\": \"Cluster 3\", \"xref\": \"x\", \"y\": \"Cluster 10\", \"yref\": \"y\"}, {\"font\": {\"color\": \"Black\"}, \"showarrow\": false, \"text\": \"0.06\", \"x\": \"Cluster 4\", \"xref\": \"x\", \"y\": \"Cluster 10\", \"yref\": \"y\"}, {\"font\": {\"color\": \"Black\"}, \"showarrow\": false, \"text\": \"0.11\", \"x\": \"Cluster 5\", \"xref\": \"x\", \"y\": \"Cluster 10\", \"yref\": \"y\"}, {\"font\": {\"color\": \"Black\"}, \"showarrow\": false, \"text\": \"-0.03\", \"x\": \"Cluster 6\", \"xref\": \"x\", \"y\": \"Cluster 10\", \"yref\": \"y\"}, {\"font\": {\"color\": \"Black\"}, \"showarrow\": false, \"text\": \"0.09\", \"x\": \"Cluster 7\", \"xref\": \"x\", \"y\": \"Cluster 10\", \"yref\": \"y\"}, {\"font\": {\"color\": \"Black\"}, \"showarrow\": false, \"text\": \"-0.01\", \"x\": \"Cluster 8\", \"xref\": \"x\", \"y\": \"Cluster 10\", \"yref\": \"y\"}, {\"font\": {\"color\": \"Black\"}, \"showarrow\": false, \"text\": \"-0.08\", \"x\": \"Cluster 9\", \"xref\": \"x\", \"y\": \"Cluster 10\", \"yref\": \"y\"}, {\"font\": {\"color\": \"Black\"}, \"showarrow\": false, \"text\": \"\", \"x\": \"Cluster 10\", \"xref\": \"x\", \"y\": \"Cluster 10\", \"yref\": \"y\"}], \"height\": 970, \"margin\": {\"b\": 100, \"l\": 100, \"pad\": 10, \"r\": 50, \"t\": 200}, \"title\": {\"text\": \"Cross-correlation for the label\"}, \"width\": 970, \"xaxis\": {\"automargin\": true, \"side\": \"top\"}, \"yaxis\": {\"automargin\": true}},\n",
       "                        {\"showLink\": false, \"linkText\": \"Export to plot.ly\", \"plotlyServerURL\": \"https://plot.ly\", \"responsive\": true}\n",
       "                    ).then(function(){\n",
       "                            \n",
       "var gd = document.getElementById('7ffdfd27-3a55-43bf-b034-fdce6eb949da');\n",
       "var x = new MutationObserver(function (mutations, observer) {{\n",
       "        var display = window.getComputedStyle(gd).display;\n",
       "        if (!display || display === 'none') {{\n",
       "            console.log([gd, 'removed!']);\n",
       "            Plotly.purge(gd);\n",
       "            observer.disconnect();\n",
       "        }}\n",
       "}});\n",
       "\n",
       "// Listen for the removal of the full notebook cells\n",
       "var notebookContainer = gd.closest('#notebook-container');\n",
       "if (notebookContainer) {{\n",
       "    x.observe(notebookContainer, {childList: true});\n",
       "}}\n",
       "\n",
       "// Listen for the clearing of the current output cell\n",
       "var outputEl = gd.closest('.output');\n",
       "if (outputEl) {{\n",
       "    x.observe(outputEl, {childList: true});\n",
       "}}\n",
       "\n",
       "                        })\n",
       "                };\n",
       "                });\n",
       "            </script>\n",
       "        </div>"
      ]
     },
     "metadata": {},
     "output_type": "display_data"
    },
    {
     "data": {
      "application/vnd.plotly.v1+json": {
       "config": {
        "linkText": "Export to plot.ly",
        "plotlyServerURL": "https://plot.ly",
        "showLink": false
       },
       "data": [
        {
         "colorbar": {
          "len": 0.5,
          "outlinewidth": 0,
          "thickness": 20,
          "title": {
           "side": "right",
           "text": "\n \n Correlation"
          },
          "xpad": 25
         },
         "colorscale": [
          [
           0,
           "rgb(31, 119, 180)"
          ],
          [
           0.5,
           "rgb(255,255,255)"
          ],
          [
           1,
           "rgb(214, 39, 40)"
          ]
         ],
         "showscale": true,
         "type": "heatmap",
         "uid": "78f4a280-f8ff-4f8a-8fb2-c6b29a09f93b",
         "x": [
          "Collections",
          "Depreciation",
          "Disbursement",
          "Fixed Assets",
          "Goods delivery",
          "Payroll",
          "Payroll Disbursement",
          "Purchase",
          "Sales 21 btw",
          "Sales 6 btw",
          "Sales tax"
         ],
         "y": [
          "Collections",
          "Depreciation",
          "Disbursement",
          "Fixed Assets",
          "Goods delivery",
          "Payroll",
          "Payroll Disbursement",
          "Purchase",
          "Sales 21 btw",
          "Sales 6 btw",
          "Sales tax"
         ],
         "z": [
          [
           0,
           0,
           0,
           0,
           0,
           0,
           0,
           0,
           0,
           0,
           0
          ],
          [
           0.005002926145107751,
           0,
           0,
           0,
           0,
           0,
           0,
           0,
           0,
           0,
           0
          ],
          [
           -0.11841427462218032,
           -0.036447104895224236,
           0,
           0,
           0,
           0,
           0,
           0,
           0,
           0,
           0
          ],
          [
           -0.04440472135495782,
           0.018036619175904968,
           0.07572329306705432,
           0,
           0,
           0,
           0,
           0,
           0,
           0,
           0
          ],
          [
           0.2957563561750096,
           0.06608126680002231,
           -0.10339090415181436,
           -0.1254114285634333,
           0,
           0,
           0,
           0,
           0,
           0,
           0
          ],
          [
           0.002242386752635428,
           0.07496975509765245,
           -0.02260504561699416,
           0.11545099212755924,
           0.004580107284440651,
           0,
           0,
           0,
           0,
           0,
           0
          ],
          [
           0.22793860569580324,
           -0.05469188556462041,
           -0.060762410633103725,
           -0.040853944057889974,
           0.055134032510993206,
           0.07751337566950543,
           0,
           0,
           0,
           0,
           0
          ],
          [
           -0.020067308290956157,
           -0.05886513982371413,
           0.0896312066915666,
           -0.07400626549311969,
           0.02856211188853465,
           -0.05770031641615119,
           0.002468726928312739,
           0,
           0,
           0,
           0
          ],
          [
           0.03509405667496748,
           0.11057436158427844,
           -0.03179625319817122,
           -0.0815458170316995,
           0.727084373038739,
           0.06096318477555494,
           -0.0051151738524041505,
           0.08967148129359924,
           0,
           0,
           0
          ],
          [
           0.22969505323009762,
           -0.0012999304357566804,
           -0.0203887075721487,
           -0.04203539148588951,
           0.6104366740428954,
           0.013292905421502832,
           -0.011833802947408595,
           -0.02695399366412277,
           -0.05784918310981425,
           0,
           0
          ],
          [
           0.3642322262310806,
           -0.03448244403057125,
           -0.019718954088495163,
           -0.04942053530327592,
           0.21534779340652266,
           -0.08598214846599662,
           0.28491005669229647,
           -0.02690785690517229,
           0.10164435047814144,
           0.06022277625541386,
           0
          ]
         ],
         "zmax": 1,
         "zmid": 0,
         "zmin": -1
        }
       ],
       "layout": {
        "annotations": [
         {
          "font": {
           "color": "Black"
          },
          "showarrow": false,
          "text": "",
          "x": "Collections",
          "xref": "x",
          "y": "Collections",
          "yref": "y"
         },
         {
          "font": {
           "color": "Black"
          },
          "showarrow": false,
          "text": "",
          "x": "Depreciation",
          "xref": "x",
          "y": "Collections",
          "yref": "y"
         },
         {
          "font": {
           "color": "Black"
          },
          "showarrow": false,
          "text": "",
          "x": "Disbursement",
          "xref": "x",
          "y": "Collections",
          "yref": "y"
         },
         {
          "font": {
           "color": "Black"
          },
          "showarrow": false,
          "text": "",
          "x": "Fixed Assets",
          "xref": "x",
          "y": "Collections",
          "yref": "y"
         },
         {
          "font": {
           "color": "Black"
          },
          "showarrow": false,
          "text": "",
          "x": "Goods delivery",
          "xref": "x",
          "y": "Collections",
          "yref": "y"
         },
         {
          "font": {
           "color": "Black"
          },
          "showarrow": false,
          "text": "",
          "x": "Payroll",
          "xref": "x",
          "y": "Collections",
          "yref": "y"
         },
         {
          "font": {
           "color": "Black"
          },
          "showarrow": false,
          "text": "",
          "x": "Payroll Disbursement",
          "xref": "x",
          "y": "Collections",
          "yref": "y"
         },
         {
          "font": {
           "color": "Black"
          },
          "showarrow": false,
          "text": "",
          "x": "Purchase",
          "xref": "x",
          "y": "Collections",
          "yref": "y"
         },
         {
          "font": {
           "color": "Black"
          },
          "showarrow": false,
          "text": "",
          "x": "Sales 21 btw",
          "xref": "x",
          "y": "Collections",
          "yref": "y"
         },
         {
          "font": {
           "color": "Black"
          },
          "showarrow": false,
          "text": "",
          "x": "Sales 6 btw",
          "xref": "x",
          "y": "Collections",
          "yref": "y"
         },
         {
          "font": {
           "color": "Black"
          },
          "showarrow": false,
          "text": "",
          "x": "Sales tax",
          "xref": "x",
          "y": "Collections",
          "yref": "y"
         },
         {
          "font": {
           "color": "Black"
          },
          "showarrow": false,
          "text": "0.01",
          "x": "Collections",
          "xref": "x",
          "y": "Depreciation",
          "yref": "y"
         },
         {
          "font": {
           "color": "Black"
          },
          "showarrow": false,
          "text": "",
          "x": "Depreciation",
          "xref": "x",
          "y": "Depreciation",
          "yref": "y"
         },
         {
          "font": {
           "color": "Black"
          },
          "showarrow": false,
          "text": "",
          "x": "Disbursement",
          "xref": "x",
          "y": "Depreciation",
          "yref": "y"
         },
         {
          "font": {
           "color": "Black"
          },
          "showarrow": false,
          "text": "",
          "x": "Fixed Assets",
          "xref": "x",
          "y": "Depreciation",
          "yref": "y"
         },
         {
          "font": {
           "color": "Black"
          },
          "showarrow": false,
          "text": "",
          "x": "Goods delivery",
          "xref": "x",
          "y": "Depreciation",
          "yref": "y"
         },
         {
          "font": {
           "color": "Black"
          },
          "showarrow": false,
          "text": "",
          "x": "Payroll",
          "xref": "x",
          "y": "Depreciation",
          "yref": "y"
         },
         {
          "font": {
           "color": "Black"
          },
          "showarrow": false,
          "text": "",
          "x": "Payroll Disbursement",
          "xref": "x",
          "y": "Depreciation",
          "yref": "y"
         },
         {
          "font": {
           "color": "Black"
          },
          "showarrow": false,
          "text": "",
          "x": "Purchase",
          "xref": "x",
          "y": "Depreciation",
          "yref": "y"
         },
         {
          "font": {
           "color": "Black"
          },
          "showarrow": false,
          "text": "",
          "x": "Sales 21 btw",
          "xref": "x",
          "y": "Depreciation",
          "yref": "y"
         },
         {
          "font": {
           "color": "Black"
          },
          "showarrow": false,
          "text": "",
          "x": "Sales 6 btw",
          "xref": "x",
          "y": "Depreciation",
          "yref": "y"
         },
         {
          "font": {
           "color": "Black"
          },
          "showarrow": false,
          "text": "",
          "x": "Sales tax",
          "xref": "x",
          "y": "Depreciation",
          "yref": "y"
         },
         {
          "font": {
           "color": "Black"
          },
          "showarrow": false,
          "text": "-0.12",
          "x": "Collections",
          "xref": "x",
          "y": "Disbursement",
          "yref": "y"
         },
         {
          "font": {
           "color": "Black"
          },
          "showarrow": false,
          "text": "-0.04",
          "x": "Depreciation",
          "xref": "x",
          "y": "Disbursement",
          "yref": "y"
         },
         {
          "font": {
           "color": "Black"
          },
          "showarrow": false,
          "text": "",
          "x": "Disbursement",
          "xref": "x",
          "y": "Disbursement",
          "yref": "y"
         },
         {
          "font": {
           "color": "Black"
          },
          "showarrow": false,
          "text": "",
          "x": "Fixed Assets",
          "xref": "x",
          "y": "Disbursement",
          "yref": "y"
         },
         {
          "font": {
           "color": "Black"
          },
          "showarrow": false,
          "text": "",
          "x": "Goods delivery",
          "xref": "x",
          "y": "Disbursement",
          "yref": "y"
         },
         {
          "font": {
           "color": "Black"
          },
          "showarrow": false,
          "text": "",
          "x": "Payroll",
          "xref": "x",
          "y": "Disbursement",
          "yref": "y"
         },
         {
          "font": {
           "color": "Black"
          },
          "showarrow": false,
          "text": "",
          "x": "Payroll Disbursement",
          "xref": "x",
          "y": "Disbursement",
          "yref": "y"
         },
         {
          "font": {
           "color": "Black"
          },
          "showarrow": false,
          "text": "",
          "x": "Purchase",
          "xref": "x",
          "y": "Disbursement",
          "yref": "y"
         },
         {
          "font": {
           "color": "Black"
          },
          "showarrow": false,
          "text": "",
          "x": "Sales 21 btw",
          "xref": "x",
          "y": "Disbursement",
          "yref": "y"
         },
         {
          "font": {
           "color": "Black"
          },
          "showarrow": false,
          "text": "",
          "x": "Sales 6 btw",
          "xref": "x",
          "y": "Disbursement",
          "yref": "y"
         },
         {
          "font": {
           "color": "Black"
          },
          "showarrow": false,
          "text": "",
          "x": "Sales tax",
          "xref": "x",
          "y": "Disbursement",
          "yref": "y"
         },
         {
          "font": {
           "color": "Black"
          },
          "showarrow": false,
          "text": "-0.04",
          "x": "Collections",
          "xref": "x",
          "y": "Fixed Assets",
          "yref": "y"
         },
         {
          "font": {
           "color": "Black"
          },
          "showarrow": false,
          "text": "0.02",
          "x": "Depreciation",
          "xref": "x",
          "y": "Fixed Assets",
          "yref": "y"
         },
         {
          "font": {
           "color": "Black"
          },
          "showarrow": false,
          "text": "0.08",
          "x": "Disbursement",
          "xref": "x",
          "y": "Fixed Assets",
          "yref": "y"
         },
         {
          "font": {
           "color": "Black"
          },
          "showarrow": false,
          "text": "",
          "x": "Fixed Assets",
          "xref": "x",
          "y": "Fixed Assets",
          "yref": "y"
         },
         {
          "font": {
           "color": "Black"
          },
          "showarrow": false,
          "text": "",
          "x": "Goods delivery",
          "xref": "x",
          "y": "Fixed Assets",
          "yref": "y"
         },
         {
          "font": {
           "color": "Black"
          },
          "showarrow": false,
          "text": "",
          "x": "Payroll",
          "xref": "x",
          "y": "Fixed Assets",
          "yref": "y"
         },
         {
          "font": {
           "color": "Black"
          },
          "showarrow": false,
          "text": "",
          "x": "Payroll Disbursement",
          "xref": "x",
          "y": "Fixed Assets",
          "yref": "y"
         },
         {
          "font": {
           "color": "Black"
          },
          "showarrow": false,
          "text": "",
          "x": "Purchase",
          "xref": "x",
          "y": "Fixed Assets",
          "yref": "y"
         },
         {
          "font": {
           "color": "Black"
          },
          "showarrow": false,
          "text": "",
          "x": "Sales 21 btw",
          "xref": "x",
          "y": "Fixed Assets",
          "yref": "y"
         },
         {
          "font": {
           "color": "Black"
          },
          "showarrow": false,
          "text": "",
          "x": "Sales 6 btw",
          "xref": "x",
          "y": "Fixed Assets",
          "yref": "y"
         },
         {
          "font": {
           "color": "Black"
          },
          "showarrow": false,
          "text": "",
          "x": "Sales tax",
          "xref": "x",
          "y": "Fixed Assets",
          "yref": "y"
         },
         {
          "font": {
           "color": "Black"
          },
          "showarrow": false,
          "text": "0.3",
          "x": "Collections",
          "xref": "x",
          "y": "Goods delivery",
          "yref": "y"
         },
         {
          "font": {
           "color": "Black"
          },
          "showarrow": false,
          "text": "0.07",
          "x": "Depreciation",
          "xref": "x",
          "y": "Goods delivery",
          "yref": "y"
         },
         {
          "font": {
           "color": "Black"
          },
          "showarrow": false,
          "text": "-0.1",
          "x": "Disbursement",
          "xref": "x",
          "y": "Goods delivery",
          "yref": "y"
         },
         {
          "font": {
           "color": "Black"
          },
          "showarrow": false,
          "text": "-0.13",
          "x": "Fixed Assets",
          "xref": "x",
          "y": "Goods delivery",
          "yref": "y"
         },
         {
          "font": {
           "color": "Black"
          },
          "showarrow": false,
          "text": "",
          "x": "Goods delivery",
          "xref": "x",
          "y": "Goods delivery",
          "yref": "y"
         },
         {
          "font": {
           "color": "Black"
          },
          "showarrow": false,
          "text": "",
          "x": "Payroll",
          "xref": "x",
          "y": "Goods delivery",
          "yref": "y"
         },
         {
          "font": {
           "color": "Black"
          },
          "showarrow": false,
          "text": "",
          "x": "Payroll Disbursement",
          "xref": "x",
          "y": "Goods delivery",
          "yref": "y"
         },
         {
          "font": {
           "color": "Black"
          },
          "showarrow": false,
          "text": "",
          "x": "Purchase",
          "xref": "x",
          "y": "Goods delivery",
          "yref": "y"
         },
         {
          "font": {
           "color": "Black"
          },
          "showarrow": false,
          "text": "",
          "x": "Sales 21 btw",
          "xref": "x",
          "y": "Goods delivery",
          "yref": "y"
         },
         {
          "font": {
           "color": "Black"
          },
          "showarrow": false,
          "text": "",
          "x": "Sales 6 btw",
          "xref": "x",
          "y": "Goods delivery",
          "yref": "y"
         },
         {
          "font": {
           "color": "Black"
          },
          "showarrow": false,
          "text": "",
          "x": "Sales tax",
          "xref": "x",
          "y": "Goods delivery",
          "yref": "y"
         },
         {
          "font": {
           "color": "Black"
          },
          "showarrow": false,
          "text": "",
          "x": "Collections",
          "xref": "x",
          "y": "Payroll",
          "yref": "y"
         },
         {
          "font": {
           "color": "Black"
          },
          "showarrow": false,
          "text": "0.07",
          "x": "Depreciation",
          "xref": "x",
          "y": "Payroll",
          "yref": "y"
         },
         {
          "font": {
           "color": "Black"
          },
          "showarrow": false,
          "text": "-0.02",
          "x": "Disbursement",
          "xref": "x",
          "y": "Payroll",
          "yref": "y"
         },
         {
          "font": {
           "color": "Black"
          },
          "showarrow": false,
          "text": "0.12",
          "x": "Fixed Assets",
          "xref": "x",
          "y": "Payroll",
          "yref": "y"
         },
         {
          "font": {
           "color": "Black"
          },
          "showarrow": false,
          "text": "",
          "x": "Goods delivery",
          "xref": "x",
          "y": "Payroll",
          "yref": "y"
         },
         {
          "font": {
           "color": "Black"
          },
          "showarrow": false,
          "text": "",
          "x": "Payroll",
          "xref": "x",
          "y": "Payroll",
          "yref": "y"
         },
         {
          "font": {
           "color": "Black"
          },
          "showarrow": false,
          "text": "",
          "x": "Payroll Disbursement",
          "xref": "x",
          "y": "Payroll",
          "yref": "y"
         },
         {
          "font": {
           "color": "Black"
          },
          "showarrow": false,
          "text": "",
          "x": "Purchase",
          "xref": "x",
          "y": "Payroll",
          "yref": "y"
         },
         {
          "font": {
           "color": "Black"
          },
          "showarrow": false,
          "text": "",
          "x": "Sales 21 btw",
          "xref": "x",
          "y": "Payroll",
          "yref": "y"
         },
         {
          "font": {
           "color": "Black"
          },
          "showarrow": false,
          "text": "",
          "x": "Sales 6 btw",
          "xref": "x",
          "y": "Payroll",
          "yref": "y"
         },
         {
          "font": {
           "color": "Black"
          },
          "showarrow": false,
          "text": "",
          "x": "Sales tax",
          "xref": "x",
          "y": "Payroll",
          "yref": "y"
         },
         {
          "font": {
           "color": "Black"
          },
          "showarrow": false,
          "text": "0.23",
          "x": "Collections",
          "xref": "x",
          "y": "Payroll Disbursement",
          "yref": "y"
         },
         {
          "font": {
           "color": "Black"
          },
          "showarrow": false,
          "text": "-0.05",
          "x": "Depreciation",
          "xref": "x",
          "y": "Payroll Disbursement",
          "yref": "y"
         },
         {
          "font": {
           "color": "Black"
          },
          "showarrow": false,
          "text": "-0.06",
          "x": "Disbursement",
          "xref": "x",
          "y": "Payroll Disbursement",
          "yref": "y"
         },
         {
          "font": {
           "color": "Black"
          },
          "showarrow": false,
          "text": "-0.04",
          "x": "Fixed Assets",
          "xref": "x",
          "y": "Payroll Disbursement",
          "yref": "y"
         },
         {
          "font": {
           "color": "Black"
          },
          "showarrow": false,
          "text": "0.06",
          "x": "Goods delivery",
          "xref": "x",
          "y": "Payroll Disbursement",
          "yref": "y"
         },
         {
          "font": {
           "color": "Black"
          },
          "showarrow": false,
          "text": "0.08",
          "x": "Payroll",
          "xref": "x",
          "y": "Payroll Disbursement",
          "yref": "y"
         },
         {
          "font": {
           "color": "Black"
          },
          "showarrow": false,
          "text": "",
          "x": "Payroll Disbursement",
          "xref": "x",
          "y": "Payroll Disbursement",
          "yref": "y"
         },
         {
          "font": {
           "color": "Black"
          },
          "showarrow": false,
          "text": "",
          "x": "Purchase",
          "xref": "x",
          "y": "Payroll Disbursement",
          "yref": "y"
         },
         {
          "font": {
           "color": "Black"
          },
          "showarrow": false,
          "text": "",
          "x": "Sales 21 btw",
          "xref": "x",
          "y": "Payroll Disbursement",
          "yref": "y"
         },
         {
          "font": {
           "color": "Black"
          },
          "showarrow": false,
          "text": "",
          "x": "Sales 6 btw",
          "xref": "x",
          "y": "Payroll Disbursement",
          "yref": "y"
         },
         {
          "font": {
           "color": "Black"
          },
          "showarrow": false,
          "text": "",
          "x": "Sales tax",
          "xref": "x",
          "y": "Payroll Disbursement",
          "yref": "y"
         },
         {
          "font": {
           "color": "Black"
          },
          "showarrow": false,
          "text": "-0.02",
          "x": "Collections",
          "xref": "x",
          "y": "Purchase",
          "yref": "y"
         },
         {
          "font": {
           "color": "Black"
          },
          "showarrow": false,
          "text": "-0.06",
          "x": "Depreciation",
          "xref": "x",
          "y": "Purchase",
          "yref": "y"
         },
         {
          "font": {
           "color": "Black"
          },
          "showarrow": false,
          "text": "0.09",
          "x": "Disbursement",
          "xref": "x",
          "y": "Purchase",
          "yref": "y"
         },
         {
          "font": {
           "color": "Black"
          },
          "showarrow": false,
          "text": "-0.07",
          "x": "Fixed Assets",
          "xref": "x",
          "y": "Purchase",
          "yref": "y"
         },
         {
          "font": {
           "color": "Black"
          },
          "showarrow": false,
          "text": "0.03",
          "x": "Goods delivery",
          "xref": "x",
          "y": "Purchase",
          "yref": "y"
         },
         {
          "font": {
           "color": "Black"
          },
          "showarrow": false,
          "text": "-0.06",
          "x": "Payroll",
          "xref": "x",
          "y": "Purchase",
          "yref": "y"
         },
         {
          "font": {
           "color": "Black"
          },
          "showarrow": false,
          "text": "",
          "x": "Payroll Disbursement",
          "xref": "x",
          "y": "Purchase",
          "yref": "y"
         },
         {
          "font": {
           "color": "Black"
          },
          "showarrow": false,
          "text": "",
          "x": "Purchase",
          "xref": "x",
          "y": "Purchase",
          "yref": "y"
         },
         {
          "font": {
           "color": "Black"
          },
          "showarrow": false,
          "text": "",
          "x": "Sales 21 btw",
          "xref": "x",
          "y": "Purchase",
          "yref": "y"
         },
         {
          "font": {
           "color": "Black"
          },
          "showarrow": false,
          "text": "",
          "x": "Sales 6 btw",
          "xref": "x",
          "y": "Purchase",
          "yref": "y"
         },
         {
          "font": {
           "color": "Black"
          },
          "showarrow": false,
          "text": "",
          "x": "Sales tax",
          "xref": "x",
          "y": "Purchase",
          "yref": "y"
         },
         {
          "font": {
           "color": "Black"
          },
          "showarrow": false,
          "text": "0.04",
          "x": "Collections",
          "xref": "x",
          "y": "Sales 21 btw",
          "yref": "y"
         },
         {
          "font": {
           "color": "Black"
          },
          "showarrow": false,
          "text": "0.11",
          "x": "Depreciation",
          "xref": "x",
          "y": "Sales 21 btw",
          "yref": "y"
         },
         {
          "font": {
           "color": "Black"
          },
          "showarrow": false,
          "text": "-0.03",
          "x": "Disbursement",
          "xref": "x",
          "y": "Sales 21 btw",
          "yref": "y"
         },
         {
          "font": {
           "color": "Black"
          },
          "showarrow": false,
          "text": "-0.08",
          "x": "Fixed Assets",
          "xref": "x",
          "y": "Sales 21 btw",
          "yref": "y"
         },
         {
          "font": {
           "color": "Black"
          },
          "showarrow": false,
          "text": "0.73",
          "x": "Goods delivery",
          "xref": "x",
          "y": "Sales 21 btw",
          "yref": "y"
         },
         {
          "font": {
           "color": "Black"
          },
          "showarrow": false,
          "text": "0.06",
          "x": "Payroll",
          "xref": "x",
          "y": "Sales 21 btw",
          "yref": "y"
         },
         {
          "font": {
           "color": "Black"
          },
          "showarrow": false,
          "text": "-0.01",
          "x": "Payroll Disbursement",
          "xref": "x",
          "y": "Sales 21 btw",
          "yref": "y"
         },
         {
          "font": {
           "color": "Black"
          },
          "showarrow": false,
          "text": "0.09",
          "x": "Purchase",
          "xref": "x",
          "y": "Sales 21 btw",
          "yref": "y"
         },
         {
          "font": {
           "color": "Black"
          },
          "showarrow": false,
          "text": "",
          "x": "Sales 21 btw",
          "xref": "x",
          "y": "Sales 21 btw",
          "yref": "y"
         },
         {
          "font": {
           "color": "Black"
          },
          "showarrow": false,
          "text": "",
          "x": "Sales 6 btw",
          "xref": "x",
          "y": "Sales 21 btw",
          "yref": "y"
         },
         {
          "font": {
           "color": "Black"
          },
          "showarrow": false,
          "text": "",
          "x": "Sales tax",
          "xref": "x",
          "y": "Sales 21 btw",
          "yref": "y"
         },
         {
          "font": {
           "color": "Black"
          },
          "showarrow": false,
          "text": "0.23",
          "x": "Collections",
          "xref": "x",
          "y": "Sales 6 btw",
          "yref": "y"
         },
         {
          "font": {
           "color": "Black"
          },
          "showarrow": false,
          "text": "",
          "x": "Depreciation",
          "xref": "x",
          "y": "Sales 6 btw",
          "yref": "y"
         },
         {
          "font": {
           "color": "Black"
          },
          "showarrow": false,
          "text": "-0.02",
          "x": "Disbursement",
          "xref": "x",
          "y": "Sales 6 btw",
          "yref": "y"
         },
         {
          "font": {
           "color": "Black"
          },
          "showarrow": false,
          "text": "-0.04",
          "x": "Fixed Assets",
          "xref": "x",
          "y": "Sales 6 btw",
          "yref": "y"
         },
         {
          "font": {
           "color": "Black"
          },
          "showarrow": false,
          "text": "0.61",
          "x": "Goods delivery",
          "xref": "x",
          "y": "Sales 6 btw",
          "yref": "y"
         },
         {
          "font": {
           "color": "Black"
          },
          "showarrow": false,
          "text": "0.01",
          "x": "Payroll",
          "xref": "x",
          "y": "Sales 6 btw",
          "yref": "y"
         },
         {
          "font": {
           "color": "Black"
          },
          "showarrow": false,
          "text": "-0.01",
          "x": "Payroll Disbursement",
          "xref": "x",
          "y": "Sales 6 btw",
          "yref": "y"
         },
         {
          "font": {
           "color": "Black"
          },
          "showarrow": false,
          "text": "-0.03",
          "x": "Purchase",
          "xref": "x",
          "y": "Sales 6 btw",
          "yref": "y"
         },
         {
          "font": {
           "color": "Black"
          },
          "showarrow": false,
          "text": "-0.06",
          "x": "Sales 21 btw",
          "xref": "x",
          "y": "Sales 6 btw",
          "yref": "y"
         },
         {
          "font": {
           "color": "Black"
          },
          "showarrow": false,
          "text": "",
          "x": "Sales 6 btw",
          "xref": "x",
          "y": "Sales 6 btw",
          "yref": "y"
         },
         {
          "font": {
           "color": "Black"
          },
          "showarrow": false,
          "text": "",
          "x": "Sales tax",
          "xref": "x",
          "y": "Sales 6 btw",
          "yref": "y"
         },
         {
          "font": {
           "color": "Black"
          },
          "showarrow": false,
          "text": "0.36",
          "x": "Collections",
          "xref": "x",
          "y": "Sales tax",
          "yref": "y"
         },
         {
          "font": {
           "color": "Black"
          },
          "showarrow": false,
          "text": "-0.03",
          "x": "Depreciation",
          "xref": "x",
          "y": "Sales tax",
          "yref": "y"
         },
         {
          "font": {
           "color": "Black"
          },
          "showarrow": false,
          "text": "-0.02",
          "x": "Disbursement",
          "xref": "x",
          "y": "Sales tax",
          "yref": "y"
         },
         {
          "font": {
           "color": "Black"
          },
          "showarrow": false,
          "text": "-0.05",
          "x": "Fixed Assets",
          "xref": "x",
          "y": "Sales tax",
          "yref": "y"
         },
         {
          "font": {
           "color": "Black"
          },
          "showarrow": false,
          "text": "0.22",
          "x": "Goods delivery",
          "xref": "x",
          "y": "Sales tax",
          "yref": "y"
         },
         {
          "font": {
           "color": "Black"
          },
          "showarrow": false,
          "text": "-0.09",
          "x": "Payroll",
          "xref": "x",
          "y": "Sales tax",
          "yref": "y"
         },
         {
          "font": {
           "color": "Black"
          },
          "showarrow": false,
          "text": "0.28",
          "x": "Payroll Disbursement",
          "xref": "x",
          "y": "Sales tax",
          "yref": "y"
         },
         {
          "font": {
           "color": "Black"
          },
          "showarrow": false,
          "text": "-0.03",
          "x": "Purchase",
          "xref": "x",
          "y": "Sales tax",
          "yref": "y"
         },
         {
          "font": {
           "color": "Black"
          },
          "showarrow": false,
          "text": "0.1",
          "x": "Sales 21 btw",
          "xref": "x",
          "y": "Sales tax",
          "yref": "y"
         },
         {
          "font": {
           "color": "Black"
          },
          "showarrow": false,
          "text": "0.06",
          "x": "Sales 6 btw",
          "xref": "x",
          "y": "Sales tax",
          "yref": "y"
         },
         {
          "font": {
           "color": "Black"
          },
          "showarrow": false,
          "text": "",
          "x": "Sales tax",
          "xref": "x",
          "y": "Sales tax",
          "yref": "y"
         }
        ],
        "height": 970,
        "margin": {
         "b": 100,
         "l": 100,
         "pad": 10,
         "r": 50,
         "t": 200
        },
        "title": {
         "text": "Cross-correlation for the GroundTruth"
        },
        "width": 970,
        "xaxis": {
         "automargin": true,
         "side": "top"
        },
        "yaxis": {
         "automargin": true
        }
       }
      },
      "text/html": [
       "<div>\n",
       "        \n",
       "        \n",
       "            <div id=\"33a2f261-03a7-430a-9248-f6d55920bd19\" class=\"plotly-graph-div\" style=\"height:970px; width:970px;\"></div>\n",
       "            <script type=\"text/javascript\">\n",
       "                require([\"plotly\"], function(Plotly) {\n",
       "                    window.PLOTLYENV=window.PLOTLYENV || {};\n",
       "                    window.PLOTLYENV.BASE_URL='https://plot.ly';\n",
       "                    \n",
       "                if (document.getElementById(\"33a2f261-03a7-430a-9248-f6d55920bd19\")) {\n",
       "                    Plotly.newPlot(\n",
       "                        '33a2f261-03a7-430a-9248-f6d55920bd19',\n",
       "                        [{\"colorbar\": {\"len\": 0.5, \"outlinewidth\": 0, \"thickness\": 20, \"title\": {\"side\": \"right\", \"text\": \"\\n \\n Correlation\"}, \"xpad\": 25}, \"colorscale\": [[0.0, \"rgb(31, 119, 180)\"], [0.5, \"rgb(255,255,255)\"], [1, \"rgb(214, 39, 40)\"]], \"showscale\": true, \"type\": \"heatmap\", \"uid\": \"78f4a280-f8ff-4f8a-8fb2-c6b29a09f93b\", \"x\": [\"Collections\", \"Depreciation\", \"Disbursement\", \"Fixed Assets\", \"Goods delivery\", \"Payroll\", \"Payroll Disbursement\", \"Purchase\", \"Sales 21 btw\", \"Sales 6 btw\", \"Sales tax\"], \"y\": [\"Collections\", \"Depreciation\", \"Disbursement\", \"Fixed Assets\", \"Goods delivery\", \"Payroll\", \"Payroll Disbursement\", \"Purchase\", \"Sales 21 btw\", \"Sales 6 btw\", \"Sales tax\"], \"z\": [[0.0, 0.0, 0.0, 0.0, 0.0, 0.0, 0.0, 0.0, 0.0, 0.0, 0.0], [0.005002926145107751, 0.0, 0.0, 0.0, 0.0, 0.0, 0.0, 0.0, 0.0, 0.0, 0.0], [-0.11841427462218032, -0.036447104895224236, 0.0, 0.0, 0.0, 0.0, 0.0, 0.0, 0.0, 0.0, 0.0], [-0.04440472135495782, 0.018036619175904968, 0.07572329306705432, 0.0, 0.0, 0.0, 0.0, 0.0, 0.0, 0.0, 0.0], [0.2957563561750096, 0.06608126680002231, -0.10339090415181436, -0.1254114285634333, 0.0, 0.0, 0.0, 0.0, 0.0, 0.0, 0.0], [0.002242386752635428, 0.07496975509765245, -0.02260504561699416, 0.11545099212755924, 0.004580107284440651, 0.0, 0.0, 0.0, 0.0, 0.0, 0.0], [0.22793860569580324, -0.05469188556462041, -0.060762410633103725, -0.040853944057889974, 0.055134032510993206, 0.07751337566950543, 0.0, 0.0, 0.0, 0.0, 0.0], [-0.020067308290956157, -0.05886513982371413, 0.0896312066915666, -0.07400626549311969, 0.02856211188853465, -0.05770031641615119, 0.002468726928312739, 0.0, 0.0, 0.0, 0.0], [0.03509405667496748, 0.11057436158427844, -0.03179625319817122, -0.0815458170316995, 0.727084373038739, 0.06096318477555494, -0.0051151738524041505, 0.08967148129359924, 0.0, 0.0, 0.0], [0.22969505323009762, -0.0012999304357566804, -0.0203887075721487, -0.04203539148588951, 0.6104366740428954, 0.013292905421502832, -0.011833802947408595, -0.02695399366412277, -0.05784918310981425, 0.0, 0.0], [0.3642322262310806, -0.03448244403057125, -0.019718954088495163, -0.04942053530327592, 0.21534779340652266, -0.08598214846599662, 0.28491005669229647, -0.02690785690517229, 0.10164435047814144, 0.06022277625541386, 0.0]], \"zmax\": 1, \"zmid\": 0, \"zmin\": -1}],\n",
       "                        {\"annotations\": [{\"font\": {\"color\": \"Black\"}, \"showarrow\": false, \"text\": \"\", \"x\": \"Collections\", \"xref\": \"x\", \"y\": \"Collections\", \"yref\": \"y\"}, {\"font\": {\"color\": \"Black\"}, \"showarrow\": false, \"text\": \"\", \"x\": \"Depreciation\", \"xref\": \"x\", \"y\": \"Collections\", \"yref\": \"y\"}, {\"font\": {\"color\": \"Black\"}, \"showarrow\": false, \"text\": \"\", \"x\": \"Disbursement\", \"xref\": \"x\", \"y\": \"Collections\", \"yref\": \"y\"}, {\"font\": {\"color\": \"Black\"}, \"showarrow\": false, \"text\": \"\", \"x\": \"Fixed Assets\", \"xref\": \"x\", \"y\": \"Collections\", \"yref\": \"y\"}, {\"font\": {\"color\": \"Black\"}, \"showarrow\": false, \"text\": \"\", \"x\": \"Goods delivery\", \"xref\": \"x\", \"y\": \"Collections\", \"yref\": \"y\"}, {\"font\": {\"color\": \"Black\"}, \"showarrow\": false, \"text\": \"\", \"x\": \"Payroll\", \"xref\": \"x\", \"y\": \"Collections\", \"yref\": \"y\"}, {\"font\": {\"color\": \"Black\"}, \"showarrow\": false, \"text\": \"\", \"x\": \"Payroll Disbursement\", \"xref\": \"x\", \"y\": \"Collections\", \"yref\": \"y\"}, {\"font\": {\"color\": \"Black\"}, \"showarrow\": false, \"text\": \"\", \"x\": \"Purchase\", \"xref\": \"x\", \"y\": \"Collections\", \"yref\": \"y\"}, {\"font\": {\"color\": \"Black\"}, \"showarrow\": false, \"text\": \"\", \"x\": \"Sales 21 btw\", \"xref\": \"x\", \"y\": \"Collections\", \"yref\": \"y\"}, {\"font\": {\"color\": \"Black\"}, \"showarrow\": false, \"text\": \"\", \"x\": \"Sales 6 btw\", \"xref\": \"x\", \"y\": \"Collections\", \"yref\": \"y\"}, {\"font\": {\"color\": \"Black\"}, \"showarrow\": false, \"text\": \"\", \"x\": \"Sales tax\", \"xref\": \"x\", \"y\": \"Collections\", \"yref\": \"y\"}, {\"font\": {\"color\": \"Black\"}, \"showarrow\": false, \"text\": \"0.01\", \"x\": \"Collections\", \"xref\": \"x\", \"y\": \"Depreciation\", \"yref\": \"y\"}, {\"font\": {\"color\": \"Black\"}, \"showarrow\": false, \"text\": \"\", \"x\": \"Depreciation\", \"xref\": \"x\", \"y\": \"Depreciation\", \"yref\": \"y\"}, {\"font\": {\"color\": \"Black\"}, \"showarrow\": false, \"text\": \"\", \"x\": \"Disbursement\", \"xref\": \"x\", \"y\": \"Depreciation\", \"yref\": \"y\"}, {\"font\": {\"color\": \"Black\"}, \"showarrow\": false, \"text\": \"\", \"x\": \"Fixed Assets\", \"xref\": \"x\", \"y\": \"Depreciation\", \"yref\": \"y\"}, {\"font\": {\"color\": \"Black\"}, \"showarrow\": false, \"text\": \"\", \"x\": \"Goods delivery\", \"xref\": \"x\", \"y\": \"Depreciation\", \"yref\": \"y\"}, {\"font\": {\"color\": \"Black\"}, \"showarrow\": false, \"text\": \"\", \"x\": \"Payroll\", \"xref\": \"x\", \"y\": \"Depreciation\", \"yref\": \"y\"}, {\"font\": {\"color\": \"Black\"}, \"showarrow\": false, \"text\": \"\", \"x\": \"Payroll Disbursement\", \"xref\": \"x\", \"y\": \"Depreciation\", \"yref\": \"y\"}, {\"font\": {\"color\": \"Black\"}, \"showarrow\": false, \"text\": \"\", \"x\": \"Purchase\", \"xref\": \"x\", \"y\": \"Depreciation\", \"yref\": \"y\"}, {\"font\": {\"color\": \"Black\"}, \"showarrow\": false, \"text\": \"\", \"x\": \"Sales 21 btw\", \"xref\": \"x\", \"y\": \"Depreciation\", \"yref\": \"y\"}, {\"font\": {\"color\": \"Black\"}, \"showarrow\": false, \"text\": \"\", \"x\": \"Sales 6 btw\", \"xref\": \"x\", \"y\": \"Depreciation\", \"yref\": \"y\"}, {\"font\": {\"color\": \"Black\"}, \"showarrow\": false, \"text\": \"\", \"x\": \"Sales tax\", \"xref\": \"x\", \"y\": \"Depreciation\", \"yref\": \"y\"}, {\"font\": {\"color\": \"Black\"}, \"showarrow\": false, \"text\": \"-0.12\", \"x\": \"Collections\", \"xref\": \"x\", \"y\": \"Disbursement\", \"yref\": \"y\"}, {\"font\": {\"color\": \"Black\"}, \"showarrow\": false, \"text\": \"-0.04\", \"x\": \"Depreciation\", \"xref\": \"x\", \"y\": \"Disbursement\", \"yref\": \"y\"}, {\"font\": {\"color\": \"Black\"}, \"showarrow\": false, \"text\": \"\", \"x\": \"Disbursement\", \"xref\": \"x\", \"y\": \"Disbursement\", \"yref\": \"y\"}, {\"font\": {\"color\": \"Black\"}, \"showarrow\": false, \"text\": \"\", \"x\": \"Fixed Assets\", \"xref\": \"x\", \"y\": \"Disbursement\", \"yref\": \"y\"}, {\"font\": {\"color\": \"Black\"}, \"showarrow\": false, \"text\": \"\", \"x\": \"Goods delivery\", \"xref\": \"x\", \"y\": \"Disbursement\", \"yref\": \"y\"}, {\"font\": {\"color\": \"Black\"}, \"showarrow\": false, \"text\": \"\", \"x\": \"Payroll\", \"xref\": \"x\", \"y\": \"Disbursement\", \"yref\": \"y\"}, {\"font\": {\"color\": \"Black\"}, \"showarrow\": false, \"text\": \"\", \"x\": \"Payroll Disbursement\", \"xref\": \"x\", \"y\": \"Disbursement\", \"yref\": \"y\"}, {\"font\": {\"color\": \"Black\"}, \"showarrow\": false, \"text\": \"\", \"x\": \"Purchase\", \"xref\": \"x\", \"y\": \"Disbursement\", \"yref\": \"y\"}, {\"font\": {\"color\": \"Black\"}, \"showarrow\": false, \"text\": \"\", \"x\": \"Sales 21 btw\", \"xref\": \"x\", \"y\": \"Disbursement\", \"yref\": \"y\"}, {\"font\": {\"color\": \"Black\"}, \"showarrow\": false, \"text\": \"\", \"x\": \"Sales 6 btw\", \"xref\": \"x\", \"y\": \"Disbursement\", \"yref\": \"y\"}, {\"font\": {\"color\": \"Black\"}, \"showarrow\": false, \"text\": \"\", \"x\": \"Sales tax\", \"xref\": \"x\", \"y\": \"Disbursement\", \"yref\": \"y\"}, {\"font\": {\"color\": \"Black\"}, \"showarrow\": false, \"text\": \"-0.04\", \"x\": \"Collections\", \"xref\": \"x\", \"y\": \"Fixed Assets\", \"yref\": \"y\"}, {\"font\": {\"color\": \"Black\"}, \"showarrow\": false, \"text\": \"0.02\", \"x\": \"Depreciation\", \"xref\": \"x\", \"y\": \"Fixed Assets\", \"yref\": \"y\"}, {\"font\": {\"color\": \"Black\"}, \"showarrow\": false, \"text\": \"0.08\", \"x\": \"Disbursement\", \"xref\": \"x\", \"y\": \"Fixed Assets\", \"yref\": \"y\"}, {\"font\": {\"color\": \"Black\"}, \"showarrow\": false, \"text\": \"\", \"x\": \"Fixed Assets\", \"xref\": \"x\", \"y\": \"Fixed Assets\", \"yref\": \"y\"}, {\"font\": {\"color\": \"Black\"}, \"showarrow\": false, \"text\": \"\", \"x\": \"Goods delivery\", \"xref\": \"x\", \"y\": \"Fixed Assets\", \"yref\": \"y\"}, {\"font\": {\"color\": \"Black\"}, \"showarrow\": false, \"text\": \"\", \"x\": \"Payroll\", \"xref\": \"x\", \"y\": \"Fixed Assets\", \"yref\": \"y\"}, {\"font\": {\"color\": \"Black\"}, \"showarrow\": false, \"text\": \"\", \"x\": \"Payroll Disbursement\", \"xref\": \"x\", \"y\": \"Fixed Assets\", \"yref\": \"y\"}, {\"font\": {\"color\": \"Black\"}, \"showarrow\": false, \"text\": \"\", \"x\": \"Purchase\", \"xref\": \"x\", \"y\": \"Fixed Assets\", \"yref\": \"y\"}, {\"font\": {\"color\": \"Black\"}, \"showarrow\": false, \"text\": \"\", \"x\": \"Sales 21 btw\", \"xref\": \"x\", \"y\": \"Fixed Assets\", \"yref\": \"y\"}, {\"font\": {\"color\": \"Black\"}, \"showarrow\": false, \"text\": \"\", \"x\": \"Sales 6 btw\", \"xref\": \"x\", \"y\": \"Fixed Assets\", \"yref\": \"y\"}, {\"font\": {\"color\": \"Black\"}, \"showarrow\": false, \"text\": \"\", \"x\": \"Sales tax\", \"xref\": \"x\", \"y\": \"Fixed Assets\", \"yref\": \"y\"}, {\"font\": {\"color\": \"Black\"}, \"showarrow\": false, \"text\": \"0.3\", \"x\": \"Collections\", \"xref\": \"x\", \"y\": \"Goods delivery\", \"yref\": \"y\"}, {\"font\": {\"color\": \"Black\"}, \"showarrow\": false, \"text\": \"0.07\", \"x\": \"Depreciation\", \"xref\": \"x\", \"y\": \"Goods delivery\", \"yref\": \"y\"}, {\"font\": {\"color\": \"Black\"}, \"showarrow\": false, \"text\": \"-0.1\", \"x\": \"Disbursement\", \"xref\": \"x\", \"y\": \"Goods delivery\", \"yref\": \"y\"}, {\"font\": {\"color\": \"Black\"}, \"showarrow\": false, \"text\": \"-0.13\", \"x\": \"Fixed Assets\", \"xref\": \"x\", \"y\": \"Goods delivery\", \"yref\": \"y\"}, {\"font\": {\"color\": \"Black\"}, \"showarrow\": false, \"text\": \"\", \"x\": \"Goods delivery\", \"xref\": \"x\", \"y\": \"Goods delivery\", \"yref\": \"y\"}, {\"font\": {\"color\": \"Black\"}, \"showarrow\": false, \"text\": \"\", \"x\": \"Payroll\", \"xref\": \"x\", \"y\": \"Goods delivery\", \"yref\": \"y\"}, {\"font\": {\"color\": \"Black\"}, \"showarrow\": false, \"text\": \"\", \"x\": \"Payroll Disbursement\", \"xref\": \"x\", \"y\": \"Goods delivery\", \"yref\": \"y\"}, {\"font\": {\"color\": \"Black\"}, \"showarrow\": false, \"text\": \"\", \"x\": \"Purchase\", \"xref\": \"x\", \"y\": \"Goods delivery\", \"yref\": \"y\"}, {\"font\": {\"color\": \"Black\"}, \"showarrow\": false, \"text\": \"\", \"x\": \"Sales 21 btw\", \"xref\": \"x\", \"y\": \"Goods delivery\", \"yref\": \"y\"}, {\"font\": {\"color\": \"Black\"}, \"showarrow\": false, \"text\": \"\", \"x\": \"Sales 6 btw\", \"xref\": \"x\", \"y\": \"Goods delivery\", \"yref\": \"y\"}, {\"font\": {\"color\": \"Black\"}, \"showarrow\": false, \"text\": \"\", \"x\": \"Sales tax\", \"xref\": \"x\", \"y\": \"Goods delivery\", \"yref\": \"y\"}, {\"font\": {\"color\": \"Black\"}, \"showarrow\": false, \"text\": \"\", \"x\": \"Collections\", \"xref\": \"x\", \"y\": \"Payroll\", \"yref\": \"y\"}, {\"font\": {\"color\": \"Black\"}, \"showarrow\": false, \"text\": \"0.07\", \"x\": \"Depreciation\", \"xref\": \"x\", \"y\": \"Payroll\", \"yref\": \"y\"}, {\"font\": {\"color\": \"Black\"}, \"showarrow\": false, \"text\": \"-0.02\", \"x\": \"Disbursement\", \"xref\": \"x\", \"y\": \"Payroll\", \"yref\": \"y\"}, {\"font\": {\"color\": \"Black\"}, \"showarrow\": false, \"text\": \"0.12\", \"x\": \"Fixed Assets\", \"xref\": \"x\", \"y\": \"Payroll\", \"yref\": \"y\"}, {\"font\": {\"color\": \"Black\"}, \"showarrow\": false, \"text\": \"\", \"x\": \"Goods delivery\", \"xref\": \"x\", \"y\": \"Payroll\", \"yref\": \"y\"}, {\"font\": {\"color\": \"Black\"}, \"showarrow\": false, \"text\": \"\", \"x\": \"Payroll\", \"xref\": \"x\", \"y\": \"Payroll\", \"yref\": \"y\"}, {\"font\": {\"color\": \"Black\"}, \"showarrow\": false, \"text\": \"\", \"x\": \"Payroll Disbursement\", \"xref\": \"x\", \"y\": \"Payroll\", \"yref\": \"y\"}, {\"font\": {\"color\": \"Black\"}, \"showarrow\": false, \"text\": \"\", \"x\": \"Purchase\", \"xref\": \"x\", \"y\": \"Payroll\", \"yref\": \"y\"}, {\"font\": {\"color\": \"Black\"}, \"showarrow\": false, \"text\": \"\", \"x\": \"Sales 21 btw\", \"xref\": \"x\", \"y\": \"Payroll\", \"yref\": \"y\"}, {\"font\": {\"color\": \"Black\"}, \"showarrow\": false, \"text\": \"\", \"x\": \"Sales 6 btw\", \"xref\": \"x\", \"y\": \"Payroll\", \"yref\": \"y\"}, {\"font\": {\"color\": \"Black\"}, \"showarrow\": false, \"text\": \"\", \"x\": \"Sales tax\", \"xref\": \"x\", \"y\": \"Payroll\", \"yref\": \"y\"}, {\"font\": {\"color\": \"Black\"}, \"showarrow\": false, \"text\": \"0.23\", \"x\": \"Collections\", \"xref\": \"x\", \"y\": \"Payroll Disbursement\", \"yref\": \"y\"}, {\"font\": {\"color\": \"Black\"}, \"showarrow\": false, \"text\": \"-0.05\", \"x\": \"Depreciation\", \"xref\": \"x\", \"y\": \"Payroll Disbursement\", \"yref\": \"y\"}, {\"font\": {\"color\": \"Black\"}, \"showarrow\": false, \"text\": \"-0.06\", \"x\": \"Disbursement\", \"xref\": \"x\", \"y\": \"Payroll Disbursement\", \"yref\": \"y\"}, {\"font\": {\"color\": \"Black\"}, \"showarrow\": false, \"text\": \"-0.04\", \"x\": \"Fixed Assets\", \"xref\": \"x\", \"y\": \"Payroll Disbursement\", \"yref\": \"y\"}, {\"font\": {\"color\": \"Black\"}, \"showarrow\": false, \"text\": \"0.06\", \"x\": \"Goods delivery\", \"xref\": \"x\", \"y\": \"Payroll Disbursement\", \"yref\": \"y\"}, {\"font\": {\"color\": \"Black\"}, \"showarrow\": false, \"text\": \"0.08\", \"x\": \"Payroll\", \"xref\": \"x\", \"y\": \"Payroll Disbursement\", \"yref\": \"y\"}, {\"font\": {\"color\": \"Black\"}, \"showarrow\": false, \"text\": \"\", \"x\": \"Payroll Disbursement\", \"xref\": \"x\", \"y\": \"Payroll Disbursement\", \"yref\": \"y\"}, {\"font\": {\"color\": \"Black\"}, \"showarrow\": false, \"text\": \"\", \"x\": \"Purchase\", \"xref\": \"x\", \"y\": \"Payroll Disbursement\", \"yref\": \"y\"}, {\"font\": {\"color\": \"Black\"}, \"showarrow\": false, \"text\": \"\", \"x\": \"Sales 21 btw\", \"xref\": \"x\", \"y\": \"Payroll Disbursement\", \"yref\": \"y\"}, {\"font\": {\"color\": \"Black\"}, \"showarrow\": false, \"text\": \"\", \"x\": \"Sales 6 btw\", \"xref\": \"x\", \"y\": \"Payroll Disbursement\", \"yref\": \"y\"}, {\"font\": {\"color\": \"Black\"}, \"showarrow\": false, \"text\": \"\", \"x\": \"Sales tax\", \"xref\": \"x\", \"y\": \"Payroll Disbursement\", \"yref\": \"y\"}, {\"font\": {\"color\": \"Black\"}, \"showarrow\": false, \"text\": \"-0.02\", \"x\": \"Collections\", \"xref\": \"x\", \"y\": \"Purchase\", \"yref\": \"y\"}, {\"font\": {\"color\": \"Black\"}, \"showarrow\": false, \"text\": \"-0.06\", \"x\": \"Depreciation\", \"xref\": \"x\", \"y\": \"Purchase\", \"yref\": \"y\"}, {\"font\": {\"color\": \"Black\"}, \"showarrow\": false, \"text\": \"0.09\", \"x\": \"Disbursement\", \"xref\": \"x\", \"y\": \"Purchase\", \"yref\": \"y\"}, {\"font\": {\"color\": \"Black\"}, \"showarrow\": false, \"text\": \"-0.07\", \"x\": \"Fixed Assets\", \"xref\": \"x\", \"y\": \"Purchase\", \"yref\": \"y\"}, {\"font\": {\"color\": \"Black\"}, \"showarrow\": false, \"text\": \"0.03\", \"x\": \"Goods delivery\", \"xref\": \"x\", \"y\": \"Purchase\", \"yref\": \"y\"}, {\"font\": {\"color\": \"Black\"}, \"showarrow\": false, \"text\": \"-0.06\", \"x\": \"Payroll\", \"xref\": \"x\", \"y\": \"Purchase\", \"yref\": \"y\"}, {\"font\": {\"color\": \"Black\"}, \"showarrow\": false, \"text\": \"\", \"x\": \"Payroll Disbursement\", \"xref\": \"x\", \"y\": \"Purchase\", \"yref\": \"y\"}, {\"font\": {\"color\": \"Black\"}, \"showarrow\": false, \"text\": \"\", \"x\": \"Purchase\", \"xref\": \"x\", \"y\": \"Purchase\", \"yref\": \"y\"}, {\"font\": {\"color\": \"Black\"}, \"showarrow\": false, \"text\": \"\", \"x\": \"Sales 21 btw\", \"xref\": \"x\", \"y\": \"Purchase\", \"yref\": \"y\"}, {\"font\": {\"color\": \"Black\"}, \"showarrow\": false, \"text\": \"\", \"x\": \"Sales 6 btw\", \"xref\": \"x\", \"y\": \"Purchase\", \"yref\": \"y\"}, {\"font\": {\"color\": \"Black\"}, \"showarrow\": false, \"text\": \"\", \"x\": \"Sales tax\", \"xref\": \"x\", \"y\": \"Purchase\", \"yref\": \"y\"}, {\"font\": {\"color\": \"Black\"}, \"showarrow\": false, \"text\": \"0.04\", \"x\": \"Collections\", \"xref\": \"x\", \"y\": \"Sales 21 btw\", \"yref\": \"y\"}, {\"font\": {\"color\": \"Black\"}, \"showarrow\": false, \"text\": \"0.11\", \"x\": \"Depreciation\", \"xref\": \"x\", \"y\": \"Sales 21 btw\", \"yref\": \"y\"}, {\"font\": {\"color\": \"Black\"}, \"showarrow\": false, \"text\": \"-0.03\", \"x\": \"Disbursement\", \"xref\": \"x\", \"y\": \"Sales 21 btw\", \"yref\": \"y\"}, {\"font\": {\"color\": \"Black\"}, \"showarrow\": false, \"text\": \"-0.08\", \"x\": \"Fixed Assets\", \"xref\": \"x\", \"y\": \"Sales 21 btw\", \"yref\": \"y\"}, {\"font\": {\"color\": \"Black\"}, \"showarrow\": false, \"text\": \"0.73\", \"x\": \"Goods delivery\", \"xref\": \"x\", \"y\": \"Sales 21 btw\", \"yref\": \"y\"}, {\"font\": {\"color\": \"Black\"}, \"showarrow\": false, \"text\": \"0.06\", \"x\": \"Payroll\", \"xref\": \"x\", \"y\": \"Sales 21 btw\", \"yref\": \"y\"}, {\"font\": {\"color\": \"Black\"}, \"showarrow\": false, \"text\": \"-0.01\", \"x\": \"Payroll Disbursement\", \"xref\": \"x\", \"y\": \"Sales 21 btw\", \"yref\": \"y\"}, {\"font\": {\"color\": \"Black\"}, \"showarrow\": false, \"text\": \"0.09\", \"x\": \"Purchase\", \"xref\": \"x\", \"y\": \"Sales 21 btw\", \"yref\": \"y\"}, {\"font\": {\"color\": \"Black\"}, \"showarrow\": false, \"text\": \"\", \"x\": \"Sales 21 btw\", \"xref\": \"x\", \"y\": \"Sales 21 btw\", \"yref\": \"y\"}, {\"font\": {\"color\": \"Black\"}, \"showarrow\": false, \"text\": \"\", \"x\": \"Sales 6 btw\", \"xref\": \"x\", \"y\": \"Sales 21 btw\", \"yref\": \"y\"}, {\"font\": {\"color\": \"Black\"}, \"showarrow\": false, \"text\": \"\", \"x\": \"Sales tax\", \"xref\": \"x\", \"y\": \"Sales 21 btw\", \"yref\": \"y\"}, {\"font\": {\"color\": \"Black\"}, \"showarrow\": false, \"text\": \"0.23\", \"x\": \"Collections\", \"xref\": \"x\", \"y\": \"Sales 6 btw\", \"yref\": \"y\"}, {\"font\": {\"color\": \"Black\"}, \"showarrow\": false, \"text\": \"\", \"x\": \"Depreciation\", \"xref\": \"x\", \"y\": \"Sales 6 btw\", \"yref\": \"y\"}, {\"font\": {\"color\": \"Black\"}, \"showarrow\": false, \"text\": \"-0.02\", \"x\": \"Disbursement\", \"xref\": \"x\", \"y\": \"Sales 6 btw\", \"yref\": \"y\"}, {\"font\": {\"color\": \"Black\"}, \"showarrow\": false, \"text\": \"-0.04\", \"x\": \"Fixed Assets\", \"xref\": \"x\", \"y\": \"Sales 6 btw\", \"yref\": \"y\"}, {\"font\": {\"color\": \"Black\"}, \"showarrow\": false, \"text\": \"0.61\", \"x\": \"Goods delivery\", \"xref\": \"x\", \"y\": \"Sales 6 btw\", \"yref\": \"y\"}, {\"font\": {\"color\": \"Black\"}, \"showarrow\": false, \"text\": \"0.01\", \"x\": \"Payroll\", \"xref\": \"x\", \"y\": \"Sales 6 btw\", \"yref\": \"y\"}, {\"font\": {\"color\": \"Black\"}, \"showarrow\": false, \"text\": \"-0.01\", \"x\": \"Payroll Disbursement\", \"xref\": \"x\", \"y\": \"Sales 6 btw\", \"yref\": \"y\"}, {\"font\": {\"color\": \"Black\"}, \"showarrow\": false, \"text\": \"-0.03\", \"x\": \"Purchase\", \"xref\": \"x\", \"y\": \"Sales 6 btw\", \"yref\": \"y\"}, {\"font\": {\"color\": \"Black\"}, \"showarrow\": false, \"text\": \"-0.06\", \"x\": \"Sales 21 btw\", \"xref\": \"x\", \"y\": \"Sales 6 btw\", \"yref\": \"y\"}, {\"font\": {\"color\": \"Black\"}, \"showarrow\": false, \"text\": \"\", \"x\": \"Sales 6 btw\", \"xref\": \"x\", \"y\": \"Sales 6 btw\", \"yref\": \"y\"}, {\"font\": {\"color\": \"Black\"}, \"showarrow\": false, \"text\": \"\", \"x\": \"Sales tax\", \"xref\": \"x\", \"y\": \"Sales 6 btw\", \"yref\": \"y\"}, {\"font\": {\"color\": \"Black\"}, \"showarrow\": false, \"text\": \"0.36\", \"x\": \"Collections\", \"xref\": \"x\", \"y\": \"Sales tax\", \"yref\": \"y\"}, {\"font\": {\"color\": \"Black\"}, \"showarrow\": false, \"text\": \"-0.03\", \"x\": \"Depreciation\", \"xref\": \"x\", \"y\": \"Sales tax\", \"yref\": \"y\"}, {\"font\": {\"color\": \"Black\"}, \"showarrow\": false, \"text\": \"-0.02\", \"x\": \"Disbursement\", \"xref\": \"x\", \"y\": \"Sales tax\", \"yref\": \"y\"}, {\"font\": {\"color\": \"Black\"}, \"showarrow\": false, \"text\": \"-0.05\", \"x\": \"Fixed Assets\", \"xref\": \"x\", \"y\": \"Sales tax\", \"yref\": \"y\"}, {\"font\": {\"color\": \"Black\"}, \"showarrow\": false, \"text\": \"0.22\", \"x\": \"Goods delivery\", \"xref\": \"x\", \"y\": \"Sales tax\", \"yref\": \"y\"}, {\"font\": {\"color\": \"Black\"}, \"showarrow\": false, \"text\": \"-0.09\", \"x\": \"Payroll\", \"xref\": \"x\", \"y\": \"Sales tax\", \"yref\": \"y\"}, {\"font\": {\"color\": \"Black\"}, \"showarrow\": false, \"text\": \"0.28\", \"x\": \"Payroll Disbursement\", \"xref\": \"x\", \"y\": \"Sales tax\", \"yref\": \"y\"}, {\"font\": {\"color\": \"Black\"}, \"showarrow\": false, \"text\": \"-0.03\", \"x\": \"Purchase\", \"xref\": \"x\", \"y\": \"Sales tax\", \"yref\": \"y\"}, {\"font\": {\"color\": \"Black\"}, \"showarrow\": false, \"text\": \"0.1\", \"x\": \"Sales 21 btw\", \"xref\": \"x\", \"y\": \"Sales tax\", \"yref\": \"y\"}, {\"font\": {\"color\": \"Black\"}, \"showarrow\": false, \"text\": \"0.06\", \"x\": \"Sales 6 btw\", \"xref\": \"x\", \"y\": \"Sales tax\", \"yref\": \"y\"}, {\"font\": {\"color\": \"Black\"}, \"showarrow\": false, \"text\": \"\", \"x\": \"Sales tax\", \"xref\": \"x\", \"y\": \"Sales tax\", \"yref\": \"y\"}], \"height\": 970, \"margin\": {\"b\": 100, \"l\": 100, \"pad\": 10, \"r\": 50, \"t\": 200}, \"title\": {\"text\": \"Cross-correlation for the GroundTruth\"}, \"width\": 970, \"xaxis\": {\"automargin\": true, \"side\": \"top\"}, \"yaxis\": {\"automargin\": true}},\n",
       "                        {\"showLink\": false, \"linkText\": \"Export to plot.ly\", \"plotlyServerURL\": \"https://plot.ly\", \"responsive\": true}\n",
       "                    ).then(function(){\n",
       "                            \n",
       "var gd = document.getElementById('33a2f261-03a7-430a-9248-f6d55920bd19');\n",
       "var x = new MutationObserver(function (mutations, observer) {{\n",
       "        var display = window.getComputedStyle(gd).display;\n",
       "        if (!display || display === 'none') {{\n",
       "            console.log([gd, 'removed!']);\n",
       "            Plotly.purge(gd);\n",
       "            observer.disconnect();\n",
       "        }}\n",
       "}});\n",
       "\n",
       "// Listen for the removal of the full notebook cells\n",
       "var notebookContainer = gd.closest('#notebook-container');\n",
       "if (notebookContainer) {{\n",
       "    x.observe(notebookContainer, {childList: true});\n",
       "}}\n",
       "\n",
       "// Listen for the clearing of the current output cell\n",
       "var outputEl = gd.closest('.output');\n",
       "if (outputEl) {{\n",
       "    x.observe(outputEl, {childList: true});\n",
       "}}\n",
       "\n",
       "                        })\n",
       "                };\n",
       "                });\n",
       "            </script>\n",
       "        </div>"
      ]
     },
     "metadata": {},
     "output_type": "display_data"
    }
   ],
   "source": [
    "correlationMatrix(df_all, on=\"label\", agg_period=\"D\", interactive=True)\n",
    "correlationMatrix(df_all, on=\"GroundTruth\", agg_period=\"D\", interactive=True)"
   ]
  },
  {
   "cell_type": "markdown",
   "metadata": {},
   "source": [
    "## Clusters 0 and 2 in detail"
   ]
  },
  {
   "cell_type": "code",
   "execution_count": null,
   "metadata": {},
   "outputs": [],
   "source": [
    "cl_0 = df_all[df_all[\"label\"] == 2]\n",
    "cl_0_D = cl_0.amount.resample(\"D\").sum()\n",
    "cl_2 = df_all[df_all[\"label\"] == 6]\n",
    "cl_2_D = cl_2.amount.resample(\"D\").sum()"
   ]
  },
  {
   "cell_type": "code",
   "execution_count": null,
   "metadata": {},
   "outputs": [],
   "source": [
    "from scipy import stats\n",
    "try:\n",
    "    print(stats.pearsonr(cl_0_D, cl_2_D), stats.spearmanr(cl_0_D, cl_2_D))\n",
    "except:\n",
    "    print(stats.pearsonr(cl_0_D, cl_2_D[:-1]), stats.spearmanr(cl_0_D, cl_2_D[:-1]))"
   ]
  },
  {
   "cell_type": "code",
   "execution_count": null,
   "metadata": {},
   "outputs": [],
   "source": [
    "cl_0.resample(\"D\").agg({\"amount\": sum}).rename(columns={\"amount\": \"Cluster 0\"}).head(2)"
   ]
  },
  {
   "cell_type": "code",
   "execution_count": 596,
   "metadata": {},
   "outputs": [],
   "source": [
    "map_gt = {'Sales 21 btw': 'Sales',\n",
    "          'Sales 6 btw': 'Sales'}"
   ]
  },
  {
   "cell_type": "code",
   "execution_count": 616,
   "metadata": {},
   "outputs": [
    {
     "data": {
      "text/plain": [
       "['Sales 21 btw', 'Sales 6 btw']"
      ]
     },
     "execution_count": 616,
     "metadata": {},
     "output_type": "execute_result"
    }
   ],
   "source": [
    "list(map_gt.keys())"
   ]
  },
  {
   "cell_type": "code",
   "execution_count": 605,
   "metadata": {},
   "outputs": [],
   "source": [
    "embs[\"new_truth\"] = embs[\"GroundTruth\"]"
   ]
  },
  {
   "cell_type": "code",
   "execution_count": 606,
   "metadata": {},
   "outputs": [],
   "source": [
    "embs[\"new_truth\"] = embs[\"new_truth\"].apply(lambda x: map_gt.get(x) if map_gt.get(x) is not None else x)"
   ]
  },
  {
   "cell_type": "code",
   "execution_count": 617,
   "metadata": {},
   "outputs": [
    {
     "data": {
      "text/plain": [
       "array(['Fixed Assets', 'Sales 21 btw', 'Goods delivery', 'Payroll',\n",
       "       'Sales tax', 'Disbursement', 'Payroll Disbursement', 'Sales 6 btw',\n",
       "       'Purchase', 'Depreciation', 'Collections'], dtype=object)"
      ]
     },
     "execution_count": 617,
     "metadata": {},
     "output_type": "execute_result"
    }
   ],
   "source": [
    "embs.GroundTruth.unique()"
   ]
  },
  {
   "cell_type": "code",
   "execution_count": null,
   "metadata": {},
   "outputs": [],
   "source": []
  }
 ],
 "metadata": {
  "kernelspec": {
   "display_name": "Python [conda env:DL]",
   "language": "python",
   "name": "conda-env-DL-py"
  },
  "language_info": {
   "codemirror_mode": {
    "name": "ipython",
    "version": 3
   },
   "file_extension": ".py",
   "mimetype": "text/x-python",
   "name": "python",
   "nbconvert_exporter": "python",
   "pygments_lexer": "ipython3",
   "version": "3.7.3"
  }
 },
 "nbformat": 4,
 "nbformat_minor": 2
}
