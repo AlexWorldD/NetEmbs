{
 "cells": [
  {
   "cell_type": "markdown",
   "metadata": {},
   "source": [
    "## Sandbox for experiments and tests"
   ]
  },
  {
   "cell_type": "markdown",
   "metadata": {},
   "source": [
    "## networkX"
   ]
  },
  {
   "cell_type": "code",
   "execution_count": 18,
   "metadata": {},
   "outputs": [
    {
     "name": "stdout",
     "output_type": "stream",
     "text": [
      "Populating the interactive namespace from numpy and matplotlib\n"
     ]
    }
   ],
   "source": [
    "%pylab inline\n",
    "plt.rcParams[\"figure.figsize\"] = [20,10]\n",
    "import networkx as nx\n",
    "from networkx.algorithms import bipartite\n",
    "import pandas as pd\n",
    "import matplotlib.pyplot as plt\n",
    "from sklearn import preprocessing"
   ]
  },
  {
   "cell_type": "code",
   "execution_count": 106,
   "metadata": {},
   "outputs": [
    {
     "data": {
      "text/html": [
       "<div>\n",
       "<style scoped>\n",
       "    .dataframe tbody tr th:only-of-type {\n",
       "        vertical-align: middle;\n",
       "    }\n",
       "\n",
       "    .dataframe tbody tr th {\n",
       "        vertical-align: top;\n",
       "    }\n",
       "\n",
       "    .dataframe thead th {\n",
       "        text-align: right;\n",
       "    }\n",
       "</style>\n",
       "<table border=\"1\" class=\"dataframe\">\n",
       "  <thead>\n",
       "    <tr style=\"text-align: right;\">\n",
       "      <th></th>\n",
       "      <th>ID</th>\n",
       "      <th>Name</th>\n",
       "      <th>Journal</th>\n",
       "      <th>Date</th>\n",
       "      <th>Debit</th>\n",
       "      <th>Credit</th>\n",
       "    </tr>\n",
       "  </thead>\n",
       "  <tbody>\n",
       "    <tr>\n",
       "      <th>0</th>\n",
       "      <td>1</td>\n",
       "      <td>Trade Receivables</td>\n",
       "      <td>Sales ledger</td>\n",
       "      <td>01/01/2017</td>\n",
       "      <td>121.0</td>\n",
       "      <td>0.0</td>\n",
       "    </tr>\n",
       "    <tr>\n",
       "      <th>1</th>\n",
       "      <td>1</td>\n",
       "      <td>Revenue</td>\n",
       "      <td>Sales ledger</td>\n",
       "      <td>01/01/2017</td>\n",
       "      <td>0.0</td>\n",
       "      <td>100.0</td>\n",
       "    </tr>\n",
       "    <tr>\n",
       "      <th>2</th>\n",
       "      <td>1</td>\n",
       "      <td>Tax</td>\n",
       "      <td>Sales ledger</td>\n",
       "      <td>01/01/2017</td>\n",
       "      <td>0.0</td>\n",
       "      <td>21.0</td>\n",
       "    </tr>\n",
       "    <tr>\n",
       "      <th>3</th>\n",
       "      <td>2</td>\n",
       "      <td>Cost of Sales</td>\n",
       "      <td>Journal ledger</td>\n",
       "      <td>01/01/2017</td>\n",
       "      <td>80.0</td>\n",
       "      <td>0.0</td>\n",
       "    </tr>\n",
       "    <tr>\n",
       "      <th>4</th>\n",
       "      <td>2</td>\n",
       "      <td>Inventories</td>\n",
       "      <td>Journal ledger</td>\n",
       "      <td>01/01/2017</td>\n",
       "      <td>0.0</td>\n",
       "      <td>80.0</td>\n",
       "    </tr>\n",
       "  </tbody>\n",
       "</table>\n",
       "</div>"
      ],
      "text/plain": [
       "   ID               Name         Journal        Date  Debit  Credit\n",
       "0   1  Trade Receivables    Sales ledger  01/01/2017  121.0     0.0\n",
       "1   1            Revenue    Sales ledger  01/01/2017    0.0   100.0\n",
       "2   1                Tax    Sales ledger  01/01/2017    0.0    21.0\n",
       "3   2      Cost of Sales  Journal ledger  01/01/2017   80.0     0.0\n",
       "4   2        Inventories  Journal ledger  01/01/2017    0.0    80.0"
      ]
     },
     "execution_count": 106,
     "metadata": {},
     "output_type": "execute_result"
    }
   ],
   "source": [
    "raw_data = pd.read_csv(\"data/t1.csv\", delimiter=\";\").fillna(0.0)\n",
    "raw_data.head(5)"
   ]
  },
  {
   "cell_type": "code",
   "execution_count": 107,
   "metadata": {},
   "outputs": [
    {
     "data": {
      "text/html": [
       "<div>\n",
       "<style scoped>\n",
       "    .dataframe tbody tr th:only-of-type {\n",
       "        vertical-align: middle;\n",
       "    }\n",
       "\n",
       "    .dataframe tbody tr th {\n",
       "        vertical-align: top;\n",
       "    }\n",
       "\n",
       "    .dataframe thead th {\n",
       "        text-align: right;\n",
       "    }\n",
       "</style>\n",
       "<table border=\"1\" class=\"dataframe\">\n",
       "  <thead>\n",
       "    <tr style=\"text-align: right;\">\n",
       "      <th></th>\n",
       "      <th>ID</th>\n",
       "      <th>Name</th>\n",
       "      <th>Journal</th>\n",
       "      <th>Date</th>\n",
       "      <th>Debit</th>\n",
       "      <th>Credit</th>\n",
       "      <th>from</th>\n",
       "    </tr>\n",
       "  </thead>\n",
       "  <tbody>\n",
       "    <tr>\n",
       "      <th>0</th>\n",
       "      <td>1</td>\n",
       "      <td>Trade Receivables</td>\n",
       "      <td>Sales ledger</td>\n",
       "      <td>01/01/2017</td>\n",
       "      <td>1.0</td>\n",
       "      <td>0.000000</td>\n",
       "      <td>False</td>\n",
       "    </tr>\n",
       "    <tr>\n",
       "      <th>1</th>\n",
       "      <td>1</td>\n",
       "      <td>Revenue</td>\n",
       "      <td>Sales ledger</td>\n",
       "      <td>01/01/2017</td>\n",
       "      <td>0.0</td>\n",
       "      <td>0.826446</td>\n",
       "      <td>True</td>\n",
       "    </tr>\n",
       "    <tr>\n",
       "      <th>2</th>\n",
       "      <td>1</td>\n",
       "      <td>Tax</td>\n",
       "      <td>Sales ledger</td>\n",
       "      <td>01/01/2017</td>\n",
       "      <td>0.0</td>\n",
       "      <td>0.173554</td>\n",
       "      <td>True</td>\n",
       "    </tr>\n",
       "    <tr>\n",
       "      <th>3</th>\n",
       "      <td>2</td>\n",
       "      <td>Cost of Sales</td>\n",
       "      <td>Journal ledger</td>\n",
       "      <td>01/01/2017</td>\n",
       "      <td>1.0</td>\n",
       "      <td>0.000000</td>\n",
       "      <td>False</td>\n",
       "    </tr>\n",
       "    <tr>\n",
       "      <th>4</th>\n",
       "      <td>2</td>\n",
       "      <td>Inventories</td>\n",
       "      <td>Journal ledger</td>\n",
       "      <td>01/01/2017</td>\n",
       "      <td>0.0</td>\n",
       "      <td>1.000000</td>\n",
       "      <td>True</td>\n",
       "    </tr>\n",
       "  </tbody>\n",
       "</table>\n",
       "</div>"
      ],
      "text/plain": [
       "   ID               Name         Journal        Date  Debit    Credit   from\n",
       "0   1  Trade Receivables    Sales ledger  01/01/2017    1.0  0.000000  False\n",
       "1   1            Revenue    Sales ledger  01/01/2017    0.0  0.826446   True\n",
       "2   1                Tax    Sales ledger  01/01/2017    0.0  0.173554   True\n",
       "3   2      Cost of Sales  Journal ledger  01/01/2017    1.0  0.000000  False\n",
       "4   2        Inventories  Journal ledger  01/01/2017    0.0  1.000000   True"
      ]
     },
     "execution_count": 107,
     "metadata": {},
     "output_type": "execute_result"
    }
   ],
   "source": [
    "# TODO try another kind of normalization, unit-normal etc.\n",
    "def normalize(df, by=\"ID\"):\n",
    "    dfN = df.copy()\n",
    "    titles = [\"Debit\", \"Credit\"]\n",
    "    groups = dfN.groupby(by)\n",
    "    sums = groups[titles].transform(np.sum)\n",
    "    for column in titles:\n",
    "        dfN[column] = dfN[column]/sums[column]\n",
    "    dfN[\"from\"] = dfN[\"Credit\"] > 0.0\n",
    "    return dfN\n",
    "\n",
    "data = normalize(raw_data)\n",
    "data.head(5)"
   ]
  },
  {
   "cell_type": "code",
   "execution_count": 108,
   "metadata": {},
   "outputs": [
    {
     "data": {
      "text/html": [
       "<div>\n",
       "<style scoped>\n",
       "    .dataframe tbody tr th:only-of-type {\n",
       "        vertical-align: middle;\n",
       "    }\n",
       "\n",
       "    .dataframe tbody tr th {\n",
       "        vertical-align: top;\n",
       "    }\n",
       "\n",
       "    .dataframe thead th {\n",
       "        text-align: right;\n",
       "    }\n",
       "</style>\n",
       "<table border=\"1\" class=\"dataframe\">\n",
       "  <thead>\n",
       "    <tr style=\"text-align: right;\">\n",
       "      <th></th>\n",
       "      <th>ID</th>\n",
       "      <th>Name</th>\n",
       "      <th>Journal</th>\n",
       "      <th>Date</th>\n",
       "      <th>Debit</th>\n",
       "      <th>Credit</th>\n",
       "    </tr>\n",
       "  </thead>\n",
       "  <tbody>\n",
       "    <tr>\n",
       "      <th>0</th>\n",
       "      <td>1</td>\n",
       "      <td>Trade Receivables</td>\n",
       "      <td>Sales ledger</td>\n",
       "      <td>01/01/2017</td>\n",
       "      <td>121.0</td>\n",
       "      <td>0.0</td>\n",
       "    </tr>\n",
       "    <tr>\n",
       "      <th>1</th>\n",
       "      <td>1</td>\n",
       "      <td>Revenue</td>\n",
       "      <td>Sales ledger</td>\n",
       "      <td>01/01/2017</td>\n",
       "      <td>0.0</td>\n",
       "      <td>100.0</td>\n",
       "    </tr>\n",
       "    <tr>\n",
       "      <th>2</th>\n",
       "      <td>1</td>\n",
       "      <td>Tax</td>\n",
       "      <td>Sales ledger</td>\n",
       "      <td>01/01/2017</td>\n",
       "      <td>0.0</td>\n",
       "      <td>21.0</td>\n",
       "    </tr>\n",
       "    <tr>\n",
       "      <th>3</th>\n",
       "      <td>2</td>\n",
       "      <td>Cost of Sales</td>\n",
       "      <td>Journal ledger</td>\n",
       "      <td>01/01/2017</td>\n",
       "      <td>80.0</td>\n",
       "      <td>0.0</td>\n",
       "    </tr>\n",
       "    <tr>\n",
       "      <th>4</th>\n",
       "      <td>2</td>\n",
       "      <td>Inventories</td>\n",
       "      <td>Journal ledger</td>\n",
       "      <td>01/01/2017</td>\n",
       "      <td>0.0</td>\n",
       "      <td>80.0</td>\n",
       "    </tr>\n",
       "  </tbody>\n",
       "</table>\n",
       "</div>"
      ],
      "text/plain": [
       "   ID               Name         Journal        Date  Debit  Credit\n",
       "0   1  Trade Receivables    Sales ledger  01/01/2017  121.0     0.0\n",
       "1   1            Revenue    Sales ledger  01/01/2017    0.0   100.0\n",
       "2   1                Tax    Sales ledger  01/01/2017    0.0    21.0\n",
       "3   2      Cost of Sales  Journal ledger  01/01/2017   80.0     0.0\n",
       "4   2        Inventories  Journal ledger  01/01/2017    0.0    80.0"
      ]
     },
     "execution_count": 108,
     "metadata": {},
     "output_type": "execute_result"
    }
   ],
   "source": [
    "raw_data"
   ]
  },
  {
   "cell_type": "code",
   "execution_count": 88,
   "metadata": {},
   "outputs": [
    {
     "data": {
      "image/png": "[encoded data removed]",
      "text/plain": [
       "<Figure size 1440x720 with 1 Axes>"
      ]
     },
     "metadata": {},
     "output_type": "display_data"
    }
   ],
   "source": [
    "colors = {0: \"Blue\", 1: \"Red\"}\n",
    "B = nx.DiGraph()\n",
    "B.add_nodes_from(data['ID'], bipartite=0)\n",
    "B.add_nodes_from(data['Name'], bipartite=1)\n",
    "B.add_weighted_edges_from(\n",
    "    [(row['Name'], row['ID'], row[\"Credit\"]) if row[\"from\"]==True \n",
    "     else (row['ID'], row['Name'], row[\"Debit\"]) \n",
    "     for idx, row in data.iterrows()], \n",
    "    weight='weight')\n",
    "\n",
    "# print(B.edges(data=True))\n",
    "\n",
    "pos = {node:[0, i] for i,node in enumerate(data['Name'])}\n",
    "pos.update({node:[1, i] for i,node in enumerate(data['ID'])})\n",
    "node_col = [\"Red\" if d['bipartite']==0 else \"Blue\" for n, d in B.nodes(data=True)]\n",
    "nx.draw(B, pos, node_color= node_col, with_labels=False)\n",
    "for p in pos:  # raise text positions\n",
    "    pos[p][1] += 0.25\n",
    "nx.draw_networkx_labels(B, pos, font_size=16)\n",
    "\n",
    "plt.show()"
   ]
  },
  {
   "cell_type": "code",
   "execution_count": null,
   "metadata": {
    "collapsed": true
   },
   "outputs": [],
   "source": []
  }
 ],
 "metadata": {
  "kernelspec": {
   "display_name": "Python [conda env:DL]",
   "language": "python",
   "name": "conda-env-DL-py"
  },
  "language_info": {
   "codemirror_mode": {
    "name": "ipython",
    "version": 3
   },
   "file_extension": ".py",
   "mimetype": "text/x-python",
   "name": "python",
   "nbconvert_exporter": "python",
   "pygments_lexer": "ipython3",
   "version": "3.6.8"
  }
 },
 "nbformat": 4,
 "nbformat_minor": 2
}
