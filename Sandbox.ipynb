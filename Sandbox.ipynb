{
 "cells": [
  {
   "cell_type": "markdown",
   "metadata": {},
   "source": [
    "## Sandbox for experiments and tests"
   ]
  },
  {
   "cell_type": "markdown",
   "metadata": {},
   "source": [
    "## networkX"
   ]
  },
  {
   "cell_type": "code",
   "execution_count": 6,
   "metadata": {},
   "outputs": [
    {
     "name": "stdout",
     "output_type": "stream",
     "text": [
      "Populating the interactive namespace from numpy and matplotlib\n"
     ]
    }
   ],
   "source": [
    "%pylab inline\n",
    "plt.rcParams[\"figure.figsize\"] = [20,10]\n",
    "import networkx as nx\n",
    "from networkx.algorithms import bipartite\n",
    "import pandas as pd\n",
    "import matplotlib.pyplot as plt\n",
    "from sklearn import preprocessing"
   ]
  },
  {
   "cell_type": "code",
   "execution_count": 2,
   "metadata": {},
   "outputs": [
    {
     "data": {
      "text/html": [
       "<div>\n",
       "<style scoped>\n",
       "    .dataframe tbody tr th:only-of-type {\n",
       "        vertical-align: middle;\n",
       "    }\n",
       "\n",
       "    .dataframe tbody tr th {\n",
       "        vertical-align: top;\n",
       "    }\n",
       "\n",
       "    .dataframe thead th {\n",
       "        text-align: right;\n",
       "    }\n",
       "</style>\n",
       "<table border=\"1\" class=\"dataframe\">\n",
       "  <thead>\n",
       "    <tr style=\"text-align: right;\">\n",
       "      <th></th>\n",
       "      <th>ID</th>\n",
       "      <th>Name</th>\n",
       "      <th>Journal</th>\n",
       "      <th>Date</th>\n",
       "      <th>Debit</th>\n",
       "      <th>Credit</th>\n",
       "    </tr>\n",
       "  </thead>\n",
       "  <tbody>\n",
       "    <tr>\n",
       "      <th>0</th>\n",
       "      <td>1</td>\n",
       "      <td>Trade Receivables</td>\n",
       "      <td>Sales ledger</td>\n",
       "      <td>01/01/2017</td>\n",
       "      <td>121.0</td>\n",
       "      <td>0.0</td>\n",
       "    </tr>\n",
       "    <tr>\n",
       "      <th>1</th>\n",
       "      <td>1</td>\n",
       "      <td>Revenue</td>\n",
       "      <td>Sales ledger</td>\n",
       "      <td>01/01/2017</td>\n",
       "      <td>0.0</td>\n",
       "      <td>100.0</td>\n",
       "    </tr>\n",
       "    <tr>\n",
       "      <th>2</th>\n",
       "      <td>1</td>\n",
       "      <td>Tax</td>\n",
       "      <td>Sales ledger</td>\n",
       "      <td>01/01/2017</td>\n",
       "      <td>0.0</td>\n",
       "      <td>21.0</td>\n",
       "    </tr>\n",
       "    <tr>\n",
       "      <th>3</th>\n",
       "      <td>2</td>\n",
       "      <td>Cost of Sales</td>\n",
       "      <td>Journal ledger</td>\n",
       "      <td>01/01/2017</td>\n",
       "      <td>80.0</td>\n",
       "      <td>0.0</td>\n",
       "    </tr>\n",
       "    <tr>\n",
       "      <th>4</th>\n",
       "      <td>2</td>\n",
       "      <td>Inventories</td>\n",
       "      <td>Journal ledger</td>\n",
       "      <td>01/01/2017</td>\n",
       "      <td>0.0</td>\n",
       "      <td>80.0</td>\n",
       "    </tr>\n",
       "  </tbody>\n",
       "</table>\n",
       "</div>"
      ],
      "text/plain": [
       "   ID               Name         Journal        Date  Debit  Credit\n",
       "0   1  Trade Receivables    Sales ledger  01/01/2017  121.0     0.0\n",
       "1   1            Revenue    Sales ledger  01/01/2017    0.0   100.0\n",
       "2   1                Tax    Sales ledger  01/01/2017    0.0    21.0\n",
       "3   2      Cost of Sales  Journal ledger  01/01/2017   80.0     0.0\n",
       "4   2        Inventories  Journal ledger  01/01/2017    0.0    80.0"
      ]
     },
     "execution_count": 2,
     "metadata": {},
     "output_type": "execute_result"
    }
   ],
   "source": [
    "raw_data = pd.read_csv(\"data/t1.csv\", delimiter=\";\").fillna(0.0)\n",
    "raw_data.head(5)"
   ]
  },
  {
   "cell_type": "code",
   "execution_count": 3,
   "metadata": {},
   "outputs": [
    {
     "data": {
      "text/html": [
       "<div>\n",
       "<style scoped>\n",
       "    .dataframe tbody tr th:only-of-type {\n",
       "        vertical-align: middle;\n",
       "    }\n",
       "\n",
       "    .dataframe tbody tr th {\n",
       "        vertical-align: top;\n",
       "    }\n",
       "\n",
       "    .dataframe thead th {\n",
       "        text-align: right;\n",
       "    }\n",
       "</style>\n",
       "<table border=\"1\" class=\"dataframe\">\n",
       "  <thead>\n",
       "    <tr style=\"text-align: right;\">\n",
       "      <th></th>\n",
       "      <th>ID</th>\n",
       "      <th>Name</th>\n",
       "      <th>Journal</th>\n",
       "      <th>Date</th>\n",
       "      <th>Debit</th>\n",
       "      <th>Credit</th>\n",
       "      <th>from</th>\n",
       "    </tr>\n",
       "  </thead>\n",
       "  <tbody>\n",
       "    <tr>\n",
       "      <th>0</th>\n",
       "      <td>1</td>\n",
       "      <td>Trade Receivables</td>\n",
       "      <td>Sales ledger</td>\n",
       "      <td>01/01/2017</td>\n",
       "      <td>1.0</td>\n",
       "      <td>0.000000</td>\n",
       "      <td>False</td>\n",
       "    </tr>\n",
       "    <tr>\n",
       "      <th>1</th>\n",
       "      <td>1</td>\n",
       "      <td>Revenue</td>\n",
       "      <td>Sales ledger</td>\n",
       "      <td>01/01/2017</td>\n",
       "      <td>0.0</td>\n",
       "      <td>0.826446</td>\n",
       "      <td>True</td>\n",
       "    </tr>\n",
       "    <tr>\n",
       "      <th>2</th>\n",
       "      <td>1</td>\n",
       "      <td>Tax</td>\n",
       "      <td>Sales ledger</td>\n",
       "      <td>01/01/2017</td>\n",
       "      <td>0.0</td>\n",
       "      <td>0.173554</td>\n",
       "      <td>True</td>\n",
       "    </tr>\n",
       "    <tr>\n",
       "      <th>3</th>\n",
       "      <td>2</td>\n",
       "      <td>Cost of Sales</td>\n",
       "      <td>Journal ledger</td>\n",
       "      <td>01/01/2017</td>\n",
       "      <td>1.0</td>\n",
       "      <td>0.000000</td>\n",
       "      <td>False</td>\n",
       "    </tr>\n",
       "    <tr>\n",
       "      <th>4</th>\n",
       "      <td>2</td>\n",
       "      <td>Inventories</td>\n",
       "      <td>Journal ledger</td>\n",
       "      <td>01/01/2017</td>\n",
       "      <td>0.0</td>\n",
       "      <td>1.000000</td>\n",
       "      <td>True</td>\n",
       "    </tr>\n",
       "  </tbody>\n",
       "</table>\n",
       "</div>"
      ],
      "text/plain": [
       "   ID               Name         Journal        Date  Debit    Credit   from\n",
       "0   1  Trade Receivables    Sales ledger  01/01/2017    1.0  0.000000  False\n",
       "1   1            Revenue    Sales ledger  01/01/2017    0.0  0.826446   True\n",
       "2   1                Tax    Sales ledger  01/01/2017    0.0  0.173554   True\n",
       "3   2      Cost of Sales  Journal ledger  01/01/2017    1.0  0.000000  False\n",
       "4   2        Inventories  Journal ledger  01/01/2017    0.0  1.000000   True"
      ]
     },
     "execution_count": 3,
     "metadata": {},
     "output_type": "execute_result"
    }
   ],
   "source": [
    "# TODO try another kind of normalization, unit-normal etc.\n",
    "def normalize(df, by=\"ID\"):\n",
    "    dfN = df.copy()\n",
    "    titles = [\"Debit\", \"Credit\"]\n",
    "    groups = dfN.groupby(by)\n",
    "    sums = groups[titles].transform(np.sum)\n",
    "    for column in titles:\n",
    "        dfN[column] = dfN[column]/sums[column]\n",
    "    dfN[\"from\"] = dfN[\"Credit\"] > 0.0\n",
    "    return dfN\n",
    "\n",
    "data = normalize(raw_data)\n",
    "data.head(5)"
   ]
  },
  {
   "cell_type": "code",
   "execution_count": 4,
   "metadata": {
    "collapsed": true
   },
   "outputs": [],
   "source": [
    "def construct_graph(df):\n",
    "        B = nx.DiGraph()\n",
    "        B.add_nodes_from(df['ID'], bipartite=0)\n",
    "        B.add_nodes_from(df['Name'], bipartite=1)\n",
    "        B.add_weighted_edges_from(\n",
    "            [(row['Name'], row['ID'], row[\"Credit\"]) if row[\"from\"]==True \n",
    "             else (row['ID'], row['Name'], row[\"Debit\"]) \n",
    "             for idx, row in df.iterrows()], \n",
    "            weight='weight')\n",
    "        return B\n",
    "\n",
    "def plot_network(B, edges_label=True, title=None):\n",
    "    colors = {0: \"Blue\", 1: \"Red\"}\n",
    "    left = {n for n, d in B.nodes(data=True) if d['bipartite']==1}\n",
    "    pos = nx.bipartite_layout(B, left)\n",
    "    arc_weight=nx.get_edge_attributes(B,'weight')\n",
    "    node_col = [\"Red\" if d['bipartite']==0 else \"Blue\" for n, d in B.nodes(data=True)]\n",
    "    nx.draw(B, pos, node_color= node_col, with_labels=False, node_size=250)\n",
    "    nx.draw_networkx_edges(B, pos, arrowsize=30)\n",
    "    if edges_label:\n",
    "        nx.draw_networkx_edge_labels(B, pos, node_size=250, edge_labels=arc_weight, font_size=16)\n",
    "#     TODO add relative align for labels\n",
    "    label_pos = pos.copy()\n",
    "    for p in label_pos:  # raise text positions\n",
    "        label_pos[p][1] += 0.05\n",
    "    nx.draw_networkx_labels(B, pos, font_size=16)\n",
    "    if title is not None and isinstance(title, str):\n",
    "        plt.tight_layout()\n",
    "        plt.savefig(\"img/\"+title, dpi=140, pad_inches=0.01)\n",
    "    plt.show()"
   ]
  },
  {
   "cell_type": "code",
   "execution_count": 7,
   "metadata": {},
   "outputs": [
    {
     "data": {
      "image/png": "[encoded data removed]",
      "text/plain": [
       "<Figure size 1440x720 with 1 Axes>"
      ]
     },
     "metadata": {},
     "output_type": "display_data"
    }
   ],
   "source": [
    "plot_network(construct_graph(data))"
   ]
  },
  {
   "cell_type": "markdown",
   "metadata": {},
   "source": [
    "### Connection to Marcel's DB"
   ]
  },
  {
   "cell_type": "markdown",
   "metadata": {},
   "source": [
    "Debit == +positive \\\\\n",
    "Credit == -negative"
   ]
  },
  {
   "cell_type": "code",
   "execution_count": null,
   "metadata": {
    "collapsed": true
   },
   "outputs": [],
   "source": [
    "def upload_data(cnx, limit=10):\n",
    "    # Loading data from db\n",
    "    if isinstance(limit, int):\n",
    "        db_data = pd.read_sql_query(\"SELECT * FROM EntryRecords LIMIT \"+str(limit), cnx).drop([\"ID\", \"ValueIncorrect\"], axis=1)\n",
    "    else:\n",
    "        db_data = pd.read_sql_query(\"SELECT * FROM EntryRecords\", cnx).drop([\"ID\", \"ValueIncorrect\"], axis=1)\n",
    "    # Split into two columns: Debit and Credit\n",
    "    db_data[\"Debit\"] = db_data[\"ValueCorrect\"][db_data[\"ValueCorrect\"] > 0.0]\n",
    "    db_data[\"Credit\"] = -db_data[\"ValueCorrect\"][db_data[\"ValueCorrect\"] < 0.0]\n",
    "    db_data.fillna(0.0, inplace=True)\n",
    "    db_data.rename(index=str, columns={\"TID\": \"ID\"}, inplace=True)\n",
    "    return db_data"
   ]
  },
  {
   "cell_type": "code",
   "execution_count": null,
   "metadata": {},
   "outputs": [],
   "source": [
    "import sqlite3\n",
    "# Create your connection.\n",
    "cnx = sqlite3.connect('DataSimulation/Sample.db')\n",
    "\n",
    "db_data = normalize(upload_data(cnx))\n",
    "db_data[[\"ID\", \"Name\", \"Debit\", \"Credit\"]].head(10)"
   ]
  },
  {
   "cell_type": "code",
   "execution_count": null,
   "metadata": {},
   "outputs": [],
   "source": [
    "plot_network(construct_graph(db_data))"
   ]
  },
  {
   "cell_type": "code",
   "execution_count": null,
   "metadata": {},
   "outputs": [],
   "source": [
    "G = construct_graph(db_data)\n",
    "# TODO optimize if initial vertex is equal the destination vertex\n",
    "def step(G, vertex, d=\"IN\"):\n",
    "    ws = list()\n",
    "    if d==\"IN\":\n",
    "            ins = G.in_edges(vertex, data=True)\n",
    "            if len(ins)>0:\n",
    "                ws = [edge[-1][\"weight\"] for edge in ins]\n",
    "                ws = ws/np.sum(ws)\n",
    "                ins = [edge[0] for edge in ins]\n",
    "                return np.random.choice(ins, p=ws)\n",
    "            else:\n",
    "                return -1\n",
    "    elif d==\"OUT\":\n",
    "            ins = G.out_edges(vertex, data=True)\n",
    "            if len(ins)>0:\n",
    "                ws = [edge[-1][\"weight\"] for edge in ins]\n",
    "                ws = ws/np.sum(ws)\n",
    "                ins = [edge[1] for edge in ins]\n",
    "                return np.random.choice(ins, p=ws)\n",
    "            else:\n",
    "                return -1\n",
    "# -------\n",
    "from collections import Counter\n",
    "cnt = Counter([step(G, step(G, 1), d=\"OUT\") for _ in range(30)])\n",
    "cnt"
   ]
  },
  {
   "cell_type": "code",
   "execution_count": null,
   "metadata": {},
   "outputs": [],
   "source": [
    "import random\n",
    "def getNeighbors(G, vetrtex):\n",
    "    return list(G.successors(vertex))+list(G.predecessors(vertex))\n",
    "def randomWalk(G, vertex=None, lenght=1, direction=\"IN\"):\n",
    "    attempts = 10\n",
    "    mask = {\"IN\": \"OUT\", \"OUT\": \"IN\"}\n",
    "    context = list()\n",
    "    if vertex is None:\n",
    "        context.append(random.choice(list(G.nodes)))\n",
    "    else:\n",
    "        context.append(vertex)\n",
    "    cur_v = context[-1]\n",
    "    while len(context)<lenght+1 and attempts>0:\n",
    "        try:\n",
    "            new_v = step(G, step(G, cur_v, d=direction), d=mask[direction])\n",
    "            attempts-=1\n",
    "        except nx.NetworkXError:\n",
    "            break\n",
    "        if new_v!=cur_v:\n",
    "            context.append(new_v)\n",
    "            cur_v = new_v\n",
    "    return context\n",
    "# ------\n",
    "randomWalk(G, vertex=\"Trade receivables\", direction=\"IN\")"
   ]
  },
  {
   "cell_type": "code",
   "execution_count": null,
   "metadata": {},
   "outputs": [],
   "source": [
    "def plot_Neighbors(B, cur_v, direction=\"IN\", edges_label=True):\n",
    "    colors = {0: \"Blue\", 1: \"Red\"}\n",
    "    left = {n for n, d in B.nodes(data=True) if d['bipartite']==1}\n",
    "    pos = nx.bipartite_layout(B, left)\n",
    "    arc_weight=nx.get_edge_attributes(B,'weight')\n",
    "    node_col = [\"Red\" if d['bipartite']==0 else \"Blue\" for n, d in B.nodes(data=True)]\n",
    "    nx.draw(B, pos, node_color= node_col, with_labels=False, node_size=250)\n",
    "    nx.draw_networkx_edges(B, pos, arrowsize=30)\n",
    "    if edges_label:\n",
    "        nx.draw_networkx_edge_labels(B, pos, node_size=250, edge_labels=arc_weight, font_size=16)\n",
    "#     Getting neighborhood for current vertex\n",
    "    context = randomWalk(B, vertex=cur_v, direction=direction)\n",
    "    print(direction, \"for \", context[0], \": \", context[1:])\n",
    "    nx.draw_networkx_nodes(B,pos,\n",
    "                       nodelist=context[1:],\n",
    "                       node_color='green',\n",
    "                       node_size=300)\n",
    "    nx.draw_networkx_nodes(B,pos,\n",
    "                       nodelist=context[0:1],\n",
    "                       node_color='green',\n",
    "                       node_size=300,\n",
    "                    node_shape=\"s\")\n",
    "#     TODO add relative align for labels\n",
    "    label_pos = pos.copy()\n",
    "    for p in label_pos:  # raise text positions\n",
    "        label_pos[p][1] += 0.05\n",
    "    nx.draw_networkx_labels(B, label_pos, font_size=16)\n",
    "    plt.show()\n",
    "# -----\n",
    "plot_Neighbors(G, 1, direction=\"IN\")"
   ]
  },
  {
   "cell_type": "markdown",
   "metadata": {},
   "source": [
    "## Analysis of data sample"
   ]
  },
  {
   "cell_type": "code",
   "execution_count": null,
   "metadata": {
    "collapsed": true
   },
   "outputs": [],
   "source": [
    "def plot_degree_dist(graph, bp=False):\n",
    "    if not bp:\n",
    "        degree_sequence = sorted([d for n, d in graph.in_degree()], reverse=True)  # degree sequence\n",
    "    else:\n",
    "        left = {n for n, d in graph.nodes(data=True) if d['bipartite']==0}\n",
    "        degree_sequence = sorted([d for n, d in graph.in_degree(left)], reverse=True)\n",
    "    # print \"Degree sequence\", degree_sequence\n",
    "    degreeCount = Counter(degree_sequence)\n",
    "    deg, cnt = zip(*degreeCount.items())\n",
    "    fig, ax = plt.subplots()\n",
    "    plt.bar(deg, cnt, width=0.80, color='skyblue', label=\"IN degree\")\n",
    "    if not bp:\n",
    "        degree_sequence = sorted([d for n, d in graph.out_degree()], reverse=True)  # degree sequence\n",
    "    else:\n",
    "        degree_sequence = sorted([d for n, d in graph.out_degree(left)], reverse=True)\n",
    "    # print \"Degree sequence\", degree_sequence\n",
    "    degreeCount = Counter(degree_sequence)\n",
    "    deg, cnt = zip(*degreeCount.items())\n",
    "    plt.bar(deg, cnt, width=0.80, color='coral', label=\"OUT degree\", alpha=0.5)\n",
    "    if not bp:\n",
    "        plt.title(\"Degree Histogram\")\n",
    "    else:\n",
    "         plt.title(\"Degree Histogram for BP nodes\")\n",
    "    plt.ylabel(\"Count\")\n",
    "    plt.xlabel(\"Degree\")\n",
    "    ax.set_xticks([d for d in deg])\n",
    "    ax.set_xticklabels(deg)\n",
    "    plt.legend(loc=\"best\", fontsize=20, frameon=False)\n",
    "    plt.show()"
   ]
  },
  {
   "cell_type": "code",
   "execution_count": null,
   "metadata": {},
   "outputs": [],
   "source": [
    "BigG = construct_graph(normalize(upload_data(cnx, limit=100)))\n",
    "plot_degree_dist(BigG)"
   ]
  },
  {
   "cell_type": "code",
   "execution_count": null,
   "metadata": {},
   "outputs": [],
   "source": [
    "plot_degree_dist(BigG, bp=True)"
   ]
  },
  {
   "cell_type": "code",
   "execution_count": null,
   "metadata": {},
   "outputs": [],
   "source": [
    "import operator\n",
    "sorted_nodes = {n:d for n, d in BigG.out_degree()}\n",
    "sorted_nodes = sorted(sorted_nodes.items(), key=operator.itemgetter(1), reverse=True)\n",
    "sorted_nodes[:15]"
   ]
  },
  {
   "cell_type": "code",
   "execution_count": null,
   "metadata": {},
   "outputs": [],
   "source": [
    "#     Getting neighborhood for current vertex\n",
    "context = randomWalk(BigG, vertex=251, direction=\"OUT\")\n",
    "print(\"OUT\", \"for \", context[0], \": \", context[1:])"
   ]
  },
  {
   "cell_type": "code",
   "execution_count": null,
   "metadata": {
    "collapsed": true
   },
   "outputs": [],
   "source": []
  }
 ],
 "metadata": {
  "kernelspec": {
   "display_name": "Python [conda env:DL]",
   "language": "python",
   "name": "conda-env-DL-py"
  },
  "language_info": {
   "codemirror_mode": {
    "name": "ipython",
    "version": 3
   },
   "file_extension": ".py",
   "mimetype": "text/x-python",
   "name": "python",
   "nbconvert_exporter": "python",
   "pygments_lexer": "ipython3",
   "version": "3.6.8"
  }
 },
 "nbformat": 4,
 "nbformat_minor": 2
}
