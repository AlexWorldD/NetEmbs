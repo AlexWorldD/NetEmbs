{
 "cells": [
  {
   "cell_type": "code",
   "execution_count": 1,
   "metadata": {},
   "outputs": [],
   "source": [
    "import pandas as pd\n",
    "import numpy as np"
   ]
  },
  {
   "cell_type": "code",
   "execution_count": 2,
   "metadata": {},
   "outputs": [],
   "source": [
    "DB_PATH = \"Simulation/FSN_Data_5k.db\""
   ]
  },
  {
   "cell_type": "code",
   "execution_count": 3,
   "metadata": {},
   "outputs": [],
   "source": [
    "from NetEmbs.utils.IO.db_connection import upload_data, upload_journal_entries\n",
    "from NetEmbs.DataProcessing import *"
   ]
  },
  {
   "cell_type": "code",
   "execution_count": 4,
   "metadata": {},
   "outputs": [],
   "source": [
    "data = upload_data(DB_PATH, limit=1000)"
   ]
  },
  {
   "cell_type": "code",
   "execution_count": 5,
   "metadata": {},
   "outputs": [],
   "source": [
    "d = data_preprocessing(data)"
   ]
  },
  {
   "cell_type": "code",
   "execution_count": 6,
   "metadata": {},
   "outputs": [
    {
     "data": {
      "text/plain": [
       "{'ID': {'0': 1,\n",
       "  '1': 1,\n",
       "  '2': 1,\n",
       "  '3': 2,\n",
       "  '4': 2,\n",
       "  '5': 2,\n",
       "  '6': 3,\n",
       "  '7': 3,\n",
       "  '8': 3,\n",
       "  '9': 4,\n",
       "  '10': 4,\n",
       "  '11': 4,\n",
       "  '12': 5,\n",
       "  '13': 5,\n",
       "  '14': 5,\n",
       "  '15': 6,\n",
       "  '16': 6,\n",
       "  '17': 6},\n",
       " 'Name': {'0': 'Revenue_11',\n",
       "  '1': 'Tax_11',\n",
       "  '2': 'TradeReceivables_11',\n",
       "  '3': 'Revenue_11',\n",
       "  '4': 'Tax_11',\n",
       "  '5': 'TradeReceivables_11',\n",
       "  '6': 'Revenue_2',\n",
       "  '7': 'Tax_2',\n",
       "  '8': 'TradeReceivables_2',\n",
       "  '9': 'Revenue_4',\n",
       "  '10': 'Tax_4',\n",
       "  '11': 'TradeReceivables_4',\n",
       "  '12': 'Revenue_8',\n",
       "  '13': 'Tax_8',\n",
       "  '14': 'TradeReceivables_8',\n",
       "  '15': 'Revenue_0',\n",
       "  '16': 'Tax_0',\n",
       "  '17': 'TradeReceivables_0'},\n",
       " 'FA_Name': {'0': 'Revenue',\n",
       "  '1': 'Tax',\n",
       "  '2': 'TradeReceivables',\n",
       "  '3': 'Revenue',\n",
       "  '4': 'Tax',\n",
       "  '5': 'TradeReceivables',\n",
       "  '6': 'Revenue',\n",
       "  '7': 'Tax',\n",
       "  '8': 'TradeReceivables',\n",
       "  '9': 'Revenue',\n",
       "  '10': 'Tax',\n",
       "  '11': 'TradeReceivables',\n",
       "  '12': 'Revenue',\n",
       "  '13': 'Tax',\n",
       "  '14': 'TradeReceivables',\n",
       "  '15': 'Revenue',\n",
       "  '16': 'Tax',\n",
       "  '17': 'TradeReceivables'},\n",
       " 'Value': {'0': 0.0,\n",
       "  '1': 0.0,\n",
       "  '2': 0.0,\n",
       "  '3': 0.0,\n",
       "  '4': 0.0,\n",
       "  '5': 0.0,\n",
       "  '6': 0.0,\n",
       "  '7': 0.0,\n",
       "  '8': 3.0,\n",
       "  '9': 0.0,\n",
       "  '10': 0.0,\n",
       "  '11': 4.0,\n",
       "  '12': -4.0,\n",
       "  '13': -0.4,\n",
       "  '14': 0.0,\n",
       "  '15': -2.0,\n",
       "  '16': -0.2,\n",
       "  '17': 0.0}}"
      ]
     },
     "execution_count": 6,
     "metadata": {},
     "output_type": "execute_result"
    }
   ],
   "source": [
    "data.head(18).to_dict()"
   ]
  },
  {
   "cell_type": "code",
   "execution_count": 7,
   "metadata": {},
   "outputs": [],
   "source": [
    "from NetEmbs import *\n",
    "GLOBAL_FSN = FSN()\n",
    "GLOBAL_FSN.build(d, left_title=\"FA_Name\")"
   ]
  },
  {
   "cell_type": "code",
   "execution_count": 35,
   "metadata": {},
   "outputs": [],
   "source": [
    "fin_walk = finWalk(GLOBAL_FSN)"
   ]
  },
  {
   "cell_type": "code",
   "execution_count": 43,
   "metadata": {},
   "outputs": [
    {
     "data": {
      "text/plain": [
       "[7, 17, 146, 158, 47, 118, 60, 130, 91, 110]"
      ]
     },
     "execution_count": 43,
     "metadata": {},
     "output_type": "execute_result"
    }
   ],
   "source": [
    "fin_walk.walk(7)"
   ]
  },
  {
   "cell_type": "code",
   "execution_count": 33,
   "metadata": {},
   "outputs": [
    {
     "data": {
      "text/plain": [
       "OutEdgeDataView([('TradePayables', 7, {'type': 'CREDIT', 'weight': 0.9964662946731169}), ('TradePayables', 16, {'type': 'CREDIT', 'weight': 1.0}), ('TradePayables', 17, {'type': 'CREDIT', 'weight': 0.9968529075486792}), ('TradePayables', 28, {'type': 'CREDIT', 'weight': 1.0}), ('TradePayables', 37, {'type': 'CREDIT', 'weight': 1.0}), ('TradePayables', 55, {'type': 'CREDIT', 'weight': 1.0}), ('TradePayables', 67, {'type': 'CREDIT', 'weight': 1.0}), ('TradePayables', 75, {'type': 'CREDIT', 'weight': 1.0}), ('TradePayables', 97, {'type': 'CREDIT', 'weight': 0.9877493568254404}), ('TradePayables', 146, {'type': 'CREDIT', 'weight': 1.0})])"
      ]
     },
     "execution_count": 33,
     "metadata": {},
     "output_type": "execute_result"
    }
   ],
   "source": [
    "GLOBAL_FSN.out_edges('TradePayables', data=True)"
   ]
  },
  {
   "cell_type": "code",
   "execution_count": null,
   "metadata": {},
   "outputs": [],
   "source": []
  }
 ],
 "metadata": {
  "kernelspec": {
   "display_name": "Python [conda env:DL]",
   "language": "python",
   "name": "conda-env-DL-py"
  },
  "language_info": {
   "codemirror_mode": {
    "name": "ipython",
    "version": 3
   },
   "file_extension": ".py",
   "mimetype": "text/x-python",
   "name": "python",
   "nbconvert_exporter": "python",
   "pygments_lexer": "ipython3",
   "version": "3.7.3"
  }
 },
 "nbformat": 4,
 "nbformat_minor": 2
}
