{
 "cells": [
  {
   "cell_type": "code",
   "execution_count": 1,
   "metadata": {},
   "outputs": [],
   "source": [
    "import pandas as pd\n",
    "import numpy as np"
   ]
  },
  {
   "cell_type": "code",
   "execution_count": 5,
   "metadata": {},
   "outputs": [],
   "source": [
    "DB_PATH = \"Simulation/FSN_Data_5k.db\""
   ]
  },
  {
   "cell_type": "code",
   "execution_count": 3,
   "metadata": {},
   "outputs": [],
   "source": [
    "from NetEmbs.utils.IO.db_connection import upload_data, upload_journal_entries\n",
    "from NetEmbs.DataProcessing import *"
   ]
  },
  {
   "cell_type": "code",
   "execution_count": 6,
   "metadata": {},
   "outputs": [],
   "source": [
    "data = upload_data(DB_PATH, limit=1000)"
   ]
  },
  {
   "cell_type": "code",
   "execution_count": 7,
   "metadata": {},
   "outputs": [],
   "source": [
    "d = data_preprocessing(data)"
   ]
  },
  {
   "cell_type": "code",
   "execution_count": 7,
   "metadata": {},
   "outputs": [],
   "source": [
    "from NetEmbs import *\n",
    "GLOBAL_FSN = FSN()\n",
    "GLOBAL_FSN.build(d, left_title=\"FA_Name\")"
   ]
  },
  {
   "cell_type": "code",
   "execution_count": 35,
   "metadata": {},
   "outputs": [],
   "source": [
    "fin_walk = finWalk(GLOBAL_FSN)"
   ]
  },
  {
   "cell_type": "code",
   "execution_count": 10,
   "metadata": {},
   "outputs": [
    {
     "data": {
      "text/plain": [
       "{'ID': {0: 1, 1: 1, 2: 1, 3: 2, 4: 2},\n",
       " 'Name': {0: 'Trade Receivables',\n",
       "  1: 'Revenue',\n",
       "  2: 'Tax',\n",
       "  3: 'Cost of Sales',\n",
       "  4: 'Inventories'},\n",
       " 'Journal': {0: 'Sales ledger',\n",
       "  1: 'Sales ledger',\n",
       "  2: 'Sales ledger',\n",
       "  3: 'Journal ledger',\n",
       "  4: 'Journal ledger'},\n",
       " 'Date': {0: '01/01/2017',\n",
       "  1: '01/01/2017',\n",
       "  2: '01/01/2017',\n",
       "  3: '01/01/2017',\n",
       "  4: '01/01/2017'},\n",
       " 'Debit': {0: 121.0, 1: 0.0, 2: 0.0, 3: 80.0, 4: 0.0},\n",
       " 'Credit': {0: 0.0, 1: 100.0, 2: 21.0, 3: 0.0, 4: 80.0}}"
      ]
     },
     "execution_count": 10,
     "metadata": {},
     "output_type": "execute_result"
    }
   ],
   "source": [
    "pd.read_csv(\"tests/DataProcessing/data/sample.csv\", delimiter=\";\").fillna(0.0).to_dict()"
   ]
  },
  {
   "cell_type": "code",
   "execution_count": 11,
   "metadata": {},
   "outputs": [
    {
     "data": {
      "text/html": [
       "<div>\n",
       "<style scoped>\n",
       "    .dataframe tbody tr th:only-of-type {\n",
       "        vertical-align: middle;\n",
       "    }\n",
       "\n",
       "    .dataframe tbody tr th {\n",
       "        vertical-align: top;\n",
       "    }\n",
       "\n",
       "    .dataframe thead th {\n",
       "        text-align: right;\n",
       "    }\n",
       "</style>\n",
       "<table border=\"1\" class=\"dataframe\">\n",
       "  <thead>\n",
       "    <tr style=\"text-align: right;\">\n",
       "      <th></th>\n",
       "      <th>ID</th>\n",
       "      <th>Name</th>\n",
       "      <th>Journal</th>\n",
       "      <th>Date</th>\n",
       "      <th>Debit</th>\n",
       "      <th>Credit</th>\n",
       "    </tr>\n",
       "  </thead>\n",
       "  <tbody>\n",
       "    <tr>\n",
       "      <th>0</th>\n",
       "      <td>1</td>\n",
       "      <td>Trade Receivables</td>\n",
       "      <td>Sales ledger</td>\n",
       "      <td>01/01/2017</td>\n",
       "      <td>121.0</td>\n",
       "      <td>0.0</td>\n",
       "    </tr>\n",
       "    <tr>\n",
       "      <th>1</th>\n",
       "      <td>1</td>\n",
       "      <td>Revenue</td>\n",
       "      <td>Sales ledger</td>\n",
       "      <td>01/01/2017</td>\n",
       "      <td>0.0</td>\n",
       "      <td>100.0</td>\n",
       "    </tr>\n",
       "    <tr>\n",
       "      <th>2</th>\n",
       "      <td>1</td>\n",
       "      <td>Tax</td>\n",
       "      <td>Sales ledger</td>\n",
       "      <td>01/01/2017</td>\n",
       "      <td>0.0</td>\n",
       "      <td>21.0</td>\n",
       "    </tr>\n",
       "    <tr>\n",
       "      <th>3</th>\n",
       "      <td>2</td>\n",
       "      <td>Cost of Sales</td>\n",
       "      <td>Journal ledger</td>\n",
       "      <td>01/01/2017</td>\n",
       "      <td>80.0</td>\n",
       "      <td>0.0</td>\n",
       "    </tr>\n",
       "    <tr>\n",
       "      <th>4</th>\n",
       "      <td>2</td>\n",
       "      <td>Inventories</td>\n",
       "      <td>Journal ledger</td>\n",
       "      <td>01/01/2017</td>\n",
       "      <td>0.0</td>\n",
       "      <td>80.0</td>\n",
       "    </tr>\n",
       "  </tbody>\n",
       "</table>\n",
       "</div>"
      ],
      "text/plain": [
       "   ID               Name         Journal        Date  Debit  Credit\n",
       "0   1  Trade Receivables    Sales ledger  01/01/2017  121.0     0.0\n",
       "1   1            Revenue    Sales ledger  01/01/2017    0.0   100.0\n",
       "2   1                Tax    Sales ledger  01/01/2017    0.0    21.0\n",
       "3   2      Cost of Sales  Journal ledger  01/01/2017   80.0     0.0\n",
       "4   2        Inventories  Journal ledger  01/01/2017    0.0    80.0"
      ]
     },
     "execution_count": 11,
     "metadata": {},
     "output_type": "execute_result"
    }
   ],
   "source": [
    "pd.DataFrame(data={'ID': {0: 1, 1: 1, 2: 1, 3: 2, 4: 2},\n",
    " 'Name': {0: 'Trade Receivables',\n",
    "  1: 'Revenue',\n",
    "  2: 'Tax',\n",
    "  3: 'Cost of Sales',\n",
    "  4: 'Inventories'},\n",
    " 'Journal': {0: 'Sales ledger',\n",
    "  1: 'Sales ledger',\n",
    "  2: 'Sales ledger',\n",
    "  3: 'Journal ledger',\n",
    "  4: 'Journal ledger'},\n",
    " 'Date': {0: '01/01/2017',\n",
    "  1: '01/01/2017',\n",
    "  2: '01/01/2017',\n",
    "  3: '01/01/2017',\n",
    "  4: '01/01/2017'},\n",
    " 'Debit': {0: 121.0, 1: 0.0, 2: 0.0, 3: 80.0, 4: 0.0},\n",
    " 'Credit': {0: 0.0, 1: 100.0, 2: 21.0, 3: 0.0, 4: 80.0}})"
   ]
  },
  {
   "cell_type": "code",
   "execution_count": null,
   "metadata": {},
   "outputs": [],
   "source": []
  }
 ],
 "metadata": {
  "kernelspec": {
   "display_name": "Python [conda env:DL]",
   "language": "python",
   "name": "conda-env-DL-py"
  },
  "language_info": {
   "codemirror_mode": {
    "name": "ipython",
    "version": 3
   },
   "file_extension": ".py",
   "mimetype": "text/x-python",
   "name": "python",
   "nbconvert_exporter": "python",
   "pygments_lexer": "ipython3",
   "version": "3.7.3"
  }
 },
 "nbformat": 4,
 "nbformat_minor": 2
}
