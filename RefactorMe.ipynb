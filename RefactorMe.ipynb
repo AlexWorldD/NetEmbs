{
 "cells": [
  {
   "cell_type": "code",
   "execution_count": 1,
   "metadata": {},
   "outputs": [],
   "source": [
    "import pandas as pd\n",
    "import numpy as np"
   ]
  },
  {
   "cell_type": "code",
   "execution_count": 2,
   "metadata": {},
   "outputs": [],
   "source": [
    "DB_PATH = \"Simulation/FSN_Data_5k.db\""
   ]
  },
  {
   "cell_type": "code",
   "execution_count": 3,
   "metadata": {},
   "outputs": [],
   "source": [
    "from NetEmbs.utils.IO.db_connection import upload_data, upload_journal_entries"
   ]
  },
  {
   "cell_type": "code",
   "execution_count": 4,
   "metadata": {},
   "outputs": [
    {
     "name": "stdout",
     "output_type": "stream",
     "text": [
      "Help on function upload_data in module NetEmbs.utils.IO.db_connection:\n",
      "\n",
      "upload_data(path: str, limit: Union[int, NoneType] = None) -> pandas.core.frame.DataFrame\n",
      "    Uploading data from EntryRecords table\n",
      "    Parameters\n",
      "    ----------\n",
      "    path : str\n",
      "            String path to the database\n",
      "    limit : int: None\n",
      "            Rows to read from table\n",
      "    \n",
      "    Returns\n",
      "    -------\n",
      "        DataFrame\n",
      "        DataFrame constructed from the passed in DataBase\n",
      "\n"
     ]
    }
   ],
   "source": [
    "help(upload_data)"
   ]
  },
  {
   "cell_type": "code",
   "execution_count": null,
   "metadata": {},
   "outputs": [],
   "source": []
  }
 ],
 "metadata": {
  "kernelspec": {
   "display_name": "Python [conda env:DL]",
   "language": "python",
   "name": "conda-env-DL-py"
  },
  "language_info": {
   "codemirror_mode": {
    "name": "ipython",
    "version": 3
   },
   "file_extension": ".py",
   "mimetype": "text/x-python",
   "name": "python",
   "nbconvert_exporter": "python",
   "pygments_lexer": "ipython3",
   "version": "3.7.3"
  }
 },
 "nbformat": 4,
 "nbformat_minor": 2
}
