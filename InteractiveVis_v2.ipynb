{
 "cells": [
  {
   "cell_type": "markdown",
   "metadata": {},
   "source": [
    "# 1. Required packages"
   ]
  },
  {
   "cell_type": "markdown",
   "metadata": {},
   "source": [
    "## For the interactivity I'm using _plotly_ library and _Jupyter Widgets_. \n",
    "It allows to prototype dashboard in some way. Hence, for correct execution of the current notebook one has to install the following packages: \n",
    "   - [plotly](https://plot.ly/python/) + [cufflinks](https://plot.ly/ipython-notebooks/cufflinks/)\n",
    "   - [ipywidgets](https://github.com/jupyter-widgets/ipywidgets)\n",
    "\n",
    "and activate the required extensions for Jupyter. Feel free to do it manually or run the following script."
   ]
  },
  {
   "cell_type": "code",
   "execution_count": null,
   "metadata": {
    "scrolled": true
   },
   "outputs": [],
   "source": [
    "# %%bash\n",
    "# pip install plotly\n",
    "# pip install cufflinks\n",
    "# pip install ipywidgets\n",
    "# jupyter nbextension install --py --sys-prefix widgetsnbextension\n",
    "# jupyter nbextension install --py --sys-prefix plotlywidget\n",
    "# jupyter nbextension enable --py --sys-prefix widgetsnbextension\n",
    "# jupyter nbextension enable --py --sys-prefix plotlywidget"
   ]
  },
  {
   "cell_type": "markdown",
   "metadata": {},
   "source": [
    "To validate the correct installation and activation of the required packages please execute:"
   ]
  },
  {
   "cell_type": "code",
   "execution_count": 1,
   "metadata": {
    "scrolled": true
   },
   "outputs": [
    {
     "name": "stdout",
     "output_type": "stream",
     "text": [
      "Known nbextensions:\n",
      "  config dir: /anaconda3/envs/DL/etc/jupyter/nbconfig\n",
      "    notebook section\n",
      "      plotlywidget/extension \u001b[32m enabled \u001b[0m\n",
      "      jupyter-js-widgets/extension \u001b[32m enabled \u001b[0m\n"
     ]
    },
    {
     "name": "stderr",
     "output_type": "stream",
     "text": [
      "      - Validating: \u001b[32mOK\u001b[0m\n",
      "      - Validating: \u001b[32mOK\u001b[0m\n"
     ]
    }
   ],
   "source": [
    "%%bash \n",
    "jupyter nbextension list"
   ]
  },
  {
   "cell_type": "code",
   "execution_count": 2,
   "metadata": {},
   "outputs": [
    {
     "data": {
      "text/html": [
       "<style>.container { width:90% !important; }</style>"
      ],
      "text/plain": [
       "<IPython.core.display.HTML object>"
      ]
     },
     "metadata": {},
     "output_type": "display_data"
    }
   ],
   "source": [
    "from IPython.core.display import display, HTML\n",
    "display(HTML(\"<style>.container { width:90% !important; }</style>\"))"
   ]
  },
  {
   "cell_type": "markdown",
   "metadata": {},
   "source": [
    "# 2. Data I/O\n",
    "We assume that one has already obtained the embeddings for the researched financial statement network. "
   ]
  },
  {
   "cell_type": "code",
   "execution_count": 3,
   "metadata": {
    "scrolled": true
   },
   "outputs": [
    {
     "name": "stdout",
     "output_type": "stream",
     "text": [
      "Populating the interactive namespace from numpy and matplotlib\n"
     ]
    }
   ],
   "source": [
    "%pylab inline"
   ]
  },
  {
   "cell_type": "code",
   "execution_count": 4,
   "metadata": {
    "scrolled": true
   },
   "outputs": [
    {
     "name": "stdout",
     "output_type": "stream",
     "text": [
      "Embeddings have been uploaded to memory!\n",
      "Original shape of DataFrame is  (61158, 4)\n",
      "Deleted all NaNs and Strings values from 'Value' column:  (61158, 4)\n",
      "Before merging FAs columns titles are:  ['ID', 'Name', 'FA_Name', 'Value', 'Debit', 'Credit']\n",
      "After merging FAs columns titles are:  ['ID', 'FA_Name', 'Credit', 'Debit', 'Name', 'Value']  shape is  (61050, 6)\n",
      "After normalization shape of DataFrame is  (60740, 8)\n",
      "Final shape of DataFrame is  (52175, 9)\n",
      "Supported information has been uploaded to memory!\n"
     ]
    }
   ],
   "source": [
    "import pandas as pd\n",
    "import matplotlib.pyplot as plt\n",
    "import seaborn as sns\n",
    "from NetEmbs import *\n",
    "\n",
    "MODE = \"SimulatedData\"\n",
    "\n",
    "\n",
    "if MODE == \"SimulatedData\":\n",
    "    EMBS_PATH = \"Simulation_versionMetaDiff_directionCOMBI_walks30_pressure30_window3/TFsteps100000batch64_emb32/\"\n",
    "    embs = pd.read_pickle(EMBS_PATH+\"cache/Embeddings.pkl\")\n",
    "    print(\"Embeddings have been uploaded to memory!\")\n",
    "    d = upload_data(\"Simulation/FSN_Data.db\", limit=None)\n",
    "    d = prepare_data(d)\n",
    "    print(\"Supported information has been uploaded to memory!\")\n",
    "\n",
    "if MODE == \"RealData\":\n",
    "    import extras\n",
    "    import analysis\n",
    "    EMBS_PATH = \"model/15108_2017_versionMetaDiff_directionCOMBI_walks31_pressure30_window3/TFsteps100000batch64_emb32/\"\n",
    "    embs = pd.read_pickle(EMBS_PATH+\"cache/Embeddings.pkl\")\n",
    "        # //////// TODO UPLOAD your data HERE \\\\\\\\\\\\\\\\\\\\\n",
    "#     d = analysis.analysis(\"14082_2017\")\n",
    "    d = extras.getData(\"15108_2017\")\n",
    "        # //////// END  \\\\\\\\\\\\\\\\\\\\\n",
    "    # TODO pay attention for the split argument below!\n",
    "    if \"Value\" in list(d):\n",
    "        need_split = True\n",
    "    else:\n",
    "        need_split = False\n",
    "    d = prepare_dataMarcel(d, split=need_split)\n",
    "#     Here we drop the duplicate of GroundTruth in the DataFrame with supported info, because we have it in Embs DataFrame\n",
    "    if \"GroundTruth\" in list(d):\n",
    "        d.drop(\"GroundTruth\", axis=1, inplace=True)"
   ]
  },
  {
   "cell_type": "code",
   "execution_count": null,
   "metadata": {
    "scrolled": true
   },
   "outputs": [],
   "source": [
    "embs.head(2)"
   ]
  },
  {
   "cell_type": "code",
   "execution_count": null,
   "metadata": {},
   "outputs": [],
   "source": [
    "d.head(2)"
   ]
  },
  {
   "cell_type": "markdown",
   "metadata": {},
   "source": [
    "# 3. Interactive visualization"
   ]
  },
  {
   "cell_type": "markdown",
   "metadata": {},
   "source": [
    "### 3.1 Decrease the dim of embeddings for visualization purpose"
   ]
  },
  {
   "cell_type": "code",
   "execution_count": 5,
   "metadata": {},
   "outputs": [],
   "source": [
    "import os\n",
    "from sklearn.manifold import TSNE\n",
    "os.environ['KMP_DUPLICATE_LIB_OK'] = 'True'\n",
    "def dim_reduction(df, n_dim=2, rand_state=1):\n",
    "    if \"Emb\" in list(df):\n",
    "        tsne = TSNE(random_state=rand_state)\n",
    "        embdf = pd.DataFrame(list(map(np.ravel, df[\"Emb\"])))\n",
    "        embed_tsne = tsne.fit_transform(embdf)\n",
    "        df[\"x\"] = pd.Series(embed_tsne[:, 0])\n",
    "        df[\"y\"] = pd.Series(embed_tsne[:, 1])\n",
    "        return df\n",
    "    else:\n",
    "        raise KeyError(\"No Embs column in the given DataFrame!\")"
   ]
  },
  {
   "cell_type": "markdown",
   "metadata": {},
   "source": [
    "### 3.2 Visualization"
   ]
  },
  {
   "cell_type": "code",
   "execution_count": 6,
   "metadata": {
    "scrolled": true
   },
   "outputs": [
    {
     "data": {
      "text/html": [
       "        <script type=\"text/javascript\">\n",
       "        window.PlotlyConfig = {MathJaxConfig: 'local'};\n",
       "        if (window.MathJax) {MathJax.Hub.Config({SVG: {font: \"STIX-Web\"}});}\n",
       "        if (typeof require !== 'undefined') {\n",
       "        require.undef(\"plotly\");\n",
       "        requirejs.config({\n",
       "            paths: {\n",
       "                'plotly': ['https://cdn.plot.ly/plotly-latest.min']\n",
       "            }\n",
       "        });\n",
       "        require(['plotly'], function(Plotly) {\n",
       "            window._Plotly = Plotly;\n",
       "        });\n",
       "        }\n",
       "        </script>\n",
       "        "
      ]
     },
     "metadata": {},
     "output_type": "display_data"
    },
    {
     "data": {
      "text/html": [
       "        <script type=\"text/javascript\">\n",
       "        window.PlotlyConfig = {MathJaxConfig: 'local'};\n",
       "        if (window.MathJax) {MathJax.Hub.Config({SVG: {font: \"STIX-Web\"}});}\n",
       "        if (typeof require !== 'undefined') {\n",
       "        require.undef(\"plotly\");\n",
       "        requirejs.config({\n",
       "            paths: {\n",
       "                'plotly': ['https://cdn.plot.ly/plotly-latest.min']\n",
       "            }\n",
       "        });\n",
       "        require(['plotly'], function(Plotly) {\n",
       "            window._Plotly = Plotly;\n",
       "        });\n",
       "        }\n",
       "        </script>\n",
       "        "
      ]
     },
     "metadata": {},
     "output_type": "display_data"
    }
   ],
   "source": [
    "from __future__ import print_function\n",
    "# Standard plotly imports\n",
    "import plotly.plotly as py\n",
    "import plotly.graph_objs as go\n",
    "from plotly.offline import iplot, plot, init_notebook_mode\n",
    "# Using plotly + cufflinks in offline mode\n",
    "import cufflinks\n",
    "cufflinks.go_offline(connected=True)\n",
    "init_notebook_mode(connected=True)\n",
    "from ipywidgets import interactive, HBox, VBox, widgets"
   ]
  },
  {
   "cell_type": "markdown",
   "metadata": {},
   "source": [
    "### WordClouds function"
   ]
  },
  {
   "cell_type": "code",
   "execution_count": 7,
   "metadata": {},
   "outputs": [],
   "source": [
    "from collections import Counter\n",
    "from wordcloud import WordCloud\n",
    "# Count most frequent FA names in the given DataFrame OR FA names with the highest amount\n",
    "def findMostCommonFAs_v2(df, labels_column=\"label\", words_column=\"FA_Name\", amount_column=\"amount\", sort_mode=\"freq\", n_top=4, vis=False, folder=\"\"):\n",
    "    if labels_column not in list(df):\n",
    "        raise KeyError(f\"Given column name {labels_column} is not presented in the given DataFrame! Only allows: {list(df)}!\")\n",
    "    if \"from\" not in list(df):\n",
    "        raise KeyError(f\"Please ensure that column 'from' is presented in your DataFrame!\")\n",
    "    for name, group in df.groupby(labels_column):\n",
    "        print(\"Current cluster label is \", name)\n",
    "        gr = group.groupby([words_column, \"from\"])\n",
    "        counts = gr.size().to_frame(name='counts')\n",
    "        all_stat = counts.join(gr.agg({amount_column: sum, 'Debit': lambda x: list(x), 'Credit': lambda x: list(x)})\n",
    "              .rename(columns={amount_column: 'amount_sum', 'Debit': 'Debit_list', 'Credit': 'Credit_list'}))\\\n",
    "        .reset_index()\n",
    "        if sort_mode == \"freq\":\n",
    "            all_stat.sort_values(['counts', words_column], ascending=False, inplace=True)\n",
    "        elif sort_mode == \"amount\":\n",
    "            all_stat.sort_values(['amount_sum', word_column], ascending=False, inplace=True)\n",
    "#             Store all statistict for N_TOP values as dictionary for further visualization\n",
    "        text = {\"Left\": [(x[0], x[2], x[3], x[5]) for x in all_stat[all_stat[\"from\"]==True].values[:n_top]], \n",
    "                \"Right\": [(x[0], x[2], x[3], x[4]) for x in all_stat[all_stat[\"from\"]==False].values[:n_top]]}\n",
    "        if vis:\n",
    "            i = 0\n",
    "            fig, axes = plt.subplots(2,2)\n",
    "        for key, data in text.items():\n",
    "            if sort_mode == \"freq\":\n",
    "#             Take the most frequent FA names\n",
    "                to_vis = [(str(item[0]), item[1]) for item in data]\n",
    "            elif sort_mode == \"amount\":\n",
    "                to_vis = [(str(item[0]), item[2]) for item in data]\n",
    "            print(key, \"--->\", [item[:3] for item in data])\n",
    "            if vis:\n",
    "#                 WordClouds\n",
    "                axes[0, i].set_title(key, size=24)\n",
    "                wc = WordCloud(background_color=\"white\", width=800, height=400, max_font_size=84, min_font_size=14, repeat=False, relative_scaling=0.8, max_words=100)\n",
    "                if len(to_vis)>0:\n",
    "                    wc.generate_from_frequencies(dict(to_vis))\n",
    "                else:\n",
    "                    continue\n",
    "                axes[0, i].axis(\"off\")\n",
    "                axes[0, i].imshow(wc, interpolation=\"bilinear\")\n",
    "#                 Histograhm\n",
    "                [sns.distplot( item[3] , label=item[0], kde=False, bins=50, ax=axes[1, i], hist_kws={\"range\": (0, 1.0)}) for item in data if len(item[3])>4]\n",
    "                axes[1,i].legend(frameon=False, fontsize=14)\n",
    "                axes[1,i].set_xlim((0,1.0))\n",
    "                i+=1\n",
    "        if vis:\n",
    "            plt.tight_layout()\n",
    "#             plt.savefig(folder + \"img/WordClouds/\" + str(name), dpi=140, pad_inches=0.01)\n",
    "            plt.show()"
   ]
  },
  {
   "cell_type": "markdown",
   "metadata": {},
   "source": [
    "### Helper functions"
   ]
  },
  {
   "cell_type": "code",
   "execution_count": 8,
   "metadata": {},
   "outputs": [],
   "source": [
    "# Transform Matplotlib colormap into plotly colorscale:\n",
    "import itertools\n",
    "def matplotlib_to_plotly(color_map=\"tab10\", pl_entries=10):\n",
    "    cmap = matplotlib.cm.get_cmap(color_map)\n",
    "    h = 1.0/(pl_entries-1)\n",
    "    pl_colorscale = []\n",
    "\n",
    "    for k in range(pl_entries):\n",
    "        C = list(map(np.uint8, np.array(cmap(k*h)[:3])*255))\n",
    "        pl_colorscale.append([k*h, 'rgb'+str((C[0], C[1], C[2]))])\n",
    "\n",
    "    return pl_colorscale\n",
    "\n",
    "def getColors_Markers(keys, cm=\"tab10\", n_color=10, markers = [\"circle\", \"diamond\", \"square\"]):\n",
    "    keys = sorted(keys)\n",
    "    color_map = dict(zip(keys, matplotlib_to_plotly(cm, n_color)*(len(keys)//n_color+1)))\n",
    "    marker_map = dict(zip(keys, list(itertools.chain(*[[m]*n_color for m in markers]))*(len(keys)//(3*n_color)+1)))\n",
    "    return color_map, marker_map"
   ]
  },
  {
   "cell_type": "markdown",
   "metadata": {},
   "source": [
    "### Clustering here"
   ]
  },
  {
   "cell_type": "code",
   "execution_count": 11,
   "metadata": {},
   "outputs": [
    {
     "name": "stdout",
     "output_type": "stream",
     "text": [
      "First row of Data: \n",
      " [-0.19695708 -0.22684997  0.11506943  0.17442311  0.20106015 -0.13254054\n",
      "  0.24126534  0.16323344  0.1949625   0.09444448  0.16678071  0.16417685\n",
      " -0.12703338  0.15944019 -0.24492544 -0.00580015 -0.07937735 -0.17278388\n",
      " -0.07006469  0.32693356 -0.23947953  0.04118197 -0.16536982  0.20513551\n",
      "  0.17499836 -0.29295653  0.0757151   0.21822007  0.14713573 -0.05681241\n",
      " -0.17912321 -0.12949651]\n"
     ]
    }
   ],
   "source": [
    "N_CLS = 8\n",
    "embs = dim_reduction(cl_Agglomerative(embs, N_CLS))"
   ]
  },
  {
   "cell_type": "code",
   "execution_count": 12,
   "metadata": {
    "scrolled": false
   },
   "outputs": [
    {
     "data": {
      "application/vnd.jupyter.widget-view+json": {
       "model_id": "75c242fc5a374d94877ce0e1660803b3",
       "version_major": 2,
       "version_minor": 0
      },
      "text/plain": [
       "VBox(children=(Label(value=''), FigureWidget({\n",
       "    'data': [{'customdata': [1, 2, 3, ..., 6492, 6501, 6508],\n",
       " …"
      ]
     },
     "metadata": {},
     "output_type": "display_data"
    }
   ],
   "source": [
    "# TODO before visualization one has to use t-SNE!\n",
    "# Label text\n",
    "description = widgets.Label(\n",
    "        value=''\n",
    "    )\n",
    "# WordCouds area\n",
    "wordCloudsOutput = widgets.Output()\n",
    "# Table with JournalEntries data\n",
    "table_titles = [\"ID\", \"FA_Name\", \"Credit\", \"Debit\", \"label\"]\n",
    "\n",
    "if MODE == \"RealData\":\n",
    "    table_titles = [\"ID\", \"FA_Name\", \"accountDesc\", \"Credit\", \"Debit\", \"label\"]\n",
    "    \n",
    "t = go.FigureWidget([go.Table(\n",
    "    header=dict(values=table_titles,\n",
    "                fill = dict(color='#C2D4FF'),\n",
    "                align = ['left'] * 5),\n",
    "    cells=dict(values=[],\n",
    "               fill = dict(color='#F5F8FF'),\n",
    "               align = ['left'] * 5))],\n",
    "                    layout = go.Layout(\n",
    "                            title=\"Journal Entries\",\n",
    "                            autosize=True,\n",
    "                            width=1000,\n",
    "                            height=400))\n",
    "# Scatter plot\n",
    "N_COLORS = 10\n",
    "WORD_CLOUD_LABEL = \"FA_Name\"\n",
    "# LEGEND_TITLE = \"GroundTruth\"\n",
    "LEGEND_TITLE = \"label\"\n",
    "tmp_p_see = None\n",
    "# For selection via multiple traces... stupid way.\n",
    "indexes = []\n",
    "tr_nums = 0\n",
    "\n",
    "\n",
    "def interactiveScatter(df, df_info, legend_title=\"label\"):\n",
    "    \"\"\"Create FigureWidget with the scatter plot for the given DataFrame\"\"\"\n",
    "    scatter_data = list()\n",
    "    cmap, mmap = getColors_Markers(keys=df[legend_title].unique(), n_color=N_COLORS)\n",
    "    for name, group in df.groupby(legend_title):\n",
    "        scatter_data.append(go.Scatter(x=group.x, y=group.y, mode='markers', name=name, \n",
    "                                    text = group.apply(lambda row: f\"ID={row.ID},   GroundTruth={row.GroundTruth}\", axis=1),\n",
    "                                    customdata = group.index.to_list(),\n",
    "                                    marker=dict(color=cmap[name][1], \n",
    "                                                symbol=mmap[name])))\n",
    "    f = go.FigureWidget(data=scatter_data,\n",
    "                       layout = go.Layout(\n",
    "                           title=f\"t-SNE visualisation with coloring based on {legend_title}\",\n",
    "        hovermode='closest',\n",
    "        autosize=True,\n",
    "        width=1000,\n",
    "        height=700))\n",
    "    \n",
    "    def printSignature(trace, points, *args):\n",
    "        if len(points.point_inds)>0:\n",
    "            ids = trace.customdata[points.point_inds[0]]\n",
    "            row = df.iloc[ids]\n",
    "            description.value = f\"ID={row.ID},   GroundTruth={row.GroundTruth}\"\n",
    "    def selectBP(trace, points, *args):\n",
    "        if len(points.point_inds)>0:\n",
    "            ids = trace.customdata[points.point_inds[0]]\n",
    "            row = df.iloc[[ids]]\n",
    "            chosen_bps = df_info.merge(row, on=\"ID\")\n",
    "            t.data[0].cells.values = [chosen_bps[col] for col in t.data[0].header.values]\n",
    "    \n",
    "    def filterRows(selected_ids):\n",
    "        row = df.iloc[selected_ids]\n",
    "        chosen_bps = df_info.merge(row, on=\"ID\")\n",
    "        return chosen_bps\n",
    "    def updateTable(chosen_bps):\n",
    "        t.data[0].cells.values = [chosen_bps[col] for col in t.data[0].header.values]\n",
    "    def showClouds(chosen_bps):\n",
    "        wordCloudsOutput.clear_output()\n",
    "        with wordCloudsOutput:\n",
    "            findMostCommonFAs_v2(chosen_bps, LEGEND_TITLE, WORD_CLOUD_LABEL, sort_mode=\"freq\", vis=True, n_top=4)\n",
    "    scatters = f.data\n",
    "    max_traces = len(scatters)\n",
    "    def selectBPs(trace,points,selector):\n",
    "        global indexes\n",
    "        global tr_nums\n",
    "#         print(f\"For trace index={points.trace_index} tr_nums is {tr_nums}\")\n",
    "        if not points.point_inds:\n",
    "            pass\n",
    "        else:\n",
    "            indexes.extend([trace.customdata[cur_point] for cur_point in points.point_inds])\n",
    "        tr_nums = tr_nums+1\n",
    "        if tr_nums==max_traces:\n",
    "            selected_data = filterRows(indexes)\n",
    "            updateTable(selected_data)\n",
    "            showClouds(selected_data)\n",
    "            indexes = []\n",
    "            tr_nums = 0\n",
    "    # Hover text: ID and GroundTruth\n",
    "    for scatter in scatters:\n",
    "        scatter.hoverinfo = 'text'\n",
    "        scatter.on_hover(printSignature) \n",
    "        scatter.on_click(selectBP)\n",
    "        scatter.on_selection(selectBPs)\n",
    "\n",
    "    # Selection\n",
    "    return f\n",
    "# @interact(Coloring=['label', 'GroundTruth'])\n",
    "# def update(Coloring=\"label\"):\n",
    "#     print(Coloring)\n",
    "#     f_scatter = interactiveScatter(embs, Coloring)\n",
    "#     return VBox([description, f_scatter])\n",
    "f_scatter = interactiveScatter(embs, d, LEGEND_TITLE)\n",
    "VBox([description, f_scatter, t, wordCloudsOutput])"
   ]
  },
  {
   "cell_type": "code",
   "execution_count": null,
   "metadata": {},
   "outputs": [],
   "source": [
    "# import sklearn\n",
    "# sklearn.metrics.pairwise.cosine_similarity(embs[embs.ID==10].Emb.values[0].reshape(1,-1), \n",
    "#                                            embs[embs.ID==970].Emb.values[0].reshape(1, -1))"
   ]
  },
  {
   "cell_type": "markdown",
   "metadata": {},
   "source": [
    "# Time-Series modeling"
   ]
  },
  {
   "cell_type": "code",
   "execution_count": 13,
   "metadata": {},
   "outputs": [],
   "source": [
    "def crosscorr(data_x, data_y, lag=0):\n",
    "    \"\"\" Lag-N cross correlation. \n",
    "    Parameters\n",
    "    ----------\n",
    "    lag : int, default 0\n",
    "    datax, datay : pandas.Series objects of equal length\n",
    "\n",
    "    Returns\n",
    "    ----------\n",
    "    crosscorr : float\n",
    "    \"\"\"\n",
    "    return data_x.shift(lag).corr(data_y)"
   ]
  },
  {
   "cell_type": "markdown",
   "metadata": {},
   "source": [
    "Our initial hypotheis is that sub-groups of business process within a company should have some kind of cross correlation (e.g. goods delivery business process follows after sale business process). For deeper investigation of that hypothesis we are going to aggregate given Journal Entries (aka input raw data) based on the predicted cluster label and to build time-series from these groups w.r.t. to the transaction time."
   ]
  },
  {
   "cell_type": "code",
   "execution_count": 14,
   "metadata": {},
   "outputs": [
    {
     "name": "stdout",
     "output_type": "stream",
     "text": [
      "Shape of supported info is (52175, 8), shape of embs DataFrame is (6845, 6)\n",
      "After merge the shape is (52175, 13)\n"
     ]
    }
   ],
   "source": [
    "# TODO helper uploader for obtain Time column. \n",
    "if MODE==\"SimulatedData\":\n",
    "    df_all = d.merge(upload_JournalEntriesTruth(\"Simulation/FSN_Data.db\", limit=None)[[\"ID\", \"Time\"]], on=\"ID\")\\\n",
    "        .drop([\"Signature\", \"Name\"], axis=1)\n",
    "    print(f\"Shape of supported info is {df_all.shape}, shape of embs DataFrame is {embs.shape}\")\n",
    "    df_all = df_all.merge(embs, on=\"ID\")\n",
    "    print(f\"After merge the shape is {df_all.shape}\")\n",
    "    df_all = df_all.groupby([\"ID\", \"FA_Name\", \"from\"], as_index=False).aggregate({\"amount\": lambda x: np.sum(x), \n",
    "                                \"Time\": \"first\",\n",
    "                              \"GroundTruth\": \"first\",\n",
    "                              \"label\": \"first\",\n",
    "                              \"x\": \"first\",\n",
    "                              \"y\": \"first\"}) \\\n",
    "                        .sort_values(\"Time\", ascending=True)\n",
    "if MODE==\"RealData\":\n",
    "    d[\"Date\"] = pd.to_datetime(d[\"Date\"],format='%Y-%m-%d')\n",
    "#     df_all = d.groupby(\"ID\", as_index=False).aggregate({\"amount\": lambda x: np.sum(x)/2.0, \n",
    "#                                \"Date\": \"first\"}).merge(embs, on=\"ID\").sort_values(\"Date\", ascending=True)\n",
    "    df_all = d.groupby([\"ID\", \"FA_Name\", \"from\"], as_index=False)\\\n",
    "                .aggregate({\"amount\": lambda x: np.sum(x), \n",
    "                            \"Date\": \"first\",\n",
    "                           \"accountDesc\": \"first\"})\\\n",
    "                .merge(embs, on=\"ID\")\\\n",
    "                .sort_values(\"Date\", ascending=True)\n",
    "    df_all.set_index(df_all.Date, inplace=True)"
   ]
  },
  {
   "cell_type": "code",
   "execution_count": 15,
   "metadata": {},
   "outputs": [
    {
     "data": {
      "text/html": [
       "<div>\n",
       "<style scoped>\n",
       "    .dataframe tbody tr th:only-of-type {\n",
       "        vertical-align: middle;\n",
       "    }\n",
       "\n",
       "    .dataframe tbody tr th {\n",
       "        vertical-align: top;\n",
       "    }\n",
       "\n",
       "    .dataframe thead th {\n",
       "        text-align: right;\n",
       "    }\n",
       "</style>\n",
       "<table border=\"1\" class=\"dataframe\">\n",
       "  <thead>\n",
       "    <tr style=\"text-align: right;\">\n",
       "      <th></th>\n",
       "      <th>ID</th>\n",
       "      <th>FA_Name</th>\n",
       "      <th>from</th>\n",
       "      <th>amount</th>\n",
       "      <th>Time</th>\n",
       "      <th>GroundTruth</th>\n",
       "      <th>label</th>\n",
       "      <th>x</th>\n",
       "      <th>y</th>\n",
       "    </tr>\n",
       "  </thead>\n",
       "  <tbody>\n",
       "    <tr>\n",
       "      <th>0</th>\n",
       "      <td>8</td>\n",
       "      <td>NoisyRightFA_ilpe</td>\n",
       "      <td>False</td>\n",
       "      <td>0.678201</td>\n",
       "      <td>1.543287</td>\n",
       "      <td>Sales 21 btw</td>\n",
       "      <td>2</td>\n",
       "      <td>-13.842628</td>\n",
       "      <td>-3.367294</td>\n",
       "    </tr>\n",
       "    <tr>\n",
       "      <th>18</th>\n",
       "      <td>9</td>\n",
       "      <td>NoisyLeftFA_vjmc</td>\n",
       "      <td>True</td>\n",
       "      <td>1.328013</td>\n",
       "      <td>1.543287</td>\n",
       "      <td>Cost of Sales</td>\n",
       "      <td>0</td>\n",
       "      <td>62.452831</td>\n",
       "      <td>0.478696</td>\n",
       "    </tr>\n",
       "  </tbody>\n",
       "</table>\n",
       "</div>"
      ],
      "text/plain": [
       "    ID            FA_Name   from    amount      Time    GroundTruth  label  \\\n",
       "0    8  NoisyRightFA_ilpe  False  0.678201  1.543287   Sales 21 btw      2   \n",
       "18   9   NoisyLeftFA_vjmc   True  1.328013  1.543287  Cost of Sales      0   \n",
       "\n",
       "            x         y  \n",
       "0  -13.842628 -3.367294  \n",
       "18  62.452831  0.478696  "
      ]
     },
     "execution_count": 15,
     "metadata": {},
     "output_type": "execute_result"
    }
   ],
   "source": [
    "df_all.head(2)"
   ]
  },
  {
   "cell_type": "markdown",
   "metadata": {},
   "source": [
    "## Add DateTimeIndex to simulated data"
   ]
  },
  {
   "cell_type": "code",
   "execution_count": 16,
   "metadata": {},
   "outputs": [],
   "source": [
    "def addDateTimeIndex(df):\n",
    "    df[\"SimulatedTime\"] = df[\"Time\"]\n",
    "    df[\"Time\"] = df[\"Time\"].apply(lambda x: np.datetime64('2019-01-01')+np.timedelta64(int(x*28.8), 'm'))\n",
    "    return df.set_index(\"Time\")\n",
    "if MODE==\"SimulatedData\":\n",
    "    df_all = addDateTimeIndex(df_all)"
   ]
  },
  {
   "cell_type": "markdown",
   "metadata": {},
   "source": [
    "## Find optimal scaling for simulated data"
   ]
  },
  {
   "cell_type": "code",
   "execution_count": null,
   "metadata": {},
   "outputs": [],
   "source": [
    "# def findDateTimeIndex(dfA, dfB, mult=55, on=\"Time\", data_column=\"amount\", agg_period=\"D\"):\n",
    "#     dfA = dfA.set_index(dfA[on].apply(lambda x: np.datetime64('2019-01-01')+np.timedelta64(int(x*mult), 'm')))\n",
    "#     dfB = dfB.set_index(dfB[on].apply(lambda x: np.datetime64('2019-01-01')+np.timedelta64(int(x*mult), 'm')))\n",
    "# #     return dfA, dfB\n",
    "#     return crosscorr(dfA[data_column].resample(agg_period).sum(), dfB[data_column].resample(agg_period).sum(), 0)\n",
    "\n",
    "# res = {cur_m: findDateTimeIndex(sales, collections, agg_period=\"D\", mult=cur_m) for cur_m in np.linspace(50, 150, 200)}\n",
    "# res = sorted(res.items(), key=lambda x: x[1], reverse=True)"
   ]
  },
  {
   "cell_type": "markdown",
   "metadata": {},
   "source": [
    "## Get part of data with required labe/GroundTruth"
   ]
  },
  {
   "cell_type": "code",
   "execution_count": 17,
   "metadata": {},
   "outputs": [],
   "source": [
    "def filterData(df, query=[[\"Sales 21 btw\", \"Sales 6 btw\"], [\"Collections\"]], on=\"GroundTruth\"):\n",
    "    result = list()\n",
    "    for q in query:\n",
    "        result.append(df_all[df_all[on].isin(q)])\n",
    "        result[-1].name=str(q)[1:-1]\n",
    "        if on == \"label\":\n",
    "            result[-1].name+=\" cluster\"\n",
    "    return tuple(result)\n",
    "\n",
    "def filterData_v3(df, \n",
    "                  query=[{\"select\": [\"Sales 21 btw\", \"Sales 6 btw\"], \n",
    "                              \"_with\": {\"FA_Name\": \"Revenue\", \"from\": True}}, \n",
    "                 {\"select\": [\"Collections\"], \"_with\": None}], \n",
    "                  on=\"GroundTruth\"):\n",
    "    result = list()\n",
    "    for q in query:\n",
    "        postfix = \"\"\n",
    "        if q[\"select\"] is None:\n",
    "            cur_df = df\n",
    "        else:\n",
    "            cur_df = df[df[on].isin(q[\"select\"])]\n",
    "        if q[\"_with\"] is not None:\n",
    "            for key, value in q[\"_with\"].items():\n",
    "                try:\n",
    "                    cur_df = cur_df[cur_df[key]==value]\n",
    "                    postfix+=\"_\"+str(value)\n",
    "                except KeyError as e:\n",
    "                    raise(f\"{a} is not in a columns titles!\")\n",
    "        result.append(cur_df)\n",
    "        result[-1].name=str(q[\"select\"])+postfix\n",
    "        if on == \"label\":\n",
    "            result[-1].name+=\" cluster\"\n",
    "    if len(result)==1:\n",
    "        return result[0]\n",
    "    else:\n",
    "        return tuple(result)"
   ]
  },
  {
   "cell_type": "code",
   "execution_count": 18,
   "metadata": {},
   "outputs": [],
   "source": [
    "from plotly.offline import download_plotlyjs, init_notebook_mode, plot, iplot\n",
    "import numpy as np\n",
    "from sklearn import linear_model\n",
    "def plotAmounts(DFs, title=\"Default signals\", vis_type=\"line\"):\n",
    "    \"\"\"Helper funciton to plot a few DataFrame in one plotly graph\"\"\"\n",
    "    if vis_type==\"line\":\n",
    "        if len(DFs)>1:\n",
    "            fig2 = go.Figure(data=[go.Scatter(x=df.index,\n",
    "            y=df.amount,\n",
    "            name=df.name\n",
    "            ) for df in DFs], \n",
    "            layout = go.Layout(showlegend=True, title=go.layout.Title(text=title), hovermode='closest'))\n",
    "        else:\n",
    "            fig2 = go.Figure(data=go.Scatter(x=DFs.index,\n",
    "            y=DFs.amount,\n",
    "            name=DFs.name, \n",
    "            layout = go.Layout(showlegend=True, title=go.layout.Title(text=title), hovermode='closest')))\n",
    "        iplot(fig2)\n",
    "    elif vis_type == \"scatter\" and len(DFs)==2:\n",
    "        print([df.shape for df in DFs])\n",
    "        import seaborn as sns\n",
    "        if MODE==\"SimulatedData\":\n",
    "            sc_data = DFs[0].merge(DFs[1], on=\"Time\", how=\"inner\", suffixes=(\"_X\", \"_Y\"))\n",
    "        elif MODE==\"RealData\":\n",
    "            sc_data = DFs[0].merge(DFs[1], on=\"Date\", how=\"inner\", suffixes=(\"_X\", \"_Y\"))\n",
    "        sns.regplot(x=sc_data.amount_X, y=sc_data.amount_Y)\n",
    "#         regr = linear_model.LinearRegression()\n",
    "#         regr.fit(DFs[0].amount.values.reshape(-1, 1), DFs[1].amount.values.reshape(-1, 1))\n",
    "#         fig2 = go.Figure(data=[go.Scatter(x=DFs[0].amount, y=DFs[1].amount, mode='markers', name=\"Amounts\"),\n",
    "#                               go.Scatter(x=DFs[0].amount, y=regr.predict(DFs[0].amount.values.reshape(-1, 1)), name = \"Best fit\",\n",
    "#                 mode='lines',\n",
    "#                 line=dict(color='blue', width=2)\n",
    "#                 )],\n",
    "#                 layout = go.Layout(showlegend=True, \n",
    "#                                             title=go.layout.Title(text=str(DFs[0].name) +\" vs. \" + str(DFs[1].name))))"
   ]
  },
  {
   "cell_type": "code",
   "execution_count": null,
   "metadata": {},
   "outputs": [],
   "source": [
    "df_filtered = filterData_v3(df_all, query=[{\"select\": [\"Sales 21 btw\", \"Sales 6 btw\"], \n",
    "                              \"_with\": None}, \n",
    "                                {\"select\": [\"Collections\"], \"_with\": None}], on=\"GroundTruth\")\n",
    "plotAmounts(df_filtered)"
   ]
  },
  {
   "cell_type": "markdown",
   "metadata": {},
   "source": [
    "## Resample our TimeSeries with Dayly/Weekly/Monthly frequencies"
   ]
  },
  {
   "cell_type": "code",
   "execution_count": 21,
   "metadata": {},
   "outputs": [],
   "source": [
    "sales = df_filtered[0]\n",
    "collections = df_filtered[1]"
   ]
  },
  {
   "cell_type": "code",
   "execution_count": 22,
   "metadata": {},
   "outputs": [],
   "source": [
    "sales_w = sales.resample(\"D\").apply({\"amount\": sum, \"GroundTruth\": pd.Series.mode, \"label\": pd.Series.mode})\n",
    "sales_w.name = sales.name+\", weekly\"\n",
    "collections_w = collections.resample(\"D\").apply({\"amount\": sum, \"GroundTruth\": pd.Series.mode, \"label\": pd.Series.mode})\n",
    "collections_w.name = collections.name+\", weekly\""
   ]
  },
  {
   "cell_type": "code",
   "execution_count": 23,
   "metadata": {},
   "outputs": [
    {
     "data": {
      "application/vnd.plotly.v1+json": {
       "config": {
        "linkText": "Export to plot.ly",
        "plotlyServerURL": "https://plot.ly",
        "showLink": false
       },
       "data": [
        {
         "name": "['Sales 21 btw', 'Sales 6 btw'], weekly",
         "type": "scatter",
         "uid": "c1c78d00-05a6-4475-9623-d388d4051be9",
         "x": [
          "2019-01-01",
          "2019-01-02",
          "2019-01-03",
          "2019-01-04",
          "2019-01-05",
          "2019-01-06",
          "2019-01-07",
          "2019-01-08",
          "2019-01-09",
          "2019-01-10",
          "2019-01-11",
          "2019-01-12",
          "2019-01-13",
          "2019-01-14",
          "2019-01-15",
          "2019-01-16",
          "2019-01-17",
          "2019-01-18",
          "2019-01-19",
          "2019-01-20",
          "2019-01-21",
          "2019-01-22",
          "2019-01-23",
          "2019-01-24",
          "2019-01-25",
          "2019-01-26",
          "2019-01-27",
          "2019-01-28",
          "2019-01-29",
          "2019-01-30",
          "2019-01-31",
          "2019-02-01",
          "2019-02-02",
          "2019-02-03",
          "2019-02-04",
          "2019-02-05",
          "2019-02-06",
          "2019-02-07",
          "2019-02-08",
          "2019-02-09",
          "2019-02-10",
          "2019-02-11",
          "2019-02-12",
          "2019-02-13",
          "2019-02-14",
          "2019-02-15",
          "2019-02-16",
          "2019-02-17",
          "2019-02-18",
          "2019-02-19",
          "2019-02-20",
          "2019-02-21",
          "2019-02-22",
          "2019-02-23",
          "2019-02-24",
          "2019-02-25",
          "2019-02-26",
          "2019-02-27",
          "2019-02-28",
          "2019-03-01",
          "2019-03-02",
          "2019-03-03",
          "2019-03-04",
          "2019-03-05",
          "2019-03-06",
          "2019-03-07",
          "2019-03-08",
          "2019-03-09",
          "2019-03-10",
          "2019-03-11",
          "2019-03-12",
          "2019-03-13",
          "2019-03-14",
          "2019-03-15",
          "2019-03-16",
          "2019-03-17",
          "2019-03-18",
          "2019-03-19",
          "2019-03-20",
          "2019-03-21",
          "2019-03-22",
          "2019-03-23",
          "2019-03-24",
          "2019-03-25",
          "2019-03-26"
         ],
         "y": [
          22877.145226955567,
          33045.99544464281,
          20198.454857196142,
          32655.755960172297,
          32769.11446219435,
          17270.61201542179,
          23468.802767382727,
          35468.50001053705,
          33584.84515041688,
          34813.924000593215,
          20177.335945117018,
          37330.80051558342,
          22359.40482726399,
          27887.110394436044,
          34378.84414199371,
          20816.510709047598,
          23158.568084734845,
          39010.31303517114,
          17288.05325355602,
          16024.287746790194,
          34450.856338219775,
          24228.47211989343,
          16301.43611050354,
          27121.240443858467,
          29918.679575353734,
          23417.50776828925,
          31178.674341118916,
          24356.849145452165,
          25777.059032854904,
          24747.39997579118,
          23504.55059042434,
          26993.447194541342,
          27752.348688610666,
          27869.32382979888,
          42900.198904067045,
          33243.68569996342,
          21408.2806497725,
          28351.146086399433,
          21220.252676534834,
          40734.955919852735,
          25545.126822509956,
          20144.292979334587,
          23797.7362582335,
          27822.089762964864,
          30121.11686444285,
          18067.015198981044,
          22886.41343583285,
          29216.4998268069,
          30499.851867818204,
          30670.11741200468,
          30530.197238268807,
          19820.110273134727,
          25389.553161895594,
          23022.65865625281,
          19026.799736378383,
          16678.121557883172,
          24563.003314659763,
          24068.60252438411,
          22540.67191226581,
          19821.683693427953,
          26832.177333852844,
          27752.388532672896,
          32404.254552557195,
          26178.407069498167,
          18910.328975242734,
          23029.062794035097,
          34642.65439478343,
          23343.89615684398,
          14953.106531814781,
          35211.13128608383,
          12052.139449715536,
          23267.4476576964,
          25672.02729699236,
          37851.2195130298,
          32247.47772616651,
          17074.173913110706,
          19156.894594065077,
          37189.55615338345,
          34790.78213150724,
          18064.328319130538,
          19169.16051999524,
          11415.750771225323,
          19390.26928063456,
          11091.57899786032,
          3937.34449956815
         ]
        },
        {
         "name": "['Collections'], weekly",
         "type": "scatter",
         "uid": "0fb1866f-0705-42a3-b589-4c3c5f73ceb6",
         "x": [
          "2019-01-01",
          "2019-01-02",
          "2019-01-03",
          "2019-01-04",
          "2019-01-05",
          "2019-01-06",
          "2019-01-07",
          "2019-01-08",
          "2019-01-09",
          "2019-01-10",
          "2019-01-11",
          "2019-01-12",
          "2019-01-13",
          "2019-01-14",
          "2019-01-15",
          "2019-01-16",
          "2019-01-17",
          "2019-01-18",
          "2019-01-19",
          "2019-01-20",
          "2019-01-21",
          "2019-01-22",
          "2019-01-23",
          "2019-01-24",
          "2019-01-25",
          "2019-01-26",
          "2019-01-27",
          "2019-01-28",
          "2019-01-29",
          "2019-01-30",
          "2019-01-31",
          "2019-02-01",
          "2019-02-02",
          "2019-02-03",
          "2019-02-04",
          "2019-02-05",
          "2019-02-06",
          "2019-02-07",
          "2019-02-08",
          "2019-02-09",
          "2019-02-10",
          "2019-02-11",
          "2019-02-12",
          "2019-02-13",
          "2019-02-14",
          "2019-02-15",
          "2019-02-16",
          "2019-02-17",
          "2019-02-18",
          "2019-02-19",
          "2019-02-20",
          "2019-02-21",
          "2019-02-22",
          "2019-02-23",
          "2019-02-24",
          "2019-02-25",
          "2019-02-26",
          "2019-02-27",
          "2019-02-28",
          "2019-03-01",
          "2019-03-02",
          "2019-03-03",
          "2019-03-04",
          "2019-03-05",
          "2019-03-06",
          "2019-03-07",
          "2019-03-08",
          "2019-03-09",
          "2019-03-10",
          "2019-03-11",
          "2019-03-12",
          "2019-03-13",
          "2019-03-14",
          "2019-03-15",
          "2019-03-16",
          "2019-03-17",
          "2019-03-18",
          "2019-03-19",
          "2019-03-20",
          "2019-03-21",
          "2019-03-22",
          "2019-03-23",
          "2019-03-24",
          "2019-03-25",
          "2019-03-26"
         ],
         "y": [
          9230.858319005443,
          17637.457389175437,
          10366.81677348053,
          16263.839134937361,
          16718.99065852498,
          17391.27089714363,
          8034.235272159621,
          15874.736983509876,
          11966.682000143146,
          14721.109590818754,
          20605.294719628517,
          29341.338916117216,
          14984.049703923707,
          15540.333796128516,
          13457.385243664745,
          16616.61673885127,
          16603.68866461301,
          13696.471831194767,
          8118.219245802685,
          10309.49176642649,
          19144.925149339295,
          13621.39717239802,
          20314.5609379649,
          13132.501824376282,
          21179.344216067682,
          21161.59516687126,
          20325.25393658877,
          12451.780271607602,
          8787.714994197671,
          20788.51214886363,
          9337.785069664442,
          14235.744043192864,
          19181.264755795193,
          13975.649601269004,
          18495.23947964891,
          11304.620957462426,
          23651.105382077792,
          15201.963362341652,
          19220.951002020538,
          16528.28551237668,
          18804.624714637248,
          6514.70591002233,
          18644.62517872484,
          10973.618847596645,
          17519.60423147649,
          13541.672961402446,
          18888.784108783217,
          11888.77253412107,
          12214.834552524164,
          14603.576374753418,
          22038.690493539798,
          12913.569253450223,
          19671.041888555144,
          16928.957548173446,
          12322.803619727612,
          16740.898243453878,
          13300.256197518453,
          19696.8336994235,
          15047.608232049883,
          10808.20124936773,
          14740.987430637777,
          21523.25119933887,
          14883.506727008902,
          15649.359792267149,
          22240.92982430549,
          12263.142743025488,
          21258.108409159187,
          16695.310964162316,
          13220.219751215349,
          15788.214252246906,
          17567.83428709508,
          12537.105651802445,
          20723.006921965447,
          25138.747933463554,
          26864.410058649406,
          18457.934674116885,
          6492.449600505595,
          15774.14125364125,
          25179.025985492422,
          16338.856190504453,
          14052.427089536706,
          11224.992531683041,
          13248.755447734875,
          6361.585608520067,
          3937.34449956815
         ]
        }
       ],
       "layout": {
        "hovermode": "closest",
        "showlegend": true,
        "title": {
         "text": "Default signals"
        }
       }
      },
      "text/html": [
       "<div>\n",
       "        \n",
       "        \n",
       "            <div id=\"224f75a1-87f9-42a7-8d2f-70371fdc7388\" class=\"plotly-graph-div\" style=\"height:525px; width:100%;\"></div>\n",
       "            <script type=\"text/javascript\">\n",
       "                require([\"plotly\"], function(Plotly) {\n",
       "                    window.PLOTLYENV=window.PLOTLYENV || {};\n",
       "                    window.PLOTLYENV.BASE_URL='https://plot.ly';\n",
       "                    \n",
       "                if (document.getElementById(\"224f75a1-87f9-42a7-8d2f-70371fdc7388\")) {\n",
       "                    Plotly.newPlot(\n",
       "                        '224f75a1-87f9-42a7-8d2f-70371fdc7388',\n",
       "                        [{\"name\": \"['Sales 21 btw', 'Sales 6 btw'], weekly\", \"type\": \"scatter\", \"uid\": \"c1c78d00-05a6-4475-9623-d388d4051be9\", \"x\": [\"2019-01-01\", \"2019-01-02\", \"2019-01-03\", \"2019-01-04\", \"2019-01-05\", \"2019-01-06\", \"2019-01-07\", \"2019-01-08\", \"2019-01-09\", \"2019-01-10\", \"2019-01-11\", \"2019-01-12\", \"2019-01-13\", \"2019-01-14\", \"2019-01-15\", \"2019-01-16\", \"2019-01-17\", \"2019-01-18\", \"2019-01-19\", \"2019-01-20\", \"2019-01-21\", \"2019-01-22\", \"2019-01-23\", \"2019-01-24\", \"2019-01-25\", \"2019-01-26\", \"2019-01-27\", \"2019-01-28\", \"2019-01-29\", \"2019-01-30\", \"2019-01-31\", \"2019-02-01\", \"2019-02-02\", \"2019-02-03\", \"2019-02-04\", \"2019-02-05\", \"2019-02-06\", \"2019-02-07\", \"2019-02-08\", \"2019-02-09\", \"2019-02-10\", \"2019-02-11\", \"2019-02-12\", \"2019-02-13\", \"2019-02-14\", \"2019-02-15\", \"2019-02-16\", \"2019-02-17\", \"2019-02-18\", \"2019-02-19\", \"2019-02-20\", \"2019-02-21\", \"2019-02-22\", \"2019-02-23\", \"2019-02-24\", \"2019-02-25\", \"2019-02-26\", \"2019-02-27\", \"2019-02-28\", \"2019-03-01\", \"2019-03-02\", \"2019-03-03\", \"2019-03-04\", \"2019-03-05\", \"2019-03-06\", \"2019-03-07\", \"2019-03-08\", \"2019-03-09\", \"2019-03-10\", \"2019-03-11\", \"2019-03-12\", \"2019-03-13\", \"2019-03-14\", \"2019-03-15\", \"2019-03-16\", \"2019-03-17\", \"2019-03-18\", \"2019-03-19\", \"2019-03-20\", \"2019-03-21\", \"2019-03-22\", \"2019-03-23\", \"2019-03-24\", \"2019-03-25\", \"2019-03-26\"], \"y\": [22877.145226955567, 33045.99544464281, 20198.454857196142, 32655.755960172297, 32769.11446219435, 17270.61201542179, 23468.802767382727, 35468.50001053705, 33584.84515041688, 34813.924000593215, 20177.335945117018, 37330.80051558342, 22359.40482726399, 27887.110394436044, 34378.84414199371, 20816.510709047598, 23158.568084734845, 39010.31303517114, 17288.05325355602, 16024.287746790194, 34450.856338219775, 24228.47211989343, 16301.43611050354, 27121.240443858467, 29918.679575353734, 23417.50776828925, 31178.674341118916, 24356.849145452165, 25777.059032854904, 24747.39997579118, 23504.55059042434, 26993.447194541342, 27752.348688610666, 27869.32382979888, 42900.198904067045, 33243.68569996342, 21408.2806497725, 28351.146086399433, 21220.252676534834, 40734.955919852735, 25545.126822509956, 20144.292979334587, 23797.7362582335, 27822.089762964864, 30121.11686444285, 18067.015198981044, 22886.41343583285, 29216.4998268069, 30499.851867818204, 30670.11741200468, 30530.197238268807, 19820.110273134727, 25389.553161895594, 23022.65865625281, 19026.799736378383, 16678.121557883172, 24563.003314659763, 24068.60252438411, 22540.67191226581, 19821.683693427953, 26832.177333852844, 27752.388532672896, 32404.254552557195, 26178.407069498167, 18910.328975242734, 23029.062794035097, 34642.65439478343, 23343.89615684398, 14953.106531814781, 35211.13128608383, 12052.139449715536, 23267.4476576964, 25672.02729699236, 37851.2195130298, 32247.47772616651, 17074.173913110706, 19156.894594065077, 37189.55615338345, 34790.78213150724, 18064.328319130538, 19169.16051999524, 11415.750771225323, 19390.26928063456, 11091.57899786032, 3937.34449956815]}, {\"name\": \"['Collections'], weekly\", \"type\": \"scatter\", \"uid\": \"0fb1866f-0705-42a3-b589-4c3c5f73ceb6\", \"x\": [\"2019-01-01\", \"2019-01-02\", \"2019-01-03\", \"2019-01-04\", \"2019-01-05\", \"2019-01-06\", \"2019-01-07\", \"2019-01-08\", \"2019-01-09\", \"2019-01-10\", \"2019-01-11\", \"2019-01-12\", \"2019-01-13\", \"2019-01-14\", \"2019-01-15\", \"2019-01-16\", \"2019-01-17\", \"2019-01-18\", \"2019-01-19\", \"2019-01-20\", \"2019-01-21\", \"2019-01-22\", \"2019-01-23\", \"2019-01-24\", \"2019-01-25\", \"2019-01-26\", \"2019-01-27\", \"2019-01-28\", \"2019-01-29\", \"2019-01-30\", \"2019-01-31\", \"2019-02-01\", \"2019-02-02\", \"2019-02-03\", \"2019-02-04\", \"2019-02-05\", \"2019-02-06\", \"2019-02-07\", \"2019-02-08\", \"2019-02-09\", \"2019-02-10\", \"2019-02-11\", \"2019-02-12\", \"2019-02-13\", \"2019-02-14\", \"2019-02-15\", \"2019-02-16\", \"2019-02-17\", \"2019-02-18\", \"2019-02-19\", \"2019-02-20\", \"2019-02-21\", \"2019-02-22\", \"2019-02-23\", \"2019-02-24\", \"2019-02-25\", \"2019-02-26\", \"2019-02-27\", \"2019-02-28\", \"2019-03-01\", \"2019-03-02\", \"2019-03-03\", \"2019-03-04\", \"2019-03-05\", \"2019-03-06\", \"2019-03-07\", \"2019-03-08\", \"2019-03-09\", \"2019-03-10\", \"2019-03-11\", \"2019-03-12\", \"2019-03-13\", \"2019-03-14\", \"2019-03-15\", \"2019-03-16\", \"2019-03-17\", \"2019-03-18\", \"2019-03-19\", \"2019-03-20\", \"2019-03-21\", \"2019-03-22\", \"2019-03-23\", \"2019-03-24\", \"2019-03-25\", \"2019-03-26\"], \"y\": [9230.858319005443, 17637.457389175437, 10366.81677348053, 16263.839134937361, 16718.99065852498, 17391.27089714363, 8034.235272159621, 15874.736983509876, 11966.682000143146, 14721.109590818754, 20605.294719628517, 29341.338916117216, 14984.049703923707, 15540.333796128516, 13457.385243664745, 16616.61673885127, 16603.68866461301, 13696.471831194767, 8118.219245802685, 10309.49176642649, 19144.925149339295, 13621.39717239802, 20314.5609379649, 13132.501824376282, 21179.344216067682, 21161.59516687126, 20325.25393658877, 12451.780271607602, 8787.714994197671, 20788.51214886363, 9337.785069664442, 14235.744043192864, 19181.264755795193, 13975.649601269004, 18495.23947964891, 11304.620957462426, 23651.105382077792, 15201.963362341652, 19220.951002020538, 16528.28551237668, 18804.624714637248, 6514.70591002233, 18644.62517872484, 10973.618847596645, 17519.60423147649, 13541.672961402446, 18888.784108783217, 11888.77253412107, 12214.834552524164, 14603.576374753418, 22038.690493539798, 12913.569253450223, 19671.041888555144, 16928.957548173446, 12322.803619727612, 16740.898243453878, 13300.256197518453, 19696.8336994235, 15047.608232049883, 10808.20124936773, 14740.987430637777, 21523.25119933887, 14883.506727008902, 15649.359792267149, 22240.92982430549, 12263.142743025488, 21258.108409159187, 16695.310964162316, 13220.219751215349, 15788.214252246906, 17567.83428709508, 12537.105651802445, 20723.006921965447, 25138.747933463554, 26864.410058649406, 18457.934674116885, 6492.449600505595, 15774.14125364125, 25179.025985492422, 16338.856190504453, 14052.427089536706, 11224.992531683041, 13248.755447734875, 6361.585608520067, 3937.34449956815]}],\n",
       "                        {\"hovermode\": \"closest\", \"showlegend\": true, \"title\": {\"text\": \"Default signals\"}},\n",
       "                        {\"showLink\": false, \"linkText\": \"Export to plot.ly\", \"plotlyServerURL\": \"https://plot.ly\", \"responsive\": true}\n",
       "                    ).then(function(){\n",
       "                            \n",
       "var gd = document.getElementById('224f75a1-87f9-42a7-8d2f-70371fdc7388');\n",
       "var x = new MutationObserver(function (mutations, observer) {{\n",
       "        var display = window.getComputedStyle(gd).display;\n",
       "        if (!display || display === 'none') {{\n",
       "            console.log([gd, 'removed!']);\n",
       "            Plotly.purge(gd);\n",
       "            observer.disconnect();\n",
       "        }}\n",
       "}});\n",
       "\n",
       "// Listen for the removal of the full notebook cells\n",
       "var notebookContainer = gd.closest('#notebook-container');\n",
       "if (notebookContainer) {{\n",
       "    x.observe(notebookContainer, {childList: true});\n",
       "}}\n",
       "\n",
       "// Listen for the clearing of the current output cell\n",
       "var outputEl = gd.closest('.output');\n",
       "if (outputEl) {{\n",
       "    x.observe(outputEl, {childList: true});\n",
       "}}\n",
       "\n",
       "                        })\n",
       "                };\n",
       "                });\n",
       "            </script>\n",
       "        </div>"
      ]
     },
     "metadata": {},
     "output_type": "display_data"
    }
   ],
   "source": [
    "plotAmounts([sales_w, collections_w], vis_type=\"line\")"
   ]
  },
  {
   "cell_type": "markdown",
   "metadata": {},
   "source": [
    "## All in One function"
   ]
  },
  {
   "cell_type": "code",
   "execution_count": 25,
   "metadata": {},
   "outputs": [],
   "source": [
    "from plotly.offline import download_plotlyjs, init_notebook_mode, plot, iplot\n",
    "legend_postfix = {\"W\": \", weekly\", \"D\": \", daily\", \"M\": \", monthly\"}\n",
    "def constructSignals(df_all, query=[{\"select\": [2], \"_with\": None}, {\"select\": [4], \"_with\": None}], \n",
    "                     on=\"label\", agg_period=\"W\", vis_type=\"line\"):\n",
    "    # Predicted labels\n",
    "    agg_title = \"Aggregated signals\"\n",
    "    sales, collections = filterData_v3(df_all, query=query, on=on)\n",
    "#     plotAmounts([sales, collections], \"Original signals, without aggregation\")\n",
    "    print(\"Started aggregation...\")\n",
    "    sales_w = sales.resample(agg_period).agg({\"amount\": sum})\n",
    "    collections_w = collections.resample(agg_period).apply({\"amount\": sum})\n",
    "#     Add info about aggregation period to legen texts\n",
    "    try:\n",
    "        sales_w.name = sales.name+legend_postfix[agg_period]\n",
    "        collections_w.name = collections.name+legend_postfix[agg_period]\n",
    "        agg_title+=legend_postfix[agg_period]\n",
    "    except KeyError as e:\n",
    "        print(f\"Could not intepret {agg_period} for adding postfix to legend text... Use the default ones..\" )\n",
    "        sales_w.name = sales.name\n",
    "        collections_w.name = collections.name\n",
    "    plotAmounts([sales_w, collections_w], agg_title, vis_type=vis_type)\n",
    "    print([crosscorr(sales.amount.resample(agg_period).sum(), collections.amount.resample(agg_period).sum(), lag) for lag in range(4)])"
   ]
  },
  {
   "cell_type": "code",
   "execution_count": 26,
   "metadata": {
    "scrolled": false
   },
   "outputs": [
    {
     "name": "stdout",
     "output_type": "stream",
     "text": [
      "Started aggregation...\n"
     ]
    },
    {
     "data": {
      "application/vnd.plotly.v1+json": {
       "config": {
        "linkText": "Export to plot.ly",
        "plotlyServerURL": "https://plot.ly",
        "showLink": false
       },
       "data": [
        {
         "name": "['Sales 6 btw', 'Sales 21 btw'], daily",
         "type": "scatter",
         "uid": "5fa87d14-0867-4605-920d-730a05b5fff4",
         "x": [
          "2019-01-01",
          "2019-01-02",
          "2019-01-03",
          "2019-01-04",
          "2019-01-05",
          "2019-01-06",
          "2019-01-07",
          "2019-01-08",
          "2019-01-09",
          "2019-01-10",
          "2019-01-11",
          "2019-01-12",
          "2019-01-13",
          "2019-01-14",
          "2019-01-15",
          "2019-01-16",
          "2019-01-17",
          "2019-01-18",
          "2019-01-19",
          "2019-01-20",
          "2019-01-21",
          "2019-01-22",
          "2019-01-23",
          "2019-01-24",
          "2019-01-25",
          "2019-01-26",
          "2019-01-27",
          "2019-01-28",
          "2019-01-29",
          "2019-01-30",
          "2019-01-31",
          "2019-02-01",
          "2019-02-02",
          "2019-02-03",
          "2019-02-04",
          "2019-02-05",
          "2019-02-06",
          "2019-02-07",
          "2019-02-08",
          "2019-02-09",
          "2019-02-10",
          "2019-02-11",
          "2019-02-12",
          "2019-02-13",
          "2019-02-14",
          "2019-02-15",
          "2019-02-16",
          "2019-02-17",
          "2019-02-18",
          "2019-02-19",
          "2019-02-20",
          "2019-02-21",
          "2019-02-22",
          "2019-02-23",
          "2019-02-24",
          "2019-02-25",
          "2019-02-26",
          "2019-02-27",
          "2019-02-28",
          "2019-03-01",
          "2019-03-02",
          "2019-03-03",
          "2019-03-04",
          "2019-03-05",
          "2019-03-06",
          "2019-03-07",
          "2019-03-08",
          "2019-03-09",
          "2019-03-10",
          "2019-03-11",
          "2019-03-12",
          "2019-03-13",
          "2019-03-14",
          "2019-03-15",
          "2019-03-16",
          "2019-03-17",
          "2019-03-18",
          "2019-03-19",
          "2019-03-20",
          "2019-03-21",
          "2019-03-22",
          "2019-03-23",
          "2019-03-24",
          "2019-03-25",
          "2019-03-26"
         ],
         "y": [
          22877.145226955567,
          33045.99544464281,
          20198.454857196142,
          32655.755960172297,
          32769.11446219435,
          17270.61201542179,
          23468.802767382727,
          35468.50001053705,
          33584.84515041688,
          34813.924000593215,
          20177.335945117018,
          37330.80051558342,
          22359.40482726399,
          27887.110394436044,
          34378.84414199371,
          20816.510709047598,
          23158.568084734845,
          39010.31303517114,
          17288.05325355602,
          16024.287746790194,
          34450.856338219775,
          24228.47211989343,
          16301.43611050354,
          27121.240443858467,
          29918.679575353734,
          23417.50776828925,
          31178.674341118916,
          24356.849145452165,
          25777.059032854904,
          24747.39997579118,
          23504.55059042434,
          26993.447194541342,
          27752.348688610666,
          27869.32382979888,
          42900.198904067045,
          33243.68569996342,
          21408.2806497725,
          28351.146086399433,
          21220.252676534834,
          40734.955919852735,
          25545.126822509956,
          20144.292979334587,
          23797.7362582335,
          27822.089762964864,
          30121.11686444285,
          18067.015198981044,
          22886.41343583285,
          29216.4998268069,
          30499.851867818204,
          30670.11741200468,
          30530.197238268807,
          19820.110273134727,
          25389.553161895594,
          23022.65865625281,
          19026.799736378383,
          16678.121557883172,
          24563.003314659763,
          24068.60252438411,
          22540.67191226581,
          19821.683693427953,
          26832.177333852844,
          27752.388532672896,
          32404.254552557195,
          26178.407069498167,
          18910.328975242734,
          23029.062794035097,
          34642.65439478343,
          23343.89615684398,
          14953.106531814781,
          35211.13128608383,
          12052.139449715536,
          23267.4476576964,
          25672.02729699236,
          37851.2195130298,
          32247.47772616651,
          17074.173913110706,
          19156.894594065077,
          37189.55615338345,
          34790.78213150724,
          18064.328319130538,
          19169.16051999524,
          11415.750771225323,
          19390.26928063456,
          11091.57899786032,
          3937.34449956815
         ]
        },
        {
         "name": "['Collections'], daily",
         "type": "scatter",
         "uid": "98303fc6-cbb6-4287-a0cd-cae61a2a228f",
         "x": [
          "2019-01-01",
          "2019-01-02",
          "2019-01-03",
          "2019-01-04",
          "2019-01-05",
          "2019-01-06",
          "2019-01-07",
          "2019-01-08",
          "2019-01-09",
          "2019-01-10",
          "2019-01-11",
          "2019-01-12",
          "2019-01-13",
          "2019-01-14",
          "2019-01-15",
          "2019-01-16",
          "2019-01-17",
          "2019-01-18",
          "2019-01-19",
          "2019-01-20",
          "2019-01-21",
          "2019-01-22",
          "2019-01-23",
          "2019-01-24",
          "2019-01-25",
          "2019-01-26",
          "2019-01-27",
          "2019-01-28",
          "2019-01-29",
          "2019-01-30",
          "2019-01-31",
          "2019-02-01",
          "2019-02-02",
          "2019-02-03",
          "2019-02-04",
          "2019-02-05",
          "2019-02-06",
          "2019-02-07",
          "2019-02-08",
          "2019-02-09",
          "2019-02-10",
          "2019-02-11",
          "2019-02-12",
          "2019-02-13",
          "2019-02-14",
          "2019-02-15",
          "2019-02-16",
          "2019-02-17",
          "2019-02-18",
          "2019-02-19",
          "2019-02-20",
          "2019-02-21",
          "2019-02-22",
          "2019-02-23",
          "2019-02-24",
          "2019-02-25",
          "2019-02-26",
          "2019-02-27",
          "2019-02-28",
          "2019-03-01",
          "2019-03-02",
          "2019-03-03",
          "2019-03-04",
          "2019-03-05",
          "2019-03-06",
          "2019-03-07",
          "2019-03-08",
          "2019-03-09",
          "2019-03-10",
          "2019-03-11",
          "2019-03-12",
          "2019-03-13",
          "2019-03-14",
          "2019-03-15",
          "2019-03-16",
          "2019-03-17",
          "2019-03-18",
          "2019-03-19",
          "2019-03-20",
          "2019-03-21",
          "2019-03-22",
          "2019-03-23",
          "2019-03-24",
          "2019-03-25",
          "2019-03-26"
         ],
         "y": [
          9230.858319005443,
          17637.457389175437,
          10366.81677348053,
          16263.839134937361,
          16718.99065852498,
          17391.27089714363,
          8034.235272159621,
          15874.736983509876,
          11966.682000143146,
          14721.109590818754,
          20605.294719628517,
          29341.338916117216,
          14984.049703923707,
          15540.333796128516,
          13457.385243664745,
          16616.61673885127,
          16603.68866461301,
          13696.471831194767,
          8118.219245802685,
          10309.49176642649,
          19144.925149339295,
          13621.39717239802,
          20314.5609379649,
          13132.501824376282,
          21179.344216067682,
          21161.59516687126,
          20325.25393658877,
          12451.780271607602,
          8787.714994197671,
          20788.51214886363,
          9337.785069664442,
          14235.744043192864,
          19181.264755795193,
          13975.649601269004,
          18495.23947964891,
          11304.620957462426,
          23651.105382077792,
          15201.963362341652,
          19220.951002020538,
          16528.28551237668,
          18804.624714637248,
          6514.70591002233,
          18644.62517872484,
          10973.618847596645,
          17519.60423147649,
          13541.672961402446,
          18888.784108783217,
          11888.77253412107,
          12214.834552524164,
          14603.576374753418,
          22038.690493539798,
          12913.569253450223,
          19671.041888555144,
          16928.957548173446,
          12322.803619727612,
          16740.898243453878,
          13300.256197518453,
          19696.8336994235,
          15047.608232049883,
          10808.20124936773,
          14740.987430637777,
          21523.25119933887,
          14883.506727008902,
          15649.359792267149,
          22240.92982430549,
          12263.142743025488,
          21258.108409159187,
          16695.310964162316,
          13220.219751215349,
          15788.214252246906,
          17567.83428709508,
          12537.105651802445,
          20723.006921965447,
          25138.747933463554,
          26864.410058649406,
          18457.934674116885,
          6492.449600505595,
          15774.14125364125,
          25179.025985492422,
          16338.856190504453,
          14052.427089536706,
          11224.992531683041,
          13248.755447734875,
          6361.585608520067,
          3937.34449956815
         ]
        }
       ],
       "layout": {
        "hovermode": "closest",
        "showlegend": true,
        "title": {
         "text": "Aggregated signals, daily"
        }
       }
      },
      "text/html": [
       "<div>\n",
       "        \n",
       "        \n",
       "            <div id=\"f5c92cd2-8c9a-4ec4-896f-039bf77a290c\" class=\"plotly-graph-div\" style=\"height:525px; width:100%;\"></div>\n",
       "            <script type=\"text/javascript\">\n",
       "                require([\"plotly\"], function(Plotly) {\n",
       "                    window.PLOTLYENV=window.PLOTLYENV || {};\n",
       "                    window.PLOTLYENV.BASE_URL='https://plot.ly';\n",
       "                    \n",
       "                if (document.getElementById(\"f5c92cd2-8c9a-4ec4-896f-039bf77a290c\")) {\n",
       "                    Plotly.newPlot(\n",
       "                        'f5c92cd2-8c9a-4ec4-896f-039bf77a290c',\n",
       "                        [{\"name\": \"['Sales 6 btw', 'Sales 21 btw'], daily\", \"type\": \"scatter\", \"uid\": \"5fa87d14-0867-4605-920d-730a05b5fff4\", \"x\": [\"2019-01-01\", \"2019-01-02\", \"2019-01-03\", \"2019-01-04\", \"2019-01-05\", \"2019-01-06\", \"2019-01-07\", \"2019-01-08\", \"2019-01-09\", \"2019-01-10\", \"2019-01-11\", \"2019-01-12\", \"2019-01-13\", \"2019-01-14\", \"2019-01-15\", \"2019-01-16\", \"2019-01-17\", \"2019-01-18\", \"2019-01-19\", \"2019-01-20\", \"2019-01-21\", \"2019-01-22\", \"2019-01-23\", \"2019-01-24\", \"2019-01-25\", \"2019-01-26\", \"2019-01-27\", \"2019-01-28\", \"2019-01-29\", \"2019-01-30\", \"2019-01-31\", \"2019-02-01\", \"2019-02-02\", \"2019-02-03\", \"2019-02-04\", \"2019-02-05\", \"2019-02-06\", \"2019-02-07\", \"2019-02-08\", \"2019-02-09\", \"2019-02-10\", \"2019-02-11\", \"2019-02-12\", \"2019-02-13\", \"2019-02-14\", \"2019-02-15\", \"2019-02-16\", \"2019-02-17\", \"2019-02-18\", \"2019-02-19\", \"2019-02-20\", \"2019-02-21\", \"2019-02-22\", \"2019-02-23\", \"2019-02-24\", \"2019-02-25\", \"2019-02-26\", \"2019-02-27\", \"2019-02-28\", \"2019-03-01\", \"2019-03-02\", \"2019-03-03\", \"2019-03-04\", \"2019-03-05\", \"2019-03-06\", \"2019-03-07\", \"2019-03-08\", \"2019-03-09\", \"2019-03-10\", \"2019-03-11\", \"2019-03-12\", \"2019-03-13\", \"2019-03-14\", \"2019-03-15\", \"2019-03-16\", \"2019-03-17\", \"2019-03-18\", \"2019-03-19\", \"2019-03-20\", \"2019-03-21\", \"2019-03-22\", \"2019-03-23\", \"2019-03-24\", \"2019-03-25\", \"2019-03-26\"], \"y\": [22877.145226955567, 33045.99544464281, 20198.454857196142, 32655.755960172297, 32769.11446219435, 17270.61201542179, 23468.802767382727, 35468.50001053705, 33584.84515041688, 34813.924000593215, 20177.335945117018, 37330.80051558342, 22359.40482726399, 27887.110394436044, 34378.84414199371, 20816.510709047598, 23158.568084734845, 39010.31303517114, 17288.05325355602, 16024.287746790194, 34450.856338219775, 24228.47211989343, 16301.43611050354, 27121.240443858467, 29918.679575353734, 23417.50776828925, 31178.674341118916, 24356.849145452165, 25777.059032854904, 24747.39997579118, 23504.55059042434, 26993.447194541342, 27752.348688610666, 27869.32382979888, 42900.198904067045, 33243.68569996342, 21408.2806497725, 28351.146086399433, 21220.252676534834, 40734.955919852735, 25545.126822509956, 20144.292979334587, 23797.7362582335, 27822.089762964864, 30121.11686444285, 18067.015198981044, 22886.41343583285, 29216.4998268069, 30499.851867818204, 30670.11741200468, 30530.197238268807, 19820.110273134727, 25389.553161895594, 23022.65865625281, 19026.799736378383, 16678.121557883172, 24563.003314659763, 24068.60252438411, 22540.67191226581, 19821.683693427953, 26832.177333852844, 27752.388532672896, 32404.254552557195, 26178.407069498167, 18910.328975242734, 23029.062794035097, 34642.65439478343, 23343.89615684398, 14953.106531814781, 35211.13128608383, 12052.139449715536, 23267.4476576964, 25672.02729699236, 37851.2195130298, 32247.47772616651, 17074.173913110706, 19156.894594065077, 37189.55615338345, 34790.78213150724, 18064.328319130538, 19169.16051999524, 11415.750771225323, 19390.26928063456, 11091.57899786032, 3937.34449956815]}, {\"name\": \"['Collections'], daily\", \"type\": \"scatter\", \"uid\": \"98303fc6-cbb6-4287-a0cd-cae61a2a228f\", \"x\": [\"2019-01-01\", \"2019-01-02\", \"2019-01-03\", \"2019-01-04\", \"2019-01-05\", \"2019-01-06\", \"2019-01-07\", \"2019-01-08\", \"2019-01-09\", \"2019-01-10\", \"2019-01-11\", \"2019-01-12\", \"2019-01-13\", \"2019-01-14\", \"2019-01-15\", \"2019-01-16\", \"2019-01-17\", \"2019-01-18\", \"2019-01-19\", \"2019-01-20\", \"2019-01-21\", \"2019-01-22\", \"2019-01-23\", \"2019-01-24\", \"2019-01-25\", \"2019-01-26\", \"2019-01-27\", \"2019-01-28\", \"2019-01-29\", \"2019-01-30\", \"2019-01-31\", \"2019-02-01\", \"2019-02-02\", \"2019-02-03\", \"2019-02-04\", \"2019-02-05\", \"2019-02-06\", \"2019-02-07\", \"2019-02-08\", \"2019-02-09\", \"2019-02-10\", \"2019-02-11\", \"2019-02-12\", \"2019-02-13\", \"2019-02-14\", \"2019-02-15\", \"2019-02-16\", \"2019-02-17\", \"2019-02-18\", \"2019-02-19\", \"2019-02-20\", \"2019-02-21\", \"2019-02-22\", \"2019-02-23\", \"2019-02-24\", \"2019-02-25\", \"2019-02-26\", \"2019-02-27\", \"2019-02-28\", \"2019-03-01\", \"2019-03-02\", \"2019-03-03\", \"2019-03-04\", \"2019-03-05\", \"2019-03-06\", \"2019-03-07\", \"2019-03-08\", \"2019-03-09\", \"2019-03-10\", \"2019-03-11\", \"2019-03-12\", \"2019-03-13\", \"2019-03-14\", \"2019-03-15\", \"2019-03-16\", \"2019-03-17\", \"2019-03-18\", \"2019-03-19\", \"2019-03-20\", \"2019-03-21\", \"2019-03-22\", \"2019-03-23\", \"2019-03-24\", \"2019-03-25\", \"2019-03-26\"], \"y\": [9230.858319005443, 17637.457389175437, 10366.81677348053, 16263.839134937361, 16718.99065852498, 17391.27089714363, 8034.235272159621, 15874.736983509876, 11966.682000143146, 14721.109590818754, 20605.294719628517, 29341.338916117216, 14984.049703923707, 15540.333796128516, 13457.385243664745, 16616.61673885127, 16603.68866461301, 13696.471831194767, 8118.219245802685, 10309.49176642649, 19144.925149339295, 13621.39717239802, 20314.5609379649, 13132.501824376282, 21179.344216067682, 21161.59516687126, 20325.25393658877, 12451.780271607602, 8787.714994197671, 20788.51214886363, 9337.785069664442, 14235.744043192864, 19181.264755795193, 13975.649601269004, 18495.23947964891, 11304.620957462426, 23651.105382077792, 15201.963362341652, 19220.951002020538, 16528.28551237668, 18804.624714637248, 6514.70591002233, 18644.62517872484, 10973.618847596645, 17519.60423147649, 13541.672961402446, 18888.784108783217, 11888.77253412107, 12214.834552524164, 14603.576374753418, 22038.690493539798, 12913.569253450223, 19671.041888555144, 16928.957548173446, 12322.803619727612, 16740.898243453878, 13300.256197518453, 19696.8336994235, 15047.608232049883, 10808.20124936773, 14740.987430637777, 21523.25119933887, 14883.506727008902, 15649.359792267149, 22240.92982430549, 12263.142743025488, 21258.108409159187, 16695.310964162316, 13220.219751215349, 15788.214252246906, 17567.83428709508, 12537.105651802445, 20723.006921965447, 25138.747933463554, 26864.410058649406, 18457.934674116885, 6492.449600505595, 15774.14125364125, 25179.025985492422, 16338.856190504453, 14052.427089536706, 11224.992531683041, 13248.755447734875, 6361.585608520067, 3937.34449956815]}],\n",
       "                        {\"hovermode\": \"closest\", \"showlegend\": true, \"title\": {\"text\": \"Aggregated signals, daily\"}},\n",
       "                        {\"showLink\": false, \"linkText\": \"Export to plot.ly\", \"plotlyServerURL\": \"https://plot.ly\", \"responsive\": true}\n",
       "                    ).then(function(){\n",
       "                            \n",
       "var gd = document.getElementById('f5c92cd2-8c9a-4ec4-896f-039bf77a290c');\n",
       "var x = new MutationObserver(function (mutations, observer) {{\n",
       "        var display = window.getComputedStyle(gd).display;\n",
       "        if (!display || display === 'none') {{\n",
       "            console.log([gd, 'removed!']);\n",
       "            Plotly.purge(gd);\n",
       "            observer.disconnect();\n",
       "        }}\n",
       "}});\n",
       "\n",
       "// Listen for the removal of the full notebook cells\n",
       "var notebookContainer = gd.closest('#notebook-container');\n",
       "if (notebookContainer) {{\n",
       "    x.observe(notebookContainer, {childList: true});\n",
       "}}\n",
       "\n",
       "// Listen for the clearing of the current output cell\n",
       "var outputEl = gd.closest('.output');\n",
       "if (outputEl) {{\n",
       "    x.observe(outputEl, {childList: true});\n",
       "}}\n",
       "\n",
       "                        })\n",
       "                };\n",
       "                });\n",
       "            </script>\n",
       "        </div>"
      ]
     },
     "metadata": {},
     "output_type": "display_data"
    },
    {
     "name": "stdout",
     "output_type": "stream",
     "text": [
      "[0.39022464045334837, 0.23658973916945286, 0.031109297135739417, 0.06962121281838715]\n"
     ]
    }
   ],
   "source": [
    "constructSignals(df_all, query=[{\"select\": [\"Sales 6 btw\", \"Sales 21 btw\"], \n",
    "                              \"_with\": None}, \n",
    "                                {\"select\": [\"Collections\"], \"_with\": None}], on=\"GroundTruth\", agg_period=\"D\", vis_type=\"line\")"
   ]
  },
  {
   "cell_type": "markdown",
   "metadata": {},
   "source": [
    "## Tax vs. Revenue based on the Sales , GroundTruth"
   ]
  },
  {
   "cell_type": "code",
   "execution_count": 27,
   "metadata": {
    "scrolled": false
   },
   "outputs": [
    {
     "name": "stdout",
     "output_type": "stream",
     "text": [
      "Started aggregation...\n"
     ]
    },
    {
     "data": {
      "application/vnd.plotly.v1+json": {
       "config": {
        "linkText": "Export to plot.ly",
        "plotlyServerURL": "https://plot.ly",
        "showLink": false
       },
       "data": [
        {
         "name": "['Sales 21 btw']_Revenue, daily",
         "type": "scatter",
         "uid": "f65d433d-d9e3-43d8-b9ef-5b85fad436e8",
         "x": [
          "2019-01-01",
          "2019-01-02",
          "2019-01-03",
          "2019-01-04",
          "2019-01-05",
          "2019-01-06",
          "2019-01-07",
          "2019-01-08",
          "2019-01-09",
          "2019-01-10",
          "2019-01-11",
          "2019-01-12",
          "2019-01-13",
          "2019-01-14",
          "2019-01-15",
          "2019-01-16",
          "2019-01-17",
          "2019-01-18",
          "2019-01-19",
          "2019-01-20",
          "2019-01-21",
          "2019-01-22",
          "2019-01-23",
          "2019-01-24",
          "2019-01-25",
          "2019-01-26",
          "2019-01-27",
          "2019-01-28",
          "2019-01-29",
          "2019-01-30",
          "2019-01-31",
          "2019-02-01",
          "2019-02-02",
          "2019-02-03",
          "2019-02-04",
          "2019-02-05",
          "2019-02-06",
          "2019-02-07",
          "2019-02-08",
          "2019-02-09",
          "2019-02-10",
          "2019-02-11",
          "2019-02-12",
          "2019-02-13",
          "2019-02-14",
          "2019-02-15",
          "2019-02-16",
          "2019-02-17",
          "2019-02-18",
          "2019-02-19",
          "2019-02-20",
          "2019-02-21",
          "2019-02-22",
          "2019-02-23",
          "2019-02-24",
          "2019-02-25",
          "2019-02-26",
          "2019-02-27",
          "2019-02-28",
          "2019-03-01",
          "2019-03-02",
          "2019-03-03",
          "2019-03-04",
          "2019-03-05",
          "2019-03-06",
          "2019-03-07",
          "2019-03-08",
          "2019-03-09",
          "2019-03-10",
          "2019-03-11",
          "2019-03-12",
          "2019-03-13",
          "2019-03-14",
          "2019-03-15",
          "2019-03-16",
          "2019-03-17",
          "2019-03-18",
          "2019-03-19",
          "2019-03-20",
          "2019-03-21",
          "2019-03-22",
          "2019-03-23",
          "2019-03-24",
          "2019-03-25",
          "2019-03-26"
         ],
         "y": [
          5399,
          5912,
          5058,
          9357,
          10341,
          2781,
          4876,
          6500,
          7090,
          8582,
          5938,
          6832,
          5702,
          8034,
          8311,
          4244,
          6240,
          4931,
          3998,
          3580,
          4978,
          5440,
          4439,
          3811,
          7306,
          3579,
          7709,
          6157,
          7541,
          6662,
          5023,
          4725,
          5525,
          5056,
          11335,
          6436,
          2683,
          7184,
          2638,
          9168,
          4817,
          5149,
          4126,
          7379,
          7092,
          2169,
          5386,
          9681,
          5509,
          7061,
          7263,
          4720,
          7542,
          5139,
          5230,
          3723,
          6649,
          6037,
          3187,
          4682,
          6222,
          7942,
          7112,
          5579,
          3415,
          5543,
          9812,
          4284,
          1743,
          9048,
          2186,
          4770,
          5177,
          7541,
          7560,
          2734,
          3515,
          8835,
          8193,
          2971,
          5874,
          4673,
          7955,
          4567,
          1627
         ]
        },
        {
         "name": "['Sales 21 btw']_Tax, daily",
         "type": "scatter",
         "uid": "3d80c823-9645-4ce7-b95b-5d13e0b08d5a",
         "x": [
          "2019-01-01",
          "2019-01-02",
          "2019-01-03",
          "2019-01-04",
          "2019-01-05",
          "2019-01-06",
          "2019-01-07",
          "2019-01-08",
          "2019-01-09",
          "2019-01-10",
          "2019-01-11",
          "2019-01-12",
          "2019-01-13",
          "2019-01-14",
          "2019-01-15",
          "2019-01-16",
          "2019-01-17",
          "2019-01-18",
          "2019-01-19",
          "2019-01-20",
          "2019-01-21",
          "2019-01-22",
          "2019-01-23",
          "2019-01-24",
          "2019-01-25",
          "2019-01-26",
          "2019-01-27",
          "2019-01-28",
          "2019-01-29",
          "2019-01-30",
          "2019-01-31",
          "2019-02-01",
          "2019-02-02",
          "2019-02-03",
          "2019-02-04",
          "2019-02-05",
          "2019-02-06",
          "2019-02-07",
          "2019-02-08",
          "2019-02-09",
          "2019-02-10",
          "2019-02-11",
          "2019-02-12",
          "2019-02-13",
          "2019-02-14",
          "2019-02-15",
          "2019-02-16",
          "2019-02-17",
          "2019-02-18",
          "2019-02-19",
          "2019-02-20",
          "2019-02-21",
          "2019-02-22",
          "2019-02-23",
          "2019-02-24",
          "2019-02-25",
          "2019-02-26",
          "2019-02-27",
          "2019-02-28",
          "2019-03-01",
          "2019-03-02",
          "2019-03-03",
          "2019-03-04",
          "2019-03-05",
          "2019-03-06",
          "2019-03-07",
          "2019-03-08",
          "2019-03-09",
          "2019-03-10",
          "2019-03-11",
          "2019-03-12",
          "2019-03-13",
          "2019-03-14",
          "2019-03-15",
          "2019-03-16",
          "2019-03-17",
          "2019-03-18",
          "2019-03-19",
          "2019-03-20",
          "2019-03-21",
          "2019-03-22",
          "2019-03-23",
          "2019-03-24",
          "2019-03-25",
          "2019-03-26"
         ],
         "y": [
          1135.2557772563296,
          1238.1064157492933,
          1060.3233837000807,
          1963.040260523314,
          2175.2941165954226,
          582.7232880148833,
          1022.0994227838407,
          1370.9412136139053,
          1488.2939072461088,
          1801.5411444131644,
          1248.9271582671158,
          1436.4972230014603,
          1197.9997534822667,
          1688.590671326621,
          1741.1095998205797,
          889.2514089490438,
          1314.0178119558166,
          1036.954164034295,
          841.0206847757122,
          752.0825807447904,
          1048.9163996029392,
          1142.4302213580806,
          935.3770233938129,
          801.2357052112476,
          1535.5340583786908,
          751.0778448110013,
          1612.7030681792219,
          1293.3753579496272,
          1578.4993049539405,
          1393.4477264035727,
          1056.7482474230328,
          991.6984294318754,
          1159.1288491232856,
          1061.9314418562699,
          2377.4093674848973,
          1356.1407911496938,
          562.8423242275687,
          1507.1529578145785,
          552.7910862424703,
          1926.7776013431364,
          1011.2099862537108,
          1083.829329615653,
          867.081927752257,
          1551.8250442977417,
          1490.5860715788347,
          455.7736936786379,
          1128.5317238453483,
          2037.0439238549088,
          1154.611153612664,
          1482.0653042676645,
          1526.1693568183473,
          995.7841376671981,
          1585.8912832087385,
          1080.0805790629706,
          1094.970866062641,
          779.8637395247102,
          1400.4207907772839,
          1268.6431426144268,
          667.2981929408589,
          983.6906389584829,
          1308.8220731219196,
          1673.503177179246,
          1493.637845275554,
          1171.3589246480697,
          719.6664613462642,
          1167.5931554993235,
          2059.394307119156,
          898.7367207658575,
          365.63027300566694,
          1900.1286601048002,
          458.33982785179455,
          1002.2347986855066,
          1085.0578986834998,
          1583.2340579839279,
          1589.2439670942438,
          574.1936271333616,
          741.5667763266237,
          1856.008122240225,
          1722.2610854725785,
          622.9641301121353,
          1233.7574927166768,
          981.18806992174,
          1672.0696453019555,
          957.0359229825375,
          341.6722497840746
         ]
        }
       ],
       "layout": {
        "hovermode": "closest",
        "showlegend": true,
        "title": {
         "text": "Aggregated signals, daily"
        }
       }
      },
      "text/html": [
       "<div>\n",
       "        \n",
       "        \n",
       "            <div id=\"bf64a837-3646-4eae-a9aa-d5b514832fec\" class=\"plotly-graph-div\" style=\"height:525px; width:100%;\"></div>\n",
       "            <script type=\"text/javascript\">\n",
       "                require([\"plotly\"], function(Plotly) {\n",
       "                    window.PLOTLYENV=window.PLOTLYENV || {};\n",
       "                    window.PLOTLYENV.BASE_URL='https://plot.ly';\n",
       "                    \n",
       "                if (document.getElementById(\"bf64a837-3646-4eae-a9aa-d5b514832fec\")) {\n",
       "                    Plotly.newPlot(\n",
       "                        'bf64a837-3646-4eae-a9aa-d5b514832fec',\n",
       "                        [{\"name\": \"['Sales 21 btw']_Revenue, daily\", \"type\": \"scatter\", \"uid\": \"f65d433d-d9e3-43d8-b9ef-5b85fad436e8\", \"x\": [\"2019-01-01\", \"2019-01-02\", \"2019-01-03\", \"2019-01-04\", \"2019-01-05\", \"2019-01-06\", \"2019-01-07\", \"2019-01-08\", \"2019-01-09\", \"2019-01-10\", \"2019-01-11\", \"2019-01-12\", \"2019-01-13\", \"2019-01-14\", \"2019-01-15\", \"2019-01-16\", \"2019-01-17\", \"2019-01-18\", \"2019-01-19\", \"2019-01-20\", \"2019-01-21\", \"2019-01-22\", \"2019-01-23\", \"2019-01-24\", \"2019-01-25\", \"2019-01-26\", \"2019-01-27\", \"2019-01-28\", \"2019-01-29\", \"2019-01-30\", \"2019-01-31\", \"2019-02-01\", \"2019-02-02\", \"2019-02-03\", \"2019-02-04\", \"2019-02-05\", \"2019-02-06\", \"2019-02-07\", \"2019-02-08\", \"2019-02-09\", \"2019-02-10\", \"2019-02-11\", \"2019-02-12\", \"2019-02-13\", \"2019-02-14\", \"2019-02-15\", \"2019-02-16\", \"2019-02-17\", \"2019-02-18\", \"2019-02-19\", \"2019-02-20\", \"2019-02-21\", \"2019-02-22\", \"2019-02-23\", \"2019-02-24\", \"2019-02-25\", \"2019-02-26\", \"2019-02-27\", \"2019-02-28\", \"2019-03-01\", \"2019-03-02\", \"2019-03-03\", \"2019-03-04\", \"2019-03-05\", \"2019-03-06\", \"2019-03-07\", \"2019-03-08\", \"2019-03-09\", \"2019-03-10\", \"2019-03-11\", \"2019-03-12\", \"2019-03-13\", \"2019-03-14\", \"2019-03-15\", \"2019-03-16\", \"2019-03-17\", \"2019-03-18\", \"2019-03-19\", \"2019-03-20\", \"2019-03-21\", \"2019-03-22\", \"2019-03-23\", \"2019-03-24\", \"2019-03-25\", \"2019-03-26\"], \"y\": [5399.0, 5912.0, 5058.0, 9357.0, 10341.0, 2781.0, 4876.0, 6500.0, 7090.0, 8582.0, 5938.0, 6832.0, 5702.0, 8034.0, 8311.0, 4244.0, 6240.0, 4931.0, 3998.0, 3580.0, 4978.0, 5440.0, 4439.0, 3811.0, 7306.0, 3579.0, 7709.0, 6157.0, 7541.0, 6662.0, 5023.0, 4725.0, 5525.0, 5056.0, 11335.0, 6436.0, 2683.0, 7184.0, 2638.0, 9168.0, 4817.0, 5149.0, 4126.0, 7379.0, 7092.0, 2169.0, 5386.0, 9681.0, 5509.0, 7061.0, 7263.0, 4720.0, 7542.0, 5139.0, 5230.0, 3723.0, 6649.0, 6037.0, 3187.0, 4682.0, 6222.0, 7942.0, 7112.0, 5579.0, 3415.0, 5543.0, 9812.0, 4284.0, 1743.0, 9048.0, 2186.0, 4770.0, 5177.0, 7541.0, 7560.0, 2734.0, 3515.0, 8835.0, 8193.0, 2971.0, 5874.0, 4673.0, 7955.0, 4567.0, 1627.0]}, {\"name\": \"['Sales 21 btw']_Tax, daily\", \"type\": \"scatter\", \"uid\": \"3d80c823-9645-4ce7-b95b-5d13e0b08d5a\", \"x\": [\"2019-01-01\", \"2019-01-02\", \"2019-01-03\", \"2019-01-04\", \"2019-01-05\", \"2019-01-06\", \"2019-01-07\", \"2019-01-08\", \"2019-01-09\", \"2019-01-10\", \"2019-01-11\", \"2019-01-12\", \"2019-01-13\", \"2019-01-14\", \"2019-01-15\", \"2019-01-16\", \"2019-01-17\", \"2019-01-18\", \"2019-01-19\", \"2019-01-20\", \"2019-01-21\", \"2019-01-22\", \"2019-01-23\", \"2019-01-24\", \"2019-01-25\", \"2019-01-26\", \"2019-01-27\", \"2019-01-28\", \"2019-01-29\", \"2019-01-30\", \"2019-01-31\", \"2019-02-01\", \"2019-02-02\", \"2019-02-03\", \"2019-02-04\", \"2019-02-05\", \"2019-02-06\", \"2019-02-07\", \"2019-02-08\", \"2019-02-09\", \"2019-02-10\", \"2019-02-11\", \"2019-02-12\", \"2019-02-13\", \"2019-02-14\", \"2019-02-15\", \"2019-02-16\", \"2019-02-17\", \"2019-02-18\", \"2019-02-19\", \"2019-02-20\", \"2019-02-21\", \"2019-02-22\", \"2019-02-23\", \"2019-02-24\", \"2019-02-25\", \"2019-02-26\", \"2019-02-27\", \"2019-02-28\", \"2019-03-01\", \"2019-03-02\", \"2019-03-03\", \"2019-03-04\", \"2019-03-05\", \"2019-03-06\", \"2019-03-07\", \"2019-03-08\", \"2019-03-09\", \"2019-03-10\", \"2019-03-11\", \"2019-03-12\", \"2019-03-13\", \"2019-03-14\", \"2019-03-15\", \"2019-03-16\", \"2019-03-17\", \"2019-03-18\", \"2019-03-19\", \"2019-03-20\", \"2019-03-21\", \"2019-03-22\", \"2019-03-23\", \"2019-03-24\", \"2019-03-25\", \"2019-03-26\"], \"y\": [1135.2557772563296, 1238.1064157492933, 1060.3233837000807, 1963.040260523314, 2175.2941165954226, 582.7232880148833, 1022.0994227838407, 1370.9412136139053, 1488.2939072461088, 1801.5411444131644, 1248.9271582671158, 1436.4972230014603, 1197.9997534822667, 1688.590671326621, 1741.1095998205797, 889.2514089490438, 1314.0178119558166, 1036.954164034295, 841.0206847757122, 752.0825807447904, 1048.9163996029392, 1142.4302213580806, 935.3770233938129, 801.2357052112476, 1535.5340583786908, 751.0778448110013, 1612.7030681792219, 1293.3753579496272, 1578.4993049539405, 1393.4477264035727, 1056.7482474230328, 991.6984294318754, 1159.1288491232856, 1061.9314418562699, 2377.4093674848973, 1356.1407911496938, 562.8423242275687, 1507.1529578145785, 552.7910862424703, 1926.7776013431364, 1011.2099862537108, 1083.829329615653, 867.081927752257, 1551.8250442977417, 1490.5860715788347, 455.7736936786379, 1128.5317238453483, 2037.0439238549088, 1154.611153612664, 1482.0653042676645, 1526.1693568183473, 995.7841376671981, 1585.8912832087385, 1080.0805790629706, 1094.970866062641, 779.8637395247102, 1400.4207907772839, 1268.6431426144268, 667.2981929408589, 983.6906389584829, 1308.8220731219196, 1673.503177179246, 1493.637845275554, 1171.3589246480697, 719.6664613462642, 1167.5931554993235, 2059.394307119156, 898.7367207658575, 365.63027300566694, 1900.1286601048002, 458.33982785179455, 1002.2347986855066, 1085.0578986834998, 1583.2340579839279, 1589.2439670942438, 574.1936271333616, 741.5667763266237, 1856.008122240225, 1722.2610854725785, 622.9641301121353, 1233.7574927166768, 981.18806992174, 1672.0696453019555, 957.0359229825375, 341.6722497840746]}],\n",
       "                        {\"hovermode\": \"closest\", \"showlegend\": true, \"title\": {\"text\": \"Aggregated signals, daily\"}},\n",
       "                        {\"showLink\": false, \"linkText\": \"Export to plot.ly\", \"plotlyServerURL\": \"https://plot.ly\", \"responsive\": true}\n",
       "                    ).then(function(){\n",
       "                            \n",
       "var gd = document.getElementById('bf64a837-3646-4eae-a9aa-d5b514832fec');\n",
       "var x = new MutationObserver(function (mutations, observer) {{\n",
       "        var display = window.getComputedStyle(gd).display;\n",
       "        if (!display || display === 'none') {{\n",
       "            console.log([gd, 'removed!']);\n",
       "            Plotly.purge(gd);\n",
       "            observer.disconnect();\n",
       "        }}\n",
       "}});\n",
       "\n",
       "// Listen for the removal of the full notebook cells\n",
       "var notebookContainer = gd.closest('#notebook-container');\n",
       "if (notebookContainer) {{\n",
       "    x.observe(notebookContainer, {childList: true});\n",
       "}}\n",
       "\n",
       "// Listen for the clearing of the current output cell\n",
       "var outputEl = gd.closest('.output');\n",
       "if (outputEl) {{\n",
       "    x.observe(outputEl, {childList: true});\n",
       "}}\n",
       "\n",
       "                        })\n",
       "                };\n",
       "                });\n",
       "            </script>\n",
       "        </div>"
      ]
     },
     "metadata": {},
     "output_type": "display_data"
    },
    {
     "name": "stdout",
     "output_type": "stream",
     "text": [
      "[0.999985338069011, -0.11383366704061187, -0.24636933332999564, 0.01741564649699069]\n"
     ]
    }
   ],
   "source": [
    "constructSignals(df_all, query=[{\"select\": [\"Sales 21 btw\"], \n",
    "                              \"_with\": {\"FA_Name\": \"Revenue\"}}, \n",
    "                                {\"select\": [\"Sales 21 btw\"], \"_with\": {\"FA_Name\": \"Tax\"}}], on=\"GroundTruth\", agg_period=\"D\", vis_type=\"line\")"
   ]
  },
  {
   "cell_type": "markdown",
   "metadata": {},
   "source": [
    "## Tax vs. Revenue based on the Sales *as-expert*-cluster"
   ]
  },
  {
   "cell_type": "code",
   "execution_count": 28,
   "metadata": {},
   "outputs": [],
   "source": [
    "def check_is_sale(df):\n",
    "    return pd.Series({\"ID\": df.ID.values[0], \"is_Sale\": (\"Revenue\" in df[df[\"from\"]==True].FA_Name.unique()) and (\"TradeReceivables\" in df[df[\"from\"]==False].FA_Name.unique())})\n",
    "expert_sales = df_all.reset_index()\\\n",
    "        .merge(df_all.groupby(\"ID\", as_index=False).apply(check_is_sale), on=\"ID\", left_index=True)\\\n",
    "        .set_index(\"Time\", drop=True)"
   ]
  },
  {
   "cell_type": "code",
   "execution_count": 29,
   "metadata": {
    "scrolled": false
   },
   "outputs": [
    {
     "name": "stdout",
     "output_type": "stream",
     "text": [
      "Started aggregation...\n"
     ]
    },
    {
     "data": {
      "application/vnd.plotly.v1+json": {
       "config": {
        "linkText": "Export to plot.ly",
        "plotlyServerURL": "https://plot.ly",
        "showLink": false
       },
       "data": [
        {
         "name": "[True]_Revenue, daily",
         "type": "scatter",
         "uid": "7a7f776f-1489-4001-94c3-3cd6e34fa1f7",
         "x": [
          "2019-01-01",
          "2019-01-02",
          "2019-01-03",
          "2019-01-04",
          "2019-01-05",
          "2019-01-06",
          "2019-01-07",
          "2019-01-08",
          "2019-01-09",
          "2019-01-10",
          "2019-01-11",
          "2019-01-12",
          "2019-01-13",
          "2019-01-14",
          "2019-01-15",
          "2019-01-16",
          "2019-01-17",
          "2019-01-18",
          "2019-01-19",
          "2019-01-20",
          "2019-01-21",
          "2019-01-22",
          "2019-01-23",
          "2019-01-24",
          "2019-01-25",
          "2019-01-26",
          "2019-01-27",
          "2019-01-28",
          "2019-01-29",
          "2019-01-30",
          "2019-01-31",
          "2019-02-01",
          "2019-02-02",
          "2019-02-03",
          "2019-02-04",
          "2019-02-05",
          "2019-02-06",
          "2019-02-07",
          "2019-02-08",
          "2019-02-09",
          "2019-02-10",
          "2019-02-11",
          "2019-02-12",
          "2019-02-13",
          "2019-02-14",
          "2019-02-15",
          "2019-02-16",
          "2019-02-17",
          "2019-02-18",
          "2019-02-19",
          "2019-02-20",
          "2019-02-21",
          "2019-02-22",
          "2019-02-23",
          "2019-02-24",
          "2019-02-25",
          "2019-02-26",
          "2019-02-27",
          "2019-02-28",
          "2019-03-01",
          "2019-03-02",
          "2019-03-03",
          "2019-03-04",
          "2019-03-05",
          "2019-03-06",
          "2019-03-07",
          "2019-03-08",
          "2019-03-09",
          "2019-03-10",
          "2019-03-11",
          "2019-03-12",
          "2019-03-13",
          "2019-03-14",
          "2019-03-15",
          "2019-03-16",
          "2019-03-17",
          "2019-03-18",
          "2019-03-19",
          "2019-03-20",
          "2019-03-21",
          "2019-03-22",
          "2019-03-23",
          "2019-03-24",
          "2019-03-25",
          "2019-03-26"
         ],
         "y": [
          9958,
          14664,
          8768,
          14026,
          13896,
          7698,
          10321,
          15722,
          14748,
          15113,
          8604,
          16514,
          9687,
          11932,
          14930,
          9158,
          9965,
          17593,
          7530,
          7026,
          15476,
          10598,
          7036,
          12153,
          13008,
          10470,
          13541,
          10537,
          11028,
          10667,
          10330,
          11991,
          12268,
          12372,
          18527,
          14700,
          9662,
          12291,
          9580,
          17805,
          11261,
          8713,
          10534,
          12015,
          13105,
          8152,
          9977,
          12312,
          13516,
          13387,
          13297,
          8626,
          10870,
          10082,
          8189,
          7276,
          10575,
          10436,
          10100,
          8646,
          11743,
          11875,
          14196,
          11475,
          8389,
          10005,
          14856,
          10351,
          6770,
          15218,
          5331,
          10233,
          11312,
          16683,
          14074,
          7600,
          8491,
          16205,
          15164,
          8050,
          8169,
          4673,
          7955,
          4567,
          1627
         ]
        },
        {
         "name": "[True]_Tax, daily",
         "type": "scatter",
         "uid": "4eb50f1a-4e20-44c4-b14a-0df33c21d485",
         "x": [
          "2019-01-01",
          "2019-01-02",
          "2019-01-03",
          "2019-01-04",
          "2019-01-05",
          "2019-01-06",
          "2019-01-07",
          "2019-01-08",
          "2019-01-09",
          "2019-01-10",
          "2019-01-11",
          "2019-01-12",
          "2019-01-13",
          "2019-01-14",
          "2019-01-15",
          "2019-01-16",
          "2019-01-17",
          "2019-01-18",
          "2019-01-19",
          "2019-01-20",
          "2019-01-21",
          "2019-01-22",
          "2019-01-23",
          "2019-01-24",
          "2019-01-25",
          "2019-01-26",
          "2019-01-27",
          "2019-01-28",
          "2019-01-29",
          "2019-01-30",
          "2019-01-31",
          "2019-02-01",
          "2019-02-02",
          "2019-02-03",
          "2019-02-04",
          "2019-02-05",
          "2019-02-06",
          "2019-02-07",
          "2019-02-08",
          "2019-02-09",
          "2019-02-10",
          "2019-02-11",
          "2019-02-12",
          "2019-02-13",
          "2019-02-14",
          "2019-02-15",
          "2019-02-16",
          "2019-02-17",
          "2019-02-18",
          "2019-02-19",
          "2019-02-20",
          "2019-02-21",
          "2019-02-22",
          "2019-02-23",
          "2019-02-24",
          "2019-02-25",
          "2019-02-26",
          "2019-02-27",
          "2019-02-28",
          "2019-03-01",
          "2019-03-02",
          "2019-03-03",
          "2019-03-04",
          "2019-03-05",
          "2019-03-06",
          "2019-03-07",
          "2019-03-08",
          "2019-03-09",
          "2019-03-10",
          "2019-03-11",
          "2019-03-12",
          "2019-03-13",
          "2019-03-14",
          "2019-03-15",
          "2019-03-16",
          "2019-03-17",
          "2019-03-18",
          "2019-03-19",
          "2019-03-20",
          "2019-03-21",
          "2019-03-22",
          "2019-03-23",
          "2019-03-24",
          "2019-03-25",
          "2019-03-26"
         ],
         "y": [
          1408.7338237634956,
          1762.7248895590535,
          1282.2313385282218,
          2243.655302539733,
          2388.2652637599417,
          878.4765738952292,
          1348.7462835353033,
          1922.5298556878606,
          1948.2602681751714,
          2193.3198960698596,
          1409.101903393507,
          2018.5915355996433,
          1438.1766697500557,
          1922.2017868230614,
          2136.288901427601,
          1183.385143700274,
          1537.719485877772,
          1797.553921171253,
          1053.6227982375553,
          957.7908429948257,
          1677.6777020633729,
          1452.5788739320128,
          1091.2737233455368,
          1301.5753655029127,
          1877.7133900738738,
          1164.8975755708718,
          1962.4169607472606,
          1555.9302808808684,
          1787.7047004387641,
          1632.944159765901,
          1375.2099825630658,
          1427.4005870199567,
          1564.185842076,
          1500.7265756621564,
          2809.470695725031,
          1851.5312554614043,
          982.1677959723919,
          1814.4676577891466,
          967.1489390835392,
          2445.0506155560197,
          1399.8396916108356,
          1298.4949485179827,
          1250.5444167457026,
          1830.1396690961933,
          1850.8496661147822,
          814.1522521190133,
          1404.4740962888102,
          2195.0744651593027,
          1635.128146737766,
          1862.3972724272526,
          1888.2225148001298,
          1230.037311161588,
          1786.5712171614614,
          1376.62337538558,
          1272.3252071014938,
          993.3164243756953,
          1636.8607874714205,
          1532.6064112824822,
          1082.8454596758681,
          1220.608759477319,
          1640.8608853941846,
          1909.4673132985208,
          1917.5570424307953,
          1525.3082066077225,
          1017.6014591751914,
          1435.3541419052483,
          2362.9818452801233,
          1262.9738915709816,
          667.702896303722,
          2271.00426878709,
          646.473190135273,
          1329.502784286703,
          1452.371627167188,
          2131.7117019100183,
          1980.3230124399977,
          865.7578646483094,
          1040.6881510606374,
          2299.107115637001,
          2139.9634388241684,
          927.213921927161,
          1371.2883639356492,
          981.18806992174,
          1672.0696453019555,
          957.0359229825375,
          341.6722497840746
         ]
        }
       ],
       "layout": {
        "hovermode": "closest",
        "showlegend": true,
        "title": {
         "text": "Aggregated signals, daily"
        }
       }
      },
      "text/html": [
       "<div>\n",
       "        \n",
       "        \n",
       "            <div id=\"5ac5681c-98e6-49c0-a6a7-698f239b422f\" class=\"plotly-graph-div\" style=\"height:525px; width:100%;\"></div>\n",
       "            <script type=\"text/javascript\">\n",
       "                require([\"plotly\"], function(Plotly) {\n",
       "                    window.PLOTLYENV=window.PLOTLYENV || {};\n",
       "                    window.PLOTLYENV.BASE_URL='https://plot.ly';\n",
       "                    \n",
       "                if (document.getElementById(\"5ac5681c-98e6-49c0-a6a7-698f239b422f\")) {\n",
       "                    Plotly.newPlot(\n",
       "                        '5ac5681c-98e6-49c0-a6a7-698f239b422f',\n",
       "                        [{\"name\": \"[True]_Revenue, daily\", \"type\": \"scatter\", \"uid\": \"7a7f776f-1489-4001-94c3-3cd6e34fa1f7\", \"x\": [\"2019-01-01\", \"2019-01-02\", \"2019-01-03\", \"2019-01-04\", \"2019-01-05\", \"2019-01-06\", \"2019-01-07\", \"2019-01-08\", \"2019-01-09\", \"2019-01-10\", \"2019-01-11\", \"2019-01-12\", \"2019-01-13\", \"2019-01-14\", \"2019-01-15\", \"2019-01-16\", \"2019-01-17\", \"2019-01-18\", \"2019-01-19\", \"2019-01-20\", \"2019-01-21\", \"2019-01-22\", \"2019-01-23\", \"2019-01-24\", \"2019-01-25\", \"2019-01-26\", \"2019-01-27\", \"2019-01-28\", \"2019-01-29\", \"2019-01-30\", \"2019-01-31\", \"2019-02-01\", \"2019-02-02\", \"2019-02-03\", \"2019-02-04\", \"2019-02-05\", \"2019-02-06\", \"2019-02-07\", \"2019-02-08\", \"2019-02-09\", \"2019-02-10\", \"2019-02-11\", \"2019-02-12\", \"2019-02-13\", \"2019-02-14\", \"2019-02-15\", \"2019-02-16\", \"2019-02-17\", \"2019-02-18\", \"2019-02-19\", \"2019-02-20\", \"2019-02-21\", \"2019-02-22\", \"2019-02-23\", \"2019-02-24\", \"2019-02-25\", \"2019-02-26\", \"2019-02-27\", \"2019-02-28\", \"2019-03-01\", \"2019-03-02\", \"2019-03-03\", \"2019-03-04\", \"2019-03-05\", \"2019-03-06\", \"2019-03-07\", \"2019-03-08\", \"2019-03-09\", \"2019-03-10\", \"2019-03-11\", \"2019-03-12\", \"2019-03-13\", \"2019-03-14\", \"2019-03-15\", \"2019-03-16\", \"2019-03-17\", \"2019-03-18\", \"2019-03-19\", \"2019-03-20\", \"2019-03-21\", \"2019-03-22\", \"2019-03-23\", \"2019-03-24\", \"2019-03-25\", \"2019-03-26\"], \"y\": [9958.0, 14664.0, 8768.0, 14026.0, 13896.0, 7698.0, 10321.0, 15722.0, 14748.0, 15113.0, 8604.0, 16514.0, 9687.0, 11932.0, 14930.0, 9158.0, 9965.0, 17593.0, 7530.0, 7026.0, 15476.0, 10598.0, 7036.0, 12153.0, 13008.0, 10470.0, 13541.0, 10537.0, 11028.0, 10667.0, 10330.0, 11991.0, 12268.0, 12372.0, 18527.0, 14700.0, 9662.0, 12291.0, 9580.0, 17805.0, 11261.0, 8713.0, 10534.0, 12015.0, 13105.0, 8152.0, 9977.0, 12312.0, 13516.0, 13387.0, 13297.0, 8626.0, 10870.0, 10082.0, 8189.0, 7276.0, 10575.0, 10436.0, 10100.0, 8646.0, 11743.0, 11875.0, 14196.0, 11475.0, 8389.0, 10005.0, 14856.0, 10351.0, 6770.0, 15218.0, 5331.0, 10233.0, 11312.0, 16683.0, 14074.0, 7600.0, 8491.0, 16205.0, 15164.0, 8050.0, 8169.0, 4673.0, 7955.0, 4567.0, 1627.0]}, {\"name\": \"[True]_Tax, daily\", \"type\": \"scatter\", \"uid\": \"4eb50f1a-4e20-44c4-b14a-0df33c21d485\", \"x\": [\"2019-01-01\", \"2019-01-02\", \"2019-01-03\", \"2019-01-04\", \"2019-01-05\", \"2019-01-06\", \"2019-01-07\", \"2019-01-08\", \"2019-01-09\", \"2019-01-10\", \"2019-01-11\", \"2019-01-12\", \"2019-01-13\", \"2019-01-14\", \"2019-01-15\", \"2019-01-16\", \"2019-01-17\", \"2019-01-18\", \"2019-01-19\", \"2019-01-20\", \"2019-01-21\", \"2019-01-22\", \"2019-01-23\", \"2019-01-24\", \"2019-01-25\", \"2019-01-26\", \"2019-01-27\", \"2019-01-28\", \"2019-01-29\", \"2019-01-30\", \"2019-01-31\", \"2019-02-01\", \"2019-02-02\", \"2019-02-03\", \"2019-02-04\", \"2019-02-05\", \"2019-02-06\", \"2019-02-07\", \"2019-02-08\", \"2019-02-09\", \"2019-02-10\", \"2019-02-11\", \"2019-02-12\", \"2019-02-13\", \"2019-02-14\", \"2019-02-15\", \"2019-02-16\", \"2019-02-17\", \"2019-02-18\", \"2019-02-19\", \"2019-02-20\", \"2019-02-21\", \"2019-02-22\", \"2019-02-23\", \"2019-02-24\", \"2019-02-25\", \"2019-02-26\", \"2019-02-27\", \"2019-02-28\", \"2019-03-01\", \"2019-03-02\", \"2019-03-03\", \"2019-03-04\", \"2019-03-05\", \"2019-03-06\", \"2019-03-07\", \"2019-03-08\", \"2019-03-09\", \"2019-03-10\", \"2019-03-11\", \"2019-03-12\", \"2019-03-13\", \"2019-03-14\", \"2019-03-15\", \"2019-03-16\", \"2019-03-17\", \"2019-03-18\", \"2019-03-19\", \"2019-03-20\", \"2019-03-21\", \"2019-03-22\", \"2019-03-23\", \"2019-03-24\", \"2019-03-25\", \"2019-03-26\"], \"y\": [1408.7338237634956, 1762.7248895590535, 1282.2313385282218, 2243.655302539733, 2388.2652637599417, 878.4765738952292, 1348.7462835353033, 1922.5298556878606, 1948.2602681751714, 2193.3198960698596, 1409.101903393507, 2018.5915355996433, 1438.1766697500557, 1922.2017868230614, 2136.288901427601, 1183.385143700274, 1537.719485877772, 1797.553921171253, 1053.6227982375553, 957.7908429948257, 1677.6777020633729, 1452.5788739320128, 1091.2737233455368, 1301.5753655029127, 1877.7133900738738, 1164.8975755708718, 1962.4169607472606, 1555.9302808808684, 1787.7047004387641, 1632.944159765901, 1375.2099825630658, 1427.4005870199567, 1564.185842076, 1500.7265756621564, 2809.470695725031, 1851.5312554614043, 982.1677959723919, 1814.4676577891466, 967.1489390835392, 2445.0506155560197, 1399.8396916108356, 1298.4949485179827, 1250.5444167457026, 1830.1396690961933, 1850.8496661147822, 814.1522521190133, 1404.4740962888102, 2195.0744651593027, 1635.128146737766, 1862.3972724272526, 1888.2225148001298, 1230.037311161588, 1786.5712171614614, 1376.62337538558, 1272.3252071014938, 993.3164243756953, 1636.8607874714205, 1532.6064112824822, 1082.8454596758681, 1220.608759477319, 1640.8608853941846, 1909.4673132985208, 1917.5570424307953, 1525.3082066077225, 1017.6014591751914, 1435.3541419052483, 2362.9818452801233, 1262.9738915709816, 667.702896303722, 2271.00426878709, 646.473190135273, 1329.502784286703, 1452.371627167188, 2131.7117019100183, 1980.3230124399977, 865.7578646483094, 1040.6881510606374, 2299.107115637001, 2139.9634388241684, 927.213921927161, 1371.2883639356492, 981.18806992174, 1672.0696453019555, 957.0359229825375, 341.6722497840746]}],\n",
       "                        {\"hovermode\": \"closest\", \"showlegend\": true, \"title\": {\"text\": \"Aggregated signals, daily\"}},\n",
       "                        {\"showLink\": false, \"linkText\": \"Export to plot.ly\", \"plotlyServerURL\": \"https://plot.ly\", \"responsive\": true}\n",
       "                    ).then(function(){\n",
       "                            \n",
       "var gd = document.getElementById('5ac5681c-98e6-49c0-a6a7-698f239b422f');\n",
       "var x = new MutationObserver(function (mutations, observer) {{\n",
       "        var display = window.getComputedStyle(gd).display;\n",
       "        if (!display || display === 'none') {{\n",
       "            console.log([gd, 'removed!']);\n",
       "            Plotly.purge(gd);\n",
       "            observer.disconnect();\n",
       "        }}\n",
       "}});\n",
       "\n",
       "// Listen for the removal of the full notebook cells\n",
       "var notebookContainer = gd.closest('#notebook-container');\n",
       "if (notebookContainer) {{\n",
       "    x.observe(notebookContainer, {childList: true});\n",
       "}}\n",
       "\n",
       "// Listen for the clearing of the current output cell\n",
       "var outputEl = gd.closest('.output');\n",
       "if (outputEl) {{\n",
       "    x.observe(outputEl, {childList: true});\n",
       "}}\n",
       "\n",
       "                        })\n",
       "                };\n",
       "                });\n",
       "            </script>\n",
       "        </div>"
      ]
     },
     "metadata": {},
     "output_type": "display_data"
    },
    {
     "name": "stdout",
     "output_type": "stream",
     "text": [
      "[0.8879032294438138, 0.020334141594050052, -0.13248383971637848, 0.15188214824254614]\n"
     ]
    }
   ],
   "source": [
    "constructSignals(expert_sales, query=[{\"select\": [True], \n",
    "                              \"_with\": {\"FA_Name\": \"Revenue\"}}, \n",
    "                                {\"select\": [True], \"_with\": {\"FA_Name\": \"Tax\"}}], on=\"is_Sale\", agg_period=\"D\", vis_type=\"line\")"
   ]
  },
  {
   "cell_type": "markdown",
   "metadata": {},
   "source": [
    "## Tax vs. Revenue based on the Sales predicted-cluster"
   ]
  },
  {
   "cell_type": "code",
   "execution_count": 30,
   "metadata": {
    "scrolled": false
   },
   "outputs": [
    {
     "name": "stdout",
     "output_type": "stream",
     "text": [
      "Started aggregation...\n"
     ]
    },
    {
     "data": {
      "application/vnd.plotly.v1+json": {
       "config": {
        "linkText": "Export to plot.ly",
        "plotlyServerURL": "https://plot.ly",
        "showLink": false
       },
       "data": [
        {
         "name": "[1, 2]_Revenue cluster, daily",
         "type": "scatter",
         "uid": "fc25f6f0-7a48-47ce-897f-213446e7d513",
         "x": [
          "2019-01-01",
          "2019-01-02",
          "2019-01-03",
          "2019-01-04",
          "2019-01-05",
          "2019-01-06",
          "2019-01-07",
          "2019-01-08",
          "2019-01-09",
          "2019-01-10",
          "2019-01-11",
          "2019-01-12",
          "2019-01-13",
          "2019-01-14",
          "2019-01-15",
          "2019-01-16",
          "2019-01-17",
          "2019-01-18",
          "2019-01-19",
          "2019-01-20",
          "2019-01-21",
          "2019-01-22",
          "2019-01-23",
          "2019-01-24",
          "2019-01-25",
          "2019-01-26",
          "2019-01-27",
          "2019-01-28",
          "2019-01-29",
          "2019-01-30",
          "2019-01-31",
          "2019-02-01",
          "2019-02-02",
          "2019-02-03",
          "2019-02-04",
          "2019-02-05",
          "2019-02-06",
          "2019-02-07",
          "2019-02-08",
          "2019-02-09",
          "2019-02-10",
          "2019-02-11",
          "2019-02-12",
          "2019-02-13",
          "2019-02-14",
          "2019-02-15",
          "2019-02-16",
          "2019-02-17",
          "2019-02-18",
          "2019-02-19",
          "2019-02-20",
          "2019-02-21",
          "2019-02-22",
          "2019-02-23",
          "2019-02-24",
          "2019-02-25",
          "2019-02-26",
          "2019-02-27",
          "2019-02-28",
          "2019-03-01",
          "2019-03-02",
          "2019-03-03",
          "2019-03-04",
          "2019-03-05",
          "2019-03-06",
          "2019-03-07",
          "2019-03-08",
          "2019-03-09",
          "2019-03-10",
          "2019-03-11",
          "2019-03-12",
          "2019-03-13",
          "2019-03-14",
          "2019-03-15",
          "2019-03-16",
          "2019-03-17",
          "2019-03-18",
          "2019-03-19",
          "2019-03-20",
          "2019-03-21",
          "2019-03-22",
          "2019-03-23",
          "2019-03-24",
          "2019-03-25",
          "2019-03-26"
         ],
         "y": [
          9958,
          14664,
          8768,
          14026,
          13896,
          7698,
          10321,
          15722,
          14748,
          15113,
          8604,
          16514,
          9687,
          11932,
          14930,
          9158,
          9965,
          17593,
          7530,
          7026,
          15476,
          10598,
          7036,
          12153,
          13008,
          10470,
          13541,
          10537,
          11028,
          10667,
          10330,
          11991,
          12268,
          12372,
          18527,
          14700,
          9662,
          12291,
          9580,
          17805,
          11261,
          8713,
          10534,
          12015,
          13105,
          8152,
          9977,
          12312,
          13516,
          13387,
          13297,
          8626,
          10870,
          10082,
          8189,
          7276,
          10575,
          10436,
          10100,
          8646,
          11743,
          11875,
          14196,
          11475,
          8389,
          10005,
          14856,
          10351,
          6770,
          15218,
          5331,
          10233,
          11312,
          16683,
          14074,
          7600,
          8491,
          16205,
          15164,
          8050,
          8169,
          4673,
          7955,
          4567,
          1627
         ]
        },
        {
         "name": "[1, 2]_Tax cluster, daily",
         "type": "scatter",
         "uid": "52930e2d-0489-42cb-aa4d-08dd218f2e33",
         "x": [
          "2019-01-01",
          "2019-01-02",
          "2019-01-03",
          "2019-01-04",
          "2019-01-05",
          "2019-01-06",
          "2019-01-07",
          "2019-01-08",
          "2019-01-09",
          "2019-01-10",
          "2019-01-11",
          "2019-01-12",
          "2019-01-13",
          "2019-01-14",
          "2019-01-15",
          "2019-01-16",
          "2019-01-17",
          "2019-01-18",
          "2019-01-19",
          "2019-01-20",
          "2019-01-21",
          "2019-01-22",
          "2019-01-23",
          "2019-01-24",
          "2019-01-25",
          "2019-01-26",
          "2019-01-27",
          "2019-01-28",
          "2019-01-29",
          "2019-01-30",
          "2019-01-31",
          "2019-02-01",
          "2019-02-02",
          "2019-02-03",
          "2019-02-04",
          "2019-02-05",
          "2019-02-06",
          "2019-02-07",
          "2019-02-08",
          "2019-02-09",
          "2019-02-10",
          "2019-02-11",
          "2019-02-12",
          "2019-02-13",
          "2019-02-14",
          "2019-02-15",
          "2019-02-16",
          "2019-02-17",
          "2019-02-18",
          "2019-02-19",
          "2019-02-20",
          "2019-02-21",
          "2019-02-22",
          "2019-02-23",
          "2019-02-24",
          "2019-02-25",
          "2019-02-26",
          "2019-02-27",
          "2019-02-28",
          "2019-03-01",
          "2019-03-02",
          "2019-03-03",
          "2019-03-04",
          "2019-03-05",
          "2019-03-06",
          "2019-03-07",
          "2019-03-08",
          "2019-03-09",
          "2019-03-10",
          "2019-03-11",
          "2019-03-12",
          "2019-03-13",
          "2019-03-14",
          "2019-03-15",
          "2019-03-16",
          "2019-03-17",
          "2019-03-18",
          "2019-03-19",
          "2019-03-20",
          "2019-03-21",
          "2019-03-22",
          "2019-03-23",
          "2019-03-24",
          "2019-03-25",
          "2019-03-26"
         ],
         "y": [
          1408.7338237634956,
          1762.7248895590535,
          1282.2313385282218,
          2243.655302539733,
          2388.2652637599417,
          878.4765738952292,
          1348.7462835353033,
          1922.5298556878606,
          1948.2602681751714,
          2193.3198960698596,
          1409.101903393507,
          2018.5915355996433,
          1438.1766697500557,
          1922.2017868230614,
          2136.288901427601,
          1183.385143700274,
          1537.719485877772,
          1797.553921171253,
          1053.6227982375553,
          957.7908429948257,
          1677.6777020633729,
          1452.5788739320128,
          1091.2737233455368,
          1301.5753655029127,
          1877.7133900738738,
          1164.8975755708718,
          1962.4169607472606,
          1555.9302808808684,
          1787.7047004387641,
          1632.944159765901,
          1375.2099825630658,
          1427.4005870199567,
          1564.185842076,
          1500.7265756621564,
          2809.470695725031,
          1851.5312554614043,
          982.1677959723919,
          1814.4676577891466,
          967.1489390835392,
          2445.0506155560197,
          1399.8396916108356,
          1298.4949485179827,
          1250.5444167457026,
          1830.1396690961933,
          1850.8496661147822,
          814.1522521190133,
          1404.4740962888102,
          2195.0744651593027,
          1635.128146737766,
          1862.3972724272526,
          1888.2225148001298,
          1230.037311161588,
          1786.5712171614614,
          1376.62337538558,
          1272.3252071014938,
          993.3164243756953,
          1636.8607874714205,
          1532.6064112824822,
          1082.8454596758681,
          1220.608759477319,
          1640.8608853941846,
          1909.4673132985208,
          1917.5570424307953,
          1525.3082066077225,
          1017.6014591751914,
          1435.3541419052483,
          2362.9818452801233,
          1262.9738915709816,
          667.702896303722,
          2271.00426878709,
          646.473190135273,
          1329.502784286703,
          1452.371627167188,
          2131.7117019100183,
          1980.3230124399977,
          865.7578646483094,
          1040.6881510606374,
          2299.107115637001,
          2139.9634388241684,
          927.213921927161,
          1371.2883639356492,
          981.18806992174,
          1672.0696453019555,
          957.0359229825375,
          341.6722497840746
         ]
        }
       ],
       "layout": {
        "hovermode": "closest",
        "showlegend": true,
        "title": {
         "text": "Aggregated signals, daily"
        }
       }
      },
      "text/html": [
       "<div>\n",
       "        \n",
       "        \n",
       "            <div id=\"dd13caa9-c267-417e-ad8d-21b0be52a6b0\" class=\"plotly-graph-div\" style=\"height:525px; width:100%;\"></div>\n",
       "            <script type=\"text/javascript\">\n",
       "                require([\"plotly\"], function(Plotly) {\n",
       "                    window.PLOTLYENV=window.PLOTLYENV || {};\n",
       "                    window.PLOTLYENV.BASE_URL='https://plot.ly';\n",
       "                    \n",
       "                if (document.getElementById(\"dd13caa9-c267-417e-ad8d-21b0be52a6b0\")) {\n",
       "                    Plotly.newPlot(\n",
       "                        'dd13caa9-c267-417e-ad8d-21b0be52a6b0',\n",
       "                        [{\"name\": \"[1, 2]_Revenue cluster, daily\", \"type\": \"scatter\", \"uid\": \"fc25f6f0-7a48-47ce-897f-213446e7d513\", \"x\": [\"2019-01-01\", \"2019-01-02\", \"2019-01-03\", \"2019-01-04\", \"2019-01-05\", \"2019-01-06\", \"2019-01-07\", \"2019-01-08\", \"2019-01-09\", \"2019-01-10\", \"2019-01-11\", \"2019-01-12\", \"2019-01-13\", \"2019-01-14\", \"2019-01-15\", \"2019-01-16\", \"2019-01-17\", \"2019-01-18\", \"2019-01-19\", \"2019-01-20\", \"2019-01-21\", \"2019-01-22\", \"2019-01-23\", \"2019-01-24\", \"2019-01-25\", \"2019-01-26\", \"2019-01-27\", \"2019-01-28\", \"2019-01-29\", \"2019-01-30\", \"2019-01-31\", \"2019-02-01\", \"2019-02-02\", \"2019-02-03\", \"2019-02-04\", \"2019-02-05\", \"2019-02-06\", \"2019-02-07\", \"2019-02-08\", \"2019-02-09\", \"2019-02-10\", \"2019-02-11\", \"2019-02-12\", \"2019-02-13\", \"2019-02-14\", \"2019-02-15\", \"2019-02-16\", \"2019-02-17\", \"2019-02-18\", \"2019-02-19\", \"2019-02-20\", \"2019-02-21\", \"2019-02-22\", \"2019-02-23\", \"2019-02-24\", \"2019-02-25\", \"2019-02-26\", \"2019-02-27\", \"2019-02-28\", \"2019-03-01\", \"2019-03-02\", \"2019-03-03\", \"2019-03-04\", \"2019-03-05\", \"2019-03-06\", \"2019-03-07\", \"2019-03-08\", \"2019-03-09\", \"2019-03-10\", \"2019-03-11\", \"2019-03-12\", \"2019-03-13\", \"2019-03-14\", \"2019-03-15\", \"2019-03-16\", \"2019-03-17\", \"2019-03-18\", \"2019-03-19\", \"2019-03-20\", \"2019-03-21\", \"2019-03-22\", \"2019-03-23\", \"2019-03-24\", \"2019-03-25\", \"2019-03-26\"], \"y\": [9958.0, 14664.0, 8768.0, 14026.0, 13896.0, 7698.0, 10321.0, 15722.0, 14748.0, 15113.0, 8604.0, 16514.0, 9687.0, 11932.0, 14930.0, 9158.0, 9965.0, 17593.0, 7530.0, 7026.0, 15476.0, 10598.0, 7036.0, 12153.0, 13008.0, 10470.0, 13541.0, 10537.0, 11028.0, 10667.0, 10330.0, 11991.0, 12268.0, 12372.0, 18527.0, 14700.0, 9662.0, 12291.0, 9580.0, 17805.0, 11261.0, 8713.0, 10534.0, 12015.0, 13105.0, 8152.0, 9977.0, 12312.0, 13516.0, 13387.0, 13297.0, 8626.0, 10870.0, 10082.0, 8189.0, 7276.0, 10575.0, 10436.0, 10100.0, 8646.0, 11743.0, 11875.0, 14196.0, 11475.0, 8389.0, 10005.0, 14856.0, 10351.0, 6770.0, 15218.0, 5331.0, 10233.0, 11312.0, 16683.0, 14074.0, 7600.0, 8491.0, 16205.0, 15164.0, 8050.0, 8169.0, 4673.0, 7955.0, 4567.0, 1627.0]}, {\"name\": \"[1, 2]_Tax cluster, daily\", \"type\": \"scatter\", \"uid\": \"52930e2d-0489-42cb-aa4d-08dd218f2e33\", \"x\": [\"2019-01-01\", \"2019-01-02\", \"2019-01-03\", \"2019-01-04\", \"2019-01-05\", \"2019-01-06\", \"2019-01-07\", \"2019-01-08\", \"2019-01-09\", \"2019-01-10\", \"2019-01-11\", \"2019-01-12\", \"2019-01-13\", \"2019-01-14\", \"2019-01-15\", \"2019-01-16\", \"2019-01-17\", \"2019-01-18\", \"2019-01-19\", \"2019-01-20\", \"2019-01-21\", \"2019-01-22\", \"2019-01-23\", \"2019-01-24\", \"2019-01-25\", \"2019-01-26\", \"2019-01-27\", \"2019-01-28\", \"2019-01-29\", \"2019-01-30\", \"2019-01-31\", \"2019-02-01\", \"2019-02-02\", \"2019-02-03\", \"2019-02-04\", \"2019-02-05\", \"2019-02-06\", \"2019-02-07\", \"2019-02-08\", \"2019-02-09\", \"2019-02-10\", \"2019-02-11\", \"2019-02-12\", \"2019-02-13\", \"2019-02-14\", \"2019-02-15\", \"2019-02-16\", \"2019-02-17\", \"2019-02-18\", \"2019-02-19\", \"2019-02-20\", \"2019-02-21\", \"2019-02-22\", \"2019-02-23\", \"2019-02-24\", \"2019-02-25\", \"2019-02-26\", \"2019-02-27\", \"2019-02-28\", \"2019-03-01\", \"2019-03-02\", \"2019-03-03\", \"2019-03-04\", \"2019-03-05\", \"2019-03-06\", \"2019-03-07\", \"2019-03-08\", \"2019-03-09\", \"2019-03-10\", \"2019-03-11\", \"2019-03-12\", \"2019-03-13\", \"2019-03-14\", \"2019-03-15\", \"2019-03-16\", \"2019-03-17\", \"2019-03-18\", \"2019-03-19\", \"2019-03-20\", \"2019-03-21\", \"2019-03-22\", \"2019-03-23\", \"2019-03-24\", \"2019-03-25\", \"2019-03-26\"], \"y\": [1408.7338237634956, 1762.7248895590535, 1282.2313385282218, 2243.655302539733, 2388.2652637599417, 878.4765738952292, 1348.7462835353033, 1922.5298556878606, 1948.2602681751714, 2193.3198960698596, 1409.101903393507, 2018.5915355996433, 1438.1766697500557, 1922.2017868230614, 2136.288901427601, 1183.385143700274, 1537.719485877772, 1797.553921171253, 1053.6227982375553, 957.7908429948257, 1677.6777020633729, 1452.5788739320128, 1091.2737233455368, 1301.5753655029127, 1877.7133900738738, 1164.8975755708718, 1962.4169607472606, 1555.9302808808684, 1787.7047004387641, 1632.944159765901, 1375.2099825630658, 1427.4005870199567, 1564.185842076, 1500.7265756621564, 2809.470695725031, 1851.5312554614043, 982.1677959723919, 1814.4676577891466, 967.1489390835392, 2445.0506155560197, 1399.8396916108356, 1298.4949485179827, 1250.5444167457026, 1830.1396690961933, 1850.8496661147822, 814.1522521190133, 1404.4740962888102, 2195.0744651593027, 1635.128146737766, 1862.3972724272526, 1888.2225148001298, 1230.037311161588, 1786.5712171614614, 1376.62337538558, 1272.3252071014938, 993.3164243756953, 1636.8607874714205, 1532.6064112824822, 1082.8454596758681, 1220.608759477319, 1640.8608853941846, 1909.4673132985208, 1917.5570424307953, 1525.3082066077225, 1017.6014591751914, 1435.3541419052483, 2362.9818452801233, 1262.9738915709816, 667.702896303722, 2271.00426878709, 646.473190135273, 1329.502784286703, 1452.371627167188, 2131.7117019100183, 1980.3230124399977, 865.7578646483094, 1040.6881510606374, 2299.107115637001, 2139.9634388241684, 927.213921927161, 1371.2883639356492, 981.18806992174, 1672.0696453019555, 957.0359229825375, 341.6722497840746]}],\n",
       "                        {\"hovermode\": \"closest\", \"showlegend\": true, \"title\": {\"text\": \"Aggregated signals, daily\"}},\n",
       "                        {\"showLink\": false, \"linkText\": \"Export to plot.ly\", \"plotlyServerURL\": \"https://plot.ly\", \"responsive\": true}\n",
       "                    ).then(function(){\n",
       "                            \n",
       "var gd = document.getElementById('dd13caa9-c267-417e-ad8d-21b0be52a6b0');\n",
       "var x = new MutationObserver(function (mutations, observer) {{\n",
       "        var display = window.getComputedStyle(gd).display;\n",
       "        if (!display || display === 'none') {{\n",
       "            console.log([gd, 'removed!']);\n",
       "            Plotly.purge(gd);\n",
       "            observer.disconnect();\n",
       "        }}\n",
       "}});\n",
       "\n",
       "// Listen for the removal of the full notebook cells\n",
       "var notebookContainer = gd.closest('#notebook-container');\n",
       "if (notebookContainer) {{\n",
       "    x.observe(notebookContainer, {childList: true});\n",
       "}}\n",
       "\n",
       "// Listen for the clearing of the current output cell\n",
       "var outputEl = gd.closest('.output');\n",
       "if (outputEl) {{\n",
       "    x.observe(outputEl, {childList: true});\n",
       "}}\n",
       "\n",
       "                        })\n",
       "                };\n",
       "                });\n",
       "            </script>\n",
       "        </div>"
      ]
     },
     "metadata": {},
     "output_type": "display_data"
    },
    {
     "name": "stdout",
     "output_type": "stream",
     "text": [
      "[0.8879032294438138, 0.020334141594050052, -0.13248383971637848, 0.15188214824254614]\n"
     ]
    }
   ],
   "source": [
    "constructSignals(df_all, query=[{\"select\": [1, 2], \n",
    "                              \"_with\": {\"FA_Name\": \"Revenue\"}}, \n",
    "                                {\"select\": [1, 2], \"_with\": {\"FA_Name\": \"Tax\"}}], on=\"label\", agg_period=\"D\", vis_type=\"line\")"
   ]
  },
  {
   "cell_type": "code",
   "execution_count": 32,
   "metadata": {},
   "outputs": [],
   "source": [
    "from plotly.offline import iplot\n",
    "import plotly.figure_factory as ff\n",
    "import seaborn as sns\n",
    "def calculate_corr(df_all, query=[1, 2], on=\"label\", agg_period=\"2D\", lag=0):\n",
    "    X, Y = [df_all[df_all[on]==q] for q in query]\n",
    "    return crosscorr(X.amount.resample(agg_period).sum(), Y.amount.resample(agg_period).sum(), lag)\n",
    "\n",
    "def get_corr_matrix(df, on=\"label\", agg_period=\"D\", lag=0):\n",
    "    labels = sorted(df[on].unique())\n",
    "    corr_matrix = np.zeros((len(labels), len(labels)))\n",
    "    for x_pos, x in enumerate(labels):\n",
    "        for y_pos, y in enumerate(labels):\n",
    "            if x!=y:\n",
    "                try:\n",
    "                    corr_matrix[x_pos, y_pos] = calculate_corr(df, query=[x,y], on=on, agg_period=agg_period, lag=lag)\n",
    "                except FloatingPointError as float_er:\n",
    "                    corr_matrix[x_pos, y_pos] = 0.0\n",
    "    return corr_matrix\n",
    "\n",
    "axis_prefix = {\"label\": \"Cluster \", \"GroundTruth\": \"\"}\n",
    "\n",
    "\n",
    "def make_annotations(z, x, y, annotation_text):\n",
    "    annotations = []\n",
    "    for n, row in enumerate(z):\n",
    "        for m, val in enumerate(row):\n",
    "            annotations.append(\n",
    "                go.layout.Annotation(\n",
    "                    text=str(annotation_text[n][m]) if annotation_text[n][m] != 0.0 else \"\",\n",
    "                    x=x[m],\n",
    "                    y=y[n],\n",
    "                    xref='x1',\n",
    "                    yref='y1',\n",
    "                    font=dict(color=\"Black\"),\n",
    "                    showarrow=False))\n",
    "    return annotations\n",
    "\n",
    "\n",
    "def corrHeatmap_interactive(corr_matrix, labels, on=\"label\"):\n",
    "    x = [axis_prefix[on] + str(cl) for cl in labels]\n",
    "    y = [axis_prefix[on] + str(cl) for cl in labels]\n",
    "    # Generate a mask for the upper triangle\n",
    "    mask = np.ones_like(corr_matrix, dtype=np.bool)\n",
    "    mask[np.tril_indices_from(mask, k=0)] = False\n",
    "    corr_matrix[mask] = 0.0\n",
    "    z_text = np.round(corr_matrix, 2)\n",
    "    cs = [[00.0, 'rgb(31, 119, 180)'],  # blue\n",
    "          [0.5, 'rgb(255,255,255)'],  # white\n",
    "          [1, 'rgb(214, 39, 40)']]  # red\n",
    "\n",
    "    trace = go.Heatmap(z=corr_matrix, x=x, y=y, zmid=0, zmin=-1, zmax=1, colorscale=cs, showscale=True,\n",
    "                       colorbar={\"thickness\": 20, \"len\": 0.5, \"outlinewidth\": 0, \"xpad\": 25,\n",
    "                                 \"title\": {\"text\": \"\\n \\n Correlation\", \"side\": \"right\"}})\n",
    "    fig = go.Figure(data=[trace])\n",
    "    fig.layout.title = go.layout.Title(text=\"Cross-correlation for the \" + on)\n",
    "    fig.layout.height = len(labels) * 70 + 200\n",
    "    fig.layout.width = len(labels) * 70 + 25 + 25 + 150\n",
    "    fig.layout.margin = go.layout.Margin(l=100, r=50, b=100, t=200, pad=10)\n",
    "    fig.layout.annotations = make_annotations(corr_matrix, x, y, z_text)\n",
    "    fig.layout.xaxis.side = \"top\"\n",
    "    fig.layout.yaxis.automargin = True\n",
    "    fig.layout.xaxis.automargin = True\n",
    "    iplot(fig)\n",
    "\n",
    "\n",
    "def corrHeatmap_static(corr_matrix, labels, on=\"label\"):\n",
    "    sns.set_context(\"paper\", rc={'figure.figsize': (20, 10), \"font.size\": 12, \"axes.titlesize\": 16, \"axes.labelsize\": 20,\n",
    "                        \"xtick.labelsize\": 12, \"ytick.labelsize\": 12})\n",
    "    x_ticks = [axis_prefix[on] + str(cl) for cl in labels]\n",
    "    y_ticks = [axis_prefix[on] + str(cl) for cl in labels]\n",
    "    z_text = np.round(corr_matrix, 2)\n",
    "    # Generate a mask for the upper triangle\n",
    "    mask = np.zeros_like(corr_matrix, dtype=np.bool)\n",
    "    mask[np.triu_indices_from(mask)] = True\n",
    "\n",
    "    # Set up the matplotlib figure\n",
    "    f, ax = plt.subplots(figsize=(11, 9))\n",
    "    sns.heatmap(corr_matrix, mask=mask, annot=z_text, cmap=\"RdBu_r\", vmin=-1, vmax=1, center=0, xticklabels=x_ticks,\n",
    "                yticklabels=y_ticks,\n",
    "                square=True, linewidths=.1, cbar_kws={\"shrink\": .5})\n",
    "    ax.set_title(\"Cross-correlation for the \" + on)\n",
    "    plt.tight_layout()\n",
    "    plt.plot()\n",
    "    \n",
    "def correlationMatrix(df, on=\"label\", agg_period=\"D\", lag=0, interactive=True):\n",
    "    corr_matrix = get_corr_matrix(df, on=on, agg_period=agg_period, lag=lag)\n",
    "    labels = sorted(df[on].unique())\n",
    "    if interactive:\n",
    "#         Use plotly\n",
    "        return corrHeatmap_interactive(corr_matrix, labels=labels, on=on)\n",
    "    else:\n",
    "#         Use seaborn for visualization\n",
    "        corrHeatmap_static(corr_matrix, labels=labels, on=on)"
   ]
  },
  {
   "cell_type": "code",
   "execution_count": 37,
   "metadata": {},
   "outputs": [
    {
     "data": {
      "application/vnd.plotly.v1+json": {
       "config": {
        "linkText": "Export to plot.ly",
        "plotlyServerURL": "https://plot.ly",
        "showLink": false
       },
       "data": [
        {
         "colorbar": {
          "len": 0.5,
          "outlinewidth": 0,
          "thickness": 20,
          "title": {
           "side": "right",
           "text": "\n \n Correlation"
          },
          "xpad": 25
         },
         "colorscale": [
          [
           0,
           "rgb(31, 119, 180)"
          ],
          [
           0.5,
           "rgb(255,255,255)"
          ],
          [
           1,
           "rgb(214, 39, 40)"
          ]
         ],
         "showscale": true,
         "type": "heatmap",
         "uid": "663c0a06-a15d-4471-b283-fc0cd734c358",
         "x": [
          "Cluster 0",
          "Cluster 1",
          "Cluster 2",
          "Cluster 3",
          "Cluster 4",
          "Cluster 5",
          "Cluster 6",
          "Cluster 7"
         ],
         "y": [
          "Cluster 0",
          "Cluster 1",
          "Cluster 2",
          "Cluster 3",
          "Cluster 4",
          "Cluster 5",
          "Cluster 6",
          "Cluster 7"
         ],
         "z": [
          [
           0,
           0,
           0,
           0,
           0,
           0,
           0,
           0
          ],
          [
           0.5139014486879006,
           0,
           0,
           0,
           0,
           0,
           0,
           0
          ],
          [
           0.7615364398963685,
           0.03975300974896651,
           0,
           0,
           0,
           0,
           0,
           0
          ],
          [
           0.24721547919770287,
           0.05520537375659451,
           0.5295724433896396,
           0,
           0,
           0,
           0,
           0
          ],
          [
           0.13157674846101505,
           0.033653078157982116,
           0.19761529823832005,
           0.28125589823114594,
           0,
           0,
           0,
           0
          ],
          [
           0.258248245853188,
           0.13240269912989666,
           0.29151296112727787,
           -0.043056617263530085,
           0.03797570654743163,
           0,
           0,
           0
          ],
          [
           0.16106534007133844,
           0.2301087324089662,
           0.18990004561017412,
           0.17089571518799979,
           0.06429532235530724,
           -0.009562689799699741,
           0,
           0
          ],
          [
           0.13657939552230056,
           -0.11584084655968858,
           0.22902927614867952,
           -0.027312425777467217,
           -0.2883304392702664,
           0.22637935725349279,
           -0.2387380321295246,
           0
          ]
         ],
         "zmax": 1,
         "zmid": 0,
         "zmin": -1
        }
       ],
       "layout": {
        "annotations": [
         {
          "font": {
           "color": "Black"
          },
          "showarrow": false,
          "text": "",
          "x": "Cluster 0",
          "xref": "x",
          "y": "Cluster 0",
          "yref": "y"
         },
         {
          "font": {
           "color": "Black"
          },
          "showarrow": false,
          "text": "",
          "x": "Cluster 1",
          "xref": "x",
          "y": "Cluster 0",
          "yref": "y"
         },
         {
          "font": {
           "color": "Black"
          },
          "showarrow": false,
          "text": "",
          "x": "Cluster 2",
          "xref": "x",
          "y": "Cluster 0",
          "yref": "y"
         },
         {
          "font": {
           "color": "Black"
          },
          "showarrow": false,
          "text": "",
          "x": "Cluster 3",
          "xref": "x",
          "y": "Cluster 0",
          "yref": "y"
         },
         {
          "font": {
           "color": "Black"
          },
          "showarrow": false,
          "text": "",
          "x": "Cluster 4",
          "xref": "x",
          "y": "Cluster 0",
          "yref": "y"
         },
         {
          "font": {
           "color": "Black"
          },
          "showarrow": false,
          "text": "",
          "x": "Cluster 5",
          "xref": "x",
          "y": "Cluster 0",
          "yref": "y"
         },
         {
          "font": {
           "color": "Black"
          },
          "showarrow": false,
          "text": "",
          "x": "Cluster 6",
          "xref": "x",
          "y": "Cluster 0",
          "yref": "y"
         },
         {
          "font": {
           "color": "Black"
          },
          "showarrow": false,
          "text": "",
          "x": "Cluster 7",
          "xref": "x",
          "y": "Cluster 0",
          "yref": "y"
         },
         {
          "font": {
           "color": "Black"
          },
          "showarrow": false,
          "text": "0.51",
          "x": "Cluster 0",
          "xref": "x",
          "y": "Cluster 1",
          "yref": "y"
         },
         {
          "font": {
           "color": "Black"
          },
          "showarrow": false,
          "text": "",
          "x": "Cluster 1",
          "xref": "x",
          "y": "Cluster 1",
          "yref": "y"
         },
         {
          "font": {
           "color": "Black"
          },
          "showarrow": false,
          "text": "",
          "x": "Cluster 2",
          "xref": "x",
          "y": "Cluster 1",
          "yref": "y"
         },
         {
          "font": {
           "color": "Black"
          },
          "showarrow": false,
          "text": "",
          "x": "Cluster 3",
          "xref": "x",
          "y": "Cluster 1",
          "yref": "y"
         },
         {
          "font": {
           "color": "Black"
          },
          "showarrow": false,
          "text": "",
          "x": "Cluster 4",
          "xref": "x",
          "y": "Cluster 1",
          "yref": "y"
         },
         {
          "font": {
           "color": "Black"
          },
          "showarrow": false,
          "text": "",
          "x": "Cluster 5",
          "xref": "x",
          "y": "Cluster 1",
          "yref": "y"
         },
         {
          "font": {
           "color": "Black"
          },
          "showarrow": false,
          "text": "",
          "x": "Cluster 6",
          "xref": "x",
          "y": "Cluster 1",
          "yref": "y"
         },
         {
          "font": {
           "color": "Black"
          },
          "showarrow": false,
          "text": "",
          "x": "Cluster 7",
          "xref": "x",
          "y": "Cluster 1",
          "yref": "y"
         },
         {
          "font": {
           "color": "Black"
          },
          "showarrow": false,
          "text": "0.76",
          "x": "Cluster 0",
          "xref": "x",
          "y": "Cluster 2",
          "yref": "y"
         },
         {
          "font": {
           "color": "Black"
          },
          "showarrow": false,
          "text": "0.04",
          "x": "Cluster 1",
          "xref": "x",
          "y": "Cluster 2",
          "yref": "y"
         },
         {
          "font": {
           "color": "Black"
          },
          "showarrow": false,
          "text": "",
          "x": "Cluster 2",
          "xref": "x",
          "y": "Cluster 2",
          "yref": "y"
         },
         {
          "font": {
           "color": "Black"
          },
          "showarrow": false,
          "text": "",
          "x": "Cluster 3",
          "xref": "x",
          "y": "Cluster 2",
          "yref": "y"
         },
         {
          "font": {
           "color": "Black"
          },
          "showarrow": false,
          "text": "",
          "x": "Cluster 4",
          "xref": "x",
          "y": "Cluster 2",
          "yref": "y"
         },
         {
          "font": {
           "color": "Black"
          },
          "showarrow": false,
          "text": "",
          "x": "Cluster 5",
          "xref": "x",
          "y": "Cluster 2",
          "yref": "y"
         },
         {
          "font": {
           "color": "Black"
          },
          "showarrow": false,
          "text": "",
          "x": "Cluster 6",
          "xref": "x",
          "y": "Cluster 2",
          "yref": "y"
         },
         {
          "font": {
           "color": "Black"
          },
          "showarrow": false,
          "text": "",
          "x": "Cluster 7",
          "xref": "x",
          "y": "Cluster 2",
          "yref": "y"
         },
         {
          "font": {
           "color": "Black"
          },
          "showarrow": false,
          "text": "0.25",
          "x": "Cluster 0",
          "xref": "x",
          "y": "Cluster 3",
          "yref": "y"
         },
         {
          "font": {
           "color": "Black"
          },
          "showarrow": false,
          "text": "0.06",
          "x": "Cluster 1",
          "xref": "x",
          "y": "Cluster 3",
          "yref": "y"
         },
         {
          "font": {
           "color": "Black"
          },
          "showarrow": false,
          "text": "0.53",
          "x": "Cluster 2",
          "xref": "x",
          "y": "Cluster 3",
          "yref": "y"
         },
         {
          "font": {
           "color": "Black"
          },
          "showarrow": false,
          "text": "",
          "x": "Cluster 3",
          "xref": "x",
          "y": "Cluster 3",
          "yref": "y"
         },
         {
          "font": {
           "color": "Black"
          },
          "showarrow": false,
          "text": "",
          "x": "Cluster 4",
          "xref": "x",
          "y": "Cluster 3",
          "yref": "y"
         },
         {
          "font": {
           "color": "Black"
          },
          "showarrow": false,
          "text": "",
          "x": "Cluster 5",
          "xref": "x",
          "y": "Cluster 3",
          "yref": "y"
         },
         {
          "font": {
           "color": "Black"
          },
          "showarrow": false,
          "text": "",
          "x": "Cluster 6",
          "xref": "x",
          "y": "Cluster 3",
          "yref": "y"
         },
         {
          "font": {
           "color": "Black"
          },
          "showarrow": false,
          "text": "",
          "x": "Cluster 7",
          "xref": "x",
          "y": "Cluster 3",
          "yref": "y"
         },
         {
          "font": {
           "color": "Black"
          },
          "showarrow": false,
          "text": "0.13",
          "x": "Cluster 0",
          "xref": "x",
          "y": "Cluster 4",
          "yref": "y"
         },
         {
          "font": {
           "color": "Black"
          },
          "showarrow": false,
          "text": "0.03",
          "x": "Cluster 1",
          "xref": "x",
          "y": "Cluster 4",
          "yref": "y"
         },
         {
          "font": {
           "color": "Black"
          },
          "showarrow": false,
          "text": "0.2",
          "x": "Cluster 2",
          "xref": "x",
          "y": "Cluster 4",
          "yref": "y"
         },
         {
          "font": {
           "color": "Black"
          },
          "showarrow": false,
          "text": "0.28",
          "x": "Cluster 3",
          "xref": "x",
          "y": "Cluster 4",
          "yref": "y"
         },
         {
          "font": {
           "color": "Black"
          },
          "showarrow": false,
          "text": "",
          "x": "Cluster 4",
          "xref": "x",
          "y": "Cluster 4",
          "yref": "y"
         },
         {
          "font": {
           "color": "Black"
          },
          "showarrow": false,
          "text": "",
          "x": "Cluster 5",
          "xref": "x",
          "y": "Cluster 4",
          "yref": "y"
         },
         {
          "font": {
           "color": "Black"
          },
          "showarrow": false,
          "text": "",
          "x": "Cluster 6",
          "xref": "x",
          "y": "Cluster 4",
          "yref": "y"
         },
         {
          "font": {
           "color": "Black"
          },
          "showarrow": false,
          "text": "",
          "x": "Cluster 7",
          "xref": "x",
          "y": "Cluster 4",
          "yref": "y"
         },
         {
          "font": {
           "color": "Black"
          },
          "showarrow": false,
          "text": "0.26",
          "x": "Cluster 0",
          "xref": "x",
          "y": "Cluster 5",
          "yref": "y"
         },
         {
          "font": {
           "color": "Black"
          },
          "showarrow": false,
          "text": "0.13",
          "x": "Cluster 1",
          "xref": "x",
          "y": "Cluster 5",
          "yref": "y"
         },
         {
          "font": {
           "color": "Black"
          },
          "showarrow": false,
          "text": "0.29",
          "x": "Cluster 2",
          "xref": "x",
          "y": "Cluster 5",
          "yref": "y"
         },
         {
          "font": {
           "color": "Black"
          },
          "showarrow": false,
          "text": "-0.04",
          "x": "Cluster 3",
          "xref": "x",
          "y": "Cluster 5",
          "yref": "y"
         },
         {
          "font": {
           "color": "Black"
          },
          "showarrow": false,
          "text": "0.04",
          "x": "Cluster 4",
          "xref": "x",
          "y": "Cluster 5",
          "yref": "y"
         },
         {
          "font": {
           "color": "Black"
          },
          "showarrow": false,
          "text": "",
          "x": "Cluster 5",
          "xref": "x",
          "y": "Cluster 5",
          "yref": "y"
         },
         {
          "font": {
           "color": "Black"
          },
          "showarrow": false,
          "text": "",
          "x": "Cluster 6",
          "xref": "x",
          "y": "Cluster 5",
          "yref": "y"
         },
         {
          "font": {
           "color": "Black"
          },
          "showarrow": false,
          "text": "",
          "x": "Cluster 7",
          "xref": "x",
          "y": "Cluster 5",
          "yref": "y"
         },
         {
          "font": {
           "color": "Black"
          },
          "showarrow": false,
          "text": "0.16",
          "x": "Cluster 0",
          "xref": "x",
          "y": "Cluster 6",
          "yref": "y"
         },
         {
          "font": {
           "color": "Black"
          },
          "showarrow": false,
          "text": "0.23",
          "x": "Cluster 1",
          "xref": "x",
          "y": "Cluster 6",
          "yref": "y"
         },
         {
          "font": {
           "color": "Black"
          },
          "showarrow": false,
          "text": "0.19",
          "x": "Cluster 2",
          "xref": "x",
          "y": "Cluster 6",
          "yref": "y"
         },
         {
          "font": {
           "color": "Black"
          },
          "showarrow": false,
          "text": "0.17",
          "x": "Cluster 3",
          "xref": "x",
          "y": "Cluster 6",
          "yref": "y"
         },
         {
          "font": {
           "color": "Black"
          },
          "showarrow": false,
          "text": "0.06",
          "x": "Cluster 4",
          "xref": "x",
          "y": "Cluster 6",
          "yref": "y"
         },
         {
          "font": {
           "color": "Black"
          },
          "showarrow": false,
          "text": "-0.01",
          "x": "Cluster 5",
          "xref": "x",
          "y": "Cluster 6",
          "yref": "y"
         },
         {
          "font": {
           "color": "Black"
          },
          "showarrow": false,
          "text": "",
          "x": "Cluster 6",
          "xref": "x",
          "y": "Cluster 6",
          "yref": "y"
         },
         {
          "font": {
           "color": "Black"
          },
          "showarrow": false,
          "text": "",
          "x": "Cluster 7",
          "xref": "x",
          "y": "Cluster 6",
          "yref": "y"
         },
         {
          "font": {
           "color": "Black"
          },
          "showarrow": false,
          "text": "0.14",
          "x": "Cluster 0",
          "xref": "x",
          "y": "Cluster 7",
          "yref": "y"
         },
         {
          "font": {
           "color": "Black"
          },
          "showarrow": false,
          "text": "-0.12",
          "x": "Cluster 1",
          "xref": "x",
          "y": "Cluster 7",
          "yref": "y"
         },
         {
          "font": {
           "color": "Black"
          },
          "showarrow": false,
          "text": "0.23",
          "x": "Cluster 2",
          "xref": "x",
          "y": "Cluster 7",
          "yref": "y"
         },
         {
          "font": {
           "color": "Black"
          },
          "showarrow": false,
          "text": "-0.03",
          "x": "Cluster 3",
          "xref": "x",
          "y": "Cluster 7",
          "yref": "y"
         },
         {
          "font": {
           "color": "Black"
          },
          "showarrow": false,
          "text": "-0.29",
          "x": "Cluster 4",
          "xref": "x",
          "y": "Cluster 7",
          "yref": "y"
         },
         {
          "font": {
           "color": "Black"
          },
          "showarrow": false,
          "text": "0.23",
          "x": "Cluster 5",
          "xref": "x",
          "y": "Cluster 7",
          "yref": "y"
         },
         {
          "font": {
           "color": "Black"
          },
          "showarrow": false,
          "text": "-0.24",
          "x": "Cluster 6",
          "xref": "x",
          "y": "Cluster 7",
          "yref": "y"
         },
         {
          "font": {
           "color": "Black"
          },
          "showarrow": false,
          "text": "",
          "x": "Cluster 7",
          "xref": "x",
          "y": "Cluster 7",
          "yref": "y"
         }
        ],
        "height": 760,
        "margin": {
         "b": 100,
         "l": 100,
         "pad": 10,
         "r": 50,
         "t": 200
        },
        "title": {
         "text": "Cross-correlation for the label"
        },
        "width": 760,
        "xaxis": {
         "automargin": true,
         "side": "top"
        },
        "yaxis": {
         "automargin": true
        }
       }
      },
      "text/html": [
       "<div>\n",
       "        \n",
       "        \n",
       "            <div id=\"c9170587-6371-45c9-bf8b-e70b88644109\" class=\"plotly-graph-div\" style=\"height:760px; width:760px;\"></div>\n",
       "            <script type=\"text/javascript\">\n",
       "                require([\"plotly\"], function(Plotly) {\n",
       "                    window.PLOTLYENV=window.PLOTLYENV || {};\n",
       "                    window.PLOTLYENV.BASE_URL='https://plot.ly';\n",
       "                    \n",
       "                if (document.getElementById(\"c9170587-6371-45c9-bf8b-e70b88644109\")) {\n",
       "                    Plotly.newPlot(\n",
       "                        'c9170587-6371-45c9-bf8b-e70b88644109',\n",
       "                        [{\"colorbar\": {\"len\": 0.5, \"outlinewidth\": 0, \"thickness\": 20, \"title\": {\"side\": \"right\", \"text\": \"\\n \\n Correlation\"}, \"xpad\": 25}, \"colorscale\": [[0.0, \"rgb(31, 119, 180)\"], [0.5, \"rgb(255,255,255)\"], [1, \"rgb(214, 39, 40)\"]], \"showscale\": true, \"type\": \"heatmap\", \"uid\": \"663c0a06-a15d-4471-b283-fc0cd734c358\", \"x\": [\"Cluster 0\", \"Cluster 1\", \"Cluster 2\", \"Cluster 3\", \"Cluster 4\", \"Cluster 5\", \"Cluster 6\", \"Cluster 7\"], \"y\": [\"Cluster 0\", \"Cluster 1\", \"Cluster 2\", \"Cluster 3\", \"Cluster 4\", \"Cluster 5\", \"Cluster 6\", \"Cluster 7\"], \"z\": [[0.0, 0.0, 0.0, 0.0, 0.0, 0.0, 0.0, 0.0], [0.5139014486879006, 0.0, 0.0, 0.0, 0.0, 0.0, 0.0, 0.0], [0.7615364398963685, 0.03975300974896651, 0.0, 0.0, 0.0, 0.0, 0.0, 0.0], [0.24721547919770287, 0.05520537375659451, 0.5295724433896396, 0.0, 0.0, 0.0, 0.0, 0.0], [0.13157674846101505, 0.033653078157982116, 0.19761529823832005, 0.28125589823114594, 0.0, 0.0, 0.0, 0.0], [0.258248245853188, 0.13240269912989666, 0.29151296112727787, -0.043056617263530085, 0.03797570654743163, 0.0, 0.0, 0.0], [0.16106534007133844, 0.2301087324089662, 0.18990004561017412, 0.17089571518799979, 0.06429532235530724, -0.009562689799699741, 0.0, 0.0], [0.13657939552230056, -0.11584084655968858, 0.22902927614867952, -0.027312425777467217, -0.2883304392702664, 0.22637935725349279, -0.2387380321295246, 0.0]], \"zmax\": 1, \"zmid\": 0, \"zmin\": -1}],\n",
       "                        {\"annotations\": [{\"font\": {\"color\": \"Black\"}, \"showarrow\": false, \"text\": \"\", \"x\": \"Cluster 0\", \"xref\": \"x\", \"y\": \"Cluster 0\", \"yref\": \"y\"}, {\"font\": {\"color\": \"Black\"}, \"showarrow\": false, \"text\": \"\", \"x\": \"Cluster 1\", \"xref\": \"x\", \"y\": \"Cluster 0\", \"yref\": \"y\"}, {\"font\": {\"color\": \"Black\"}, \"showarrow\": false, \"text\": \"\", \"x\": \"Cluster 2\", \"xref\": \"x\", \"y\": \"Cluster 0\", \"yref\": \"y\"}, {\"font\": {\"color\": \"Black\"}, \"showarrow\": false, \"text\": \"\", \"x\": \"Cluster 3\", \"xref\": \"x\", \"y\": \"Cluster 0\", \"yref\": \"y\"}, {\"font\": {\"color\": \"Black\"}, \"showarrow\": false, \"text\": \"\", \"x\": \"Cluster 4\", \"xref\": \"x\", \"y\": \"Cluster 0\", \"yref\": \"y\"}, {\"font\": {\"color\": \"Black\"}, \"showarrow\": false, \"text\": \"\", \"x\": \"Cluster 5\", \"xref\": \"x\", \"y\": \"Cluster 0\", \"yref\": \"y\"}, {\"font\": {\"color\": \"Black\"}, \"showarrow\": false, \"text\": \"\", \"x\": \"Cluster 6\", \"xref\": \"x\", \"y\": \"Cluster 0\", \"yref\": \"y\"}, {\"font\": {\"color\": \"Black\"}, \"showarrow\": false, \"text\": \"\", \"x\": \"Cluster 7\", \"xref\": \"x\", \"y\": \"Cluster 0\", \"yref\": \"y\"}, {\"font\": {\"color\": \"Black\"}, \"showarrow\": false, \"text\": \"0.51\", \"x\": \"Cluster 0\", \"xref\": \"x\", \"y\": \"Cluster 1\", \"yref\": \"y\"}, {\"font\": {\"color\": \"Black\"}, \"showarrow\": false, \"text\": \"\", \"x\": \"Cluster 1\", \"xref\": \"x\", \"y\": \"Cluster 1\", \"yref\": \"y\"}, {\"font\": {\"color\": \"Black\"}, \"showarrow\": false, \"text\": \"\", \"x\": \"Cluster 2\", \"xref\": \"x\", \"y\": \"Cluster 1\", \"yref\": \"y\"}, {\"font\": {\"color\": \"Black\"}, \"showarrow\": false, \"text\": \"\", \"x\": \"Cluster 3\", \"xref\": \"x\", \"y\": \"Cluster 1\", \"yref\": \"y\"}, {\"font\": {\"color\": \"Black\"}, \"showarrow\": false, \"text\": \"\", \"x\": \"Cluster 4\", \"xref\": \"x\", \"y\": \"Cluster 1\", \"yref\": \"y\"}, {\"font\": {\"color\": \"Black\"}, \"showarrow\": false, \"text\": \"\", \"x\": \"Cluster 5\", \"xref\": \"x\", \"y\": \"Cluster 1\", \"yref\": \"y\"}, {\"font\": {\"color\": \"Black\"}, \"showarrow\": false, \"text\": \"\", \"x\": \"Cluster 6\", \"xref\": \"x\", \"y\": \"Cluster 1\", \"yref\": \"y\"}, {\"font\": {\"color\": \"Black\"}, \"showarrow\": false, \"text\": \"\", \"x\": \"Cluster 7\", \"xref\": \"x\", \"y\": \"Cluster 1\", \"yref\": \"y\"}, {\"font\": {\"color\": \"Black\"}, \"showarrow\": false, \"text\": \"0.76\", \"x\": \"Cluster 0\", \"xref\": \"x\", \"y\": \"Cluster 2\", \"yref\": \"y\"}, {\"font\": {\"color\": \"Black\"}, \"showarrow\": false, \"text\": \"0.04\", \"x\": \"Cluster 1\", \"xref\": \"x\", \"y\": \"Cluster 2\", \"yref\": \"y\"}, {\"font\": {\"color\": \"Black\"}, \"showarrow\": false, \"text\": \"\", \"x\": \"Cluster 2\", \"xref\": \"x\", \"y\": \"Cluster 2\", \"yref\": \"y\"}, {\"font\": {\"color\": \"Black\"}, \"showarrow\": false, \"text\": \"\", \"x\": \"Cluster 3\", \"xref\": \"x\", \"y\": \"Cluster 2\", \"yref\": \"y\"}, {\"font\": {\"color\": \"Black\"}, \"showarrow\": false, \"text\": \"\", \"x\": \"Cluster 4\", \"xref\": \"x\", \"y\": \"Cluster 2\", \"yref\": \"y\"}, {\"font\": {\"color\": \"Black\"}, \"showarrow\": false, \"text\": \"\", \"x\": \"Cluster 5\", \"xref\": \"x\", \"y\": \"Cluster 2\", \"yref\": \"y\"}, {\"font\": {\"color\": \"Black\"}, \"showarrow\": false, \"text\": \"\", \"x\": \"Cluster 6\", \"xref\": \"x\", \"y\": \"Cluster 2\", \"yref\": \"y\"}, {\"font\": {\"color\": \"Black\"}, \"showarrow\": false, \"text\": \"\", \"x\": \"Cluster 7\", \"xref\": \"x\", \"y\": \"Cluster 2\", \"yref\": \"y\"}, {\"font\": {\"color\": \"Black\"}, \"showarrow\": false, \"text\": \"0.25\", \"x\": \"Cluster 0\", \"xref\": \"x\", \"y\": \"Cluster 3\", \"yref\": \"y\"}, {\"font\": {\"color\": \"Black\"}, \"showarrow\": false, \"text\": \"0.06\", \"x\": \"Cluster 1\", \"xref\": \"x\", \"y\": \"Cluster 3\", \"yref\": \"y\"}, {\"font\": {\"color\": \"Black\"}, \"showarrow\": false, \"text\": \"0.53\", \"x\": \"Cluster 2\", \"xref\": \"x\", \"y\": \"Cluster 3\", \"yref\": \"y\"}, {\"font\": {\"color\": \"Black\"}, \"showarrow\": false, \"text\": \"\", \"x\": \"Cluster 3\", \"xref\": \"x\", \"y\": \"Cluster 3\", \"yref\": \"y\"}, {\"font\": {\"color\": \"Black\"}, \"showarrow\": false, \"text\": \"\", \"x\": \"Cluster 4\", \"xref\": \"x\", \"y\": \"Cluster 3\", \"yref\": \"y\"}, {\"font\": {\"color\": \"Black\"}, \"showarrow\": false, \"text\": \"\", \"x\": \"Cluster 5\", \"xref\": \"x\", \"y\": \"Cluster 3\", \"yref\": \"y\"}, {\"font\": {\"color\": \"Black\"}, \"showarrow\": false, \"text\": \"\", \"x\": \"Cluster 6\", \"xref\": \"x\", \"y\": \"Cluster 3\", \"yref\": \"y\"}, {\"font\": {\"color\": \"Black\"}, \"showarrow\": false, \"text\": \"\", \"x\": \"Cluster 7\", \"xref\": \"x\", \"y\": \"Cluster 3\", \"yref\": \"y\"}, {\"font\": {\"color\": \"Black\"}, \"showarrow\": false, \"text\": \"0.13\", \"x\": \"Cluster 0\", \"xref\": \"x\", \"y\": \"Cluster 4\", \"yref\": \"y\"}, {\"font\": {\"color\": \"Black\"}, \"showarrow\": false, \"text\": \"0.03\", \"x\": \"Cluster 1\", \"xref\": \"x\", \"y\": \"Cluster 4\", \"yref\": \"y\"}, {\"font\": {\"color\": \"Black\"}, \"showarrow\": false, \"text\": \"0.2\", \"x\": \"Cluster 2\", \"xref\": \"x\", \"y\": \"Cluster 4\", \"yref\": \"y\"}, {\"font\": {\"color\": \"Black\"}, \"showarrow\": false, \"text\": \"0.28\", \"x\": \"Cluster 3\", \"xref\": \"x\", \"y\": \"Cluster 4\", \"yref\": \"y\"}, {\"font\": {\"color\": \"Black\"}, \"showarrow\": false, \"text\": \"\", \"x\": \"Cluster 4\", \"xref\": \"x\", \"y\": \"Cluster 4\", \"yref\": \"y\"}, {\"font\": {\"color\": \"Black\"}, \"showarrow\": false, \"text\": \"\", \"x\": \"Cluster 5\", \"xref\": \"x\", \"y\": \"Cluster 4\", \"yref\": \"y\"}, {\"font\": {\"color\": \"Black\"}, \"showarrow\": false, \"text\": \"\", \"x\": \"Cluster 6\", \"xref\": \"x\", \"y\": \"Cluster 4\", \"yref\": \"y\"}, {\"font\": {\"color\": \"Black\"}, \"showarrow\": false, \"text\": \"\", \"x\": \"Cluster 7\", \"xref\": \"x\", \"y\": \"Cluster 4\", \"yref\": \"y\"}, {\"font\": {\"color\": \"Black\"}, \"showarrow\": false, \"text\": \"0.26\", \"x\": \"Cluster 0\", \"xref\": \"x\", \"y\": \"Cluster 5\", \"yref\": \"y\"}, {\"font\": {\"color\": \"Black\"}, \"showarrow\": false, \"text\": \"0.13\", \"x\": \"Cluster 1\", \"xref\": \"x\", \"y\": \"Cluster 5\", \"yref\": \"y\"}, {\"font\": {\"color\": \"Black\"}, \"showarrow\": false, \"text\": \"0.29\", \"x\": \"Cluster 2\", \"xref\": \"x\", \"y\": \"Cluster 5\", \"yref\": \"y\"}, {\"font\": {\"color\": \"Black\"}, \"showarrow\": false, \"text\": \"-0.04\", \"x\": \"Cluster 3\", \"xref\": \"x\", \"y\": \"Cluster 5\", \"yref\": \"y\"}, {\"font\": {\"color\": \"Black\"}, \"showarrow\": false, \"text\": \"0.04\", \"x\": \"Cluster 4\", \"xref\": \"x\", \"y\": \"Cluster 5\", \"yref\": \"y\"}, {\"font\": {\"color\": \"Black\"}, \"showarrow\": false, \"text\": \"\", \"x\": \"Cluster 5\", \"xref\": \"x\", \"y\": \"Cluster 5\", \"yref\": \"y\"}, {\"font\": {\"color\": \"Black\"}, \"showarrow\": false, \"text\": \"\", \"x\": \"Cluster 6\", \"xref\": \"x\", \"y\": \"Cluster 5\", \"yref\": \"y\"}, {\"font\": {\"color\": \"Black\"}, \"showarrow\": false, \"text\": \"\", \"x\": \"Cluster 7\", \"xref\": \"x\", \"y\": \"Cluster 5\", \"yref\": \"y\"}, {\"font\": {\"color\": \"Black\"}, \"showarrow\": false, \"text\": \"0.16\", \"x\": \"Cluster 0\", \"xref\": \"x\", \"y\": \"Cluster 6\", \"yref\": \"y\"}, {\"font\": {\"color\": \"Black\"}, \"showarrow\": false, \"text\": \"0.23\", \"x\": \"Cluster 1\", \"xref\": \"x\", \"y\": \"Cluster 6\", \"yref\": \"y\"}, {\"font\": {\"color\": \"Black\"}, \"showarrow\": false, \"text\": \"0.19\", \"x\": \"Cluster 2\", \"xref\": \"x\", \"y\": \"Cluster 6\", \"yref\": \"y\"}, {\"font\": {\"color\": \"Black\"}, \"showarrow\": false, \"text\": \"0.17\", \"x\": \"Cluster 3\", \"xref\": \"x\", \"y\": \"Cluster 6\", \"yref\": \"y\"}, {\"font\": {\"color\": \"Black\"}, \"showarrow\": false, \"text\": \"0.06\", \"x\": \"Cluster 4\", \"xref\": \"x\", \"y\": \"Cluster 6\", \"yref\": \"y\"}, {\"font\": {\"color\": \"Black\"}, \"showarrow\": false, \"text\": \"-0.01\", \"x\": \"Cluster 5\", \"xref\": \"x\", \"y\": \"Cluster 6\", \"yref\": \"y\"}, {\"font\": {\"color\": \"Black\"}, \"showarrow\": false, \"text\": \"\", \"x\": \"Cluster 6\", \"xref\": \"x\", \"y\": \"Cluster 6\", \"yref\": \"y\"}, {\"font\": {\"color\": \"Black\"}, \"showarrow\": false, \"text\": \"\", \"x\": \"Cluster 7\", \"xref\": \"x\", \"y\": \"Cluster 6\", \"yref\": \"y\"}, {\"font\": {\"color\": \"Black\"}, \"showarrow\": false, \"text\": \"0.14\", \"x\": \"Cluster 0\", \"xref\": \"x\", \"y\": \"Cluster 7\", \"yref\": \"y\"}, {\"font\": {\"color\": \"Black\"}, \"showarrow\": false, \"text\": \"-0.12\", \"x\": \"Cluster 1\", \"xref\": \"x\", \"y\": \"Cluster 7\", \"yref\": \"y\"}, {\"font\": {\"color\": \"Black\"}, \"showarrow\": false, \"text\": \"0.23\", \"x\": \"Cluster 2\", \"xref\": \"x\", \"y\": \"Cluster 7\", \"yref\": \"y\"}, {\"font\": {\"color\": \"Black\"}, \"showarrow\": false, \"text\": \"-0.03\", \"x\": \"Cluster 3\", \"xref\": \"x\", \"y\": \"Cluster 7\", \"yref\": \"y\"}, {\"font\": {\"color\": \"Black\"}, \"showarrow\": false, \"text\": \"-0.29\", \"x\": \"Cluster 4\", \"xref\": \"x\", \"y\": \"Cluster 7\", \"yref\": \"y\"}, {\"font\": {\"color\": \"Black\"}, \"showarrow\": false, \"text\": \"0.23\", \"x\": \"Cluster 5\", \"xref\": \"x\", \"y\": \"Cluster 7\", \"yref\": \"y\"}, {\"font\": {\"color\": \"Black\"}, \"showarrow\": false, \"text\": \"-0.24\", \"x\": \"Cluster 6\", \"xref\": \"x\", \"y\": \"Cluster 7\", \"yref\": \"y\"}, {\"font\": {\"color\": \"Black\"}, \"showarrow\": false, \"text\": \"\", \"x\": \"Cluster 7\", \"xref\": \"x\", \"y\": \"Cluster 7\", \"yref\": \"y\"}], \"height\": 760, \"margin\": {\"b\": 100, \"l\": 100, \"pad\": 10, \"r\": 50, \"t\": 200}, \"title\": {\"text\": \"Cross-correlation for the label\"}, \"width\": 760, \"xaxis\": {\"automargin\": true, \"side\": \"top\"}, \"yaxis\": {\"automargin\": true}},\n",
       "                        {\"showLink\": false, \"linkText\": \"Export to plot.ly\", \"plotlyServerURL\": \"https://plot.ly\", \"responsive\": true}\n",
       "                    ).then(function(){\n",
       "                            \n",
       "var gd = document.getElementById('c9170587-6371-45c9-bf8b-e70b88644109');\n",
       "var x = new MutationObserver(function (mutations, observer) {{\n",
       "        var display = window.getComputedStyle(gd).display;\n",
       "        if (!display || display === 'none') {{\n",
       "            console.log([gd, 'removed!']);\n",
       "            Plotly.purge(gd);\n",
       "            observer.disconnect();\n",
       "        }}\n",
       "}});\n",
       "\n",
       "// Listen for the removal of the full notebook cells\n",
       "var notebookContainer = gd.closest('#notebook-container');\n",
       "if (notebookContainer) {{\n",
       "    x.observe(notebookContainer, {childList: true});\n",
       "}}\n",
       "\n",
       "// Listen for the clearing of the current output cell\n",
       "var outputEl = gd.closest('.output');\n",
       "if (outputEl) {{\n",
       "    x.observe(outputEl, {childList: true});\n",
       "}}\n",
       "\n",
       "                        })\n",
       "                };\n",
       "                });\n",
       "            </script>\n",
       "        </div>"
      ]
     },
     "metadata": {},
     "output_type": "display_data"
    },
    {
     "name": "stderr",
     "output_type": "stream",
     "text": [
      "/anaconda3/envs/DL/lib/python3.7/site-packages/numpy/lib/function_base.py:2522: RuntimeWarning:\n",
      "\n",
      "Degrees of freedom <= 0 for slice\n",
      "\n"
     ]
    },
    {
     "data": {
      "application/vnd.plotly.v1+json": {
       "config": {
        "linkText": "Export to plot.ly",
        "plotlyServerURL": "https://plot.ly",
        "showLink": false
       },
       "data": [
        {
         "colorbar": {
          "len": 0.5,
          "outlinewidth": 0,
          "thickness": 20,
          "title": {
           "side": "right",
           "text": "\n \n Correlation"
          },
          "xpad": 25
         },
         "colorscale": [
          [
           0,
           "rgb(31, 119, 180)"
          ],
          [
           0.5,
           "rgb(255,255,255)"
          ],
          [
           1,
           "rgb(214, 39, 40)"
          ]
         ],
         "showscale": true,
         "type": "heatmap",
         "uid": "af608959-d221-41b3-88dc-5e9add1d6be0",
         "x": [
          "Collections",
          "Cost of Sales",
          "Depreciation",
          "Disbursement",
          "Fixed Assets",
          "Payroll",
          "Purchase",
          "Sales 21 btw",
          "Sales 6 btw",
          "Tax disbursement"
         ],
         "y": [
          "Collections",
          "Cost of Sales",
          "Depreciation",
          "Disbursement",
          "Fixed Assets",
          "Payroll",
          "Purchase",
          "Sales 21 btw",
          "Sales 6 btw",
          "Tax disbursement"
         ],
         "z": [
          [
           0,
           0,
           0,
           0,
           0,
           0,
           0,
           0,
           0,
           0
          ],
          [
           0.2518905867914216,
           0,
           0,
           0,
           0,
           0,
           0,
           0,
           0,
           0
          ],
          [
           0.28125589823114594,
           0.13979891821595478,
           0,
           0,
           0,
           0,
           0,
           0,
           0,
           0
          ],
          [
           0,
           0,
           0,
           0,
           0,
           0,
           0,
           0,
           0,
           0
          ],
          [
           -0.043056617263530085,
           0.2509638456586977,
           0.03797570654743163,
           0,
           0,
           0,
           0,
           0,
           0,
           0
          ],
          [
           -0.027312425777467217,
           0.12879882321686406,
           -0.2883304392702664,
           0,
           0.22637935725349279,
           0,
           0,
           0,
           0,
           0
          ],
          [
           0.17089571518799979,
           0.16344500100466047,
           0.06429532235530724,
           0,
           -0.009562689799699741,
           -0.2387380321295246,
           0,
           0,
           0,
           0
          ],
          [
           0.3731994584259343,
           0.5748233735598919,
           0.2496668888991887,
           0,
           0.3843189643815771,
           0.15779919107386295,
           0.2183679017324145,
           0,
           0,
           0
          ],
          [
           0.19561466916270331,
           0.6990562443133266,
           0.14937658706680032,
           0,
           0.15913138168806293,
           -0.035869029247419255,
           0.2685433180305159,
           0.12571389853687462,
           0,
           0
          ],
          [
           0,
           0,
           0,
           0,
           0,
           0,
           0,
           0,
           0,
           0
          ]
         ],
         "zmax": 1,
         "zmid": 0,
         "zmin": -1
        }
       ],
       "layout": {
        "annotations": [
         {
          "font": {
           "color": "Black"
          },
          "showarrow": false,
          "text": "",
          "x": "Collections",
          "xref": "x",
          "y": "Collections",
          "yref": "y"
         },
         {
          "font": {
           "color": "Black"
          },
          "showarrow": false,
          "text": "",
          "x": "Cost of Sales",
          "xref": "x",
          "y": "Collections",
          "yref": "y"
         },
         {
          "font": {
           "color": "Black"
          },
          "showarrow": false,
          "text": "",
          "x": "Depreciation",
          "xref": "x",
          "y": "Collections",
          "yref": "y"
         },
         {
          "font": {
           "color": "Black"
          },
          "showarrow": false,
          "text": "",
          "x": "Disbursement",
          "xref": "x",
          "y": "Collections",
          "yref": "y"
         },
         {
          "font": {
           "color": "Black"
          },
          "showarrow": false,
          "text": "",
          "x": "Fixed Assets",
          "xref": "x",
          "y": "Collections",
          "yref": "y"
         },
         {
          "font": {
           "color": "Black"
          },
          "showarrow": false,
          "text": "",
          "x": "Payroll",
          "xref": "x",
          "y": "Collections",
          "yref": "y"
         },
         {
          "font": {
           "color": "Black"
          },
          "showarrow": false,
          "text": "",
          "x": "Purchase",
          "xref": "x",
          "y": "Collections",
          "yref": "y"
         },
         {
          "font": {
           "color": "Black"
          },
          "showarrow": false,
          "text": "",
          "x": "Sales 21 btw",
          "xref": "x",
          "y": "Collections",
          "yref": "y"
         },
         {
          "font": {
           "color": "Black"
          },
          "showarrow": false,
          "text": "",
          "x": "Sales 6 btw",
          "xref": "x",
          "y": "Collections",
          "yref": "y"
         },
         {
          "font": {
           "color": "Black"
          },
          "showarrow": false,
          "text": "",
          "x": "Tax disbursement",
          "xref": "x",
          "y": "Collections",
          "yref": "y"
         },
         {
          "font": {
           "color": "Black"
          },
          "showarrow": false,
          "text": "0.25",
          "x": "Collections",
          "xref": "x",
          "y": "Cost of Sales",
          "yref": "y"
         },
         {
          "font": {
           "color": "Black"
          },
          "showarrow": false,
          "text": "",
          "x": "Cost of Sales",
          "xref": "x",
          "y": "Cost of Sales",
          "yref": "y"
         },
         {
          "font": {
           "color": "Black"
          },
          "showarrow": false,
          "text": "",
          "x": "Depreciation",
          "xref": "x",
          "y": "Cost of Sales",
          "yref": "y"
         },
         {
          "font": {
           "color": "Black"
          },
          "showarrow": false,
          "text": "",
          "x": "Disbursement",
          "xref": "x",
          "y": "Cost of Sales",
          "yref": "y"
         },
         {
          "font": {
           "color": "Black"
          },
          "showarrow": false,
          "text": "",
          "x": "Fixed Assets",
          "xref": "x",
          "y": "Cost of Sales",
          "yref": "y"
         },
         {
          "font": {
           "color": "Black"
          },
          "showarrow": false,
          "text": "",
          "x": "Payroll",
          "xref": "x",
          "y": "Cost of Sales",
          "yref": "y"
         },
         {
          "font": {
           "color": "Black"
          },
          "showarrow": false,
          "text": "",
          "x": "Purchase",
          "xref": "x",
          "y": "Cost of Sales",
          "yref": "y"
         },
         {
          "font": {
           "color": "Black"
          },
          "showarrow": false,
          "text": "",
          "x": "Sales 21 btw",
          "xref": "x",
          "y": "Cost of Sales",
          "yref": "y"
         },
         {
          "font": {
           "color": "Black"
          },
          "showarrow": false,
          "text": "",
          "x": "Sales 6 btw",
          "xref": "x",
          "y": "Cost of Sales",
          "yref": "y"
         },
         {
          "font": {
           "color": "Black"
          },
          "showarrow": false,
          "text": "",
          "x": "Tax disbursement",
          "xref": "x",
          "y": "Cost of Sales",
          "yref": "y"
         },
         {
          "font": {
           "color": "Black"
          },
          "showarrow": false,
          "text": "0.28",
          "x": "Collections",
          "xref": "x",
          "y": "Depreciation",
          "yref": "y"
         },
         {
          "font": {
           "color": "Black"
          },
          "showarrow": false,
          "text": "0.14",
          "x": "Cost of Sales",
          "xref": "x",
          "y": "Depreciation",
          "yref": "y"
         },
         {
          "font": {
           "color": "Black"
          },
          "showarrow": false,
          "text": "",
          "x": "Depreciation",
          "xref": "x",
          "y": "Depreciation",
          "yref": "y"
         },
         {
          "font": {
           "color": "Black"
          },
          "showarrow": false,
          "text": "",
          "x": "Disbursement",
          "xref": "x",
          "y": "Depreciation",
          "yref": "y"
         },
         {
          "font": {
           "color": "Black"
          },
          "showarrow": false,
          "text": "",
          "x": "Fixed Assets",
          "xref": "x",
          "y": "Depreciation",
          "yref": "y"
         },
         {
          "font": {
           "color": "Black"
          },
          "showarrow": false,
          "text": "",
          "x": "Payroll",
          "xref": "x",
          "y": "Depreciation",
          "yref": "y"
         },
         {
          "font": {
           "color": "Black"
          },
          "showarrow": false,
          "text": "",
          "x": "Purchase",
          "xref": "x",
          "y": "Depreciation",
          "yref": "y"
         },
         {
          "font": {
           "color": "Black"
          },
          "showarrow": false,
          "text": "",
          "x": "Sales 21 btw",
          "xref": "x",
          "y": "Depreciation",
          "yref": "y"
         },
         {
          "font": {
           "color": "Black"
          },
          "showarrow": false,
          "text": "",
          "x": "Sales 6 btw",
          "xref": "x",
          "y": "Depreciation",
          "yref": "y"
         },
         {
          "font": {
           "color": "Black"
          },
          "showarrow": false,
          "text": "",
          "x": "Tax disbursement",
          "xref": "x",
          "y": "Depreciation",
          "yref": "y"
         },
         {
          "font": {
           "color": "Black"
          },
          "showarrow": false,
          "text": "",
          "x": "Collections",
          "xref": "x",
          "y": "Disbursement",
          "yref": "y"
         },
         {
          "font": {
           "color": "Black"
          },
          "showarrow": false,
          "text": "",
          "x": "Cost of Sales",
          "xref": "x",
          "y": "Disbursement",
          "yref": "y"
         },
         {
          "font": {
           "color": "Black"
          },
          "showarrow": false,
          "text": "",
          "x": "Depreciation",
          "xref": "x",
          "y": "Disbursement",
          "yref": "y"
         },
         {
          "font": {
           "color": "Black"
          },
          "showarrow": false,
          "text": "",
          "x": "Disbursement",
          "xref": "x",
          "y": "Disbursement",
          "yref": "y"
         },
         {
          "font": {
           "color": "Black"
          },
          "showarrow": false,
          "text": "",
          "x": "Fixed Assets",
          "xref": "x",
          "y": "Disbursement",
          "yref": "y"
         },
         {
          "font": {
           "color": "Black"
          },
          "showarrow": false,
          "text": "",
          "x": "Payroll",
          "xref": "x",
          "y": "Disbursement",
          "yref": "y"
         },
         {
          "font": {
           "color": "Black"
          },
          "showarrow": false,
          "text": "",
          "x": "Purchase",
          "xref": "x",
          "y": "Disbursement",
          "yref": "y"
         },
         {
          "font": {
           "color": "Black"
          },
          "showarrow": false,
          "text": "",
          "x": "Sales 21 btw",
          "xref": "x",
          "y": "Disbursement",
          "yref": "y"
         },
         {
          "font": {
           "color": "Black"
          },
          "showarrow": false,
          "text": "",
          "x": "Sales 6 btw",
          "xref": "x",
          "y": "Disbursement",
          "yref": "y"
         },
         {
          "font": {
           "color": "Black"
          },
          "showarrow": false,
          "text": "",
          "x": "Tax disbursement",
          "xref": "x",
          "y": "Disbursement",
          "yref": "y"
         },
         {
          "font": {
           "color": "Black"
          },
          "showarrow": false,
          "text": "-0.04",
          "x": "Collections",
          "xref": "x",
          "y": "Fixed Assets",
          "yref": "y"
         },
         {
          "font": {
           "color": "Black"
          },
          "showarrow": false,
          "text": "0.25",
          "x": "Cost of Sales",
          "xref": "x",
          "y": "Fixed Assets",
          "yref": "y"
         },
         {
          "font": {
           "color": "Black"
          },
          "showarrow": false,
          "text": "0.04",
          "x": "Depreciation",
          "xref": "x",
          "y": "Fixed Assets",
          "yref": "y"
         },
         {
          "font": {
           "color": "Black"
          },
          "showarrow": false,
          "text": "",
          "x": "Disbursement",
          "xref": "x",
          "y": "Fixed Assets",
          "yref": "y"
         },
         {
          "font": {
           "color": "Black"
          },
          "showarrow": false,
          "text": "",
          "x": "Fixed Assets",
          "xref": "x",
          "y": "Fixed Assets",
          "yref": "y"
         },
         {
          "font": {
           "color": "Black"
          },
          "showarrow": false,
          "text": "",
          "x": "Payroll",
          "xref": "x",
          "y": "Fixed Assets",
          "yref": "y"
         },
         {
          "font": {
           "color": "Black"
          },
          "showarrow": false,
          "text": "",
          "x": "Purchase",
          "xref": "x",
          "y": "Fixed Assets",
          "yref": "y"
         },
         {
          "font": {
           "color": "Black"
          },
          "showarrow": false,
          "text": "",
          "x": "Sales 21 btw",
          "xref": "x",
          "y": "Fixed Assets",
          "yref": "y"
         },
         {
          "font": {
           "color": "Black"
          },
          "showarrow": false,
          "text": "",
          "x": "Sales 6 btw",
          "xref": "x",
          "y": "Fixed Assets",
          "yref": "y"
         },
         {
          "font": {
           "color": "Black"
          },
          "showarrow": false,
          "text": "",
          "x": "Tax disbursement",
          "xref": "x",
          "y": "Fixed Assets",
          "yref": "y"
         },
         {
          "font": {
           "color": "Black"
          },
          "showarrow": false,
          "text": "-0.03",
          "x": "Collections",
          "xref": "x",
          "y": "Payroll",
          "yref": "y"
         },
         {
          "font": {
           "color": "Black"
          },
          "showarrow": false,
          "text": "0.13",
          "x": "Cost of Sales",
          "xref": "x",
          "y": "Payroll",
          "yref": "y"
         },
         {
          "font": {
           "color": "Black"
          },
          "showarrow": false,
          "text": "-0.29",
          "x": "Depreciation",
          "xref": "x",
          "y": "Payroll",
          "yref": "y"
         },
         {
          "font": {
           "color": "Black"
          },
          "showarrow": false,
          "text": "",
          "x": "Disbursement",
          "xref": "x",
          "y": "Payroll",
          "yref": "y"
         },
         {
          "font": {
           "color": "Black"
          },
          "showarrow": false,
          "text": "0.23",
          "x": "Fixed Assets",
          "xref": "x",
          "y": "Payroll",
          "yref": "y"
         },
         {
          "font": {
           "color": "Black"
          },
          "showarrow": false,
          "text": "",
          "x": "Payroll",
          "xref": "x",
          "y": "Payroll",
          "yref": "y"
         },
         {
          "font": {
           "color": "Black"
          },
          "showarrow": false,
          "text": "",
          "x": "Purchase",
          "xref": "x",
          "y": "Payroll",
          "yref": "y"
         },
         {
          "font": {
           "color": "Black"
          },
          "showarrow": false,
          "text": "",
          "x": "Sales 21 btw",
          "xref": "x",
          "y": "Payroll",
          "yref": "y"
         },
         {
          "font": {
           "color": "Black"
          },
          "showarrow": false,
          "text": "",
          "x": "Sales 6 btw",
          "xref": "x",
          "y": "Payroll",
          "yref": "y"
         },
         {
          "font": {
           "color": "Black"
          },
          "showarrow": false,
          "text": "",
          "x": "Tax disbursement",
          "xref": "x",
          "y": "Payroll",
          "yref": "y"
         },
         {
          "font": {
           "color": "Black"
          },
          "showarrow": false,
          "text": "0.17",
          "x": "Collections",
          "xref": "x",
          "y": "Purchase",
          "yref": "y"
         },
         {
          "font": {
           "color": "Black"
          },
          "showarrow": false,
          "text": "0.16",
          "x": "Cost of Sales",
          "xref": "x",
          "y": "Purchase",
          "yref": "y"
         },
         {
          "font": {
           "color": "Black"
          },
          "showarrow": false,
          "text": "0.06",
          "x": "Depreciation",
          "xref": "x",
          "y": "Purchase",
          "yref": "y"
         },
         {
          "font": {
           "color": "Black"
          },
          "showarrow": false,
          "text": "",
          "x": "Disbursement",
          "xref": "x",
          "y": "Purchase",
          "yref": "y"
         },
         {
          "font": {
           "color": "Black"
          },
          "showarrow": false,
          "text": "-0.01",
          "x": "Fixed Assets",
          "xref": "x",
          "y": "Purchase",
          "yref": "y"
         },
         {
          "font": {
           "color": "Black"
          },
          "showarrow": false,
          "text": "-0.24",
          "x": "Payroll",
          "xref": "x",
          "y": "Purchase",
          "yref": "y"
         },
         {
          "font": {
           "color": "Black"
          },
          "showarrow": false,
          "text": "",
          "x": "Purchase",
          "xref": "x",
          "y": "Purchase",
          "yref": "y"
         },
         {
          "font": {
           "color": "Black"
          },
          "showarrow": false,
          "text": "",
          "x": "Sales 21 btw",
          "xref": "x",
          "y": "Purchase",
          "yref": "y"
         },
         {
          "font": {
           "color": "Black"
          },
          "showarrow": false,
          "text": "",
          "x": "Sales 6 btw",
          "xref": "x",
          "y": "Purchase",
          "yref": "y"
         },
         {
          "font": {
           "color": "Black"
          },
          "showarrow": false,
          "text": "",
          "x": "Tax disbursement",
          "xref": "x",
          "y": "Purchase",
          "yref": "y"
         },
         {
          "font": {
           "color": "Black"
          },
          "showarrow": false,
          "text": "0.37",
          "x": "Collections",
          "xref": "x",
          "y": "Sales 21 btw",
          "yref": "y"
         },
         {
          "font": {
           "color": "Black"
          },
          "showarrow": false,
          "text": "0.57",
          "x": "Cost of Sales",
          "xref": "x",
          "y": "Sales 21 btw",
          "yref": "y"
         },
         {
          "font": {
           "color": "Black"
          },
          "showarrow": false,
          "text": "0.25",
          "x": "Depreciation",
          "xref": "x",
          "y": "Sales 21 btw",
          "yref": "y"
         },
         {
          "font": {
           "color": "Black"
          },
          "showarrow": false,
          "text": "",
          "x": "Disbursement",
          "xref": "x",
          "y": "Sales 21 btw",
          "yref": "y"
         },
         {
          "font": {
           "color": "Black"
          },
          "showarrow": false,
          "text": "0.38",
          "x": "Fixed Assets",
          "xref": "x",
          "y": "Sales 21 btw",
          "yref": "y"
         },
         {
          "font": {
           "color": "Black"
          },
          "showarrow": false,
          "text": "0.16",
          "x": "Payroll",
          "xref": "x",
          "y": "Sales 21 btw",
          "yref": "y"
         },
         {
          "font": {
           "color": "Black"
          },
          "showarrow": false,
          "text": "0.22",
          "x": "Purchase",
          "xref": "x",
          "y": "Sales 21 btw",
          "yref": "y"
         },
         {
          "font": {
           "color": "Black"
          },
          "showarrow": false,
          "text": "",
          "x": "Sales 21 btw",
          "xref": "x",
          "y": "Sales 21 btw",
          "yref": "y"
         },
         {
          "font": {
           "color": "Black"
          },
          "showarrow": false,
          "text": "",
          "x": "Sales 6 btw",
          "xref": "x",
          "y": "Sales 21 btw",
          "yref": "y"
         },
         {
          "font": {
           "color": "Black"
          },
          "showarrow": false,
          "text": "",
          "x": "Tax disbursement",
          "xref": "x",
          "y": "Sales 21 btw",
          "yref": "y"
         },
         {
          "font": {
           "color": "Black"
          },
          "showarrow": false,
          "text": "0.2",
          "x": "Collections",
          "xref": "x",
          "y": "Sales 6 btw",
          "yref": "y"
         },
         {
          "font": {
           "color": "Black"
          },
          "showarrow": false,
          "text": "0.7",
          "x": "Cost of Sales",
          "xref": "x",
          "y": "Sales 6 btw",
          "yref": "y"
         },
         {
          "font": {
           "color": "Black"
          },
          "showarrow": false,
          "text": "0.15",
          "x": "Depreciation",
          "xref": "x",
          "y": "Sales 6 btw",
          "yref": "y"
         },
         {
          "font": {
           "color": "Black"
          },
          "showarrow": false,
          "text": "",
          "x": "Disbursement",
          "xref": "x",
          "y": "Sales 6 btw",
          "yref": "y"
         },
         {
          "font": {
           "color": "Black"
          },
          "showarrow": false,
          "text": "0.16",
          "x": "Fixed Assets",
          "xref": "x",
          "y": "Sales 6 btw",
          "yref": "y"
         },
         {
          "font": {
           "color": "Black"
          },
          "showarrow": false,
          "text": "-0.04",
          "x": "Payroll",
          "xref": "x",
          "y": "Sales 6 btw",
          "yref": "y"
         },
         {
          "font": {
           "color": "Black"
          },
          "showarrow": false,
          "text": "0.27",
          "x": "Purchase",
          "xref": "x",
          "y": "Sales 6 btw",
          "yref": "y"
         },
         {
          "font": {
           "color": "Black"
          },
          "showarrow": false,
          "text": "0.13",
          "x": "Sales 21 btw",
          "xref": "x",
          "y": "Sales 6 btw",
          "yref": "y"
         },
         {
          "font": {
           "color": "Black"
          },
          "showarrow": false,
          "text": "",
          "x": "Sales 6 btw",
          "xref": "x",
          "y": "Sales 6 btw",
          "yref": "y"
         },
         {
          "font": {
           "color": "Black"
          },
          "showarrow": false,
          "text": "",
          "x": "Tax disbursement",
          "xref": "x",
          "y": "Sales 6 btw",
          "yref": "y"
         },
         {
          "font": {
           "color": "Black"
          },
          "showarrow": false,
          "text": "",
          "x": "Collections",
          "xref": "x",
          "y": "Tax disbursement",
          "yref": "y"
         },
         {
          "font": {
           "color": "Black"
          },
          "showarrow": false,
          "text": "",
          "x": "Cost of Sales",
          "xref": "x",
          "y": "Tax disbursement",
          "yref": "y"
         },
         {
          "font": {
           "color": "Black"
          },
          "showarrow": false,
          "text": "",
          "x": "Depreciation",
          "xref": "x",
          "y": "Tax disbursement",
          "yref": "y"
         },
         {
          "font": {
           "color": "Black"
          },
          "showarrow": false,
          "text": "",
          "x": "Disbursement",
          "xref": "x",
          "y": "Tax disbursement",
          "yref": "y"
         },
         {
          "font": {
           "color": "Black"
          },
          "showarrow": false,
          "text": "",
          "x": "Fixed Assets",
          "xref": "x",
          "y": "Tax disbursement",
          "yref": "y"
         },
         {
          "font": {
           "color": "Black"
          },
          "showarrow": false,
          "text": "",
          "x": "Payroll",
          "xref": "x",
          "y": "Tax disbursement",
          "yref": "y"
         },
         {
          "font": {
           "color": "Black"
          },
          "showarrow": false,
          "text": "",
          "x": "Purchase",
          "xref": "x",
          "y": "Tax disbursement",
          "yref": "y"
         },
         {
          "font": {
           "color": "Black"
          },
          "showarrow": false,
          "text": "",
          "x": "Sales 21 btw",
          "xref": "x",
          "y": "Tax disbursement",
          "yref": "y"
         },
         {
          "font": {
           "color": "Black"
          },
          "showarrow": false,
          "text": "",
          "x": "Sales 6 btw",
          "xref": "x",
          "y": "Tax disbursement",
          "yref": "y"
         },
         {
          "font": {
           "color": "Black"
          },
          "showarrow": false,
          "text": "",
          "x": "Tax disbursement",
          "xref": "x",
          "y": "Tax disbursement",
          "yref": "y"
         }
        ],
        "height": 900,
        "margin": {
         "b": 100,
         "l": 100,
         "pad": 10,
         "r": 50,
         "t": 200
        },
        "title": {
         "text": "Cross-correlation for the GroundTruth"
        },
        "width": 900,
        "xaxis": {
         "automargin": true,
         "side": "top"
        },
        "yaxis": {
         "automargin": true
        }
       }
      },
      "text/html": [
       "<div>\n",
       "        \n",
       "        \n",
       "            <div id=\"088e41f1-5790-45fa-bd2f-e0005305a691\" class=\"plotly-graph-div\" style=\"height:900px; width:900px;\"></div>\n",
       "            <script type=\"text/javascript\">\n",
       "                require([\"plotly\"], function(Plotly) {\n",
       "                    window.PLOTLYENV=window.PLOTLYENV || {};\n",
       "                    window.PLOTLYENV.BASE_URL='https://plot.ly';\n",
       "                    \n",
       "                if (document.getElementById(\"088e41f1-5790-45fa-bd2f-e0005305a691\")) {\n",
       "                    Plotly.newPlot(\n",
       "                        '088e41f1-5790-45fa-bd2f-e0005305a691',\n",
       "                        [{\"colorbar\": {\"len\": 0.5, \"outlinewidth\": 0, \"thickness\": 20, \"title\": {\"side\": \"right\", \"text\": \"\\n \\n Correlation\"}, \"xpad\": 25}, \"colorscale\": [[0.0, \"rgb(31, 119, 180)\"], [0.5, \"rgb(255,255,255)\"], [1, \"rgb(214, 39, 40)\"]], \"showscale\": true, \"type\": \"heatmap\", \"uid\": \"af608959-d221-41b3-88dc-5e9add1d6be0\", \"x\": [\"Collections\", \"Cost of Sales\", \"Depreciation\", \"Disbursement\", \"Fixed Assets\", \"Payroll\", \"Purchase\", \"Sales 21 btw\", \"Sales 6 btw\", \"Tax disbursement\"], \"y\": [\"Collections\", \"Cost of Sales\", \"Depreciation\", \"Disbursement\", \"Fixed Assets\", \"Payroll\", \"Purchase\", \"Sales 21 btw\", \"Sales 6 btw\", \"Tax disbursement\"], \"z\": [[0.0, 0.0, 0.0, 0.0, 0.0, 0.0, 0.0, 0.0, 0.0, 0.0], [0.2518905867914216, 0.0, 0.0, 0.0, 0.0, 0.0, 0.0, 0.0, 0.0, 0.0], [0.28125589823114594, 0.13979891821595478, 0.0, 0.0, 0.0, 0.0, 0.0, 0.0, 0.0, 0.0], [0.0, 0.0, 0.0, 0.0, 0.0, 0.0, 0.0, 0.0, 0.0, 0.0], [-0.043056617263530085, 0.2509638456586977, 0.03797570654743163, 0.0, 0.0, 0.0, 0.0, 0.0, 0.0, 0.0], [-0.027312425777467217, 0.12879882321686406, -0.2883304392702664, 0.0, 0.22637935725349279, 0.0, 0.0, 0.0, 0.0, 0.0], [0.17089571518799979, 0.16344500100466047, 0.06429532235530724, 0.0, -0.009562689799699741, -0.2387380321295246, 0.0, 0.0, 0.0, 0.0], [0.3731994584259343, 0.5748233735598919, 0.2496668888991887, 0.0, 0.3843189643815771, 0.15779919107386295, 0.2183679017324145, 0.0, 0.0, 0.0], [0.19561466916270331, 0.6990562443133266, 0.14937658706680032, 0.0, 0.15913138168806293, -0.035869029247419255, 0.2685433180305159, 0.12571389853687462, 0.0, 0.0], [0.0, 0.0, 0.0, 0.0, 0.0, 0.0, 0.0, 0.0, 0.0, 0.0]], \"zmax\": 1, \"zmid\": 0, \"zmin\": -1}],\n",
       "                        {\"annotations\": [{\"font\": {\"color\": \"Black\"}, \"showarrow\": false, \"text\": \"\", \"x\": \"Collections\", \"xref\": \"x\", \"y\": \"Collections\", \"yref\": \"y\"}, {\"font\": {\"color\": \"Black\"}, \"showarrow\": false, \"text\": \"\", \"x\": \"Cost of Sales\", \"xref\": \"x\", \"y\": \"Collections\", \"yref\": \"y\"}, {\"font\": {\"color\": \"Black\"}, \"showarrow\": false, \"text\": \"\", \"x\": \"Depreciation\", \"xref\": \"x\", \"y\": \"Collections\", \"yref\": \"y\"}, {\"font\": {\"color\": \"Black\"}, \"showarrow\": false, \"text\": \"\", \"x\": \"Disbursement\", \"xref\": \"x\", \"y\": \"Collections\", \"yref\": \"y\"}, {\"font\": {\"color\": \"Black\"}, \"showarrow\": false, \"text\": \"\", \"x\": \"Fixed Assets\", \"xref\": \"x\", \"y\": \"Collections\", \"yref\": \"y\"}, {\"font\": {\"color\": \"Black\"}, \"showarrow\": false, \"text\": \"\", \"x\": \"Payroll\", \"xref\": \"x\", \"y\": \"Collections\", \"yref\": \"y\"}, {\"font\": {\"color\": \"Black\"}, \"showarrow\": false, \"text\": \"\", \"x\": \"Purchase\", \"xref\": \"x\", \"y\": \"Collections\", \"yref\": \"y\"}, {\"font\": {\"color\": \"Black\"}, \"showarrow\": false, \"text\": \"\", \"x\": \"Sales 21 btw\", \"xref\": \"x\", \"y\": \"Collections\", \"yref\": \"y\"}, {\"font\": {\"color\": \"Black\"}, \"showarrow\": false, \"text\": \"\", \"x\": \"Sales 6 btw\", \"xref\": \"x\", \"y\": \"Collections\", \"yref\": \"y\"}, {\"font\": {\"color\": \"Black\"}, \"showarrow\": false, \"text\": \"\", \"x\": \"Tax disbursement\", \"xref\": \"x\", \"y\": \"Collections\", \"yref\": \"y\"}, {\"font\": {\"color\": \"Black\"}, \"showarrow\": false, \"text\": \"0.25\", \"x\": \"Collections\", \"xref\": \"x\", \"y\": \"Cost of Sales\", \"yref\": \"y\"}, {\"font\": {\"color\": \"Black\"}, \"showarrow\": false, \"text\": \"\", \"x\": \"Cost of Sales\", \"xref\": \"x\", \"y\": \"Cost of Sales\", \"yref\": \"y\"}, {\"font\": {\"color\": \"Black\"}, \"showarrow\": false, \"text\": \"\", \"x\": \"Depreciation\", \"xref\": \"x\", \"y\": \"Cost of Sales\", \"yref\": \"y\"}, {\"font\": {\"color\": \"Black\"}, \"showarrow\": false, \"text\": \"\", \"x\": \"Disbursement\", \"xref\": \"x\", \"y\": \"Cost of Sales\", \"yref\": \"y\"}, {\"font\": {\"color\": \"Black\"}, \"showarrow\": false, \"text\": \"\", \"x\": \"Fixed Assets\", \"xref\": \"x\", \"y\": \"Cost of Sales\", \"yref\": \"y\"}, {\"font\": {\"color\": \"Black\"}, \"showarrow\": false, \"text\": \"\", \"x\": \"Payroll\", \"xref\": \"x\", \"y\": \"Cost of Sales\", \"yref\": \"y\"}, {\"font\": {\"color\": \"Black\"}, \"showarrow\": false, \"text\": \"\", \"x\": \"Purchase\", \"xref\": \"x\", \"y\": \"Cost of Sales\", \"yref\": \"y\"}, {\"font\": {\"color\": \"Black\"}, \"showarrow\": false, \"text\": \"\", \"x\": \"Sales 21 btw\", \"xref\": \"x\", \"y\": \"Cost of Sales\", \"yref\": \"y\"}, {\"font\": {\"color\": \"Black\"}, \"showarrow\": false, \"text\": \"\", \"x\": \"Sales 6 btw\", \"xref\": \"x\", \"y\": \"Cost of Sales\", \"yref\": \"y\"}, {\"font\": {\"color\": \"Black\"}, \"showarrow\": false, \"text\": \"\", \"x\": \"Tax disbursement\", \"xref\": \"x\", \"y\": \"Cost of Sales\", \"yref\": \"y\"}, {\"font\": {\"color\": \"Black\"}, \"showarrow\": false, \"text\": \"0.28\", \"x\": \"Collections\", \"xref\": \"x\", \"y\": \"Depreciation\", \"yref\": \"y\"}, {\"font\": {\"color\": \"Black\"}, \"showarrow\": false, \"text\": \"0.14\", \"x\": \"Cost of Sales\", \"xref\": \"x\", \"y\": \"Depreciation\", \"yref\": \"y\"}, {\"font\": {\"color\": \"Black\"}, \"showarrow\": false, \"text\": \"\", \"x\": \"Depreciation\", \"xref\": \"x\", \"y\": \"Depreciation\", \"yref\": \"y\"}, {\"font\": {\"color\": \"Black\"}, \"showarrow\": false, \"text\": \"\", \"x\": \"Disbursement\", \"xref\": \"x\", \"y\": \"Depreciation\", \"yref\": \"y\"}, {\"font\": {\"color\": \"Black\"}, \"showarrow\": false, \"text\": \"\", \"x\": \"Fixed Assets\", \"xref\": \"x\", \"y\": \"Depreciation\", \"yref\": \"y\"}, {\"font\": {\"color\": \"Black\"}, \"showarrow\": false, \"text\": \"\", \"x\": \"Payroll\", \"xref\": \"x\", \"y\": \"Depreciation\", \"yref\": \"y\"}, {\"font\": {\"color\": \"Black\"}, \"showarrow\": false, \"text\": \"\", \"x\": \"Purchase\", \"xref\": \"x\", \"y\": \"Depreciation\", \"yref\": \"y\"}, {\"font\": {\"color\": \"Black\"}, \"showarrow\": false, \"text\": \"\", \"x\": \"Sales 21 btw\", \"xref\": \"x\", \"y\": \"Depreciation\", \"yref\": \"y\"}, {\"font\": {\"color\": \"Black\"}, \"showarrow\": false, \"text\": \"\", \"x\": \"Sales 6 btw\", \"xref\": \"x\", \"y\": \"Depreciation\", \"yref\": \"y\"}, {\"font\": {\"color\": \"Black\"}, \"showarrow\": false, \"text\": \"\", \"x\": \"Tax disbursement\", \"xref\": \"x\", \"y\": \"Depreciation\", \"yref\": \"y\"}, {\"font\": {\"color\": \"Black\"}, \"showarrow\": false, \"text\": \"\", \"x\": \"Collections\", \"xref\": \"x\", \"y\": \"Disbursement\", \"yref\": \"y\"}, {\"font\": {\"color\": \"Black\"}, \"showarrow\": false, \"text\": \"\", \"x\": \"Cost of Sales\", \"xref\": \"x\", \"y\": \"Disbursement\", \"yref\": \"y\"}, {\"font\": {\"color\": \"Black\"}, \"showarrow\": false, \"text\": \"\", \"x\": \"Depreciation\", \"xref\": \"x\", \"y\": \"Disbursement\", \"yref\": \"y\"}, {\"font\": {\"color\": \"Black\"}, \"showarrow\": false, \"text\": \"\", \"x\": \"Disbursement\", \"xref\": \"x\", \"y\": \"Disbursement\", \"yref\": \"y\"}, {\"font\": {\"color\": \"Black\"}, \"showarrow\": false, \"text\": \"\", \"x\": \"Fixed Assets\", \"xref\": \"x\", \"y\": \"Disbursement\", \"yref\": \"y\"}, {\"font\": {\"color\": \"Black\"}, \"showarrow\": false, \"text\": \"\", \"x\": \"Payroll\", \"xref\": \"x\", \"y\": \"Disbursement\", \"yref\": \"y\"}, {\"font\": {\"color\": \"Black\"}, \"showarrow\": false, \"text\": \"\", \"x\": \"Purchase\", \"xref\": \"x\", \"y\": \"Disbursement\", \"yref\": \"y\"}, {\"font\": {\"color\": \"Black\"}, \"showarrow\": false, \"text\": \"\", \"x\": \"Sales 21 btw\", \"xref\": \"x\", \"y\": \"Disbursement\", \"yref\": \"y\"}, {\"font\": {\"color\": \"Black\"}, \"showarrow\": false, \"text\": \"\", \"x\": \"Sales 6 btw\", \"xref\": \"x\", \"y\": \"Disbursement\", \"yref\": \"y\"}, {\"font\": {\"color\": \"Black\"}, \"showarrow\": false, \"text\": \"\", \"x\": \"Tax disbursement\", \"xref\": \"x\", \"y\": \"Disbursement\", \"yref\": \"y\"}, {\"font\": {\"color\": \"Black\"}, \"showarrow\": false, \"text\": \"-0.04\", \"x\": \"Collections\", \"xref\": \"x\", \"y\": \"Fixed Assets\", \"yref\": \"y\"}, {\"font\": {\"color\": \"Black\"}, \"showarrow\": false, \"text\": \"0.25\", \"x\": \"Cost of Sales\", \"xref\": \"x\", \"y\": \"Fixed Assets\", \"yref\": \"y\"}, {\"font\": {\"color\": \"Black\"}, \"showarrow\": false, \"text\": \"0.04\", \"x\": \"Depreciation\", \"xref\": \"x\", \"y\": \"Fixed Assets\", \"yref\": \"y\"}, {\"font\": {\"color\": \"Black\"}, \"showarrow\": false, \"text\": \"\", \"x\": \"Disbursement\", \"xref\": \"x\", \"y\": \"Fixed Assets\", \"yref\": \"y\"}, {\"font\": {\"color\": \"Black\"}, \"showarrow\": false, \"text\": \"\", \"x\": \"Fixed Assets\", \"xref\": \"x\", \"y\": \"Fixed Assets\", \"yref\": \"y\"}, {\"font\": {\"color\": \"Black\"}, \"showarrow\": false, \"text\": \"\", \"x\": \"Payroll\", \"xref\": \"x\", \"y\": \"Fixed Assets\", \"yref\": \"y\"}, {\"font\": {\"color\": \"Black\"}, \"showarrow\": false, \"text\": \"\", \"x\": \"Purchase\", \"xref\": \"x\", \"y\": \"Fixed Assets\", \"yref\": \"y\"}, {\"font\": {\"color\": \"Black\"}, \"showarrow\": false, \"text\": \"\", \"x\": \"Sales 21 btw\", \"xref\": \"x\", \"y\": \"Fixed Assets\", \"yref\": \"y\"}, {\"font\": {\"color\": \"Black\"}, \"showarrow\": false, \"text\": \"\", \"x\": \"Sales 6 btw\", \"xref\": \"x\", \"y\": \"Fixed Assets\", \"yref\": \"y\"}, {\"font\": {\"color\": \"Black\"}, \"showarrow\": false, \"text\": \"\", \"x\": \"Tax disbursement\", \"xref\": \"x\", \"y\": \"Fixed Assets\", \"yref\": \"y\"}, {\"font\": {\"color\": \"Black\"}, \"showarrow\": false, \"text\": \"-0.03\", \"x\": \"Collections\", \"xref\": \"x\", \"y\": \"Payroll\", \"yref\": \"y\"}, {\"font\": {\"color\": \"Black\"}, \"showarrow\": false, \"text\": \"0.13\", \"x\": \"Cost of Sales\", \"xref\": \"x\", \"y\": \"Payroll\", \"yref\": \"y\"}, {\"font\": {\"color\": \"Black\"}, \"showarrow\": false, \"text\": \"-0.29\", \"x\": \"Depreciation\", \"xref\": \"x\", \"y\": \"Payroll\", \"yref\": \"y\"}, {\"font\": {\"color\": \"Black\"}, \"showarrow\": false, \"text\": \"\", \"x\": \"Disbursement\", \"xref\": \"x\", \"y\": \"Payroll\", \"yref\": \"y\"}, {\"font\": {\"color\": \"Black\"}, \"showarrow\": false, \"text\": \"0.23\", \"x\": \"Fixed Assets\", \"xref\": \"x\", \"y\": \"Payroll\", \"yref\": \"y\"}, {\"font\": {\"color\": \"Black\"}, \"showarrow\": false, \"text\": \"\", \"x\": \"Payroll\", \"xref\": \"x\", \"y\": \"Payroll\", \"yref\": \"y\"}, {\"font\": {\"color\": \"Black\"}, \"showarrow\": false, \"text\": \"\", \"x\": \"Purchase\", \"xref\": \"x\", \"y\": \"Payroll\", \"yref\": \"y\"}, {\"font\": {\"color\": \"Black\"}, \"showarrow\": false, \"text\": \"\", \"x\": \"Sales 21 btw\", \"xref\": \"x\", \"y\": \"Payroll\", \"yref\": \"y\"}, {\"font\": {\"color\": \"Black\"}, \"showarrow\": false, \"text\": \"\", \"x\": \"Sales 6 btw\", \"xref\": \"x\", \"y\": \"Payroll\", \"yref\": \"y\"}, {\"font\": {\"color\": \"Black\"}, \"showarrow\": false, \"text\": \"\", \"x\": \"Tax disbursement\", \"xref\": \"x\", \"y\": \"Payroll\", \"yref\": \"y\"}, {\"font\": {\"color\": \"Black\"}, \"showarrow\": false, \"text\": \"0.17\", \"x\": \"Collections\", \"xref\": \"x\", \"y\": \"Purchase\", \"yref\": \"y\"}, {\"font\": {\"color\": \"Black\"}, \"showarrow\": false, \"text\": \"0.16\", \"x\": \"Cost of Sales\", \"xref\": \"x\", \"y\": \"Purchase\", \"yref\": \"y\"}, {\"font\": {\"color\": \"Black\"}, \"showarrow\": false, \"text\": \"0.06\", \"x\": \"Depreciation\", \"xref\": \"x\", \"y\": \"Purchase\", \"yref\": \"y\"}, {\"font\": {\"color\": \"Black\"}, \"showarrow\": false, \"text\": \"\", \"x\": \"Disbursement\", \"xref\": \"x\", \"y\": \"Purchase\", \"yref\": \"y\"}, {\"font\": {\"color\": \"Black\"}, \"showarrow\": false, \"text\": \"-0.01\", \"x\": \"Fixed Assets\", \"xref\": \"x\", \"y\": \"Purchase\", \"yref\": \"y\"}, {\"font\": {\"color\": \"Black\"}, \"showarrow\": false, \"text\": \"-0.24\", \"x\": \"Payroll\", \"xref\": \"x\", \"y\": \"Purchase\", \"yref\": \"y\"}, {\"font\": {\"color\": \"Black\"}, \"showarrow\": false, \"text\": \"\", \"x\": \"Purchase\", \"xref\": \"x\", \"y\": \"Purchase\", \"yref\": \"y\"}, {\"font\": {\"color\": \"Black\"}, \"showarrow\": false, \"text\": \"\", \"x\": \"Sales 21 btw\", \"xref\": \"x\", \"y\": \"Purchase\", \"yref\": \"y\"}, {\"font\": {\"color\": \"Black\"}, \"showarrow\": false, \"text\": \"\", \"x\": \"Sales 6 btw\", \"xref\": \"x\", \"y\": \"Purchase\", \"yref\": \"y\"}, {\"font\": {\"color\": \"Black\"}, \"showarrow\": false, \"text\": \"\", \"x\": \"Tax disbursement\", \"xref\": \"x\", \"y\": \"Purchase\", \"yref\": \"y\"}, {\"font\": {\"color\": \"Black\"}, \"showarrow\": false, \"text\": \"0.37\", \"x\": \"Collections\", \"xref\": \"x\", \"y\": \"Sales 21 btw\", \"yref\": \"y\"}, {\"font\": {\"color\": \"Black\"}, \"showarrow\": false, \"text\": \"0.57\", \"x\": \"Cost of Sales\", \"xref\": \"x\", \"y\": \"Sales 21 btw\", \"yref\": \"y\"}, {\"font\": {\"color\": \"Black\"}, \"showarrow\": false, \"text\": \"0.25\", \"x\": \"Depreciation\", \"xref\": \"x\", \"y\": \"Sales 21 btw\", \"yref\": \"y\"}, {\"font\": {\"color\": \"Black\"}, \"showarrow\": false, \"text\": \"\", \"x\": \"Disbursement\", \"xref\": \"x\", \"y\": \"Sales 21 btw\", \"yref\": \"y\"}, {\"font\": {\"color\": \"Black\"}, \"showarrow\": false, \"text\": \"0.38\", \"x\": \"Fixed Assets\", \"xref\": \"x\", \"y\": \"Sales 21 btw\", \"yref\": \"y\"}, {\"font\": {\"color\": \"Black\"}, \"showarrow\": false, \"text\": \"0.16\", \"x\": \"Payroll\", \"xref\": \"x\", \"y\": \"Sales 21 btw\", \"yref\": \"y\"}, {\"font\": {\"color\": \"Black\"}, \"showarrow\": false, \"text\": \"0.22\", \"x\": \"Purchase\", \"xref\": \"x\", \"y\": \"Sales 21 btw\", \"yref\": \"y\"}, {\"font\": {\"color\": \"Black\"}, \"showarrow\": false, \"text\": \"\", \"x\": \"Sales 21 btw\", \"xref\": \"x\", \"y\": \"Sales 21 btw\", \"yref\": \"y\"}, {\"font\": {\"color\": \"Black\"}, \"showarrow\": false, \"text\": \"\", \"x\": \"Sales 6 btw\", \"xref\": \"x\", \"y\": \"Sales 21 btw\", \"yref\": \"y\"}, {\"font\": {\"color\": \"Black\"}, \"showarrow\": false, \"text\": \"\", \"x\": \"Tax disbursement\", \"xref\": \"x\", \"y\": \"Sales 21 btw\", \"yref\": \"y\"}, {\"font\": {\"color\": \"Black\"}, \"showarrow\": false, \"text\": \"0.2\", \"x\": \"Collections\", \"xref\": \"x\", \"y\": \"Sales 6 btw\", \"yref\": \"y\"}, {\"font\": {\"color\": \"Black\"}, \"showarrow\": false, \"text\": \"0.7\", \"x\": \"Cost of Sales\", \"xref\": \"x\", \"y\": \"Sales 6 btw\", \"yref\": \"y\"}, {\"font\": {\"color\": \"Black\"}, \"showarrow\": false, \"text\": \"0.15\", \"x\": \"Depreciation\", \"xref\": \"x\", \"y\": \"Sales 6 btw\", \"yref\": \"y\"}, {\"font\": {\"color\": \"Black\"}, \"showarrow\": false, \"text\": \"\", \"x\": \"Disbursement\", \"xref\": \"x\", \"y\": \"Sales 6 btw\", \"yref\": \"y\"}, {\"font\": {\"color\": \"Black\"}, \"showarrow\": false, \"text\": \"0.16\", \"x\": \"Fixed Assets\", \"xref\": \"x\", \"y\": \"Sales 6 btw\", \"yref\": \"y\"}, {\"font\": {\"color\": \"Black\"}, \"showarrow\": false, \"text\": \"-0.04\", \"x\": \"Payroll\", \"xref\": \"x\", \"y\": \"Sales 6 btw\", \"yref\": \"y\"}, {\"font\": {\"color\": \"Black\"}, \"showarrow\": false, \"text\": \"0.27\", \"x\": \"Purchase\", \"xref\": \"x\", \"y\": \"Sales 6 btw\", \"yref\": \"y\"}, {\"font\": {\"color\": \"Black\"}, \"showarrow\": false, \"text\": \"0.13\", \"x\": \"Sales 21 btw\", \"xref\": \"x\", \"y\": \"Sales 6 btw\", \"yref\": \"y\"}, {\"font\": {\"color\": \"Black\"}, \"showarrow\": false, \"text\": \"\", \"x\": \"Sales 6 btw\", \"xref\": \"x\", \"y\": \"Sales 6 btw\", \"yref\": \"y\"}, {\"font\": {\"color\": \"Black\"}, \"showarrow\": false, \"text\": \"\", \"x\": \"Tax disbursement\", \"xref\": \"x\", \"y\": \"Sales 6 btw\", \"yref\": \"y\"}, {\"font\": {\"color\": \"Black\"}, \"showarrow\": false, \"text\": \"\", \"x\": \"Collections\", \"xref\": \"x\", \"y\": \"Tax disbursement\", \"yref\": \"y\"}, {\"font\": {\"color\": \"Black\"}, \"showarrow\": false, \"text\": \"\", \"x\": \"Cost of Sales\", \"xref\": \"x\", \"y\": \"Tax disbursement\", \"yref\": \"y\"}, {\"font\": {\"color\": \"Black\"}, \"showarrow\": false, \"text\": \"\", \"x\": \"Depreciation\", \"xref\": \"x\", \"y\": \"Tax disbursement\", \"yref\": \"y\"}, {\"font\": {\"color\": \"Black\"}, \"showarrow\": false, \"text\": \"\", \"x\": \"Disbursement\", \"xref\": \"x\", \"y\": \"Tax disbursement\", \"yref\": \"y\"}, {\"font\": {\"color\": \"Black\"}, \"showarrow\": false, \"text\": \"\", \"x\": \"Fixed Assets\", \"xref\": \"x\", \"y\": \"Tax disbursement\", \"yref\": \"y\"}, {\"font\": {\"color\": \"Black\"}, \"showarrow\": false, \"text\": \"\", \"x\": \"Payroll\", \"xref\": \"x\", \"y\": \"Tax disbursement\", \"yref\": \"y\"}, {\"font\": {\"color\": \"Black\"}, \"showarrow\": false, \"text\": \"\", \"x\": \"Purchase\", \"xref\": \"x\", \"y\": \"Tax disbursement\", \"yref\": \"y\"}, {\"font\": {\"color\": \"Black\"}, \"showarrow\": false, \"text\": \"\", \"x\": \"Sales 21 btw\", \"xref\": \"x\", \"y\": \"Tax disbursement\", \"yref\": \"y\"}, {\"font\": {\"color\": \"Black\"}, \"showarrow\": false, \"text\": \"\", \"x\": \"Sales 6 btw\", \"xref\": \"x\", \"y\": \"Tax disbursement\", \"yref\": \"y\"}, {\"font\": {\"color\": \"Black\"}, \"showarrow\": false, \"text\": \"\", \"x\": \"Tax disbursement\", \"xref\": \"x\", \"y\": \"Tax disbursement\", \"yref\": \"y\"}], \"height\": 900, \"margin\": {\"b\": 100, \"l\": 100, \"pad\": 10, \"r\": 50, \"t\": 200}, \"title\": {\"text\": \"Cross-correlation for the GroundTruth\"}, \"width\": 900, \"xaxis\": {\"automargin\": true, \"side\": \"top\"}, \"yaxis\": {\"automargin\": true}},\n",
       "                        {\"showLink\": false, \"linkText\": \"Export to plot.ly\", \"plotlyServerURL\": \"https://plot.ly\", \"responsive\": true}\n",
       "                    ).then(function(){\n",
       "                            \n",
       "var gd = document.getElementById('088e41f1-5790-45fa-bd2f-e0005305a691');\n",
       "var x = new MutationObserver(function (mutations, observer) {{\n",
       "        var display = window.getComputedStyle(gd).display;\n",
       "        if (!display || display === 'none') {{\n",
       "            console.log([gd, 'removed!']);\n",
       "            Plotly.purge(gd);\n",
       "            observer.disconnect();\n",
       "        }}\n",
       "}});\n",
       "\n",
       "// Listen for the removal of the full notebook cells\n",
       "var notebookContainer = gd.closest('#notebook-container');\n",
       "if (notebookContainer) {{\n",
       "    x.observe(notebookContainer, {childList: true});\n",
       "}}\n",
       "\n",
       "// Listen for the clearing of the current output cell\n",
       "var outputEl = gd.closest('.output');\n",
       "if (outputEl) {{\n",
       "    x.observe(outputEl, {childList: true});\n",
       "}}\n",
       "\n",
       "                        })\n",
       "                };\n",
       "                });\n",
       "            </script>\n",
       "        </div>"
      ]
     },
     "metadata": {},
     "output_type": "display_data"
    }
   ],
   "source": [
    "correlationMatrix(df_all, on=\"label\", agg_period=\"2D\", interactive=True)\n",
    "correlationMatrix(df_all, on=\"GroundTruth\", agg_period=\"2D\", interactive=True)"
   ]
  },
  {
   "cell_type": "markdown",
   "metadata": {},
   "source": [
    "## Clusters 0 and 2 in detail"
   ]
  },
  {
   "cell_type": "code",
   "execution_count": 34,
   "metadata": {},
   "outputs": [],
   "source": [
    "cl_0 = df_all[df_all[\"label\"] == 0]\n",
    "cl_0_D = cl_0.amount.resample(\"D\").sum()\n",
    "cl_2 = df_all[df_all[\"label\"] == 1]\n",
    "cl_2_D = cl_2.amount.resample(\"D\").sum()"
   ]
  },
  {
   "cell_type": "code",
   "execution_count": 35,
   "metadata": {},
   "outputs": [
    {
     "data": {
      "text/plain": [
       "((0.45949128254863464, 1.0990934612828827e-05),\n",
       " SpearmanrResult(correlation=0.4752479257321487, pvalue=4.922029859185607e-06))"
      ]
     },
     "execution_count": 35,
     "metadata": {},
     "output_type": "execute_result"
    }
   ],
   "source": [
    "from scipy import stats\n",
    "stats.pearsonr(cl_0_D, cl_2_D), stats.spearmanr(cl_0_D, cl_2_D)"
   ]
  },
  {
   "cell_type": "code",
   "execution_count": null,
   "metadata": {},
   "outputs": [],
   "source": [
    "cl_0.resample(\"D\").agg({\"amount\": sum}).rename(columns={\"amount\": \"Cluster 0\"}).head(2)"
   ]
  },
  {
   "cell_type": "code",
   "execution_count": null,
   "metadata": {},
   "outputs": [],
   "source": []
  }
 ],
 "metadata": {
  "kernelspec": {
   "display_name": "Python [conda env:DL]",
   "language": "python",
   "name": "conda-env-DL-py"
  },
  "language_info": {
   "codemirror_mode": {
    "name": "ipython",
    "version": 3
   },
   "file_extension": ".py",
   "mimetype": "text/x-python",
   "name": "python",
   "nbconvert_exporter": "python",
   "pygments_lexer": "ipython3",
   "version": "3.7.3"
  }
 },
 "nbformat": 4,
 "nbformat_minor": 2
}
