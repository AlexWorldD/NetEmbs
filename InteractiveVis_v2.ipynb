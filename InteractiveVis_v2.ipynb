{
 "cells": [
  {
   "cell_type": "markdown",
   "metadata": {},
   "source": [
    "# 1. Required packages"
   ]
  },
  {
   "cell_type": "markdown",
   "metadata": {},
   "source": [
    "## For the interactivity I'm using _plotly_ library and _Jupyter Widgets_. \n",
    "It allows to prototype dashboard in some way. Hence, for correct execution of the current notebook one has to install the following packages: \n",
    "   - [plotly](https://plot.ly/python/) + [cufflinks](https://plot.ly/ipython-notebooks/cufflinks/)\n",
    "   - [ipywidgets](https://github.com/jupyter-widgets/ipywidgets)\n",
    "\n",
    "and activate the required extensions for Jupyter. Feel free to do it manually or run the following script."
   ]
  },
  {
   "cell_type": "code",
   "execution_count": 1,
   "metadata": {
    "collapsed": true,
    "scrolled": true
   },
   "outputs": [],
   "source": [
    "# %%bash\n",
    "# pip install plotly\n",
    "# pip install cufflinks\n",
    "# pip install ipywidgets\n",
    "# jupyter nbextension install --py --sys-prefix widgetsnbextension\n",
    "# jupyter nbextension install --py --sys-prefix plotlywidget\n",
    "# jupyter nbextension enable --py --sys-prefix widgetsnbextension\n",
    "# jupyter nbextension enable --py --sys-prefix plotlywidget"
   ]
  },
  {
   "cell_type": "markdown",
   "metadata": {},
   "source": [
    "To validate the correct installation and activation of the required packages please execute:"
   ]
  },
  {
   "cell_type": "code",
   "execution_count": 2,
   "metadata": {
    "scrolled": true
   },
   "outputs": [
    {
     "name": "stdout",
     "output_type": "stream",
     "text": [
      "Known nbextensions:\n",
      "  config dir: /Users/lex/.jupyter/nbconfig\n",
      "    notebook section\n",
      "      jupyter-js-widgets/extension \u001b[32m enabled \u001b[0m\n",
      "      plotlywidget/extension \u001b[32m enabled \u001b[0m\n",
      "  config dir: /Users/lex/anaconda3/etc/jupyter/nbconfig\n",
      "    notebook section\n",
      "      jupyter-js-widgets/extension \u001b[32m enabled \u001b[0m\n",
      "      nb_conda/main \u001b[32m enabled \u001b[0m\n",
      "    tree section\n",
      "      nb_conda/tree \u001b[32m enabled \u001b[0m\n"
     ]
    },
    {
     "name": "stderr",
     "output_type": "stream",
     "text": [
      "      - Validating: \u001b[32mOK\u001b[0m\n",
      "      - Validating: \u001b[32mOK\u001b[0m\n",
      "      - Validating: \u001b[32mOK\u001b[0m\n",
      "      - Validating: \u001b[32mOK\u001b[0m\n",
      "      - Validating: \u001b[32mOK\u001b[0m\n"
     ]
    }
   ],
   "source": [
    "%%bash \n",
    "jupyter nbextension list"
   ]
  },
  {
   "cell_type": "markdown",
   "metadata": {},
   "source": [
    "# 2. Data I/O\n",
    "We assume that one has already obtained the embeddings for the researched financial statement network. "
   ]
  },
  {
   "cell_type": "code",
   "execution_count": 3,
   "metadata": {
    "scrolled": true
   },
   "outputs": [
    {
     "name": "stdout",
     "output_type": "stream",
     "text": [
      "Populating the interactive namespace from numpy and matplotlib\n"
     ]
    }
   ],
   "source": [
    "%pylab inline"
   ]
  },
  {
   "cell_type": "code",
   "execution_count": 4,
   "metadata": {
    "scrolled": true
   },
   "outputs": [
    {
     "name": "stdout",
     "output_type": "stream",
     "text": [
      "Embeddings have been uploaded to memory!\n",
      "Original shape of DataFrame is  (61158, 4)\n",
      "Deleted all NaNs and Strings values from 'Value' column:  (61158, 4)\n",
      "Before merging FAs columns titles are:  ['ID', 'Name', 'FA_Name', 'Value', 'Debit', 'Credit']\n",
      "After merging FAs columns titles are:  ['ID', 'FA_Name', 'Credit', 'Debit', 'Name', 'Value']  shape is  (61050, 6)\n",
      "After normalization shape of DataFrame is  (60740, 8)\n",
      "Final shape of DataFrame is  (52175, 9)\n",
      "Supported information has been uploaded to memory!\n"
     ]
    }
   ],
   "source": [
    "import pandas as pd\n",
    "import matplotlib.pyplot as plt\n",
    "import seaborn as sns\n",
    "from NetEmbs import *\n",
    "\n",
    "MODE = \"SimulatedData\"\n",
    "\n",
    "\n",
    "if MODE == \"SimulatedData\":\n",
    "    EMBS_PATH = \"Simulation_versionMetaDiff_directionCOMBI_walks30_pressure30_window3/TFsteps100000batch64_emb32/\"\n",
    "    embs = pd.read_pickle(EMBS_PATH+\"cache/Embeddings.pkl\")\n",
    "    print(\"Embeddings have been uploaded to memory!\")\n",
    "    d = upload_data(\"Simulation/FSN_Data.db\", limit=None)\n",
    "    d = prepare_data(d)\n",
    "    print(\"Supported information has been uploaded to memory!\")\n",
    "\n",
    "if MODE == \"RealData\":\n",
    "    import extras\n",
    "    import analysis\n",
    "    EMBS_PATH = \"model/14080_2017_versionMetaDiff_directionCOMBI_walks31_pressure30_window3/TFsteps100000batch64_emb32/\"\n",
    "    embs = pd.read_pickle(EMBS_PATH+\"cache/Embeddings.pkl\")\n",
    "        # //////// TODO UPLOAD your data HERE \\\\\\\\\\\\\\\\\\\\\n",
    "#     d = analysis.analysis(\"14082_2017\")\n",
    "    d = extras.getData(\"14080_2017\")\n",
    "        # //////// END  \\\\\\\\\\\\\\\\\\\\\n",
    "    # TODO pay attention for the split argument below!\n",
    "    if \"Value\" in list(d):\n",
    "        need_split = True\n",
    "    else:\n",
    "        need_split = False\n",
    "    d = prepare_dataMarcel(d, split=need_split)\n",
    "#     Here we drop the duplicate of GroundTruth in the DataFrame with supported info, because we have it in Embs DataFrame\n",
    "    if \"GroundTruth\" in list(d):\n",
    "        d.drop(\"GroundTruth\", axis=1, inplace=True)"
   ]
  },
  {
   "cell_type": "code",
   "execution_count": 5,
   "metadata": {
    "scrolled": true
   },
   "outputs": [
    {
     "data": {
      "text/html": [
       "<div>\n",
       "<style scoped>\n",
       "    .dataframe tbody tr th:only-of-type {\n",
       "        vertical-align: middle;\n",
       "    }\n",
       "\n",
       "    .dataframe tbody tr th {\n",
       "        vertical-align: top;\n",
       "    }\n",
       "\n",
       "    .dataframe thead th {\n",
       "        text-align: right;\n",
       "    }\n",
       "</style>\n",
       "<table border=\"1\" class=\"dataframe\">\n",
       "  <thead>\n",
       "    <tr style=\"text-align: right;\">\n",
       "      <th></th>\n",
       "      <th>ID</th>\n",
       "      <th>Emb</th>\n",
       "      <th>GroundTruth</th>\n",
       "    </tr>\n",
       "  </thead>\n",
       "  <tbody>\n",
       "    <tr>\n",
       "      <th>0</th>\n",
       "      <td>8</td>\n",
       "      <td>[-0.19695708, -0.22684997, 0.115069434, 0.1744...</td>\n",
       "      <td>Sales 21 btw</td>\n",
       "    </tr>\n",
       "    <tr>\n",
       "      <th>1</th>\n",
       "      <td>9</td>\n",
       "      <td>[0.15847915, 0.0964187, -0.09496842, -0.130400...</td>\n",
       "      <td>Cost of Sales</td>\n",
       "    </tr>\n",
       "  </tbody>\n",
       "</table>\n",
       "</div>"
      ],
      "text/plain": [
       "   ID                                                Emb    GroundTruth\n",
       "0   8  [-0.19695708, -0.22684997, 0.115069434, 0.1744...   Sales 21 btw\n",
       "1   9  [0.15847915, 0.0964187, -0.09496842, -0.130400...  Cost of Sales"
      ]
     },
     "execution_count": 5,
     "metadata": {},
     "output_type": "execute_result"
    }
   ],
   "source": [
    "embs.head(2)"
   ]
  },
  {
   "cell_type": "code",
   "execution_count": 36,
   "metadata": {},
   "outputs": [
    {
     "data": {
      "text/html": [
       "<div>\n",
       "<style scoped>\n",
       "    .dataframe tbody tr th:only-of-type {\n",
       "        vertical-align: middle;\n",
       "    }\n",
       "\n",
       "    .dataframe tbody tr th {\n",
       "        vertical-align: top;\n",
       "    }\n",
       "\n",
       "    .dataframe thead th {\n",
       "        text-align: right;\n",
       "    }\n",
       "</style>\n",
       "<table border=\"1\" class=\"dataframe\">\n",
       "  <thead>\n",
       "    <tr style=\"text-align: right;\">\n",
       "      <th></th>\n",
       "      <th>ID</th>\n",
       "      <th>Signature</th>\n",
       "      <th>FA_Name</th>\n",
       "      <th>Credit</th>\n",
       "      <th>Debit</th>\n",
       "      <th>Name</th>\n",
       "      <th>Value</th>\n",
       "      <th>from</th>\n",
       "      <th>amount</th>\n",
       "    </tr>\n",
       "  </thead>\n",
       "  <tbody>\n",
       "    <tr>\n",
       "      <th>0</th>\n",
       "      <td>8</td>\n",
       "      <td>([('Revenue', 0.82629), ('Tax', 0.17371)], [('...</td>\n",
       "      <td>NoisyRightFA_ilpe</td>\n",
       "      <td>0.0</td>\n",
       "      <td>0.001441</td>\n",
       "      <td>NoisyRightFA_ilpe_6</td>\n",
       "      <td>0.678201</td>\n",
       "      <td>False</td>\n",
       "      <td>0.678201</td>\n",
       "    </tr>\n",
       "    <tr>\n",
       "      <th>1</th>\n",
       "      <td>8</td>\n",
       "      <td>([('Revenue', 0.82629), ('Tax', 0.17371)], [('...</td>\n",
       "      <td>NoisyRightFA_jhzg</td>\n",
       "      <td>0.0</td>\n",
       "      <td>0.003988</td>\n",
       "      <td>NoisyRightFA_jhzg_6</td>\n",
       "      <td>1.877578</td>\n",
       "      <td>False</td>\n",
       "      <td>1.877578</td>\n",
       "    </tr>\n",
       "  </tbody>\n",
       "</table>\n",
       "</div>"
      ],
      "text/plain": [
       "   ID                                          Signature            FA_Name  \\\n",
       "0   8  ([('Revenue', 0.82629), ('Tax', 0.17371)], [('...  NoisyRightFA_ilpe   \n",
       "1   8  ([('Revenue', 0.82629), ('Tax', 0.17371)], [('...  NoisyRightFA_jhzg   \n",
       "\n",
       "   Credit     Debit                 Name     Value   from    amount  \n",
       "0     0.0  0.001441  NoisyRightFA_ilpe_6  0.678201  False  0.678201  \n",
       "1     0.0  0.003988  NoisyRightFA_jhzg_6  1.877578  False  1.877578  "
      ]
     },
     "execution_count": 36,
     "metadata": {},
     "output_type": "execute_result"
    }
   ],
   "source": [
    "d.head(2)"
   ]
  },
  {
   "cell_type": "markdown",
   "metadata": {},
   "source": [
    "# 3. Interactive visualization"
   ]
  },
  {
   "cell_type": "markdown",
   "metadata": {},
   "source": [
    "### 3.1 Decrease the dim of embeddings for visualization purpose"
   ]
  },
  {
   "cell_type": "code",
   "execution_count": 7,
   "metadata": {
    "collapsed": true
   },
   "outputs": [],
   "source": [
    "import os\n",
    "from sklearn.manifold import TSNE\n",
    "os.environ['KMP_DUPLICATE_LIB_OK'] = 'True'\n",
    "def dim_reduction(df, n_dim=2, rand_state=1):\n",
    "    if \"Emb\" in list(df):\n",
    "        tsne = TSNE(random_state=rand_state)\n",
    "        embdf = pd.DataFrame(list(map(np.ravel, df[\"Emb\"])))\n",
    "        embed_tsne = tsne.fit_transform(embdf)\n",
    "        df[\"x\"] = pd.Series(embed_tsne[:, 0])\n",
    "        df[\"y\"] = pd.Series(embed_tsne[:, 1])\n",
    "        return df\n",
    "    else:\n",
    "        raise KeyError(\"No Embs column in the given DataFrame!\")"
   ]
  },
  {
   "cell_type": "markdown",
   "metadata": {},
   "source": [
    "### 3.2 Visualization"
   ]
  },
  {
   "cell_type": "code",
   "execution_count": 8,
   "metadata": {
    "scrolled": true
   },
   "outputs": [
    {
     "data": {
      "text/html": [
       "        <script type=\"text/javascript\">\n",
       "        window.PlotlyConfig = {MathJaxConfig: 'local'};\n",
       "        if (window.MathJax) {MathJax.Hub.Config({SVG: {font: \"STIX-Web\"}});}\n",
       "        if (typeof require !== 'undefined') {\n",
       "        require.undef(\"plotly\");\n",
       "        requirejs.config({\n",
       "            paths: {\n",
       "                'plotly': ['https://cdn.plot.ly/plotly-latest.min']\n",
       "            }\n",
       "        });\n",
       "        require(['plotly'], function(Plotly) {\n",
       "            window._Plotly = Plotly;\n",
       "        });\n",
       "        }\n",
       "        </script>\n",
       "        "
      ]
     },
     "metadata": {},
     "output_type": "display_data"
    },
    {
     "data": {
      "text/html": [
       "        <script type=\"text/javascript\">\n",
       "        window.PlotlyConfig = {MathJaxConfig: 'local'};\n",
       "        if (window.MathJax) {MathJax.Hub.Config({SVG: {font: \"STIX-Web\"}});}\n",
       "        if (typeof require !== 'undefined') {\n",
       "        require.undef(\"plotly\");\n",
       "        requirejs.config({\n",
       "            paths: {\n",
       "                'plotly': ['https://cdn.plot.ly/plotly-latest.min']\n",
       "            }\n",
       "        });\n",
       "        require(['plotly'], function(Plotly) {\n",
       "            window._Plotly = Plotly;\n",
       "        });\n",
       "        }\n",
       "        </script>\n",
       "        "
      ]
     },
     "metadata": {},
     "output_type": "display_data"
    }
   ],
   "source": [
    "from __future__ import print_function\n",
    "# Standard plotly imports\n",
    "import plotly.plotly as py\n",
    "import plotly.graph_objs as go\n",
    "from plotly.offline import iplot, plot, init_notebook_mode\n",
    "# Using plotly + cufflinks in offline mode\n",
    "import cufflinks\n",
    "cufflinks.go_offline(connected=True)\n",
    "init_notebook_mode(connected=True)\n",
    "from ipywidgets import interactive, HBox, VBox, widgets"
   ]
  },
  {
   "cell_type": "markdown",
   "metadata": {},
   "source": [
    "### WordClouds function"
   ]
  },
  {
   "cell_type": "code",
   "execution_count": 32,
   "metadata": {},
   "outputs": [],
   "source": [
    "from collections import Counter\n",
    "from wordcloud import WordCloud\n",
    "# Count most frequent FA names in the given DataFrame OR FA names with the highest amount\n",
    "def findMostCommonFAs_v2(df, labels_column=\"label\", words_column=\"FA_Name\", amount_column=\"amount\", sort_mode=\"freq\", n_top=4, vis=False, folder=\"\"):\n",
    "    if labels_column not in list(df):\n",
    "        raise KeyError(f\"Given column name {labels_column} is not presented in the given DataFrame! Only allows: {list(df)}!\")\n",
    "    if \"from\" not in list(df):\n",
    "        raise KeyError(f\"Please ensure that column 'from' is presented in your DataFrame!\")\n",
    "    for name, group in df.groupby(labels_column):\n",
    "        print(\"Current cluster label is \", name)\n",
    "        gr = group.groupby([words_column, \"from\"])\n",
    "        counts = gr.size().to_frame(name='counts')\n",
    "        all_stat = counts.join(gr.agg({amount_column: sum, 'Debit': lambda x: list(x), 'Credit': lambda x: list(x)})\n",
    "              .rename(columns={amount_column: 'amount_sum', 'Debit': 'Debit_list', 'Credit': 'Credit_list'}))\\\n",
    "        .reset_index()\n",
    "        if sort_mode == \"freq\":\n",
    "            all_stat.sort_values(['counts', words_column], ascending=False, inplace=True)\n",
    "        elif sort_mode == \"amount\":\n",
    "            all_stat.sort_values(['amount_sum', word_column], ascending=False, inplace=True)\n",
    "#             Store all statistict for N_TOP values as dictionary for further visualization\n",
    "        text = {\"Left\": [(x[0], x[2], x[3], x[5]) for x in all_stat[all_stat[\"from\"]==True].values[:n_top]], \n",
    "                \"Right\": [(x[0], x[2], x[3], x[4]) for x in all_stat[all_stat[\"from\"]==False].values[:n_top]]}\n",
    "        if vis:\n",
    "            i = 0\n",
    "            fig, axes = plt.subplots(2,2)\n",
    "        for key, data in text.items():\n",
    "            if sort_mode == \"freq\":\n",
    "#             Take the most frequent FA names\n",
    "                to_vis = [(str(item[0]), item[1]) for item in data]\n",
    "            elif sort_mode == \"amount\":\n",
    "                to_vis = [(str(item[0]), item[2]) for item in data]\n",
    "            print(key, \"--->\", [item[:3] for item in data])\n",
    "            if vis:\n",
    "#                 WordClouds\n",
    "                axes[0, i].set_title(key, size=24)\n",
    "                wc = WordCloud(background_color=\"white\", width=800, height=400, max_font_size=84, min_font_size=14, repeat=False, relative_scaling=0.8, max_words=100)\n",
    "                if len(to_vis)>0:\n",
    "                    wc.generate_from_frequencies(dict(to_vis))\n",
    "                else:\n",
    "                    continue\n",
    "                axes[0, i].axis(\"off\")\n",
    "                axes[0, i].imshow(wc, interpolation=\"bilinear\")\n",
    "#                 Histograhm\n",
    "                [sns.distplot( item[3] , label=item[0], kde=False, bins=50, ax=axes[1, i], hist_kws={\"range\": (0, 1.0)}) for item in data if len(item[3])>4]\n",
    "                axes[1,i].legend(frameon=False, fontsize=14)\n",
    "                axes[1,i].set_xlim((0,1.0))\n",
    "                i+=1\n",
    "        if vis:\n",
    "            plt.tight_layout()\n",
    "#             plt.savefig(folder + \"img/WordClouds/\" + str(name), dpi=140, pad_inches=0.01)\n",
    "            plt.show()"
   ]
  },
  {
   "cell_type": "markdown",
   "metadata": {},
   "source": [
    "### Helper functions"
   ]
  },
  {
   "cell_type": "code",
   "execution_count": 10,
   "metadata": {
    "collapsed": true
   },
   "outputs": [],
   "source": [
    "# Transform Matplotlib colormap into plotly colorscale:\n",
    "import itertools\n",
    "def matplotlib_to_plotly(color_map=\"tab10\", pl_entries=10):\n",
    "    cmap = matplotlib.cm.get_cmap(color_map)\n",
    "    h = 1.0/(pl_entries-1)\n",
    "    pl_colorscale = []\n",
    "\n",
    "    for k in range(pl_entries):\n",
    "        C = list(map(np.uint8, np.array(cmap(k*h)[:3])*255))\n",
    "        pl_colorscale.append([k*h, 'rgb'+str((C[0], C[1], C[2]))])\n",
    "\n",
    "    return pl_colorscale\n",
    "\n",
    "def getColors_Markers(keys, cm=\"tab10\", n_color=10, markers = [\"circle\", \"diamond\", \"square\"]):\n",
    "    keys = sorted(keys)\n",
    "    color_map = dict(zip(keys, matplotlib_to_plotly(cm, n_color)*(len(keys)//n_color+1)))\n",
    "    marker_map = dict(zip(keys, list(itertools.chain(*[[m]*n_color for m in markers]))*(len(keys)//(3*n_color)+1)))\n",
    "    return color_map, marker_map"
   ]
  },
  {
   "cell_type": "markdown",
   "metadata": {},
   "source": [
    "### Clustering here"
   ]
  },
  {
   "cell_type": "code",
   "execution_count": 11,
   "metadata": {},
   "outputs": [
    {
     "name": "stdout",
     "output_type": "stream",
     "text": [
      "First row of Data: \n",
      " [-0.19695708 -0.22684997  0.11506943  0.17442311  0.20106015 -0.13254054\n",
      "  0.24126534  0.16323344  0.1949625   0.09444448  0.16678071  0.16417685\n",
      " -0.12703338  0.15944019 -0.24492544 -0.00580015 -0.07937735 -0.17278388\n",
      " -0.07006469  0.32693356 -0.23947953  0.04118197 -0.16536982  0.20513551\n",
      "  0.17499836 -0.29295653  0.0757151   0.21822007  0.14713573 -0.05681241\n",
      " -0.17912321 -0.12949651]\n"
     ]
    }
   ],
   "source": [
    "N_CLS = 8\n",
    "embs = dim_reduction(cl_Agglomerative(embs, N_CLS))"
   ]
  },
  {
   "cell_type": "code",
   "execution_count": 16,
   "metadata": {},
   "outputs": [
    {
     "data": {
      "text/html": [
       "<div>\n",
       "<style scoped>\n",
       "    .dataframe tbody tr th:only-of-type {\n",
       "        vertical-align: middle;\n",
       "    }\n",
       "\n",
       "    .dataframe tbody tr th {\n",
       "        vertical-align: top;\n",
       "    }\n",
       "\n",
       "    .dataframe thead th {\n",
       "        text-align: right;\n",
       "    }\n",
       "</style>\n",
       "<table border=\"1\" class=\"dataframe\">\n",
       "  <thead>\n",
       "    <tr style=\"text-align: right;\">\n",
       "      <th></th>\n",
       "      <th>ID</th>\n",
       "      <th>Signature</th>\n",
       "      <th>FA_Name</th>\n",
       "      <th>Credit</th>\n",
       "      <th>Debit</th>\n",
       "      <th>Name</th>\n",
       "      <th>Value</th>\n",
       "      <th>from</th>\n",
       "      <th>amount</th>\n",
       "    </tr>\n",
       "  </thead>\n",
       "  <tbody>\n",
       "    <tr>\n",
       "      <th>0</th>\n",
       "      <td>8</td>\n",
       "      <td>([('Revenue', 0.82629), ('Tax', 0.17371)], [('...</td>\n",
       "      <td>NoisyRightFA_ilpe</td>\n",
       "      <td>0.0</td>\n",
       "      <td>0.001441</td>\n",
       "      <td>NoisyRightFA_ilpe_6</td>\n",
       "      <td>0.678201</td>\n",
       "      <td>False</td>\n",
       "      <td>0.678201</td>\n",
       "    </tr>\n",
       "    <tr>\n",
       "      <th>1</th>\n",
       "      <td>8</td>\n",
       "      <td>([('Revenue', 0.82629), ('Tax', 0.17371)], [('...</td>\n",
       "      <td>NoisyRightFA_jhzg</td>\n",
       "      <td>0.0</td>\n",
       "      <td>0.003988</td>\n",
       "      <td>NoisyRightFA_jhzg_6</td>\n",
       "      <td>1.877578</td>\n",
       "      <td>False</td>\n",
       "      <td>1.877578</td>\n",
       "    </tr>\n",
       "    <tr>\n",
       "      <th>2</th>\n",
       "      <td>8</td>\n",
       "      <td>([('Revenue', 0.82629), ('Tax', 0.17371)], [('...</td>\n",
       "      <td>NoisyRightFA_mard</td>\n",
       "      <td>0.0</td>\n",
       "      <td>0.001110</td>\n",
       "      <td>NoisyRightFA_mard_6</td>\n",
       "      <td>0.522545</td>\n",
       "      <td>False</td>\n",
       "      <td>0.522545</td>\n",
       "    </tr>\n",
       "  </tbody>\n",
       "</table>\n",
       "</div>"
      ],
      "text/plain": [
       "   ID                                          Signature            FA_Name  \\\n",
       "0   8  ([('Revenue', 0.82629), ('Tax', 0.17371)], [('...  NoisyRightFA_ilpe   \n",
       "1   8  ([('Revenue', 0.82629), ('Tax', 0.17371)], [('...  NoisyRightFA_jhzg   \n",
       "2   8  ([('Revenue', 0.82629), ('Tax', 0.17371)], [('...  NoisyRightFA_mard   \n",
       "\n",
       "   Credit     Debit                 Name     Value   from    amount  \n",
       "0     0.0  0.001441  NoisyRightFA_ilpe_6  0.678201  False  0.678201  \n",
       "1     0.0  0.003988  NoisyRightFA_jhzg_6  1.877578  False  1.877578  \n",
       "2     0.0  0.001110  NoisyRightFA_mard_6  0.522545  False  0.522545  "
      ]
     },
     "execution_count": 16,
     "metadata": {},
     "output_type": "execute_result"
    }
   ],
   "source": [
    "d.head(3)"
   ]
  },
  {
   "cell_type": "code",
   "execution_count": 33,
   "metadata": {
    "scrolled": false
   },
   "outputs": [
    {
     "data": {
      "application/vnd.jupyter.widget-view+json": {
       "model_id": "5cca45a92562447b9a988f584d626ac6",
       "version_major": 2,
       "version_minor": 0
      },
      "text/plain": [
       "VBox(children=(Label(value=''), FigureWidget({\n",
       "    'data': [{'customdata': [15, 21, 24, ..., 6503, 6514, 6518]…"
      ]
     },
     "metadata": {},
     "output_type": "display_data"
    }
   ],
   "source": [
    "# TODO before visualization one has to use t-SNE!\n",
    "# Label text\n",
    "description = widgets.Label(\n",
    "        value=''\n",
    "    )\n",
    "# WordCouds area\n",
    "wordCloudsOutput = widgets.Output()\n",
    "# Table with JournalEntries data\n",
    "table_titles = [\"ID\", \"FA_Name\", \"Credit\", \"Debit\", \"label\"]\n",
    "\n",
    "if MODE == \"RealData\":\n",
    "    table_titles = [\"ID\", \"FA_Name\", \"accountDesc\", \"Credit\", \"Debit\", \"label\"]\n",
    "    \n",
    "t = go.FigureWidget([go.Table(\n",
    "    header=dict(values=table_titles,\n",
    "                fill = dict(color='#C2D4FF'),\n",
    "                align = ['left'] * 5),\n",
    "    cells=dict(values=[],\n",
    "               fill = dict(color='#F5F8FF'),\n",
    "               align = ['left'] * 5))],\n",
    "                    layout = go.Layout(\n",
    "                            title=\"Journal Entries\",\n",
    "                            autosize=True,\n",
    "                            width=1000,\n",
    "                            height=400))\n",
    "# Scatter plot\n",
    "N_COLORS = 10\n",
    "WORD_CLOUD_LABEL = \"FA_Name\"\n",
    "LEGEND_TITLE = \"GroundTruth\"\n",
    "# LEGEND_TITLE = \"label\"\n",
    "tmp_p_see = None\n",
    "# For selection via multiple traces... stupid way.\n",
    "indexes = []\n",
    "tr_nums = 0\n",
    "\n",
    "\n",
    "def interactiveScatter(df, df_info, legend_title=\"label\"):\n",
    "    \"\"\"Create FigureWidget with the scatter plot for the given DataFrame\"\"\"\n",
    "    scatter_data = list()\n",
    "    cmap, mmap = getColors_Markers(keys=df[legend_title].unique(), n_color=N_COLORS)\n",
    "    for name, group in df.groupby(legend_title):\n",
    "        scatter_data.append(go.Scatter(x=group.x, y=group.y, mode='markers', name=name, \n",
    "                                    text = group.apply(lambda row: f\"ID={row.ID},   GroundTruth={row.GroundTruth}\", axis=1),\n",
    "                                    customdata = group.index.to_list(),\n",
    "                                    marker=dict(color=cmap[name][1], \n",
    "                                                symbol=mmap[name])))\n",
    "    f = go.FigureWidget(data=scatter_data,\n",
    "                       layout = go.Layout(\n",
    "                           title=f\"t-SNE visualisation with coloring based on {legend_title}\",\n",
    "        hovermode='closest',\n",
    "        autosize=True,\n",
    "        width=1000,\n",
    "        height=700))\n",
    "    \n",
    "    def printSignature(trace, points, *args):\n",
    "        if len(points.point_inds)>0:\n",
    "            ids = trace.customdata[points.point_inds[0]]\n",
    "            row = df.iloc[ids]\n",
    "            description.value = f\"ID={row.ID},   GroundTruth={row.GroundTruth}\"\n",
    "    def selectBP(trace, points, *args):\n",
    "        if len(points.point_inds)>0:\n",
    "            ids = trace.customdata[points.point_inds[0]]\n",
    "            row = df.iloc[[ids]]\n",
    "            chosen_bps = df_info.merge(row, on=\"ID\")\n",
    "            t.data[0].cells.values = [chosen_bps[col] for col in t.data[0].header.values]\n",
    "    \n",
    "    def filterRows(selected_ids):\n",
    "        row = df.iloc[selected_ids]\n",
    "        chosen_bps = df_info.merge(row, on=\"ID\")\n",
    "        return chosen_bps\n",
    "    def updateTable(chosen_bps):\n",
    "        t.data[0].cells.values = [chosen_bps[col] for col in t.data[0].header.values]\n",
    "    def showClouds(chosen_bps):\n",
    "        wordCloudsOutput.clear_output()\n",
    "        with wordCloudsOutput:\n",
    "            findMostCommonFAs_v2(chosen_bps, LEGEND_TITLE, WORD_CLOUD_LABEL, sort_mode=\"freq\", vis=True, n_top=4)\n",
    "    scatters = f.data\n",
    "    max_traces = len(scatters)\n",
    "    def selectBPs(trace,points,selector):\n",
    "        global indexes\n",
    "        global tr_nums\n",
    "#         print(f\"For trace index={points.trace_index} tr_nums is {tr_nums}\")\n",
    "        if not points.point_inds:\n",
    "            pass\n",
    "        else:\n",
    "            indexes.extend([trace.customdata[cur_point] for cur_point in points.point_inds])\n",
    "        tr_nums = tr_nums+1\n",
    "        if tr_nums==max_traces:\n",
    "            selected_data = filterRows(indexes)\n",
    "            updateTable(selected_data)\n",
    "            showClouds(selected_data)\n",
    "            indexes = []\n",
    "            tr_nums = 0\n",
    "    # Hover text: ID and GroundTruth\n",
    "    for scatter in scatters:\n",
    "        scatter.hoverinfo = 'text'\n",
    "        scatter.on_hover(printSignature) \n",
    "        scatter.on_click(selectBP)\n",
    "        scatter.on_selection(selectBPs)\n",
    "\n",
    "    # Selection\n",
    "    return f\n",
    "# @interact(Coloring=['label', 'GroundTruth'])\n",
    "# def update(Coloring=\"label\"):\n",
    "#     print(Coloring)\n",
    "#     f_scatter = interactiveScatter(embs, Coloring)\n",
    "#     return VBox([description, f_scatter])\n",
    "f_scatter = interactiveScatter(embs, d, LEGEND_TITLE)\n",
    "VBox([description, f_scatter, t, wordCloudsOutput])"
   ]
  },
  {
   "cell_type": "code",
   "execution_count": 13,
   "metadata": {
    "collapsed": true
   },
   "outputs": [],
   "source": [
    "# import sklearn\n",
    "# sklearn.metrics.pairwise.cosine_similarity(embs[embs.ID==10].Emb.values[0].reshape(1,-1), \n",
    "#                                            embs[embs.ID==970].Emb.values[0].reshape(1, -1))"
   ]
  }
 ],
 "metadata": {
  "kernelspec": {
   "display_name": "Python [conda env:DL]",
   "language": "python",
   "name": "conda-env-DL-py"
  },
  "language_info": {
   "codemirror_mode": {
    "name": "ipython",
    "version": 3
   },
   "file_extension": ".py",
   "mimetype": "text/x-python",
   "name": "python",
   "nbconvert_exporter": "python",
   "pygments_lexer": "ipython3",
   "version": "3.6.8"
  }
 },
 "nbformat": 4,
 "nbformat_minor": 2
}
