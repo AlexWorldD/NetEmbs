{
 "cells": [
  {
   "cell_type": "markdown",
   "metadata": {},
   "source": [
    "# End-to-End framework: from original DF to DF with embs and labels"
   ]
  },
  {
   "cell_type": "code",
   "execution_count": 1,
   "metadata": {},
   "outputs": [
    {
     "name": "stdout",
     "output_type": "stream",
     "text": [
      "Populating the interactive namespace from numpy and matplotlib\n"
     ]
    }
   ],
   "source": [
    "%pylab inline"
   ]
  },
  {
   "cell_type": "code",
   "execution_count": 5,
   "metadata": {},
   "outputs": [
    {
     "data": {
      "text/html": [
       "<div>\n",
       "<style scoped>\n",
       "    .dataframe tbody tr th:only-of-type {\n",
       "        vertical-align: middle;\n",
       "    }\n",
       "\n",
       "    .dataframe tbody tr th {\n",
       "        vertical-align: top;\n",
       "    }\n",
       "\n",
       "    .dataframe thead th {\n",
       "        text-align: right;\n",
       "    }\n",
       "</style>\n",
       "<table border=\"1\" class=\"dataframe\">\n",
       "  <thead>\n",
       "    <tr style=\"text-align: right;\">\n",
       "      <th></th>\n",
       "      <th>ID</th>\n",
       "      <th>Name</th>\n",
       "      <th>FA_Name</th>\n",
       "      <th>Value</th>\n",
       "    </tr>\n",
       "  </thead>\n",
       "  <tbody>\n",
       "    <tr>\n",
       "      <th>2</th>\n",
       "      <td>2</td>\n",
       "      <td>Revenue_5</td>\n",
       "      <td>Revenue</td>\n",
       "      <td>-788.000000</td>\n",
       "    </tr>\n",
       "    <tr>\n",
       "      <th>3</th>\n",
       "      <td>2</td>\n",
       "      <td>Tax_5</td>\n",
       "      <td>Tax</td>\n",
       "      <td>-47.132907</td>\n",
       "    </tr>\n",
       "    <tr>\n",
       "      <th>4</th>\n",
       "      <td>2</td>\n",
       "      <td>ixsros_5</td>\n",
       "      <td>ixsros</td>\n",
       "      <td>0.003332</td>\n",
       "    </tr>\n",
       "    <tr>\n",
       "      <th>5</th>\n",
       "      <td>2</td>\n",
       "      <td>jlgnur_5</td>\n",
       "      <td>jlgnur</td>\n",
       "      <td>1.406287</td>\n",
       "    </tr>\n",
       "  </tbody>\n",
       "</table>\n",
       "</div>"
      ],
      "text/plain": [
       "   ID       Name  FA_Name       Value\n",
       "2   2  Revenue_5  Revenue -788.000000\n",
       "3   2      Tax_5      Tax  -47.132907\n",
       "4   2   ixsros_5   ixsros    0.003332\n",
       "5   2   jlgnur_5   jlgnur    1.406287"
      ]
     },
     "execution_count": 5,
     "metadata": {},
     "output_type": "execute_result"
    }
   ],
   "source": [
    "import pandas as pd\n",
    "import matplotlib.pyplot as plt\n",
    "from sklearn import preprocessing\n",
    "plt.rcParams[\"figure.figsize\"] = [20,10]\n",
    "from NetEmbs.DataProcessing.connect_db import *\n",
    "d = upload_data(\"Simulation/FSN_Data.db\", limit=1000)\n",
    "d.head(4)"
   ]
  },
  {
   "cell_type": "code",
   "execution_count": 6,
   "metadata": {},
   "outputs": [
    {
     "data": {
      "text/html": [
       "<div>\n",
       "<style scoped>\n",
       "    .dataframe tbody tr th:only-of-type {\n",
       "        vertical-align: middle;\n",
       "    }\n",
       "\n",
       "    .dataframe tbody tr th {\n",
       "        vertical-align: top;\n",
       "    }\n",
       "\n",
       "    .dataframe thead th {\n",
       "        text-align: right;\n",
       "    }\n",
       "</style>\n",
       "<table border=\"1\" class=\"dataframe\">\n",
       "  <thead>\n",
       "    <tr style=\"text-align: right;\">\n",
       "      <th></th>\n",
       "      <th>ID</th>\n",
       "      <th>Signature</th>\n",
       "      <th>FA_Name</th>\n",
       "      <th>Debit</th>\n",
       "      <th>Credit</th>\n",
       "      <th>from</th>\n",
       "    </tr>\n",
       "  </thead>\n",
       "  <tbody>\n",
       "    <tr>\n",
       "      <th>0</th>\n",
       "      <td>2</td>\n",
       "      <td>([('Revenue', 0.94356), ('Tax', 0.05644)], [('...</td>\n",
       "      <td>Revenue</td>\n",
       "      <td>0.000000</td>\n",
       "      <td>0.943562</td>\n",
       "      <td>True</td>\n",
       "    </tr>\n",
       "    <tr>\n",
       "      <th>1</th>\n",
       "      <td>2</td>\n",
       "      <td>([('Revenue', 0.94356), ('Tax', 0.05644)], [('...</td>\n",
       "      <td>Tax</td>\n",
       "      <td>0.000000</td>\n",
       "      <td>0.056438</td>\n",
       "      <td>True</td>\n",
       "    </tr>\n",
       "    <tr>\n",
       "      <th>2</th>\n",
       "      <td>2</td>\n",
       "      <td>([('Revenue', 0.94356), ('Tax', 0.05644)], [('...</td>\n",
       "      <td>TradeReceivables</td>\n",
       "      <td>0.990561</td>\n",
       "      <td>0.000000</td>\n",
       "      <td>False</td>\n",
       "    </tr>\n",
       "    <tr>\n",
       "      <th>3</th>\n",
       "      <td>2</td>\n",
       "      <td>([('Revenue', 0.94356), ('Tax', 0.05644)], [('...</td>\n",
       "      <td>aofere</td>\n",
       "      <td>0.001368</td>\n",
       "      <td>0.000000</td>\n",
       "      <td>False</td>\n",
       "    </tr>\n",
       "  </tbody>\n",
       "</table>\n",
       "</div>"
      ],
      "text/plain": [
       "   ID                                          Signature           FA_Name  \\\n",
       "0   2  ([('Revenue', 0.94356), ('Tax', 0.05644)], [('...           Revenue   \n",
       "1   2  ([('Revenue', 0.94356), ('Tax', 0.05644)], [('...               Tax   \n",
       "2   2  ([('Revenue', 0.94356), ('Tax', 0.05644)], [('...  TradeReceivables   \n",
       "3   2  ([('Revenue', 0.94356), ('Tax', 0.05644)], [('...            aofere   \n",
       "\n",
       "      Debit    Credit   from  \n",
       "0  0.000000  0.943562   True  \n",
       "1  0.000000  0.056438   True  \n",
       "2  0.990561  0.000000  False  \n",
       "3  0.001368  0.000000  False  "
      ]
     },
     "execution_count": 6,
     "metadata": {},
     "output_type": "execute_result"
    }
   ],
   "source": [
    "from NetEmbs.DataProcessing import *\n",
    "journal_entries = None\n",
    "if journal_entries is None:\n",
    "    d = prepare_data(d)\n",
    "else:\n",
    "    YOUR_DATAFRAME = pd.DataFrame.from_dict(journal_entries)\n",
    "    YOUR_DATAFRAME.columns = ['ID', 'FA_Name', 'Debit', 'Credit']\n",
    "    d = prepare_data(YOUR_DATAFRAME, split=False)\n",
    "d.head(4)"
   ]
  },
  {
   "cell_type": "code",
   "execution_count": null,
   "metadata": {
    "collapsed": true
   },
   "outputs": [],
   "source": []
  }
 ],
 "metadata": {
  "kernelspec": {
   "display_name": "Python [conda env:DL]",
   "language": "python",
   "name": "conda-env-DL-py"
  },
  "language_info": {
   "codemirror_mode": {
    "name": "ipython",
    "version": 3
   },
   "file_extension": ".py",
   "mimetype": "text/x-python",
   "name": "python",
   "nbconvert_exporter": "python",
   "pygments_lexer": "ipython3",
   "version": "3.6.8"
  }
 },
 "nbformat": 4,
 "nbformat_minor": 2
}
